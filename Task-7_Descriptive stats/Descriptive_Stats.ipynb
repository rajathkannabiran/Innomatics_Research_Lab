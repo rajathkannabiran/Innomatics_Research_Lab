{
 "cells": [
  {
   "cell_type": "markdown",
   "metadata": {},
   "source": [
    "# Mean\n",
    "\n",
    "Mean is the most common measure of the central tendency and it is obtained by dividing the total values in the entire data set by total number of items in the data set.\n",
    "\n",
    "Note : It can be affected by outliers, therefore sometimes it may not provide the true representation of the central tendency."
   ]
  },
  {
   "cell_type": "code",
   "execution_count": 125,
   "metadata": {},
   "outputs": [
    {
     "data": {
      "text/plain": [
       "Mthly_HH_Income           41558.00\n",
       "Mthly_HH_Expense          18818.00\n",
       "No_of_Fly_Members             4.06\n",
       "Emi_or_Rent_Amt            3060.00\n",
       "Annual_HH_Income         490019.04\n",
       "No_of_Earning_Members         1.46\n",
       "dtype: float64"
      ]
     },
     "execution_count": 125,
     "metadata": {},
     "output_type": "execute_result"
    }
   ],
   "source": [
    "import numpy as np\n",
    "import pandas as pd\n",
    "\n",
    "data = pd.read_csv (r'C:\\Users\\rajath\\Downloads\\data.csv')\n",
    "df = pd.DataFrame(data)\n",
    "a = df[df.columns[1]]\n",
    "arr = np.array(a)\n",
    "\n",
    "# To print mean column-wise from the dataset\n",
    "\n",
    "df.mean(axis=0)"
   ]
  },
  {
   "cell_type": "markdown",
   "metadata": {},
   "source": [
    "# Median\n",
    "\n",
    "Mean sometimes becomes flawed representative of the data set when the it has outliers. In this case, the median is used as a measure of the central tendency. Median divides the data- set into two equal parts. Half of the items are less than the median and the remaining half of the items are larger than then median. You can also say that the median is the middle value of the data set. The data is first arranged either in ascending or descending order, to obtain the median.\n",
    "\n",
    "Median is a positional average which is used in qualitative phenomena. It is not frequently used in sampling statistics.\n",
    "\n",
    "Suppose the data set is given like 3,6,8,4,9,2,4,1. You can see that the value of n is 8 which is an even number. Therefore the median of this data set will be 1/2 [4+9]= 6.5"
   ]
  },
  {
   "cell_type": "code",
   "execution_count": 126,
   "metadata": {},
   "outputs": [
    {
     "data": {
      "text/plain": [
       "Mthly_HH_Income           35000.0\n",
       "Mthly_HH_Expense          15500.0\n",
       "No_of_Fly_Members             4.0\n",
       "Emi_or_Rent_Amt               0.0\n",
       "Annual_HH_Income         447420.0\n",
       "No_of_Earning_Members         1.0\n",
       "dtype: float64"
      ]
     },
     "execution_count": 126,
     "metadata": {},
     "output_type": "execute_result"
    }
   ],
   "source": [
    "# To print median column-wise from the dataset\n",
    "\n",
    "df.median(axis=0)"
   ]
  },
  {
   "cell_type": "markdown",
   "metadata": {},
   "source": [
    "# Mode\n",
    "\n",
    "Mode is the most frequently occurring observation in the data- set. Mode has been derived from the French word having the meaning fashion. It is mainly useful in the study of size most in demand so that a manufacturer may produce large quantities of that sized item, for e.g. if a T- shirt of size 40 is most in demand then the manufacturer will plan to make more number of 40 size T- shirts. Like median, this is also a positional average and is not effected by the extreme values. There may be more than one mode in a data set or it may not have any mode at all.\n",
    "\n",
    "Mode is the most frequent value appearing in the data set, i.e. the number occurring highest times.\n"
   ]
  },
  {
   "cell_type": "code",
   "execution_count": 127,
   "metadata": {},
   "outputs": [
    {
     "data": {
      "text/html": [
       "<div>\n",
       "<style scoped>\n",
       "    .dataframe tbody tr th:only-of-type {\n",
       "        vertical-align: middle;\n",
       "    }\n",
       "\n",
       "    .dataframe tbody tr th {\n",
       "        vertical-align: top;\n",
       "    }\n",
       "\n",
       "    .dataframe thead th {\n",
       "        text-align: right;\n",
       "    }\n",
       "</style>\n",
       "<table border=\"1\" class=\"dataframe\">\n",
       "  <thead>\n",
       "    <tr style=\"text-align: right;\">\n",
       "      <th></th>\n",
       "      <th>Mthly_HH_Income</th>\n",
       "      <th>Mthly_HH_Expense</th>\n",
       "      <th>No_of_Fly_Members</th>\n",
       "      <th>Emi_or_Rent_Amt</th>\n",
       "      <th>Annual_HH_Income</th>\n",
       "      <th>Highest_Qualified_Member</th>\n",
       "      <th>No_of_Earning_Members</th>\n",
       "    </tr>\n",
       "  </thead>\n",
       "  <tbody>\n",
       "    <tr>\n",
       "      <th>0</th>\n",
       "      <td>45000</td>\n",
       "      <td>25000</td>\n",
       "      <td>4</td>\n",
       "      <td>0</td>\n",
       "      <td>590400</td>\n",
       "      <td>Graduate</td>\n",
       "      <td>1</td>\n",
       "    </tr>\n",
       "  </tbody>\n",
       "</table>\n",
       "</div>"
      ],
      "text/plain": [
       "   Mthly_HH_Income  Mthly_HH_Expense  No_of_Fly_Members  Emi_or_Rent_Amt  \\\n",
       "0            45000             25000                  4                0   \n",
       "\n",
       "   Annual_HH_Income Highest_Qualified_Member  No_of_Earning_Members  \n",
       "0            590400                 Graduate                      1  "
      ]
     },
     "execution_count": 127,
     "metadata": {},
     "output_type": "execute_result"
    }
   ],
   "source": [
    "# To print mode column-wise from the dataset\n",
    "\n",
    "df.mode(axis=0)"
   ]
  },
  {
   "cell_type": "markdown",
   "metadata": {},
   "source": [
    "# Summary of Mean, Median and Mode\n",
    "\n",
    "(1) Mean is the average value of a set of observations.\n",
    "\n",
    "(2) Median is the middle value of a set of observations.\n",
    "\n",
    "(3) Mode is the most frequently appearing value in a set of observations.\n",
    "\n",
    "(4) Median is affected by outliers and therefore sometimes it may not truly represent the central value of the data set.\n",
    "\n",
    "(5) Mode and median are not affected by the outliers.\n",
    "\n",
    "(6) There is no best measure among the mean, median & mode and the use of either of the measure depends on the requirements and is decided on the case to case basis."
   ]
  },
  {
   "cell_type": "markdown",
   "metadata": {},
   "source": [
    "# Variance\n",
    "\n",
    "The variance uses the difference between each value and its arithmetic mean. The differences are squared to deal with positive and negative differences.\n",
    "\n",
    "The variance is the average of squared deviations from the mean. Variance reflects the degree of spread in the data set. The more spread the data, the larger the variance is in relation to the mean."
   ]
  },
  {
   "cell_type": "code",
   "execution_count": 128,
   "metadata": {},
   "outputs": [
    {
     "data": {
      "text/plain": [
       "Mthly_HH_Income          6.811009e+08\n",
       "Mthly_HH_Expense         1.461733e+08\n",
       "No_of_Fly_Members        2.302449e+00\n",
       "Emi_or_Rent_Amt          3.895551e+07\n",
       "Annual_HH_Income         1.024869e+11\n",
       "No_of_Earning_Members    5.391837e-01\n",
       "dtype: float64"
      ]
     },
     "execution_count": 128,
     "metadata": {},
     "output_type": "execute_result"
    }
   ],
   "source": [
    "# To print variance column-wise from the dataset\n",
    "\n",
    "df.var(axis=0)"
   ]
  },
  {
   "cell_type": "markdown",
   "metadata": {},
   "source": [
    "# Standard Deviation\n",
    "\n",
    "The standard deviation (s) is the average amount of variability in your dataset. It tells you, on average, how far each score lies from the mean. The larger the standard deviation, the more variable the data set is.\n",
    "\n",
    "It describes how spread out your data are: is it a wide fat distribution or a narrow skinny one. Mathematically, It is the square root of the variance. The sample variance is the positive, unbiased estimator for the population variance, the units for the variance are squared. The standard deviation is a common method for numerically describing the distribution of a variable.\n",
    "\n",
    "The standard deviation describes :\n",
    "\n",
    "1.The spread of your data.\n",
    "\n",
    "2.The width of the population’s normal distribution that your sample is presumably(?) drawn from.\n",
    "\n",
    "3.It provides a measurement of the statistical uncertainty in your data."
   ]
  },
  {
   "cell_type": "code",
   "execution_count": 129,
   "metadata": {},
   "outputs": [
    {
     "data": {
      "text/plain": [
       "Mthly_HH_Income           26097.908979\n",
       "Mthly_HH_Expense          12090.216824\n",
       "No_of_Fly_Members             1.517382\n",
       "Emi_or_Rent_Amt            6241.434948\n",
       "Annual_HH_Income         320135.792123\n",
       "No_of_Earning_Members         0.734291\n",
       "dtype: float64"
      ]
     },
     "execution_count": 129,
     "metadata": {},
     "output_type": "execute_result"
    }
   ],
   "source": [
    "# To print standard deviation column-wise from the dataset\n",
    "\n",
    "df.std(axis=0)"
   ]
  },
  {
   "cell_type": "markdown",
   "metadata": {},
   "source": [
    "# Correlation\n",
    "\n",
    "The correlation coefficient (also known as the Pearson correlation coefficient) measures how well two variables are related in a linear (straight line) fashion, and is always called r. r lies between -1 and +1. A value of r = -1 means that the two variables are exactly negatively correlates, i.e., as one variable goes up, the other goes down. A value of r = +1 means that the two variables are exactly positively correlates, i.e., as one variable goes up, the other goes up. A value of r = 0, means that the two variables are not linearly related."
   ]
  },
  {
   "cell_type": "code",
   "execution_count": 130,
   "metadata": {},
   "outputs": [
    {
     "data": {
      "text/plain": [
       "0.6492152549316462"
      ]
     },
     "execution_count": 130,
     "metadata": {},
     "output_type": "execute_result"
    }
   ],
   "source": [
    "#correlation between monthly income and monthly expense in the given dataset\n",
    "\n",
    "df[df.columns[0]].corr(df[df.columns[1]])"
   ]
  },
  {
   "cell_type": "markdown",
   "metadata": {},
   "source": [
    "# Normal Distribution\n",
    "\n",
    "A normal distribution is a statistical phenomenon representing a symmetric bell-shaped curve. Most values are located near the mean; also, only a few appear at the left and right tails.\n",
    "\n"
   ]
  },
  {
   "cell_type": "markdown",
   "metadata": {},
   "source": [
    "# Feature of Normal Distribution\n",
    "\n",
    "Normal Distribution has the following characteristics that distinguish it from the other forms of probability representations:\n",
    "\n",
    "1). Empirical Rule: In a normal distribution, 68% of the observations are confined within -/+ one standard deviation, 95% of the values fall within -/+ two standard deviations, and almost 99.7% of values are confined to -/+ three standard deviations.\n",
    "\n",
    "2). Bell-shaped Curve: Most of the values lie at the center, and fewer values lie at the tail extremities. This results in a bell-shaped curve.\n",
    "\n",
    "3). Mean and Standard Deviation: This data representation is shaped by mean and standard deviation.\n",
    "\n",
    "4). Equal Central Tendencies: The mean, median, and mode of this data are equal.\n",
    "\n",
    "5). Symmetric: The normal distribution curve is centrally symmetric. Therefore, half of the values are to the left of the center, and the remaining values appear on the right.\n",
    "\n",
    "6). Skewness and Kurtosis: Skewness is the the symmetry. The skewness for a normal distribution is zero. Kurtosis studies the tail of the represented data. For a normal distribution, the kurtosis is 3.\n",
    "\n",
    "7). Total Area = 1: The total value of the standard deviation, i.e., the complete area of the curve under this probability function, is one. Also, the entire mean is zero."
   ]
  },
  {
   "cell_type": "code",
   "execution_count": null,
   "metadata": {},
   "outputs": [],
   "source": []
  },
  {
   "cell_type": "markdown",
   "metadata": {},
   "source": [
    "# Positively Skewed & Negatively Skewed Normal Distribution\n",
    "\n",
    "In statistics, a positively skewed (or right-skewed) distribution is a type of distribution in which most values are clustered around the left tail of the distribution while the right tail of the distribution is longer.\n",
    "\n",
    "The general relationship among the central tendency measures in a positively skewed distribution may be expressed using the following inequality:\n",
    "Mean  >  Median  >  Mode\n",
    "\n",
    "In contrast to a negatively skewed distribution, in which the mean is located on the left from the peak of distribution, in a positively skewed distribution, the mean can be found on the right from the distribution’s peak. However, not all negatively skewed distributions follow the rules. You may encounter many exceptions in real life that violate the rules.\n",
    "\n"
   ]
  },
  {
   "cell_type": "code",
   "execution_count": null,
   "metadata": {},
   "outputs": [],
   "source": []
  },
  {
   "cell_type": "markdown",
   "metadata": {},
   "source": [
    "# Effect on Mean, Median and Mode due to Skewness\n",
    "\n",
    "In a perfectly symmetrical distribution, the mean and the median are the same.\n",
    "\n",
    "To summarize, generally if the distribution of data is skewed to the left, the mean is less than the median, which is often less than the mode. If the distribution of data is skewed to the right, the mode is often less than the median, which is less than the mean."
   ]
  },
  {
   "cell_type": "code",
   "execution_count": null,
   "metadata": {},
   "outputs": [],
   "source": []
  },
  {
   "cell_type": "markdown",
   "metadata": {},
   "source": [
    "# Explain QQ Plot and show the implementation of the same\n",
    "\n",
    "A Q–Q plot is used to compare the shapes of distributions, providing a graphical view of how properties such as location, scale, and skewness are similar or different in the two distributions\n",
    "\n",
    "A QQ plot is also called a Quantile Quantile plot. It is a scatter plot that compares two sets of data. A common use of QQ plots is checking the normality of data. It resembles a standard normal distribution through the reference line and value distribution. However, they can be used to compare real-world data to any theoretical data set to test the validity of the theory, including a uniform distribution, confidence intervals, sample quantiles, an exponential distribution, or a cumulative distribution function. They can be used for comparing any two data sets to check for a relationship. It works by plotting the data from each data set on a different axis. If the distribution of the data is the same, the result will be a straight line. Each data value of the dataset is plotted along this reference line using the scale parameter, though a general qq plot differs from a histogram figure in that it moves along both the horizontal and vertical axis, and can be used with any common distribution, sample size, empirical quantile, plot type, numeric vector, or linear model to create order statistics such as standard deviation, ylim, and linear regression. "
   ]
  },
  {
   "cell_type": "code",
   "execution_count": 131,
   "metadata": {},
   "outputs": [
    {
     "name": "stdout",
     "output_type": "stream",
     "text": [
      "[ 8000  7000  4500  2000 12000  8000 16000 20000  9000  9000 18000 25000\n",
      "  5000 10500 10000 12300 20000 10000  6600 13000 25000 15000 19000 25000\n",
      " 12000 25000  8000 10000 15000 12000 25000 40000 10000 22000 25000 15000\n",
      " 20000 20000 45000 10000 50000 20000  9000 20000 25000 48000 25000 30000\n",
      " 50000 40000]\n"
     ]
    },
    {
     "data": {
      "image/png": "[encoded data removed]",
      "text/plain": [
       "<Figure size 432x288 with 1 Axes>"
      ]
     },
     "metadata": {
      "needs_background": "light"
     },
     "output_type": "display_data"
    }
   ],
   "source": [
    "import numpy as np\n",
    "import statsmodels.api as sm\n",
    "import matplotlib.pyplot as plt\n",
    "# Using seed function to generate the same random number every time with the given seed value\n",
    "np.random.seed(2)\n",
    "#create a random sample with 100 values\n",
    "#data =  np.random.randint(50, size=100) \n",
    "#Print first 10 values\n",
    "#print(data[:10])\n",
    "print(arr) \n",
    "#create Q-Q plot with 45-degree line added to plot\n",
    "fig = sm.qqplot(a, line='45')\n",
    "plt.show()"
   ]
  },
  {
   "cell_type": "code",
   "execution_count": 132,
   "metadata": {},
   "outputs": [
    {
     "name": "stdout",
     "output_type": "stream",
     "text": [
      "The data values are as follows :\n",
      " [-0.41675785 -0.05626683 -2.1361961   1.64027081 -1.79343559 -0.84174737\n",
      "  0.50288142 -1.24528809 -1.05795222 -0.90900761]\n"
     ]
    },
    {
     "data": {
      "image/png": "[encoded data removed]",
      "text/plain": [
       "<Figure size 432x288 with 1 Axes>"
      ]
     },
     "metadata": {
      "needs_background": "light"
     },
     "output_type": "display_data"
    }
   ],
   "source": [
    "# import modules\n",
    "import numpy as np\n",
    "import statsmodels.api as sm\n",
    "import matplotlib.pyplot as plt\n",
    "# Using seed function to generate the same random number every time with the given seed value\n",
    "np.random.seed(2)\n",
    "#create a random dataset with 100 values\n",
    "data =  np.random.normal(0,1, 1000) \n",
    "#view first 10 values\n",
    "print(\"The data values are as follows :\\n\",data[:10]) \n",
    "#create Q-Q plot with 45-degree line added to plot\n",
    "fig = sm.qqplot(data, line='45')\n",
    "plt.show()"
   ]
  },
  {
   "cell_type": "markdown",
   "metadata": {},
   "source": [
    "# Explain Box Cox and show the implementation of the same\n",
    "\n",
    "A box-cox transformation is a commonly used method for transforming a non-normally distributed dataset into a more normally distributed one. When the assumption of data normally distributed is violated or the relationship between the dependent and independent variables in case of linear model are not linear, in such situations some transformations methods that may help the data set follow a normal distribution. Box Cox is one such transformation method.\n",
    "\n",
    "The basic assumption of Box-Cox is data must be positive (no negative values) and also data should be continuous."
   ]
  },
  {
   "cell_type": "code",
   "execution_count": 133,
   "metadata": {},
   "outputs": [
    {
     "data": {
      "text/plain": [
       "<AxesSubplot:>"
      ]
     },
     "execution_count": 133,
     "metadata": {},
     "output_type": "execute_result"
    },
    {
     "data": {
      "image/png": "[encoded data removed]",
      "text/plain": [
       "<Figure size 432x288 with 1 Axes>"
      ]
     },
     "metadata": {
      "needs_background": "light"
     },
     "output_type": "display_data"
    }
   ],
   "source": [
    "import numpy as np\n",
    "from scipy.stats import boxcox\n",
    "import seaborn as sns\n",
    "\n",
    "#make this example reproducible\n",
    "np.random.seed(0)\n",
    "\n",
    "#generate dataset\n",
    "data = np.random.exponential(size=1000)\n",
    "\n",
    "#plot the distribution of data values\n",
    "sns.distplot(data, hist=False, kde=True)\n",
    "\n",
    "#perform Box-Cox transformation on original data\n",
    "transformed_data, best_lambda = boxcox(data) \n",
    "\n",
    "#plot the distribution of the transformed data values\n",
    "sns.distplot(transformed_data, hist=False, kde=True)"
   ]
  }
 ],
 "metadata": {
  "kernelspec": {
   "display_name": "Python 3",
   "language": "python",
   "name": "python3"
  },
  "language_info": {
   "codemirror_mode": {
    "name": "ipython",
    "version": 3
   },
   "file_extension": ".py",
   "mimetype": "text/x-python",
   "name": "python",
   "nbconvert_exporter": "python",
   "pygments_lexer": "ipython3",
   "version": "3.8.1"
  }
 },
 "nbformat": 4,
 "nbformat_minor": 4
}
