{
 "cells": [
  {
   "cell_type": "markdown",
   "id": "d4c3be3c-3481-47c6-934b-8a9d7e873543",
   "metadata": {},
   "source": [
    "# EDA Project"
   ]
  },
  {
   "cell_type": "code",
   "execution_count": 1,
   "id": "f590d400-b28e-4fc4-a0c0-b12f6958505d",
   "metadata": {},
   "outputs": [],
   "source": [
    "import pandas as pd\n",
    "import matplotlib.pyplot as plt\n",
    "import seaborn as sb"
   ]
  },
  {
   "cell_type": "code",
   "execution_count": 2,
   "id": "bb36f01e-433a-47fb-8201-7b1e3b0d1eb0",
   "metadata": {},
   "outputs": [
    {
     "data": {
      "text/html": [
       "<div>\n",
       "<style scoped>\n",
       "    .dataframe tbody tr th:only-of-type {\n",
       "        vertical-align: middle;\n",
       "    }\n",
       "\n",
       "    .dataframe tbody tr th {\n",
       "        vertical-align: top;\n",
       "    }\n",
       "\n",
       "    .dataframe thead th {\n",
       "        text-align: right;\n",
       "    }\n",
       "</style>\n",
       "<table border=\"1\" class=\"dataframe\">\n",
       "  <thead>\n",
       "    <tr style=\"text-align: right;\">\n",
       "      <th></th>\n",
       "      <th>Unnamed: 0</th>\n",
       "      <th>ID</th>\n",
       "      <th>Salary</th>\n",
       "      <th>DOJ</th>\n",
       "      <th>DOL</th>\n",
       "      <th>Designation</th>\n",
       "      <th>JobCity</th>\n",
       "      <th>Gender</th>\n",
       "      <th>DOB</th>\n",
       "      <th>10percentage</th>\n",
       "      <th>...</th>\n",
       "      <th>ComputerScience</th>\n",
       "      <th>MechanicalEngg</th>\n",
       "      <th>ElectricalEngg</th>\n",
       "      <th>TelecomEngg</th>\n",
       "      <th>CivilEngg</th>\n",
       "      <th>conscientiousness</th>\n",
       "      <th>agreeableness</th>\n",
       "      <th>extraversion</th>\n",
       "      <th>nueroticism</th>\n",
       "      <th>openess_to_experience</th>\n",
       "    </tr>\n",
       "  </thead>\n",
       "  <tbody>\n",
       "    <tr>\n",
       "      <th>0</th>\n",
       "      <td>train</td>\n",
       "      <td>203097</td>\n",
       "      <td>420000.0</td>\n",
       "      <td>6/1/12 0:00</td>\n",
       "      <td>present</td>\n",
       "      <td>senior quality engineer</td>\n",
       "      <td>Bangalore</td>\n",
       "      <td>f</td>\n",
       "      <td>2/19/90 0:00</td>\n",
       "      <td>84.3</td>\n",
       "      <td>...</td>\n",
       "      <td>-1</td>\n",
       "      <td>-1</td>\n",
       "      <td>-1</td>\n",
       "      <td>-1</td>\n",
       "      <td>-1</td>\n",
       "      <td>0.9737</td>\n",
       "      <td>0.8128</td>\n",
       "      <td>0.5269</td>\n",
       "      <td>1.35490</td>\n",
       "      <td>-0.4455</td>\n",
       "    </tr>\n",
       "    <tr>\n",
       "      <th>1</th>\n",
       "      <td>train</td>\n",
       "      <td>579905</td>\n",
       "      <td>500000.0</td>\n",
       "      <td>9/1/13 0:00</td>\n",
       "      <td>present</td>\n",
       "      <td>assistant manager</td>\n",
       "      <td>Indore</td>\n",
       "      <td>m</td>\n",
       "      <td>10/4/89 0:00</td>\n",
       "      <td>85.4</td>\n",
       "      <td>...</td>\n",
       "      <td>-1</td>\n",
       "      <td>-1</td>\n",
       "      <td>-1</td>\n",
       "      <td>-1</td>\n",
       "      <td>-1</td>\n",
       "      <td>-0.7335</td>\n",
       "      <td>0.3789</td>\n",
       "      <td>1.2396</td>\n",
       "      <td>-0.10760</td>\n",
       "      <td>0.8637</td>\n",
       "    </tr>\n",
       "    <tr>\n",
       "      <th>2</th>\n",
       "      <td>train</td>\n",
       "      <td>810601</td>\n",
       "      <td>325000.0</td>\n",
       "      <td>6/1/14 0:00</td>\n",
       "      <td>present</td>\n",
       "      <td>systems engineer</td>\n",
       "      <td>Chennai</td>\n",
       "      <td>f</td>\n",
       "      <td>8/3/92 0:00</td>\n",
       "      <td>85.0</td>\n",
       "      <td>...</td>\n",
       "      <td>-1</td>\n",
       "      <td>-1</td>\n",
       "      <td>-1</td>\n",
       "      <td>-1</td>\n",
       "      <td>-1</td>\n",
       "      <td>0.2718</td>\n",
       "      <td>1.7109</td>\n",
       "      <td>0.1637</td>\n",
       "      <td>-0.86820</td>\n",
       "      <td>0.6721</td>\n",
       "    </tr>\n",
       "    <tr>\n",
       "      <th>3</th>\n",
       "      <td>train</td>\n",
       "      <td>267447</td>\n",
       "      <td>1100000.0</td>\n",
       "      <td>7/1/11 0:00</td>\n",
       "      <td>present</td>\n",
       "      <td>senior software engineer</td>\n",
       "      <td>Gurgaon</td>\n",
       "      <td>m</td>\n",
       "      <td>12/5/89 0:00</td>\n",
       "      <td>85.6</td>\n",
       "      <td>...</td>\n",
       "      <td>-1</td>\n",
       "      <td>-1</td>\n",
       "      <td>-1</td>\n",
       "      <td>-1</td>\n",
       "      <td>-1</td>\n",
       "      <td>0.0464</td>\n",
       "      <td>0.3448</td>\n",
       "      <td>-0.3440</td>\n",
       "      <td>-0.40780</td>\n",
       "      <td>-0.9194</td>\n",
       "    </tr>\n",
       "    <tr>\n",
       "      <th>4</th>\n",
       "      <td>train</td>\n",
       "      <td>343523</td>\n",
       "      <td>200000.0</td>\n",
       "      <td>3/1/14 0:00</td>\n",
       "      <td>3/1/15 0:00</td>\n",
       "      <td>get</td>\n",
       "      <td>Manesar</td>\n",
       "      <td>m</td>\n",
       "      <td>2/27/91 0:00</td>\n",
       "      <td>78.0</td>\n",
       "      <td>...</td>\n",
       "      <td>-1</td>\n",
       "      <td>-1</td>\n",
       "      <td>-1</td>\n",
       "      <td>-1</td>\n",
       "      <td>-1</td>\n",
       "      <td>-0.8810</td>\n",
       "      <td>-0.2793</td>\n",
       "      <td>-1.0697</td>\n",
       "      <td>0.09163</td>\n",
       "      <td>-0.1295</td>\n",
       "    </tr>\n",
       "  </tbody>\n",
       "</table>\n",
       "<p>5 rows × 39 columns</p>\n",
       "</div>"
      ],
      "text/plain": [
       "  Unnamed: 0      ID     Salary          DOJ          DOL  \\\n",
       "0      train  203097   420000.0  6/1/12 0:00      present   \n",
       "1      train  579905   500000.0  9/1/13 0:00      present   \n",
       "2      train  810601   325000.0  6/1/14 0:00      present   \n",
       "3      train  267447  1100000.0  7/1/11 0:00      present   \n",
       "4      train  343523   200000.0  3/1/14 0:00  3/1/15 0:00   \n",
       "\n",
       "                Designation    JobCity Gender           DOB  10percentage  \\\n",
       "0   senior quality engineer  Bangalore      f  2/19/90 0:00          84.3   \n",
       "1         assistant manager     Indore      m  10/4/89 0:00          85.4   \n",
       "2          systems engineer    Chennai      f   8/3/92 0:00          85.0   \n",
       "3  senior software engineer    Gurgaon      m  12/5/89 0:00          85.6   \n",
       "4                       get    Manesar      m  2/27/91 0:00          78.0   \n",
       "\n",
       "   ... ComputerScience  MechanicalEngg  ElectricalEngg TelecomEngg  CivilEngg  \\\n",
       "0  ...              -1              -1              -1          -1         -1   \n",
       "1  ...              -1              -1              -1          -1         -1   \n",
       "2  ...              -1              -1              -1          -1         -1   \n",
       "3  ...              -1              -1              -1          -1         -1   \n",
       "4  ...              -1              -1              -1          -1         -1   \n",
       "\n",
       "   conscientiousness agreeableness extraversion  nueroticism  \\\n",
       "0             0.9737        0.8128       0.5269      1.35490   \n",
       "1            -0.7335        0.3789       1.2396     -0.10760   \n",
       "2             0.2718        1.7109       0.1637     -0.86820   \n",
       "3             0.0464        0.3448      -0.3440     -0.40780   \n",
       "4            -0.8810       -0.2793      -1.0697      0.09163   \n",
       "\n",
       "   openess_to_experience  \n",
       "0                -0.4455  \n",
       "1                 0.8637  \n",
       "2                 0.6721  \n",
       "3                -0.9194  \n",
       "4                -0.1295  \n",
       "\n",
       "[5 rows x 39 columns]"
      ]
     },
     "execution_count": 2,
     "metadata": {},
     "output_type": "execute_result"
    }
   ],
   "source": [
    "data = pd.read_csv(r'C:\\Users\\rajath.k\\Downloads\\data.csv')\n",
    "data.head()"
   ]
  },
  {
   "cell_type": "code",
   "execution_count": 3,
   "id": "0f1cd5e0-5497-439b-a6e3-0e168d66006c",
   "metadata": {},
   "outputs": [
    {
     "name": "stdout",
     "output_type": "stream",
     "text": [
      "<class 'pandas.core.frame.DataFrame'>\n",
      "RangeIndex: 3998 entries, 0 to 3997\n",
      "Data columns (total 39 columns):\n",
      " #   Column                 Non-Null Count  Dtype  \n",
      "---  ------                 --------------  -----  \n",
      " 0   Unnamed: 0             3998 non-null   object \n",
      " 1   ID                     3998 non-null   int64  \n",
      " 2   Salary                 3998 non-null   float64\n",
      " 3   DOJ                    3998 non-null   object \n",
      " 4   DOL                    3998 non-null   object \n",
      " 5   Designation            3998 non-null   object \n",
      " 6   JobCity                3998 non-null   object \n",
      " 7   Gender                 3998 non-null   object \n",
      " 8   DOB                    3998 non-null   object \n",
      " 9   10percentage           3998 non-null   float64\n",
      " 10  10board                3998 non-null   object \n",
      " 11  12graduation           3998 non-null   int64  \n",
      " 12  12percentage           3998 non-null   float64\n",
      " 13  12board                3998 non-null   object \n",
      " 14  CollegeID              3998 non-null   int64  \n",
      " 15  CollegeTier            3998 non-null   int64  \n",
      " 16  Degree                 3998 non-null   object \n",
      " 17  Specialization         3998 non-null   object \n",
      " 18  collegeGPA             3998 non-null   float64\n",
      " 19  CollegeCityID          3998 non-null   int64  \n",
      " 20  CollegeCityTier        3998 non-null   int64  \n",
      " 21  CollegeState           3998 non-null   object \n",
      " 22  GraduationYear         3998 non-null   int64  \n",
      " 23  English                3998 non-null   int64  \n",
      " 24  Logical                3998 non-null   int64  \n",
      " 25  Quant                  3998 non-null   int64  \n",
      " 26  Domain                 3998 non-null   float64\n",
      " 27  ComputerProgramming    3998 non-null   int64  \n",
      " 28  ElectronicsAndSemicon  3998 non-null   int64  \n",
      " 29  ComputerScience        3998 non-null   int64  \n",
      " 30  MechanicalEngg         3998 non-null   int64  \n",
      " 31  ElectricalEngg         3998 non-null   int64  \n",
      " 32  TelecomEngg            3998 non-null   int64  \n",
      " 33  CivilEngg              3998 non-null   int64  \n",
      " 34  conscientiousness      3998 non-null   float64\n",
      " 35  agreeableness          3998 non-null   float64\n",
      " 36  extraversion           3998 non-null   float64\n",
      " 37  nueroticism            3998 non-null   float64\n",
      " 38  openess_to_experience  3998 non-null   float64\n",
      "dtypes: float64(10), int64(17), object(12)\n",
      "memory usage: 1.2+ MB\n"
     ]
    }
   ],
   "source": [
    "data.info()"
   ]
  },
  {
   "cell_type": "code",
   "execution_count": 4,
   "id": "28601cbc-955b-4f7f-8191-1a812fe354ee",
   "metadata": {},
   "outputs": [
    {
     "data": {
      "text/html": [
       "<div>\n",
       "<style scoped>\n",
       "    .dataframe tbody tr th:only-of-type {\n",
       "        vertical-align: middle;\n",
       "    }\n",
       "\n",
       "    .dataframe tbody tr th {\n",
       "        vertical-align: top;\n",
       "    }\n",
       "\n",
       "    .dataframe thead th {\n",
       "        text-align: right;\n",
       "    }\n",
       "</style>\n",
       "<table border=\"1\" class=\"dataframe\">\n",
       "  <thead>\n",
       "    <tr style=\"text-align: right;\">\n",
       "      <th></th>\n",
       "      <th>ID</th>\n",
       "      <th>Salary</th>\n",
       "      <th>10percentage</th>\n",
       "      <th>12graduation</th>\n",
       "      <th>12percentage</th>\n",
       "      <th>CollegeID</th>\n",
       "      <th>CollegeTier</th>\n",
       "      <th>collegeGPA</th>\n",
       "      <th>CollegeCityID</th>\n",
       "      <th>CollegeCityTier</th>\n",
       "      <th>...</th>\n",
       "      <th>ComputerScience</th>\n",
       "      <th>MechanicalEngg</th>\n",
       "      <th>ElectricalEngg</th>\n",
       "      <th>TelecomEngg</th>\n",
       "      <th>CivilEngg</th>\n",
       "      <th>conscientiousness</th>\n",
       "      <th>agreeableness</th>\n",
       "      <th>extraversion</th>\n",
       "      <th>nueroticism</th>\n",
       "      <th>openess_to_experience</th>\n",
       "    </tr>\n",
       "  </thead>\n",
       "  <tbody>\n",
       "    <tr>\n",
       "      <th>count</th>\n",
       "      <td>3.998000e+03</td>\n",
       "      <td>3.998000e+03</td>\n",
       "      <td>3998.000000</td>\n",
       "      <td>3998.000000</td>\n",
       "      <td>3998.000000</td>\n",
       "      <td>3998.000000</td>\n",
       "      <td>3998.000000</td>\n",
       "      <td>3998.000000</td>\n",
       "      <td>3998.000000</td>\n",
       "      <td>3998.000000</td>\n",
       "      <td>...</td>\n",
       "      <td>3998.000000</td>\n",
       "      <td>3998.000000</td>\n",
       "      <td>3998.000000</td>\n",
       "      <td>3998.000000</td>\n",
       "      <td>3998.000000</td>\n",
       "      <td>3998.000000</td>\n",
       "      <td>3998.000000</td>\n",
       "      <td>3998.000000</td>\n",
       "      <td>3998.000000</td>\n",
       "      <td>3998.000000</td>\n",
       "    </tr>\n",
       "    <tr>\n",
       "      <th>mean</th>\n",
       "      <td>6.637945e+05</td>\n",
       "      <td>3.076998e+05</td>\n",
       "      <td>77.925443</td>\n",
       "      <td>2008.087544</td>\n",
       "      <td>74.466366</td>\n",
       "      <td>5156.851426</td>\n",
       "      <td>1.925713</td>\n",
       "      <td>71.486171</td>\n",
       "      <td>5156.851426</td>\n",
       "      <td>0.300400</td>\n",
       "      <td>...</td>\n",
       "      <td>90.742371</td>\n",
       "      <td>22.974737</td>\n",
       "      <td>16.478739</td>\n",
       "      <td>31.851176</td>\n",
       "      <td>2.683842</td>\n",
       "      <td>-0.037831</td>\n",
       "      <td>0.146496</td>\n",
       "      <td>0.002763</td>\n",
       "      <td>-0.169033</td>\n",
       "      <td>-0.138110</td>\n",
       "    </tr>\n",
       "    <tr>\n",
       "      <th>std</th>\n",
       "      <td>3.632182e+05</td>\n",
       "      <td>2.127375e+05</td>\n",
       "      <td>9.850162</td>\n",
       "      <td>1.653599</td>\n",
       "      <td>10.999933</td>\n",
       "      <td>4802.261482</td>\n",
       "      <td>0.262270</td>\n",
       "      <td>8.167338</td>\n",
       "      <td>4802.261482</td>\n",
       "      <td>0.458489</td>\n",
       "      <td>...</td>\n",
       "      <td>175.273083</td>\n",
       "      <td>98.123311</td>\n",
       "      <td>87.585634</td>\n",
       "      <td>104.852845</td>\n",
       "      <td>36.658505</td>\n",
       "      <td>1.028666</td>\n",
       "      <td>0.941782</td>\n",
       "      <td>0.951471</td>\n",
       "      <td>1.007580</td>\n",
       "      <td>1.008075</td>\n",
       "    </tr>\n",
       "    <tr>\n",
       "      <th>min</th>\n",
       "      <td>1.124400e+04</td>\n",
       "      <td>3.500000e+04</td>\n",
       "      <td>43.000000</td>\n",
       "      <td>1995.000000</td>\n",
       "      <td>40.000000</td>\n",
       "      <td>2.000000</td>\n",
       "      <td>1.000000</td>\n",
       "      <td>6.450000</td>\n",
       "      <td>2.000000</td>\n",
       "      <td>0.000000</td>\n",
       "      <td>...</td>\n",
       "      <td>-1.000000</td>\n",
       "      <td>-1.000000</td>\n",
       "      <td>-1.000000</td>\n",
       "      <td>-1.000000</td>\n",
       "      <td>-1.000000</td>\n",
       "      <td>-4.126700</td>\n",
       "      <td>-5.781600</td>\n",
       "      <td>-4.600900</td>\n",
       "      <td>-2.643000</td>\n",
       "      <td>-7.375700</td>\n",
       "    </tr>\n",
       "    <tr>\n",
       "      <th>25%</th>\n",
       "      <td>3.342842e+05</td>\n",
       "      <td>1.800000e+05</td>\n",
       "      <td>71.680000</td>\n",
       "      <td>2007.000000</td>\n",
       "      <td>66.000000</td>\n",
       "      <td>494.000000</td>\n",
       "      <td>2.000000</td>\n",
       "      <td>66.407500</td>\n",
       "      <td>494.000000</td>\n",
       "      <td>0.000000</td>\n",
       "      <td>...</td>\n",
       "      <td>-1.000000</td>\n",
       "      <td>-1.000000</td>\n",
       "      <td>-1.000000</td>\n",
       "      <td>-1.000000</td>\n",
       "      <td>-1.000000</td>\n",
       "      <td>-0.713525</td>\n",
       "      <td>-0.287100</td>\n",
       "      <td>-0.604800</td>\n",
       "      <td>-0.868200</td>\n",
       "      <td>-0.669200</td>\n",
       "    </tr>\n",
       "    <tr>\n",
       "      <th>50%</th>\n",
       "      <td>6.396000e+05</td>\n",
       "      <td>3.000000e+05</td>\n",
       "      <td>79.150000</td>\n",
       "      <td>2008.000000</td>\n",
       "      <td>74.400000</td>\n",
       "      <td>3879.000000</td>\n",
       "      <td>2.000000</td>\n",
       "      <td>71.720000</td>\n",
       "      <td>3879.000000</td>\n",
       "      <td>0.000000</td>\n",
       "      <td>...</td>\n",
       "      <td>-1.000000</td>\n",
       "      <td>-1.000000</td>\n",
       "      <td>-1.000000</td>\n",
       "      <td>-1.000000</td>\n",
       "      <td>-1.000000</td>\n",
       "      <td>0.046400</td>\n",
       "      <td>0.212400</td>\n",
       "      <td>0.091400</td>\n",
       "      <td>-0.234400</td>\n",
       "      <td>-0.094300</td>\n",
       "    </tr>\n",
       "    <tr>\n",
       "      <th>75%</th>\n",
       "      <td>9.904800e+05</td>\n",
       "      <td>3.700000e+05</td>\n",
       "      <td>85.670000</td>\n",
       "      <td>2009.000000</td>\n",
       "      <td>82.600000</td>\n",
       "      <td>8818.000000</td>\n",
       "      <td>2.000000</td>\n",
       "      <td>76.327500</td>\n",
       "      <td>8818.000000</td>\n",
       "      <td>1.000000</td>\n",
       "      <td>...</td>\n",
       "      <td>-1.000000</td>\n",
       "      <td>-1.000000</td>\n",
       "      <td>-1.000000</td>\n",
       "      <td>-1.000000</td>\n",
       "      <td>-1.000000</td>\n",
       "      <td>0.702700</td>\n",
       "      <td>0.812800</td>\n",
       "      <td>0.672000</td>\n",
       "      <td>0.526200</td>\n",
       "      <td>0.502400</td>\n",
       "    </tr>\n",
       "    <tr>\n",
       "      <th>max</th>\n",
       "      <td>1.298275e+06</td>\n",
       "      <td>4.000000e+06</td>\n",
       "      <td>97.760000</td>\n",
       "      <td>2013.000000</td>\n",
       "      <td>98.700000</td>\n",
       "      <td>18409.000000</td>\n",
       "      <td>2.000000</td>\n",
       "      <td>99.930000</td>\n",
       "      <td>18409.000000</td>\n",
       "      <td>1.000000</td>\n",
       "      <td>...</td>\n",
       "      <td>715.000000</td>\n",
       "      <td>623.000000</td>\n",
       "      <td>676.000000</td>\n",
       "      <td>548.000000</td>\n",
       "      <td>516.000000</td>\n",
       "      <td>1.995300</td>\n",
       "      <td>1.904800</td>\n",
       "      <td>2.535400</td>\n",
       "      <td>3.352500</td>\n",
       "      <td>1.822400</td>\n",
       "    </tr>\n",
       "  </tbody>\n",
       "</table>\n",
       "<p>8 rows × 27 columns</p>\n",
       "</div>"
      ],
      "text/plain": [
       "                 ID        Salary  10percentage  12graduation  12percentage  \\\n",
       "count  3.998000e+03  3.998000e+03   3998.000000   3998.000000   3998.000000   \n",
       "mean   6.637945e+05  3.076998e+05     77.925443   2008.087544     74.466366   \n",
       "std    3.632182e+05  2.127375e+05      9.850162      1.653599     10.999933   \n",
       "min    1.124400e+04  3.500000e+04     43.000000   1995.000000     40.000000   \n",
       "25%    3.342842e+05  1.800000e+05     71.680000   2007.000000     66.000000   \n",
       "50%    6.396000e+05  3.000000e+05     79.150000   2008.000000     74.400000   \n",
       "75%    9.904800e+05  3.700000e+05     85.670000   2009.000000     82.600000   \n",
       "max    1.298275e+06  4.000000e+06     97.760000   2013.000000     98.700000   \n",
       "\n",
       "          CollegeID  CollegeTier   collegeGPA  CollegeCityID  CollegeCityTier  \\\n",
       "count   3998.000000  3998.000000  3998.000000    3998.000000      3998.000000   \n",
       "mean    5156.851426     1.925713    71.486171    5156.851426         0.300400   \n",
       "std     4802.261482     0.262270     8.167338    4802.261482         0.458489   \n",
       "min        2.000000     1.000000     6.450000       2.000000         0.000000   \n",
       "25%      494.000000     2.000000    66.407500     494.000000         0.000000   \n",
       "50%     3879.000000     2.000000    71.720000    3879.000000         0.000000   \n",
       "75%     8818.000000     2.000000    76.327500    8818.000000         1.000000   \n",
       "max    18409.000000     2.000000    99.930000   18409.000000         1.000000   \n",
       "\n",
       "       ...  ComputerScience  MechanicalEngg  ElectricalEngg  TelecomEngg  \\\n",
       "count  ...      3998.000000     3998.000000     3998.000000  3998.000000   \n",
       "mean   ...        90.742371       22.974737       16.478739    31.851176   \n",
       "std    ...       175.273083       98.123311       87.585634   104.852845   \n",
       "min    ...        -1.000000       -1.000000       -1.000000    -1.000000   \n",
       "25%    ...        -1.000000       -1.000000       -1.000000    -1.000000   \n",
       "50%    ...        -1.000000       -1.000000       -1.000000    -1.000000   \n",
       "75%    ...        -1.000000       -1.000000       -1.000000    -1.000000   \n",
       "max    ...       715.000000      623.000000      676.000000   548.000000   \n",
       "\n",
       "         CivilEngg  conscientiousness  agreeableness  extraversion  \\\n",
       "count  3998.000000        3998.000000    3998.000000   3998.000000   \n",
       "mean      2.683842          -0.037831       0.146496      0.002763   \n",
       "std      36.658505           1.028666       0.941782      0.951471   \n",
       "min      -1.000000          -4.126700      -5.781600     -4.600900   \n",
       "25%      -1.000000          -0.713525      -0.287100     -0.604800   \n",
       "50%      -1.000000           0.046400       0.212400      0.091400   \n",
       "75%      -1.000000           0.702700       0.812800      0.672000   \n",
       "max     516.000000           1.995300       1.904800      2.535400   \n",
       "\n",
       "       nueroticism  openess_to_experience  \n",
       "count  3998.000000            3998.000000  \n",
       "mean     -0.169033              -0.138110  \n",
       "std       1.007580               1.008075  \n",
       "min      -2.643000              -7.375700  \n",
       "25%      -0.868200              -0.669200  \n",
       "50%      -0.234400              -0.094300  \n",
       "75%       0.526200               0.502400  \n",
       "max       3.352500               1.822400  \n",
       "\n",
       "[8 rows x 27 columns]"
      ]
     },
     "execution_count": 4,
     "metadata": {},
     "output_type": "execute_result"
    }
   ],
   "source": [
    "data.describe()"
   ]
  },
  {
   "cell_type": "code",
   "execution_count": 5,
   "id": "c00697c5-e238-467b-8a5d-af04802e2077",
   "metadata": {},
   "outputs": [
    {
     "data": {
      "text/plain": [
       "(3998, 39)"
      ]
     },
     "execution_count": 5,
     "metadata": {},
     "output_type": "execute_result"
    }
   ],
   "source": [
    "data.shape"
   ]
  },
  {
   "cell_type": "markdown",
   "id": "58401566-c9ad-44ad-a278-dff80d0eb20c",
   "metadata": {},
   "source": [
    "## Univariate analysis"
   ]
  },
  {
   "cell_type": "code",
   "execution_count": 6,
   "id": "fefc7f93-aeea-42d0-a0ef-aa0e61e8ca17",
   "metadata": {},
   "outputs": [
    {
     "data": {
      "text/plain": [
       "<Axes: ylabel='Density'>"
      ]
     },
     "execution_count": 6,
     "metadata": {},
     "output_type": "execute_result"
    },
    {
     "data": {
      "image/png": "[encoded data removed]",
      "text/plain": [
       "<Figure size 432x288 with 1 Axes>"
      ]
     },
     "metadata": {
      "needs_background": "light"
     },
     "output_type": "display_data"
    }
   ],
   "source": [
    "data['Salary'].plot(kind='kde')"
   ]
  },
  {
   "cell_type": "code",
   "execution_count": 7,
   "id": "07326cd4-3e7d-4a09-a228-584c910672ec",
   "metadata": {},
   "outputs": [
    {
     "data": {
      "text/plain": [
       "<Axes: >"
      ]
     },
     "execution_count": 7,
     "metadata": {},
     "output_type": "execute_result"
    },
    {
     "data": {
      "image/png": "[encoded data removed]",
      "text/plain": [
       "<Figure size 432x288 with 1 Axes>"
      ]
     },
     "metadata": {
      "needs_background": "light"
     },
     "output_type": "display_data"
    }
   ],
   "source": [
    "data['Salary'].plot(kind='box')"
   ]
  },
  {
   "cell_type": "code",
   "execution_count": 8,
   "id": "e99544e0-f56c-47cf-b7e7-cd29e417dd61",
   "metadata": {},
   "outputs": [
    {
     "data": {
      "text/plain": [
       "339"
      ]
     },
     "execution_count": 8,
     "metadata": {},
     "output_type": "execute_result"
    }
   ],
   "source": [
    "data['JobCity'].nunique()"
   ]
  },
  {
   "cell_type": "code",
   "execution_count": 9,
   "id": "61cd9278-5f27-44a4-9faa-b19387ac9dfc",
   "metadata": {},
   "outputs": [
    {
     "data": {
      "text/plain": [
       "array(['Bangalore', 'Indore', 'Chennai', 'Gurgaon', 'Manesar',\n",
       "       'Hyderabad', 'Banglore', 'Noida', 'Kolkata', 'Pune', '-1',\n",
       "       'mohali', 'Jhansi', 'Delhi', 'Hyderabad ', 'Bangalore ', 'noida',\n",
       "       'delhi', 'Bhubaneswar', 'Navi Mumbai', 'Mumbai', 'New Delhi',\n",
       "       'Mangalore', 'Rewari', 'Gaziabaad', 'Bhiwadi', 'Mysore', 'Rajkot',\n",
       "       'Greater Noida', 'Jaipur', 'noida ', 'HYDERABAD', 'mysore',\n",
       "       'THANE', 'Maharajganj', 'Thiruvananthapuram', 'Punchkula',\n",
       "       'Bhubaneshwar', 'Pune ', 'coimbatore', 'Dhanbad', 'Lucknow',\n",
       "       'Trivandrum', 'kolkata', 'mumbai', 'Gandhi Nagar', 'Una',\n",
       "       'Daman and Diu', 'chennai', 'GURGOAN', 'vsakhapttnam', 'pune',\n",
       "       'Nagpur', 'Bhagalpur', 'new delhi - jaisalmer', 'Coimbatore',\n",
       "       'Ahmedabad', 'Kochi/Cochin', 'Bankura', 'Bengaluru', 'Mysore ',\n",
       "       'Kanpur ', 'jaipur', 'Gurgaon ', 'bangalore', 'CHENNAI',\n",
       "       'Vijayawada', 'Kochi', 'Beawar', 'Alwar', 'NOIDA', 'Greater noida',\n",
       "       'Siliguri ', 'raipur', 'gurgaon', 'Bhopal', 'Faridabad', 'Jodhpur',\n",
       "       'udaipur', 'Muzaffarpur', 'Kolkata`', 'Bulandshahar', 'Haridwar',\n",
       "       'Raigarh', 'Visakhapatnam', 'Jabalpur', 'hyderabad', 'Unnao',\n",
       "       'KOLKATA', 'Thane', 'Aurangabad', 'Belgaum', 'gurgoan', 'Dehradun',\n",
       "       'Rudrapur', 'Jamshedpur', 'vizag', 'Nouda', 'Dharamshala',\n",
       "       'Banagalore', 'Hissar', 'Ranchi', 'BANGALORE', 'Madurai', 'Gurga',\n",
       "       'Chandigarh', 'Australia', ' Chennai', 'CHEYYAR', 'Mumbai ',\n",
       "       'sonepat', 'Ghaziabad', 'Pantnagar', 'Siliguri', 'mumbai ',\n",
       "       'Jagdalpur', 'Chennai ', 'angul', 'Baroda', ' ariyalur', 'Jowai',\n",
       "       'Kochi/Cochin, Chennai and Coimbatore', 'bhubaneswar', 'Neemrana',\n",
       "       'VIZAG', 'Tirupathi', 'Lucknow ', 'Ahmedabad ', 'Bhubneshwar',\n",
       "       'Noida ', 'pune ', 'Calicut', 'Gandhinagar', 'LUCKNOW', 'Dubai',\n",
       "       'bengaluru', 'MUMBAI', 'Ahmednagar', 'Nashik', 'New delhi',\n",
       "       'Bellary', 'Ludhiana', 'New Delhi ', 'Muzaffarnagar', 'BHOPAL',\n",
       "       'Gurgoan', 'Gagret', 'Indirapuram, Ghaziabad', 'Gwalior',\n",
       "       'new delhi', 'TRIVANDRUM', 'Chennai & Mumbai', 'Rajasthan',\n",
       "       'Sonipat', 'Bareli', 'Kanpur', 'Hospete', 'Miryalaguda', ' mumbai',\n",
       "       'Dharuhera', 'lucknow', 'meerut', 'dehradun', 'Ganjam', 'Hubli',\n",
       "       'bangalore ', 'NAVI MUMBAI', 'ncr', 'Agra', 'Trichy',\n",
       "       'kudankulam ,tarapur', 'Ongole', 'Sambalpur', 'Pondicherry',\n",
       "       'Bundi', 'SADULPUR,RAJGARH,DISTT-CHURU,RAJASTHAN', 'AM', 'Bikaner',\n",
       "       'Vadodara', 'BAngalore', 'india', 'Asansol', 'Tirunelvelli',\n",
       "       'Ernakulam', 'DELHI', 'Bilaspur', 'Chandrapur', 'Nanded',\n",
       "       'Dharmapuri', 'Vandavasi', 'Rohtak', 'trivandrum', 'Nagpur ',\n",
       "       'Udaipur', 'Patna', 'banglore', 'indore', 'Salem', 'Nasikcity',\n",
       "       'Gandhinagar ', 'Technopark, Trivandrum', 'Bharuch', 'Tornagallu',\n",
       "       'Raipur', 'Kolkata ', 'Jaspur', 'Burdwan', 'Bhubaneswar ',\n",
       "       'Shimla', 'ahmedabad', 'Gajiabaad', 'Jammu', 'Shahdol',\n",
       "       'Muvattupuzha', 'Al Jubail,Saudi Arabia', 'Kalmar, Sweden',\n",
       "       'Secunderabad', 'A-64,sec-64,noida', 'Ratnagiri', 'Jhajjar',\n",
       "       'Gulbarga', 'hyderabad(bhadurpally)', 'Nalagarh', 'Chandigarh ',\n",
       "       'Jaipur ', 'Jeddah Saudi Arabia', ' Delhi', 'PATNA', 'SHAHDOL',\n",
       "       'Chennai, Bangalore', 'Bhopal ', 'Jamnagar', 'PUNE', 'Tirupati',\n",
       "       'Gonda', 'jamnagar', 'chennai ', 'orissa', 'kharagpur',\n",
       "       'Trivandrum ', 'Navi Mumbai , Hyderabad', 'Joshimath',\n",
       "       'chandigarh', 'Bathinda', 'Johannesburg', 'kala amb ', 'Karnal',\n",
       "       'LONDON', 'Kota', 'Panchkula', 'Baddi HP', 'Nagari',\n",
       "       'Mettur, Tamil Nadu ', 'Durgapur', 'pondi', 'Surat', 'Kurnool',\n",
       "       'kolhapur', 'Madurai ', 'GREATER NOIDA', 'Bhilai', ' Pune',\n",
       "       'hderabad', 'KOTA', 'thane', 'Vizag', 'Bahadurgarh',\n",
       "       'Rayagada, Odisha', 'kakinada', 'GURGAON', 'Varanasi', 'punr',\n",
       "       'Nellore', 'patna', 'Meerut', 'hyderabad ', 'Sahibabad', 'Howrah',\n",
       "       'BHUBANESWAR', 'Trichur', 'Ambala', 'Khopoli', 'keral', 'Roorkee',\n",
       "       'Greater NOIDA', 'Navi mumbai', 'ghaziabad', 'Allahabad',\n",
       "       'Delhi/NCR', 'Panchkula ', 'Ranchi ', 'Jalandhar', 'manesar',\n",
       "       'vapi', 'PILANI', 'muzzafarpur', 'RAS AL KHAIMAH', 'bihar',\n",
       "       'singaruli', 'KANPUR', 'Banglore ', 'pondy', 'Mohali', 'Phagwara',\n",
       "       ' Mumbai', ' bangalore', 'GURAGAON', 'Baripada', 'MEERUT',\n",
       "       'Yamuna Nagar', 'shahibabad', 'sampla', 'Guwahati', 'Rourkela',\n",
       "       'Banaglore', 'Vellore', 'Dausa', 'latur (Maharashtra )',\n",
       "       'NEW DELHI', 'kanpur', 'Mainpuri', 'karnal', 'Dammam', 'Haldia',\n",
       "       'sambalpur', 'RAE BARELI', 'ranchi', 'jAipur', 'BANGLORE',\n",
       "       'Patiala', 'Gorakhpur', 'new dehli', 'BANGALORE ', 'Ambala City',\n",
       "       'Karad', 'Rajpura', 'Pilani', 'haryana', 'Asifabadbanglore'],\n",
       "      dtype=object)"
      ]
     },
     "execution_count": 9,
     "metadata": {},
     "output_type": "execute_result"
    }
   ],
   "source": [
    "data['JobCity'].unique()"
   ]
  },
  {
   "cell_type": "code",
   "execution_count": 10,
   "id": "ee8518ee-6fba-4ca6-945a-b1821ab403a1",
   "metadata": {},
   "outputs": [
    {
     "data": {
      "text/plain": [
       "Bangalore           627\n",
       "-1                  461\n",
       "Noida               368\n",
       "Hyderabad           335\n",
       "Pune                290\n",
       "                   ... \n",
       "Tirunelvelli          1\n",
       "Ernakulam             1\n",
       "Nanded                1\n",
       "Dharmapuri            1\n",
       "Asifabadbanglore      1\n",
       "Name: JobCity, Length: 339, dtype: int64"
      ]
     },
     "execution_count": 10,
     "metadata": {},
     "output_type": "execute_result"
    }
   ],
   "source": [
    "data['JobCity'].value_counts()"
   ]
  },
  {
   "cell_type": "code",
   "execution_count": 11,
   "id": "3e715add-b98b-43d7-bdb3-08449137a962",
   "metadata": {},
   "outputs": [
    {
     "data": {
      "text/plain": [
       "419"
      ]
     },
     "execution_count": 11,
     "metadata": {},
     "output_type": "execute_result"
    }
   ],
   "source": [
    "data['Designation'].nunique()"
   ]
  },
  {
   "cell_type": "code",
   "execution_count": 12,
   "id": "16fa25c7-a3ce-4c46-b8a0-24ff1547ec18",
   "metadata": {},
   "outputs": [
    {
     "data": {
      "text/plain": [
       "software engineer                    539\n",
       "software developer                   265\n",
       "system engineer                      205\n",
       "programmer analyst                   139\n",
       "systems engineer                     118\n",
       "                                    ... \n",
       "cad drafter                            1\n",
       "noc engineer                           1\n",
       "human resources intern                 1\n",
       "senior quality assurance engineer      1\n",
       "jr. software developer                 1\n",
       "Name: Designation, Length: 419, dtype: int64"
      ]
     },
     "execution_count": 12,
     "metadata": {},
     "output_type": "execute_result"
    }
   ],
   "source": [
    "data['Designation'].value_counts()"
   ]
  },
  {
   "cell_type": "code",
   "execution_count": 13,
   "id": "bed9c5f6-3a84-431b-a903-5a704e3cd58d",
   "metadata": {},
   "outputs": [
    {
     "data": {
      "text/plain": [
       "4"
      ]
     },
     "execution_count": 13,
     "metadata": {},
     "output_type": "execute_result"
    }
   ],
   "source": [
    "data['Degree'].nunique()"
   ]
  },
  {
   "cell_type": "code",
   "execution_count": 14,
   "id": "ac24490c-bfb6-4147-8443-c43ff21e4c1f",
   "metadata": {},
   "outputs": [
    {
     "data": {
      "text/plain": [
       "B.Tech/B.E.      3700\n",
       "MCA               243\n",
       "M.Tech./M.E.       53\n",
       "M.Sc. (Tech.)       2\n",
       "Name: Degree, dtype: int64"
      ]
     },
     "execution_count": 14,
     "metadata": {},
     "output_type": "execute_result"
    }
   ],
   "source": [
    "data['Degree'].value_counts()"
   ]
  },
  {
   "cell_type": "code",
   "execution_count": 15,
   "id": "e6614f52-c438-49ae-888f-a23921e6bbf7",
   "metadata": {},
   "outputs": [
    {
     "data": {
      "text/plain": [
       "<Axes: >"
      ]
     },
     "execution_count": 15,
     "metadata": {},
     "output_type": "execute_result"
    },
    {
     "data": {
      "image/png": "[encoded data removed]",
      "text/plain": [
       "<Figure size 432x288 with 1 Axes>"
      ]
     },
     "metadata": {
      "needs_background": "light"
     },
     "output_type": "display_data"
    }
   ],
   "source": [
    "data['Degree'].value_counts().plot(kind='barh')"
   ]
  },
  {
   "cell_type": "code",
   "execution_count": 16,
   "id": "b1a963d1-fdd8-4b34-9093-84d528f5193b",
   "metadata": {},
   "outputs": [
    {
     "data": {
      "text/plain": [
       "2013    1181\n",
       "2014    1036\n",
       "2012     847\n",
       "2011     507\n",
       "2010     292\n",
       "2015      94\n",
       "2009      24\n",
       "2017       8\n",
       "2016       7\n",
       "0          1\n",
       "2007       1\n",
       "Name: GraduationYear, dtype: int64"
      ]
     },
     "execution_count": 16,
     "metadata": {},
     "output_type": "execute_result"
    }
   ],
   "source": [
    "data['GraduationYear'].value_counts()"
   ]
  },
  {
   "cell_type": "code",
   "execution_count": 17,
   "id": "73970a5c-e422-402e-b355-343334f15536",
   "metadata": {},
   "outputs": [
    {
     "data": {
      "text/plain": [
       "<Axes: >"
      ]
     },
     "execution_count": 17,
     "metadata": {},
     "output_type": "execute_result"
    },
    {
     "data": {
      "image/png": "[encoded data removed]",
      "text/plain": [
       "<Figure size 432x288 with 1 Axes>"
      ]
     },
     "metadata": {
      "needs_background": "light"
     },
     "output_type": "display_data"
    }
   ],
   "source": [
    "data['GraduationYear'].value_counts().plot(kind='bar')"
   ]
  },
  {
   "cell_type": "code",
   "execution_count": 18,
   "id": "6987316a-ec7e-4b1a-ad9d-6dc75c5761e8",
   "metadata": {},
   "outputs": [
    {
     "data": {
      "text/plain": [
       "<Axes: >"
      ]
     },
     "execution_count": 18,
     "metadata": {},
     "output_type": "execute_result"
    },
    {
     "data": {
      "image/png": "[encoded data removed]",
      "text/plain": [
       "<Figure size 432x288 with 1 Axes>"
      ]
     },
     "metadata": {
      "needs_background": "light"
     },
     "output_type": "display_data"
    }
   ],
   "source": [
    "data['Gender'].value_counts().plot(kind='bar')"
   ]
  },
  {
   "cell_type": "markdown",
   "id": "02972698-ec9c-40a1-a358-7e7c9c120b7e",
   "metadata": {},
   "source": [
    "## Bivariate Analysis"
   ]
  },
  {
   "cell_type": "code",
   "execution_count": 19,
   "id": "637c31c8-d7a4-4dfe-a901-c1853ec78253",
   "metadata": {},
   "outputs": [
    {
     "data": {
      "text/plain": [
       "<matplotlib.collections.PathCollection at 0x2ea5e272d70>"
      ]
     },
     "execution_count": 19,
     "metadata": {},
     "output_type": "execute_result"
    },
    {
     "data": {
      "image/png": "[encoded data removed]",
      "text/plain": [
       "<Figure size 432x288 with 1 Axes>"
      ]
     },
     "metadata": {
      "needs_background": "light"
     },
     "output_type": "display_data"
    }
   ],
   "source": [
    "## num vs num - collegeGPA and Salary\n",
    "\n",
    "plt.scatter(data['collegeGPA'], data['Salary'])"
   ]
  },
  {
   "cell_type": "code",
   "execution_count": 20,
   "id": "8f57899a-54ee-4bd9-bb5e-d6109a9fca8b",
   "metadata": {},
   "outputs": [
    {
     "data": {
      "text/plain": [
       "count    3998.000000\n",
       "mean       71.486171\n",
       "std         8.167338\n",
       "min         6.450000\n",
       "25%        66.407500\n",
       "50%        71.720000\n",
       "75%        76.327500\n",
       "max        99.930000\n",
       "Name: collegeGPA, dtype: float64"
      ]
     },
     "execution_count": 20,
     "metadata": {},
     "output_type": "execute_result"
    }
   ],
   "source": [
    "data['collegeGPA'].describe()"
   ]
  },
  {
   "cell_type": "code",
   "execution_count": 21,
   "id": "48c8419f-da97-4114-bb53-5084940f42b0",
   "metadata": {},
   "outputs": [
    {
     "data": {
      "text/plain": [
       "<matplotlib.collections.PathCollection at 0x2ea5e37bfd0>"
      ]
     },
     "execution_count": 21,
     "metadata": {},
     "output_type": "execute_result"
    },
    {
     "data": {
      "image/png": "[encoded data removed]",
      "text/plain": [
       "<Figure size 432x288 with 1 Axes>"
      ]
     },
     "metadata": {
      "needs_background": "light"
     },
     "output_type": "display_data"
    }
   ],
   "source": [
    "plt.scatter(data['12percentage'], data['Salary'])"
   ]
  },
  {
   "cell_type": "code",
   "execution_count": 22,
   "id": "cd709a5a-32e3-4587-bcf7-7420cce4f8e3",
   "metadata": {},
   "outputs": [
    {
     "data": {
      "text/plain": [
       "<matplotlib.collections.PathCollection at 0x2ea5e444460>"
      ]
     },
     "execution_count": 22,
     "metadata": {},
     "output_type": "execute_result"
    },
    {
     "data": {
      "image/png": "[encoded data removed]",
      "text/plain": [
       "<Figure size 432x288 with 1 Axes>"
      ]
     },
     "metadata": {
      "needs_background": "light"
     },
     "output_type": "display_data"
    }
   ],
   "source": [
    "plt.scatter(data['10percentage'], data['Salary'])"
   ]
  },
  {
   "cell_type": "code",
   "execution_count": 23,
   "id": "7b9a79cc-53eb-4de9-bf2e-bd6989bef3ab",
   "metadata": {},
   "outputs": [
    {
     "data": {
      "text/plain": [
       "<Axes: xlabel='Gender', ylabel='Salary'>"
      ]
     },
     "execution_count": 23,
     "metadata": {},
     "output_type": "execute_result"
    },
    {
     "data": {
      "image/png": "[encoded data removed]",
      "text/plain": [
       "<Figure size 432x288 with 1 Axes>"
      ]
     },
     "metadata": {
      "needs_background": "light"
     },
     "output_type": "display_data"
    }
   ],
   "source": [
    "## num vs cat plots\n",
    "\n",
    "sb.boxplot(data=data, x='Gender', y='Salary')"
   ]
  },
  {
   "cell_type": "code",
   "execution_count": 24,
   "id": "aeb813b7-c94d-4846-92bb-8fd52a9c033a",
   "metadata": {},
   "outputs": [
    {
     "data": {
      "text/plain": [
       "<Axes: xlabel='CollegeState', ylabel='Salary'>"
      ]
     },
     "execution_count": 24,
     "metadata": {},
     "output_type": "execute_result"
    },
    {
     "data": {
      "image/png": "[encoded data removed]",
      "text/plain": [
       "<Figure size 432x288 with 1 Axes>"
      ]
     },
     "metadata": {
      "needs_background": "light"
     },
     "output_type": "display_data"
    }
   ],
   "source": [
    "sb.boxplot(data=data, x='CollegeState', y='Salary')"
   ]
  },
  {
   "cell_type": "code",
   "execution_count": 25,
   "id": "0fa2543f-4232-4eb2-9fd3-1e7ee42eb106",
   "metadata": {},
   "outputs": [
    {
     "data": {
      "text/plain": [
       "<Axes: xlabel='CollegeTier', ylabel='Salary'>"
      ]
     },
     "execution_count": 25,
     "metadata": {},
     "output_type": "execute_result"
    },
    {
     "data": {
      "image/png": "[encoded data removed]",
      "text/plain": [
       "<Figure size 432x288 with 1 Axes>"
      ]
     },
     "metadata": {
      "needs_background": "light"
     },
     "output_type": "display_data"
    }
   ],
   "source": [
    "sb.boxplot(data=data, x='CollegeTier', y='Salary')"
   ]
  },
  {
   "cell_type": "code",
   "execution_count": 26,
   "id": "46604b3f-1b5b-4671-8eef-0a5e6783a2b6",
   "metadata": {},
   "outputs": [
    {
     "data": {
      "text/plain": [
       "<Axes: xlabel='Degree', ylabel='Salary'>"
      ]
     },
     "execution_count": 26,
     "metadata": {},
     "output_type": "execute_result"
    },
    {
     "data": {
      "image/png": "[encoded data removed]",
      "text/plain": [
       "<Figure size 432x288 with 1 Axes>"
      ]
     },
     "metadata": {
      "needs_background": "light"
     },
     "output_type": "display_data"
    }
   ],
   "source": [
    "sb.boxplot(data=data, x='Degree', y='Salary')"
   ]
  },
  {
   "cell_type": "code",
   "execution_count": 27,
   "id": "fd900ff1-c19d-4173-8871-0df9f248e966",
   "metadata": {},
   "outputs": [
    {
     "data": {
      "text/plain": [
       "<Axes: xlabel='Gender', ylabel='10percentage'>"
      ]
     },
     "execution_count": 27,
     "metadata": {},
     "output_type": "execute_result"
    },
    {
     "data": {
      "image/png": "[encoded data removed]",
      "text/plain": [
       "<Figure size 432x288 with 1 Axes>"
      ]
     },
     "metadata": {
      "needs_background": "light"
     },
     "output_type": "display_data"
    }
   ],
   "source": [
    "sb.boxplot(data=data, x='Gender', y='10percentage')"
   ]
  },
  {
   "cell_type": "code",
   "execution_count": 28,
   "id": "de82ae1a-e99f-4504-ab20-b50216801d32",
   "metadata": {},
   "outputs": [
    {
     "data": {
      "text/plain": [
       "<Axes: xlabel='Gender', ylabel='12percentage'>"
      ]
     },
     "execution_count": 28,
     "metadata": {},
     "output_type": "execute_result"
    },
    {
     "data": {
      "image/png": "[encoded data removed]",
      "text/plain": [
       "<Figure size 432x288 with 1 Axes>"
      ]
     },
     "metadata": {
      "needs_background": "light"
     },
     "output_type": "display_data"
    }
   ],
   "source": [
    "sb.boxplot(data=data, x='Gender', y='12percentage')"
   ]
  },
  {
   "cell_type": "code",
   "execution_count": 29,
   "id": "1f64958e-7457-4084-96cd-5f2fa23cd7e1",
   "metadata": {},
   "outputs": [
    {
     "data": {
      "text/plain": [
       "<Axes: xlabel='Gender', ylabel='collegeGPA'>"
      ]
     },
     "execution_count": 29,
     "metadata": {},
     "output_type": "execute_result"
    },
    {
     "data": {
      "image/png": "[encoded data removed]",
      "text/plain": [
       "<Figure size 432x288 with 1 Axes>"
      ]
     },
     "metadata": {
      "needs_background": "light"
     },
     "output_type": "display_data"
    }
   ],
   "source": [
    "sb.boxplot(data=data, x='Gender', y='collegeGPA')"
   ]
  },
  {
   "cell_type": "markdown",
   "id": "24414ae5-038f-4a01-a74f-8fdd2d3868ce",
   "metadata": {},
   "source": [
    "### Relation b/w Gender and Specialization"
   ]
  },
  {
   "cell_type": "code",
   "execution_count": 42,
   "id": "9fd96066-8bc0-434d-9688-d3c708edda9b",
   "metadata": {},
   "outputs": [
    {
     "data": {
      "text/plain": [
       "<Axes: xlabel='Specialization'>"
      ]
     },
     "execution_count": 42,
     "metadata": {},
     "output_type": "execute_result"
    },
    {
     "data": {
      "image/png": "[encoded data removed]",
      "text/plain": [
       "<Figure size 1080x576 with 1 Axes>"
      ]
     },
     "metadata": {
      "needs_background": "light"
     },
     "output_type": "display_data"
    }
   ],
   "source": [
    "## cat vs cat\n",
    "\n",
    "ctab = pd.crosstab(data['Specialization'], data['Gender'], normalize='index')\n",
    "\n",
    "ctab.plot(kind='bar', figsize=(15,8))"
   ]
  },
  {
   "cell_type": "code",
   "execution_count": 31,
   "id": "b23c0f47-9e5d-4e25-8c5e-5ce202be1bed",
   "metadata": {},
   "outputs": [],
   "source": [
    "# ctab = pd.crosstab(data['JobCity'], data['Gender'], normalize='index')\n",
    "\n",
    "# ctab.plot(kind='bar', figsize=(20,10))"
   ]
  },
  {
   "cell_type": "markdown",
   "id": "4114b100-d992-4829-b04a-2720f647586e",
   "metadata": {},
   "source": [
    "## Research Questions"
   ]
  },
  {
   "cell_type": "code",
   "execution_count": 32,
   "id": "dc3210ff-5c2f-4542-b198-e865e3fea708",
   "metadata": {},
   "outputs": [
    {
     "data": {
      "text/plain": [
       "46"
      ]
     },
     "execution_count": 32,
     "metadata": {},
     "output_type": "execute_result"
    }
   ],
   "source": [
    "data['Specialization'].nunique()"
   ]
  },
  {
   "cell_type": "code",
   "execution_count": 33,
   "id": "f9cc1e88-32f3-4d33-9d0d-618b9a70874a",
   "metadata": {},
   "outputs": [
    {
     "data": {
      "text/plain": [
       "electronics and communication engineering    880\n",
       "computer science & engineering               744\n",
       "information technology                       660\n",
       "computer engineering                         600\n",
       "computer application                         244\n",
       "mechanical engineering                       201\n",
       "electronics and electrical engineering       196\n",
       "electronics & telecommunications             121\n",
       "electrical engineering                        82\n",
       "electronics & instrumentation eng             32\n",
       "Name: Specialization, dtype: int64"
      ]
     },
     "execution_count": 33,
     "metadata": {},
     "output_type": "execute_result"
    }
   ],
   "source": [
    "data['Specialization'].value_counts()[:10]"
   ]
  },
  {
   "cell_type": "code",
   "execution_count": 34,
   "id": "1785ae9b-d9b0-468d-8e2c-0bb57d85b47c",
   "metadata": {},
   "outputs": [
    {
     "data": {
      "text/plain": [
       "296812.5"
      ]
     },
     "execution_count": 34,
     "metadata": {},
     "output_type": "execute_result"
    }
   ],
   "source": [
    "ece_data = data[data.Specialization == 'electronics and communication engineering']\n",
    "ece_data.Salary.mean()"
   ]
  },
  {
   "cell_type": "code",
   "execution_count": 35,
   "id": "1241df02-64e4-4104-80c6-2ec52c32d9ed",
   "metadata": {},
   "outputs": [
    {
     "data": {
      "text/plain": [
       "300000.0"
      ]
     },
     "execution_count": 35,
     "metadata": {},
     "output_type": "execute_result"
    }
   ],
   "source": [
    "ece_data.Salary.median()"
   ]
  },
  {
   "cell_type": "code",
   "execution_count": 36,
   "id": "61224905-856c-41d6-a59c-5c5d1b470c36",
   "metadata": {},
   "outputs": [
    {
     "data": {
      "text/html": [
       "<div>\n",
       "<style scoped>\n",
       "    .dataframe tbody tr th:only-of-type {\n",
       "        vertical-align: middle;\n",
       "    }\n",
       "\n",
       "    .dataframe tbody tr th {\n",
       "        vertical-align: top;\n",
       "    }\n",
       "\n",
       "    .dataframe thead th {\n",
       "        text-align: right;\n",
       "    }\n",
       "</style>\n",
       "<table border=\"1\" class=\"dataframe\">\n",
       "  <thead>\n",
       "    <tr style=\"text-align: right;\">\n",
       "      <th></th>\n",
       "      <th>Unnamed: 0</th>\n",
       "      <th>ID</th>\n",
       "      <th>Salary</th>\n",
       "      <th>DOJ</th>\n",
       "      <th>DOL</th>\n",
       "      <th>Designation</th>\n",
       "      <th>JobCity</th>\n",
       "      <th>Gender</th>\n",
       "      <th>DOB</th>\n",
       "      <th>10percentage</th>\n",
       "      <th>...</th>\n",
       "      <th>ComputerScience</th>\n",
       "      <th>MechanicalEngg</th>\n",
       "      <th>ElectricalEngg</th>\n",
       "      <th>TelecomEngg</th>\n",
       "      <th>CivilEngg</th>\n",
       "      <th>conscientiousness</th>\n",
       "      <th>agreeableness</th>\n",
       "      <th>extraversion</th>\n",
       "      <th>nueroticism</th>\n",
       "      <th>openess_to_experience</th>\n",
       "    </tr>\n",
       "  </thead>\n",
       "  <tbody>\n",
       "    <tr>\n",
       "      <th>6</th>\n",
       "      <td>train</td>\n",
       "      <td>947847</td>\n",
       "      <td>300000.0</td>\n",
       "      <td>8/1/14 0:00</td>\n",
       "      <td>5/1/15 0:00</td>\n",
       "      <td>java software engineer</td>\n",
       "      <td>Banglore</td>\n",
       "      <td>m</td>\n",
       "      <td>2/1/93 0:00</td>\n",
       "      <td>86.08</td>\n",
       "      <td>...</td>\n",
       "      <td>346</td>\n",
       "      <td>-1</td>\n",
       "      <td>-1</td>\n",
       "      <td>-1</td>\n",
       "      <td>-1</td>\n",
       "      <td>1.7081</td>\n",
       "      <td>-0.1054</td>\n",
       "      <td>-1.0379</td>\n",
       "      <td>-2.0092</td>\n",
       "      <td>-1.0872</td>\n",
       "    </tr>\n",
       "    <tr>\n",
       "      <th>18</th>\n",
       "      <td>train</td>\n",
       "      <td>711342</td>\n",
       "      <td>120000.0</td>\n",
       "      <td>1/1/14 0:00</td>\n",
       "      <td>6/1/14 0:00</td>\n",
       "      <td>data entry operator</td>\n",
       "      <td>Gurgaon</td>\n",
       "      <td>m</td>\n",
       "      <td>12/7/92 0:00</td>\n",
       "      <td>65.00</td>\n",
       "      <td>...</td>\n",
       "      <td>-1</td>\n",
       "      <td>-1</td>\n",
       "      <td>-1</td>\n",
       "      <td>-1</td>\n",
       "      <td>-1</td>\n",
       "      <td>-0.1590</td>\n",
       "      <td>0.3789</td>\n",
       "      <td>1.3933</td>\n",
       "      <td>-0.2344</td>\n",
       "      <td>1.4386</td>\n",
       "    </tr>\n",
       "    <tr>\n",
       "      <th>24</th>\n",
       "      <td>train</td>\n",
       "      <td>963123</td>\n",
       "      <td>335000.0</td>\n",
       "      <td>6/1/14 0:00</td>\n",
       "      <td>6/1/15 0:00</td>\n",
       "      <td>programmer analyst</td>\n",
       "      <td>Hyderabad</td>\n",
       "      <td>m</td>\n",
       "      <td>6/28/93 0:00</td>\n",
       "      <td>88.00</td>\n",
       "      <td>...</td>\n",
       "      <td>346</td>\n",
       "      <td>-1</td>\n",
       "      <td>-1</td>\n",
       "      <td>-1</td>\n",
       "      <td>-1</td>\n",
       "      <td>0.4155</td>\n",
       "      <td>0.8027</td>\n",
       "      <td>0.1357</td>\n",
       "      <td>-0.9950</td>\n",
       "      <td>-0.6692</td>\n",
       "    </tr>\n",
       "    <tr>\n",
       "      <th>25</th>\n",
       "      <td>train</td>\n",
       "      <td>350211</td>\n",
       "      <td>435000.0</td>\n",
       "      <td>9/1/12 0:00</td>\n",
       "      <td>present</td>\n",
       "      <td>systems analyst</td>\n",
       "      <td>Gurgaon</td>\n",
       "      <td>f</td>\n",
       "      <td>3/2/91 0:00</td>\n",
       "      <td>86.80</td>\n",
       "      <td>...</td>\n",
       "      <td>438</td>\n",
       "      <td>-1</td>\n",
       "      <td>-1</td>\n",
       "      <td>-1</td>\n",
       "      <td>-1</td>\n",
       "      <td>0.0464</td>\n",
       "      <td>1.2028</td>\n",
       "      <td>-0.9245</td>\n",
       "      <td>0.5323</td>\n",
       "      <td>-0.2875</td>\n",
       "    </tr>\n",
       "    <tr>\n",
       "      <th>31</th>\n",
       "      <td>train</td>\n",
       "      <td>1094324</td>\n",
       "      <td>340000.0</td>\n",
       "      <td>8/1/14 0:00</td>\n",
       "      <td>4/1/15 0:00</td>\n",
       "      <td>software engineer</td>\n",
       "      <td>Bangalore</td>\n",
       "      <td>m</td>\n",
       "      <td>10/23/92 0:00</td>\n",
       "      <td>77.20</td>\n",
       "      <td>...</td>\n",
       "      <td>407</td>\n",
       "      <td>-1</td>\n",
       "      <td>-1</td>\n",
       "      <td>-1</td>\n",
       "      <td>-1</td>\n",
       "      <td>-0.0154</td>\n",
       "      <td>1.2114</td>\n",
       "      <td>1.0859</td>\n",
       "      <td>-1.5021</td>\n",
       "      <td>0.2889</td>\n",
       "    </tr>\n",
       "    <tr>\n",
       "      <th>...</th>\n",
       "      <td>...</td>\n",
       "      <td>...</td>\n",
       "      <td>...</td>\n",
       "      <td>...</td>\n",
       "      <td>...</td>\n",
       "      <td>...</td>\n",
       "      <td>...</td>\n",
       "      <td>...</td>\n",
       "      <td>...</td>\n",
       "      <td>...</td>\n",
       "      <td>...</td>\n",
       "      <td>...</td>\n",
       "      <td>...</td>\n",
       "      <td>...</td>\n",
       "      <td>...</td>\n",
       "      <td>...</td>\n",
       "      <td>...</td>\n",
       "      <td>...</td>\n",
       "      <td>...</td>\n",
       "      <td>...</td>\n",
       "      <td>...</td>\n",
       "    </tr>\n",
       "    <tr>\n",
       "      <th>3968</th>\n",
       "      <td>train</td>\n",
       "      <td>469012</td>\n",
       "      <td>360000.0</td>\n",
       "      <td>5/1/13 0:00</td>\n",
       "      <td>1/1/15 0:00</td>\n",
       "      <td>software engineer</td>\n",
       "      <td>Bangalore</td>\n",
       "      <td>f</td>\n",
       "      <td>9/30/90 0:00</td>\n",
       "      <td>81.00</td>\n",
       "      <td>...</td>\n",
       "      <td>-1</td>\n",
       "      <td>-1</td>\n",
       "      <td>-1</td>\n",
       "      <td>-1</td>\n",
       "      <td>-1</td>\n",
       "      <td>0.0464</td>\n",
       "      <td>0.3448</td>\n",
       "      <td>-0.3440</td>\n",
       "      <td>0.6204</td>\n",
       "      <td>0.3444</td>\n",
       "    </tr>\n",
       "    <tr>\n",
       "      <th>3979</th>\n",
       "      <td>train</td>\n",
       "      <td>212055</td>\n",
       "      <td>550000.0</td>\n",
       "      <td>7/1/13 0:00</td>\n",
       "      <td>4/1/14 0:00</td>\n",
       "      <td>software engineer</td>\n",
       "      <td>Bangalore</td>\n",
       "      <td>m</td>\n",
       "      <td>7/22/89 0:00</td>\n",
       "      <td>69.16</td>\n",
       "      <td>...</td>\n",
       "      <td>-1</td>\n",
       "      <td>-1</td>\n",
       "      <td>-1</td>\n",
       "      <td>-1</td>\n",
       "      <td>-1</td>\n",
       "      <td>-0.5719</td>\n",
       "      <td>0.5008</td>\n",
       "      <td>-0.4891</td>\n",
       "      <td>0.4148</td>\n",
       "      <td>-1.2354</td>\n",
       "    </tr>\n",
       "    <tr>\n",
       "      <th>3984</th>\n",
       "      <td>train</td>\n",
       "      <td>305041</td>\n",
       "      <td>480000.0</td>\n",
       "      <td>12/1/11 0:00</td>\n",
       "      <td>present</td>\n",
       "      <td>software engineer</td>\n",
       "      <td>Gurgaon</td>\n",
       "      <td>f</td>\n",
       "      <td>1/18/90 0:00</td>\n",
       "      <td>89.80</td>\n",
       "      <td>...</td>\n",
       "      <td>-1</td>\n",
       "      <td>-1</td>\n",
       "      <td>-1</td>\n",
       "      <td>-1</td>\n",
       "      <td>-1</td>\n",
       "      <td>-0.2628</td>\n",
       "      <td>0.1888</td>\n",
       "      <td>0.3817</td>\n",
       "      <td>-0.2902</td>\n",
       "      <td>1.6082</td>\n",
       "    </tr>\n",
       "    <tr>\n",
       "      <th>3985</th>\n",
       "      <td>train</td>\n",
       "      <td>358393</td>\n",
       "      <td>430000.0</td>\n",
       "      <td>3/1/13 0:00</td>\n",
       "      <td>present</td>\n",
       "      <td>system engineer</td>\n",
       "      <td>Gurgaon</td>\n",
       "      <td>f</td>\n",
       "      <td>5/14/90 0:00</td>\n",
       "      <td>90.40</td>\n",
       "      <td>...</td>\n",
       "      <td>-1</td>\n",
       "      <td>-1</td>\n",
       "      <td>-1</td>\n",
       "      <td>-1</td>\n",
       "      <td>-1</td>\n",
       "      <td>0.2782</td>\n",
       "      <td>0.3448</td>\n",
       "      <td>0.0914</td>\n",
       "      <td>-1.1422</td>\n",
       "      <td>-0.6035</td>\n",
       "    </tr>\n",
       "    <tr>\n",
       "      <th>3995</th>\n",
       "      <td>train</td>\n",
       "      <td>355888</td>\n",
       "      <td>320000.0</td>\n",
       "      <td>7/1/13 0:00</td>\n",
       "      <td>present</td>\n",
       "      <td>associate software engineer</td>\n",
       "      <td>Bangalore</td>\n",
       "      <td>m</td>\n",
       "      <td>7/3/91 0:00</td>\n",
       "      <td>81.86</td>\n",
       "      <td>...</td>\n",
       "      <td>-1</td>\n",
       "      <td>-1</td>\n",
       "      <td>-1</td>\n",
       "      <td>-1</td>\n",
       "      <td>-1</td>\n",
       "      <td>-1.5765</td>\n",
       "      <td>-1.5273</td>\n",
       "      <td>-1.5051</td>\n",
       "      <td>-1.3184</td>\n",
       "      <td>-0.7615</td>\n",
       "    </tr>\n",
       "  </tbody>\n",
       "</table>\n",
       "<p>1344 rows × 39 columns</p>\n",
       "</div>"
      ],
      "text/plain": [
       "     Unnamed: 0       ID    Salary           DOJ          DOL  \\\n",
       "6         train   947847  300000.0   8/1/14 0:00  5/1/15 0:00   \n",
       "18        train   711342  120000.0   1/1/14 0:00  6/1/14 0:00   \n",
       "24        train   963123  335000.0   6/1/14 0:00  6/1/15 0:00   \n",
       "25        train   350211  435000.0   9/1/12 0:00      present   \n",
       "31        train  1094324  340000.0   8/1/14 0:00  4/1/15 0:00   \n",
       "...         ...      ...       ...           ...          ...   \n",
       "3968      train   469012  360000.0   5/1/13 0:00  1/1/15 0:00   \n",
       "3979      train   212055  550000.0   7/1/13 0:00  4/1/14 0:00   \n",
       "3984      train   305041  480000.0  12/1/11 0:00      present   \n",
       "3985      train   358393  430000.0   3/1/13 0:00      present   \n",
       "3995      train   355888  320000.0   7/1/13 0:00      present   \n",
       "\n",
       "                      Designation    JobCity Gender            DOB  \\\n",
       "6          java software engineer   Banglore      m    2/1/93 0:00   \n",
       "18            data entry operator    Gurgaon      m   12/7/92 0:00   \n",
       "24             programmer analyst  Hyderabad      m   6/28/93 0:00   \n",
       "25                systems analyst    Gurgaon      f    3/2/91 0:00   \n",
       "31              software engineer  Bangalore      m  10/23/92 0:00   \n",
       "...                           ...        ...    ...            ...   \n",
       "3968            software engineer  Bangalore      f   9/30/90 0:00   \n",
       "3979            software engineer  Bangalore      m   7/22/89 0:00   \n",
       "3984            software engineer    Gurgaon      f   1/18/90 0:00   \n",
       "3985              system engineer    Gurgaon      f   5/14/90 0:00   \n",
       "3995  associate software engineer  Bangalore      m    7/3/91 0:00   \n",
       "\n",
       "      10percentage  ... ComputerScience  MechanicalEngg  ElectricalEngg  \\\n",
       "6            86.08  ...             346              -1              -1   \n",
       "18           65.00  ...              -1              -1              -1   \n",
       "24           88.00  ...             346              -1              -1   \n",
       "25           86.80  ...             438              -1              -1   \n",
       "31           77.20  ...             407              -1              -1   \n",
       "...            ...  ...             ...             ...             ...   \n",
       "3968         81.00  ...              -1              -1              -1   \n",
       "3979         69.16  ...              -1              -1              -1   \n",
       "3984         89.80  ...              -1              -1              -1   \n",
       "3985         90.40  ...              -1              -1              -1   \n",
       "3995         81.86  ...              -1              -1              -1   \n",
       "\n",
       "     TelecomEngg  CivilEngg  conscientiousness agreeableness extraversion  \\\n",
       "6             -1         -1             1.7081       -0.1054      -1.0379   \n",
       "18            -1         -1            -0.1590        0.3789       1.3933   \n",
       "24            -1         -1             0.4155        0.8027       0.1357   \n",
       "25            -1         -1             0.0464        1.2028      -0.9245   \n",
       "31            -1         -1            -0.0154        1.2114       1.0859   \n",
       "...          ...        ...                ...           ...          ...   \n",
       "3968          -1         -1             0.0464        0.3448      -0.3440   \n",
       "3979          -1         -1            -0.5719        0.5008      -0.4891   \n",
       "3984          -1         -1            -0.2628        0.1888       0.3817   \n",
       "3985          -1         -1             0.2782        0.3448       0.0914   \n",
       "3995          -1         -1            -1.5765       -1.5273      -1.5051   \n",
       "\n",
       "      nueroticism  openess_to_experience  \n",
       "6         -2.0092                -1.0872  \n",
       "18        -0.2344                 1.4386  \n",
       "24        -0.9950                -0.6692  \n",
       "25         0.5323                -0.2875  \n",
       "31        -1.5021                 0.2889  \n",
       "...           ...                    ...  \n",
       "3968       0.6204                 0.3444  \n",
       "3979       0.4148                -1.2354  \n",
       "3984      -0.2902                 1.6082  \n",
       "3985      -1.1422                -0.6035  \n",
       "3995      -1.3184                -0.7615  \n",
       "\n",
       "[1344 rows x 39 columns]"
      ]
     },
     "execution_count": 36,
     "metadata": {},
     "output_type": "execute_result"
    }
   ],
   "source": [
    "cse_data = data[data.Specialization == 'computer science & engineering']\n",
    "cse_data2 = data[data.Specialization == 'computer engineering']\n",
    "\n",
    "cse_data = pd.concat([cse_data, cse_data2], axis=0)\n",
    "cse_data"
   ]
  },
  {
   "cell_type": "code",
   "execution_count": 37,
   "id": "2e5fa59a-3cf5-4f14-976b-5830d383e8dc",
   "metadata": {},
   "outputs": [
    {
     "data": {
      "text/plain": [
       "software engineer                    247\n",
       "software developer                   126\n",
       "system engineer                       69\n",
       "programmer analyst                    52\n",
       "java software engineer                49\n",
       "java developer                        38\n",
       "software test engineer                37\n",
       "systems engineer                      36\n",
       "technical support engineer            33\n",
       "senior software engineer              27\n",
       "application developer                 26\n",
       "web developer                         25\n",
       "associate software engineer           22\n",
       "php developer                         22\n",
       "test engineer                         20\n",
       "project engineer                      20\n",
       "android developer                     18\n",
       "programmer                            18\n",
       ".net developer                        15\n",
       "business analyst                      14\n",
       "qa analyst                            11\n",
       "network engineer                      11\n",
       "asp.net developer                     11\n",
       "data analyst                          10\n",
       "software quality assurance tester      9\n",
       "senior systems engineer                9\n",
       "ios developer                          8\n",
       "customer service representative        8\n",
       "quality analyst                        8\n",
       "senior software developer              8\n",
       "Name: Designation, dtype: int64"
      ]
     },
     "execution_count": 37,
     "metadata": {},
     "output_type": "execute_result"
    }
   ],
   "source": [
    "cse_data['Designation'].value_counts()[:30]\n",
    "#Programming Analyst, Software Engineer, Hardware Engineer and Associate Engineer"
   ]
  },
  {
   "cell_type": "code",
   "execution_count": 38,
   "id": "a5d4d86a-e57c-474f-ab4a-bda3641e2e3c",
   "metadata": {},
   "outputs": [
    {
     "data": {
      "text/html": [
       "<div>\n",
       "<style scoped>\n",
       "    .dataframe tbody tr th:only-of-type {\n",
       "        vertical-align: middle;\n",
       "    }\n",
       "\n",
       "    .dataframe tbody tr th {\n",
       "        vertical-align: top;\n",
       "    }\n",
       "\n",
       "    .dataframe thead th {\n",
       "        text-align: right;\n",
       "    }\n",
       "</style>\n",
       "<table border=\"1\" class=\"dataframe\">\n",
       "  <thead>\n",
       "    <tr style=\"text-align: right;\">\n",
       "      <th></th>\n",
       "      <th>Unnamed: 0</th>\n",
       "      <th>ID</th>\n",
       "      <th>Salary</th>\n",
       "      <th>DOJ</th>\n",
       "      <th>DOL</th>\n",
       "      <th>Designation</th>\n",
       "      <th>JobCity</th>\n",
       "      <th>Gender</th>\n",
       "      <th>DOB</th>\n",
       "      <th>10percentage</th>\n",
       "      <th>...</th>\n",
       "      <th>ComputerScience</th>\n",
       "      <th>MechanicalEngg</th>\n",
       "      <th>ElectricalEngg</th>\n",
       "      <th>TelecomEngg</th>\n",
       "      <th>CivilEngg</th>\n",
       "      <th>conscientiousness</th>\n",
       "      <th>agreeableness</th>\n",
       "      <th>extraversion</th>\n",
       "      <th>nueroticism</th>\n",
       "      <th>openess_to_experience</th>\n",
       "    </tr>\n",
       "  </thead>\n",
       "  <tbody>\n",
       "    <tr>\n",
       "      <th>819</th>\n",
       "      <td>train</td>\n",
       "      <td>1068402</td>\n",
       "      <td>350000.0</td>\n",
       "      <td>4/1/14 0:00</td>\n",
       "      <td>present</td>\n",
       "      <td>associate engineer</td>\n",
       "      <td>Bangalore</td>\n",
       "      <td>m</td>\n",
       "      <td>6/16/93 0:00</td>\n",
       "      <td>74.83</td>\n",
       "      <td>...</td>\n",
       "      <td>407</td>\n",
       "      <td>-1</td>\n",
       "      <td>-1</td>\n",
       "      <td>-1</td>\n",
       "      <td>-1</td>\n",
       "      <td>0.2718</td>\n",
       "      <td>-0.7866</td>\n",
       "      <td>1.7007</td>\n",
       "      <td>-0.6147</td>\n",
       "      <td>0.8637</td>\n",
       "    </tr>\n",
       "    <tr>\n",
       "      <th>3134</th>\n",
       "      <td>train</td>\n",
       "      <td>831825</td>\n",
       "      <td>315000.0</td>\n",
       "      <td>3/1/15 0:00</td>\n",
       "      <td>present</td>\n",
       "      <td>associate engineer</td>\n",
       "      <td>Chennai</td>\n",
       "      <td>m</td>\n",
       "      <td>9/2/92 0:00</td>\n",
       "      <td>73.40</td>\n",
       "      <td>...</td>\n",
       "      <td>376</td>\n",
       "      <td>-1</td>\n",
       "      <td>-1</td>\n",
       "      <td>-1</td>\n",
       "      <td>-1</td>\n",
       "      <td>-0.5899</td>\n",
       "      <td>-1.6191</td>\n",
       "      <td>-0.7585</td>\n",
       "      <td>-0.4879</td>\n",
       "      <td>-3.3518</td>\n",
       "    </tr>\n",
       "    <tr>\n",
       "      <th>3771</th>\n",
       "      <td>train</td>\n",
       "      <td>655292</td>\n",
       "      <td>180000.0</td>\n",
       "      <td>9/1/14 0:00</td>\n",
       "      <td>present</td>\n",
       "      <td>associate engineer</td>\n",
       "      <td>pune</td>\n",
       "      <td>f</td>\n",
       "      <td>5/29/92 0:00</td>\n",
       "      <td>70.00</td>\n",
       "      <td>...</td>\n",
       "      <td>346</td>\n",
       "      <td>-1</td>\n",
       "      <td>-1</td>\n",
       "      <td>-1</td>\n",
       "      <td>-1</td>\n",
       "      <td>-0.3027</td>\n",
       "      <td>-0.7866</td>\n",
       "      <td>-0.1437</td>\n",
       "      <td>-0.8682</td>\n",
       "      <td>-0.2859</td>\n",
       "    </tr>\n",
       "  </tbody>\n",
       "</table>\n",
       "<p>3 rows × 39 columns</p>\n",
       "</div>"
      ],
      "text/plain": [
       "     Unnamed: 0       ID    Salary          DOJ      DOL         Designation  \\\n",
       "819       train  1068402  350000.0  4/1/14 0:00  present  associate engineer   \n",
       "3134      train   831825  315000.0  3/1/15 0:00  present  associate engineer   \n",
       "3771      train   655292  180000.0  9/1/14 0:00  present  associate engineer   \n",
       "\n",
       "        JobCity Gender           DOB  10percentage  ... ComputerScience  \\\n",
       "819   Bangalore      m  6/16/93 0:00         74.83  ...             407   \n",
       "3134    Chennai      m   9/2/92 0:00         73.40  ...             376   \n",
       "3771       pune      f  5/29/92 0:00         70.00  ...             346   \n",
       "\n",
       "      MechanicalEngg  ElectricalEngg TelecomEngg  CivilEngg  \\\n",
       "819               -1              -1          -1         -1   \n",
       "3134              -1              -1          -1         -1   \n",
       "3771              -1              -1          -1         -1   \n",
       "\n",
       "      conscientiousness agreeableness extraversion  nueroticism  \\\n",
       "819              0.2718       -0.7866       1.7007      -0.6147   \n",
       "3134            -0.5899       -1.6191      -0.7585      -0.4879   \n",
       "3771            -0.3027       -0.7866      -0.1437      -0.8682   \n",
       "\n",
       "      openess_to_experience  \n",
       "819                  0.8637  \n",
       "3134                -3.3518  \n",
       "3771                -0.2859  \n",
       "\n",
       "[3 rows x 39 columns]"
      ]
     },
     "execution_count": 38,
     "metadata": {},
     "output_type": "execute_result"
    }
   ],
   "source": [
    "cse_data[cse_data.Designation == 'associate engineer']"
   ]
  },
  {
   "cell_type": "code",
   "execution_count": 39,
   "id": "03654481-142c-4618-81ac-4700d59ed028",
   "metadata": {},
   "outputs": [],
   "source": [
    "cse_data1 = cse_data[cse_data.Designation == 'programmer analyst']\n",
    "cse_data2 = cse_data[cse_data.Designation == 'software engineer']\n",
    "cse_data3 = cse_data[cse_data.Designation == 'associate engineer']\n",
    "#cse_data4 = cse_data2.Designation == 'hardware engineer' ## no hardware engineer in the data\n",
    "\n",
    "cse_data = pd.concat([cse_data1, cse_data2, cse_data3], axis=0)\n",
    "#cse_data = pd.concat([cse_data, cse_data3], axis=0)"
   ]
  },
  {
   "cell_type": "code",
   "execution_count": 40,
   "id": "0d4c9573-9458-4f7d-aa24-f0961347d14f",
   "metadata": {},
   "outputs": [
    {
     "data": {
      "text/html": [
       "<div>\n",
       "<style scoped>\n",
       "    .dataframe tbody tr th:only-of-type {\n",
       "        vertical-align: middle;\n",
       "    }\n",
       "\n",
       "    .dataframe tbody tr th {\n",
       "        vertical-align: top;\n",
       "    }\n",
       "\n",
       "    .dataframe thead th {\n",
       "        text-align: right;\n",
       "    }\n",
       "</style>\n",
       "<table border=\"1\" class=\"dataframe\">\n",
       "  <thead>\n",
       "    <tr style=\"text-align: right;\">\n",
       "      <th></th>\n",
       "      <th>Unnamed: 0</th>\n",
       "      <th>ID</th>\n",
       "      <th>Salary</th>\n",
       "      <th>DOJ</th>\n",
       "      <th>DOL</th>\n",
       "      <th>Designation</th>\n",
       "      <th>JobCity</th>\n",
       "      <th>Gender</th>\n",
       "      <th>DOB</th>\n",
       "      <th>10percentage</th>\n",
       "      <th>...</th>\n",
       "      <th>ComputerScience</th>\n",
       "      <th>MechanicalEngg</th>\n",
       "      <th>ElectricalEngg</th>\n",
       "      <th>TelecomEngg</th>\n",
       "      <th>CivilEngg</th>\n",
       "      <th>conscientiousness</th>\n",
       "      <th>agreeableness</th>\n",
       "      <th>extraversion</th>\n",
       "      <th>nueroticism</th>\n",
       "      <th>openess_to_experience</th>\n",
       "    </tr>\n",
       "  </thead>\n",
       "  <tbody>\n",
       "    <tr>\n",
       "      <th>24</th>\n",
       "      <td>train</td>\n",
       "      <td>963123</td>\n",
       "      <td>335000.0</td>\n",
       "      <td>6/1/14 0:00</td>\n",
       "      <td>6/1/15 0:00</td>\n",
       "      <td>programmer analyst</td>\n",
       "      <td>Hyderabad</td>\n",
       "      <td>m</td>\n",
       "      <td>6/28/93 0:00</td>\n",
       "      <td>88.00</td>\n",
       "      <td>...</td>\n",
       "      <td>346</td>\n",
       "      <td>-1</td>\n",
       "      <td>-1</td>\n",
       "      <td>-1</td>\n",
       "      <td>-1</td>\n",
       "      <td>0.4155</td>\n",
       "      <td>0.8027</td>\n",
       "      <td>0.1357</td>\n",
       "      <td>-0.9950</td>\n",
       "      <td>-0.6692</td>\n",
       "    </tr>\n",
       "    <tr>\n",
       "      <th>473</th>\n",
       "      <td>train</td>\n",
       "      <td>818701</td>\n",
       "      <td>335000.0</td>\n",
       "      <td>5/1/14 0:00</td>\n",
       "      <td>present</td>\n",
       "      <td>programmer analyst</td>\n",
       "      <td>Chennai</td>\n",
       "      <td>m</td>\n",
       "      <td>12/15/89 0:00</td>\n",
       "      <td>66.00</td>\n",
       "      <td>...</td>\n",
       "      <td>530</td>\n",
       "      <td>-1</td>\n",
       "      <td>-1</td>\n",
       "      <td>-1</td>\n",
       "      <td>-1</td>\n",
       "      <td>0.5591</td>\n",
       "      <td>1.0449</td>\n",
       "      <td>-0.1437</td>\n",
       "      <td>-0.6147</td>\n",
       "      <td>-0.8608</td>\n",
       "    </tr>\n",
       "    <tr>\n",
       "      <th>530</th>\n",
       "      <td>train</td>\n",
       "      <td>414039</td>\n",
       "      <td>345000.0</td>\n",
       "      <td>2/1/14 0:00</td>\n",
       "      <td>4/1/15 0:00</td>\n",
       "      <td>programmer analyst</td>\n",
       "      <td>Pune</td>\n",
       "      <td>m</td>\n",
       "      <td>5/17/91 0:00</td>\n",
       "      <td>72.80</td>\n",
       "      <td>...</td>\n",
       "      <td>438</td>\n",
       "      <td>-1</td>\n",
       "      <td>-1</td>\n",
       "      <td>-1</td>\n",
       "      <td>-1</td>\n",
       "      <td>-1.6538</td>\n",
       "      <td>-0.2012</td>\n",
       "      <td>-0.2714</td>\n",
       "      <td>1.2374</td>\n",
       "      <td>-1.0774</td>\n",
       "    </tr>\n",
       "    <tr>\n",
       "      <th>595</th>\n",
       "      <td>train</td>\n",
       "      <td>1116466</td>\n",
       "      <td>180000.0</td>\n",
       "      <td>3/1/15 0:00</td>\n",
       "      <td>present</td>\n",
       "      <td>programmer analyst</td>\n",
       "      <td>Hyderabad</td>\n",
       "      <td>f</td>\n",
       "      <td>2/3/93 0:00</td>\n",
       "      <td>55.50</td>\n",
       "      <td>...</td>\n",
       "      <td>376</td>\n",
       "      <td>-1</td>\n",
       "      <td>-1</td>\n",
       "      <td>-1</td>\n",
       "      <td>-1</td>\n",
       "      <td>-1.3080</td>\n",
       "      <td>-2.1186</td>\n",
       "      <td>-1.2196</td>\n",
       "      <td>0.2727</td>\n",
       "      <td>-1.0524</td>\n",
       "    </tr>\n",
       "    <tr>\n",
       "      <th>767</th>\n",
       "      <td>train</td>\n",
       "      <td>693715</td>\n",
       "      <td>340000.0</td>\n",
       "      <td>4/1/14 0:00</td>\n",
       "      <td>present</td>\n",
       "      <td>programmer analyst</td>\n",
       "      <td>Chennai</td>\n",
       "      <td>m</td>\n",
       "      <td>2/1/91 0:00</td>\n",
       "      <td>88.50</td>\n",
       "      <td>...</td>\n",
       "      <td>469</td>\n",
       "      <td>-1</td>\n",
       "      <td>-1</td>\n",
       "      <td>-1</td>\n",
       "      <td>-1</td>\n",
       "      <td>0.9900</td>\n",
       "      <td>0.2124</td>\n",
       "      <td>-0.4511</td>\n",
       "      <td>-1.6289</td>\n",
       "      <td>-1.0524</td>\n",
       "    </tr>\n",
       "    <tr>\n",
       "      <th>...</th>\n",
       "      <td>...</td>\n",
       "      <td>...</td>\n",
       "      <td>...</td>\n",
       "      <td>...</td>\n",
       "      <td>...</td>\n",
       "      <td>...</td>\n",
       "      <td>...</td>\n",
       "      <td>...</td>\n",
       "      <td>...</td>\n",
       "      <td>...</td>\n",
       "      <td>...</td>\n",
       "      <td>...</td>\n",
       "      <td>...</td>\n",
       "      <td>...</td>\n",
       "      <td>...</td>\n",
       "      <td>...</td>\n",
       "      <td>...</td>\n",
       "      <td>...</td>\n",
       "      <td>...</td>\n",
       "      <td>...</td>\n",
       "      <td>...</td>\n",
       "    </tr>\n",
       "    <tr>\n",
       "      <th>3979</th>\n",
       "      <td>train</td>\n",
       "      <td>212055</td>\n",
       "      <td>550000.0</td>\n",
       "      <td>7/1/13 0:00</td>\n",
       "      <td>4/1/14 0:00</td>\n",
       "      <td>software engineer</td>\n",
       "      <td>Bangalore</td>\n",
       "      <td>m</td>\n",
       "      <td>7/22/89 0:00</td>\n",
       "      <td>69.16</td>\n",
       "      <td>...</td>\n",
       "      <td>-1</td>\n",
       "      <td>-1</td>\n",
       "      <td>-1</td>\n",
       "      <td>-1</td>\n",
       "      <td>-1</td>\n",
       "      <td>-0.5719</td>\n",
       "      <td>0.5008</td>\n",
       "      <td>-0.4891</td>\n",
       "      <td>0.4148</td>\n",
       "      <td>-1.2354</td>\n",
       "    </tr>\n",
       "    <tr>\n",
       "      <th>3984</th>\n",
       "      <td>train</td>\n",
       "      <td>305041</td>\n",
       "      <td>480000.0</td>\n",
       "      <td>12/1/11 0:00</td>\n",
       "      <td>present</td>\n",
       "      <td>software engineer</td>\n",
       "      <td>Gurgaon</td>\n",
       "      <td>f</td>\n",
       "      <td>1/18/90 0:00</td>\n",
       "      <td>89.80</td>\n",
       "      <td>...</td>\n",
       "      <td>-1</td>\n",
       "      <td>-1</td>\n",
       "      <td>-1</td>\n",
       "      <td>-1</td>\n",
       "      <td>-1</td>\n",
       "      <td>-0.2628</td>\n",
       "      <td>0.1888</td>\n",
       "      <td>0.3817</td>\n",
       "      <td>-0.2902</td>\n",
       "      <td>1.6082</td>\n",
       "    </tr>\n",
       "    <tr>\n",
       "      <th>819</th>\n",
       "      <td>train</td>\n",
       "      <td>1068402</td>\n",
       "      <td>350000.0</td>\n",
       "      <td>4/1/14 0:00</td>\n",
       "      <td>present</td>\n",
       "      <td>associate engineer</td>\n",
       "      <td>Bangalore</td>\n",
       "      <td>m</td>\n",
       "      <td>6/16/93 0:00</td>\n",
       "      <td>74.83</td>\n",
       "      <td>...</td>\n",
       "      <td>407</td>\n",
       "      <td>-1</td>\n",
       "      <td>-1</td>\n",
       "      <td>-1</td>\n",
       "      <td>-1</td>\n",
       "      <td>0.2718</td>\n",
       "      <td>-0.7866</td>\n",
       "      <td>1.7007</td>\n",
       "      <td>-0.6147</td>\n",
       "      <td>0.8637</td>\n",
       "    </tr>\n",
       "    <tr>\n",
       "      <th>3134</th>\n",
       "      <td>train</td>\n",
       "      <td>831825</td>\n",
       "      <td>315000.0</td>\n",
       "      <td>3/1/15 0:00</td>\n",
       "      <td>present</td>\n",
       "      <td>associate engineer</td>\n",
       "      <td>Chennai</td>\n",
       "      <td>m</td>\n",
       "      <td>9/2/92 0:00</td>\n",
       "      <td>73.40</td>\n",
       "      <td>...</td>\n",
       "      <td>376</td>\n",
       "      <td>-1</td>\n",
       "      <td>-1</td>\n",
       "      <td>-1</td>\n",
       "      <td>-1</td>\n",
       "      <td>-0.5899</td>\n",
       "      <td>-1.6191</td>\n",
       "      <td>-0.7585</td>\n",
       "      <td>-0.4879</td>\n",
       "      <td>-3.3518</td>\n",
       "    </tr>\n",
       "    <tr>\n",
       "      <th>3771</th>\n",
       "      <td>train</td>\n",
       "      <td>655292</td>\n",
       "      <td>180000.0</td>\n",
       "      <td>9/1/14 0:00</td>\n",
       "      <td>present</td>\n",
       "      <td>associate engineer</td>\n",
       "      <td>pune</td>\n",
       "      <td>f</td>\n",
       "      <td>5/29/92 0:00</td>\n",
       "      <td>70.00</td>\n",
       "      <td>...</td>\n",
       "      <td>346</td>\n",
       "      <td>-1</td>\n",
       "      <td>-1</td>\n",
       "      <td>-1</td>\n",
       "      <td>-1</td>\n",
       "      <td>-0.3027</td>\n",
       "      <td>-0.7866</td>\n",
       "      <td>-0.1437</td>\n",
       "      <td>-0.8682</td>\n",
       "      <td>-0.2859</td>\n",
       "    </tr>\n",
       "  </tbody>\n",
       "</table>\n",
       "<p>302 rows × 39 columns</p>\n",
       "</div>"
      ],
      "text/plain": [
       "     Unnamed: 0       ID    Salary           DOJ          DOL  \\\n",
       "24        train   963123  335000.0   6/1/14 0:00  6/1/15 0:00   \n",
       "473       train   818701  335000.0   5/1/14 0:00      present   \n",
       "530       train   414039  345000.0   2/1/14 0:00  4/1/15 0:00   \n",
       "595       train  1116466  180000.0   3/1/15 0:00      present   \n",
       "767       train   693715  340000.0   4/1/14 0:00      present   \n",
       "...         ...      ...       ...           ...          ...   \n",
       "3979      train   212055  550000.0   7/1/13 0:00  4/1/14 0:00   \n",
       "3984      train   305041  480000.0  12/1/11 0:00      present   \n",
       "819       train  1068402  350000.0   4/1/14 0:00      present   \n",
       "3134      train   831825  315000.0   3/1/15 0:00      present   \n",
       "3771      train   655292  180000.0   9/1/14 0:00      present   \n",
       "\n",
       "             Designation    JobCity Gender            DOB  10percentage  ...  \\\n",
       "24    programmer analyst  Hyderabad      m   6/28/93 0:00         88.00  ...   \n",
       "473   programmer analyst    Chennai      m  12/15/89 0:00         66.00  ...   \n",
       "530   programmer analyst       Pune      m   5/17/91 0:00         72.80  ...   \n",
       "595   programmer analyst  Hyderabad      f    2/3/93 0:00         55.50  ...   \n",
       "767   programmer analyst    Chennai      m    2/1/91 0:00         88.50  ...   \n",
       "...                  ...        ...    ...            ...           ...  ...   \n",
       "3979   software engineer  Bangalore      m   7/22/89 0:00         69.16  ...   \n",
       "3984   software engineer    Gurgaon      f   1/18/90 0:00         89.80  ...   \n",
       "819   associate engineer  Bangalore      m   6/16/93 0:00         74.83  ...   \n",
       "3134  associate engineer    Chennai      m    9/2/92 0:00         73.40  ...   \n",
       "3771  associate engineer       pune      f   5/29/92 0:00         70.00  ...   \n",
       "\n",
       "     ComputerScience  MechanicalEngg  ElectricalEngg TelecomEngg  CivilEngg  \\\n",
       "24               346              -1              -1          -1         -1   \n",
       "473              530              -1              -1          -1         -1   \n",
       "530              438              -1              -1          -1         -1   \n",
       "595              376              -1              -1          -1         -1   \n",
       "767              469              -1              -1          -1         -1   \n",
       "...              ...             ...             ...         ...        ...   \n",
       "3979              -1              -1              -1          -1         -1   \n",
       "3984              -1              -1              -1          -1         -1   \n",
       "819              407              -1              -1          -1         -1   \n",
       "3134             376              -1              -1          -1         -1   \n",
       "3771             346              -1              -1          -1         -1   \n",
       "\n",
       "      conscientiousness agreeableness extraversion  nueroticism  \\\n",
       "24               0.4155        0.8027       0.1357      -0.9950   \n",
       "473              0.5591        1.0449      -0.1437      -0.6147   \n",
       "530             -1.6538       -0.2012      -0.2714       1.2374   \n",
       "595             -1.3080       -2.1186      -1.2196       0.2727   \n",
       "767              0.9900        0.2124      -0.4511      -1.6289   \n",
       "...                 ...           ...          ...          ...   \n",
       "3979            -0.5719        0.5008      -0.4891       0.4148   \n",
       "3984            -0.2628        0.1888       0.3817      -0.2902   \n",
       "819              0.2718       -0.7866       1.7007      -0.6147   \n",
       "3134            -0.5899       -1.6191      -0.7585      -0.4879   \n",
       "3771            -0.3027       -0.7866      -0.1437      -0.8682   \n",
       "\n",
       "      openess_to_experience  \n",
       "24                  -0.6692  \n",
       "473                 -0.8608  \n",
       "530                 -1.0774  \n",
       "595                 -1.0524  \n",
       "767                 -1.0524  \n",
       "...                     ...  \n",
       "3979                -1.2354  \n",
       "3984                 1.6082  \n",
       "819                  0.8637  \n",
       "3134                -3.3518  \n",
       "3771                -0.2859  \n",
       "\n",
       "[302 rows x 39 columns]"
      ]
     },
     "execution_count": 40,
     "metadata": {},
     "output_type": "execute_result"
    }
   ],
   "source": [
    "cse_data"
   ]
  },
  {
   "cell_type": "code",
   "execution_count": 43,
   "id": "55cff6c1-33f3-40ca-bc20-9cb7b4358e52",
   "metadata": {},
   "outputs": [
    {
     "name": "stdout",
     "output_type": "stream",
     "text": [
      "Mean of given profile:  355082.7814569537\n",
      "Median:  335000.0\n",
      "Max:  1500000.0\n"
     ]
    }
   ],
   "source": [
    "print(\"Mean of given profile: \", cse_data.Salary.mean(), end ='\\n')\n",
    "print(\"Median: \", cse_data.Salary.median(), end='\\n')\n",
    "print(\"Max: \", cse_data.Salary.max(), end='\\n')"
   ]
  },
  {
   "cell_type": "code",
   "execution_count": null,
   "id": "e7704262-29b2-497d-b625-b2c98608e7d2",
   "metadata": {},
   "outputs": [],
   "source": []
  }
 ],
 "metadata": {
  "kernelspec": {
   "display_name": "Python 3 (ipykernel)",
   "language": "python",
   "name": "python3"
  },
  "language_info": {
   "codemirror_mode": {
    "name": "ipython",
    "version": 3
   },
   "file_extension": ".py",
   "mimetype": "text/x-python",
   "name": "python",
   "nbconvert_exporter": "python",
   "pygments_lexer": "ipython3",
   "version": "3.10.1"
  }
 },
 "nbformat": 4,
 "nbformat_minor": 5
}
