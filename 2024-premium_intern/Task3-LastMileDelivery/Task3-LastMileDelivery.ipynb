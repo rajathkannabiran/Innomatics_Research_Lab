{
 "cells": [
  {
   "cell_type": "code",
   "execution_count": 1,
   "id": "672c28bf-6e04-474b-afab-d9625cdfceff",
   "metadata": {},
   "outputs": [],
   "source": [
    "import numpy as np\n",
    "import pandas as pd"
   ]
  },
  {
   "cell_type": "code",
   "execution_count": 2,
   "id": "74901694-65cc-4789-828d-d29a33d455d5",
   "metadata": {},
   "outputs": [],
   "source": [
    "delivery = pd.read_csv(r'C:\\Users\\rajath.k\\Downloads\\Tasks\\Task3-diminos_data_v2\\deliveries.csv')\n",
    "order_item = pd.read_csv(r'C:\\Users\\rajath.k\\Downloads\\Tasks\\Task3-diminos_data_v2\\order_items.csv')\n",
    "orders = pd.read_csv(r'C:\\Users\\rajath.k\\Downloads\\Tasks\\Task3-diminos_data_v2\\orders.csv')\n",
    "products = pd.read_csv(r'C:\\Users\\rajath.k\\Downloads\\Tasks\\Task3-diminos_data_v2\\products.csv')"
   ]
  },
  {
   "cell_type": "code",
   "execution_count": 3,
   "id": "fe5cb65c-751c-4c86-a5c5-762b28fad0a5",
   "metadata": {},
   "outputs": [
    {
     "data": {
      "text/html": [
       "<div>\n",
       "<style scoped>\n",
       "    .dataframe tbody tr th:only-of-type {\n",
       "        vertical-align: middle;\n",
       "    }\n",
       "\n",
       "    .dataframe tbody tr th {\n",
       "        vertical-align: top;\n",
       "    }\n",
       "\n",
       "    .dataframe thead th {\n",
       "        text-align: right;\n",
       "    }\n",
       "</style>\n",
       "<table border=\"1\" class=\"dataframe\">\n",
       "  <thead>\n",
       "    <tr style=\"text-align: right;\">\n",
       "      <th></th>\n",
       "      <th>order_id</th>\n",
       "      <th>time_stamp</th>\n",
       "      <th>status</th>\n",
       "    </tr>\n",
       "  </thead>\n",
       "  <tbody>\n",
       "    <tr>\n",
       "      <th>0</th>\n",
       "      <td>321230114</td>\n",
       "      <td>2020-12-11 00:01:29.000000000</td>\n",
       "      <td>Pending</td>\n",
       "    </tr>\n",
       "    <tr>\n",
       "      <th>1</th>\n",
       "      <td>321230114</td>\n",
       "      <td>2020-12-11 00:06:29.000000000</td>\n",
       "      <td>Out For Delivery</td>\n",
       "    </tr>\n",
       "    <tr>\n",
       "      <th>2</th>\n",
       "      <td>321230114</td>\n",
       "      <td>2020-12-11 00:19:13.299151076</td>\n",
       "      <td>Delivered</td>\n",
       "    </tr>\n",
       "    <tr>\n",
       "      <th>3</th>\n",
       "      <td>321230115</td>\n",
       "      <td>2020-12-11 00:36:02.000000000</td>\n",
       "      <td>Pending</td>\n",
       "    </tr>\n",
       "    <tr>\n",
       "      <th>4</th>\n",
       "      <td>321230115</td>\n",
       "      <td>2020-12-11 00:41:02.000000000</td>\n",
       "      <td>Out For Delivery</td>\n",
       "    </tr>\n",
       "  </tbody>\n",
       "</table>\n",
       "</div>"
      ],
      "text/plain": [
       "    order_id                     time_stamp            status\n",
       "0  321230114  2020-12-11 00:01:29.000000000           Pending\n",
       "1  321230114  2020-12-11 00:06:29.000000000  Out For Delivery\n",
       "2  321230114  2020-12-11 00:19:13.299151076         Delivered\n",
       "3  321230115  2020-12-11 00:36:02.000000000           Pending\n",
       "4  321230115  2020-12-11 00:41:02.000000000  Out For Delivery"
      ]
     },
     "execution_count": 3,
     "metadata": {},
     "output_type": "execute_result"
    }
   ],
   "source": [
    "delivery.head()"
   ]
  },
  {
   "cell_type": "code",
   "execution_count": 4,
   "id": "fb68382f-4ead-4659-8289-5dede87e2129",
   "metadata": {},
   "outputs": [
    {
     "data": {
      "text/html": [
       "<div>\n",
       "<style scoped>\n",
       "    .dataframe tbody tr th:only-of-type {\n",
       "        vertical-align: middle;\n",
       "    }\n",
       "\n",
       "    .dataframe tbody tr th {\n",
       "        vertical-align: top;\n",
       "    }\n",
       "\n",
       "    .dataframe thead th {\n",
       "        text-align: right;\n",
       "    }\n",
       "</style>\n",
       "<table border=\"1\" class=\"dataframe\">\n",
       "  <thead>\n",
       "    <tr style=\"text-align: right;\">\n",
       "      <th></th>\n",
       "      <th>order_id</th>\n",
       "      <th>items_ordered</th>\n",
       "    </tr>\n",
       "  </thead>\n",
       "  <tbody>\n",
       "    <tr>\n",
       "      <th>0</th>\n",
       "      <td>321230114</td>\n",
       "      <td>['p_025', 'p_032', 'p_037']</td>\n",
       "    </tr>\n",
       "    <tr>\n",
       "      <th>1</th>\n",
       "      <td>321230115</td>\n",
       "      <td>['p_017', 'p_012']</td>\n",
       "    </tr>\n",
       "    <tr>\n",
       "      <th>2</th>\n",
       "      <td>321230116</td>\n",
       "      <td>['p_027', 'p_037']</td>\n",
       "    </tr>\n",
       "    <tr>\n",
       "      <th>3</th>\n",
       "      <td>321230117</td>\n",
       "      <td>['p_004', 'p_029']</td>\n",
       "    </tr>\n",
       "    <tr>\n",
       "      <th>4</th>\n",
       "      <td>321230118</td>\n",
       "      <td>['p_017', 'p_037']</td>\n",
       "    </tr>\n",
       "  </tbody>\n",
       "</table>\n",
       "</div>"
      ],
      "text/plain": [
       "    order_id                items_ordered\n",
       "0  321230114  ['p_025', 'p_032', 'p_037']\n",
       "1  321230115           ['p_017', 'p_012']\n",
       "2  321230116           ['p_027', 'p_037']\n",
       "3  321230117           ['p_004', 'p_029']\n",
       "4  321230118           ['p_017', 'p_037']"
      ]
     },
     "execution_count": 4,
     "metadata": {},
     "output_type": "execute_result"
    }
   ],
   "source": [
    "order_item.head()"
   ]
  },
  {
   "cell_type": "code",
   "execution_count": 5,
   "id": "beb7c0c4-9e4b-4c90-8a81-c28beb5030ef",
   "metadata": {},
   "outputs": [
    {
     "data": {
      "text/html": [
       "<div>\n",
       "<style scoped>\n",
       "    .dataframe tbody tr th:only-of-type {\n",
       "        vertical-align: middle;\n",
       "    }\n",
       "\n",
       "    .dataframe tbody tr th {\n",
       "        vertical-align: top;\n",
       "    }\n",
       "\n",
       "    .dataframe thead th {\n",
       "        text-align: right;\n",
       "    }\n",
       "</style>\n",
       "<table border=\"1\" class=\"dataframe\">\n",
       "  <thead>\n",
       "    <tr style=\"text-align: right;\">\n",
       "      <th></th>\n",
       "      <th>order_id</th>\n",
       "      <th>order_placed_at</th>\n",
       "    </tr>\n",
       "  </thead>\n",
       "  <tbody>\n",
       "    <tr>\n",
       "      <th>0</th>\n",
       "      <td>321230114</td>\n",
       "      <td>2020-12-11 00:01:29</td>\n",
       "    </tr>\n",
       "    <tr>\n",
       "      <th>1</th>\n",
       "      <td>321230115</td>\n",
       "      <td>2020-12-11 00:36:02</td>\n",
       "    </tr>\n",
       "    <tr>\n",
       "      <th>2</th>\n",
       "      <td>321230116</td>\n",
       "      <td>2020-12-11 00:55:01</td>\n",
       "    </tr>\n",
       "    <tr>\n",
       "      <th>3</th>\n",
       "      <td>321230117</td>\n",
       "      <td>2020-12-11 01:05:27</td>\n",
       "    </tr>\n",
       "    <tr>\n",
       "      <th>4</th>\n",
       "      <td>321230118</td>\n",
       "      <td>2020-12-11 01:14:20</td>\n",
       "    </tr>\n",
       "  </tbody>\n",
       "</table>\n",
       "</div>"
      ],
      "text/plain": [
       "    order_id      order_placed_at\n",
       "0  321230114  2020-12-11 00:01:29\n",
       "1  321230115  2020-12-11 00:36:02\n",
       "2  321230116  2020-12-11 00:55:01\n",
       "3  321230117  2020-12-11 01:05:27\n",
       "4  321230118  2020-12-11 01:14:20"
      ]
     },
     "execution_count": 5,
     "metadata": {},
     "output_type": "execute_result"
    }
   ],
   "source": [
    "orders.head()"
   ]
  },
  {
   "cell_type": "code",
   "execution_count": 6,
   "id": "aaa3ea85-1f0e-4fac-bf39-9491230c61ce",
   "metadata": {},
   "outputs": [
    {
     "data": {
      "text/html": [
       "<div>\n",
       "<style scoped>\n",
       "    .dataframe tbody tr th:only-of-type {\n",
       "        vertical-align: middle;\n",
       "    }\n",
       "\n",
       "    .dataframe tbody tr th {\n",
       "        vertical-align: top;\n",
       "    }\n",
       "\n",
       "    .dataframe thead th {\n",
       "        text-align: right;\n",
       "    }\n",
       "</style>\n",
       "<table border=\"1\" class=\"dataframe\">\n",
       "  <thead>\n",
       "    <tr style=\"text-align: right;\">\n",
       "      <th></th>\n",
       "      <th>item_id</th>\n",
       "      <th>category</th>\n",
       "      <th>Item</th>\n",
       "      <th>Size</th>\n",
       "      <th>Price</th>\n",
       "    </tr>\n",
       "  </thead>\n",
       "  <tbody>\n",
       "    <tr>\n",
       "      <th>0</th>\n",
       "      <td>p_001</td>\n",
       "      <td>Veg</td>\n",
       "      <td>Margherita</td>\n",
       "      <td>Regular</td>\n",
       "      <td>109</td>\n",
       "    </tr>\n",
       "    <tr>\n",
       "      <th>1</th>\n",
       "      <td>p_002</td>\n",
       "      <td>Veg</td>\n",
       "      <td>Margherita</td>\n",
       "      <td>Medium</td>\n",
       "      <td>245</td>\n",
       "    </tr>\n",
       "    <tr>\n",
       "      <th>2</th>\n",
       "      <td>p_003</td>\n",
       "      <td>Veg</td>\n",
       "      <td>Margherita</td>\n",
       "      <td>Large</td>\n",
       "      <td>455</td>\n",
       "    </tr>\n",
       "    <tr>\n",
       "      <th>3</th>\n",
       "      <td>p_004</td>\n",
       "      <td>Veg</td>\n",
       "      <td>Double Cheese Margherita</td>\n",
       "      <td>Regular</td>\n",
       "      <td>215</td>\n",
       "    </tr>\n",
       "    <tr>\n",
       "      <th>4</th>\n",
       "      <td>p_005</td>\n",
       "      <td>Veg</td>\n",
       "      <td>Double Cheese Margherita</td>\n",
       "      <td>Medium</td>\n",
       "      <td>385</td>\n",
       "    </tr>\n",
       "  </tbody>\n",
       "</table>\n",
       "</div>"
      ],
      "text/plain": [
       "  item_id category                      Item     Size  Price\n",
       "0   p_001      Veg                Margherita  Regular    109\n",
       "1   p_002      Veg                Margherita   Medium    245\n",
       "2   p_003      Veg                Margherita    Large    455\n",
       "3   p_004      Veg  Double Cheese Margherita  Regular    215\n",
       "4   p_005      Veg  Double Cheese Margherita   Medium    385"
      ]
     },
     "execution_count": 6,
     "metadata": {},
     "output_type": "execute_result"
    }
   ],
   "source": [
    "products.head()"
   ]
  },
  {
   "cell_type": "markdown",
   "id": "ce78cb95-3794-41f0-8ce1-ce509d56c866",
   "metadata": {},
   "source": [
    "### Average Delivery Time (in minutes)"
   ]
  },
  {
   "cell_type": "code",
   "execution_count": 7,
   "id": "e6a4a18d-cf18-46b1-aac5-7e557316ada9",
   "metadata": {},
   "outputs": [
    {
     "data": {
      "text/html": [
       "<div>\n",
       "<style scoped>\n",
       "    .dataframe tbody tr th:only-of-type {\n",
       "        vertical-align: middle;\n",
       "    }\n",
       "\n",
       "    .dataframe tbody tr th {\n",
       "        vertical-align: top;\n",
       "    }\n",
       "\n",
       "    .dataframe thead th {\n",
       "        text-align: right;\n",
       "    }\n",
       "</style>\n",
       "<table border=\"1\" class=\"dataframe\">\n",
       "  <thead>\n",
       "    <tr style=\"text-align: right;\">\n",
       "      <th></th>\n",
       "      <th>order_id</th>\n",
       "      <th>order_placed_at</th>\n",
       "    </tr>\n",
       "  </thead>\n",
       "  <tbody>\n",
       "    <tr>\n",
       "      <th>0</th>\n",
       "      <td>321230114</td>\n",
       "      <td>2020-12-11 00:01:29</td>\n",
       "    </tr>\n",
       "    <tr>\n",
       "      <th>1</th>\n",
       "      <td>321230115</td>\n",
       "      <td>2020-12-11 00:36:02</td>\n",
       "    </tr>\n",
       "    <tr>\n",
       "      <th>2</th>\n",
       "      <td>321230116</td>\n",
       "      <td>2020-12-11 00:55:01</td>\n",
       "    </tr>\n",
       "    <tr>\n",
       "      <th>3</th>\n",
       "      <td>321230117</td>\n",
       "      <td>2020-12-11 01:05:27</td>\n",
       "    </tr>\n",
       "    <tr>\n",
       "      <th>4</th>\n",
       "      <td>321230118</td>\n",
       "      <td>2020-12-11 01:14:20</td>\n",
       "    </tr>\n",
       "    <tr>\n",
       "      <th>...</th>\n",
       "      <td>...</td>\n",
       "      <td>...</td>\n",
       "    </tr>\n",
       "    <tr>\n",
       "      <th>454331</th>\n",
       "      <td>321684445</td>\n",
       "      <td>2024-01-31 23:27:51</td>\n",
       "    </tr>\n",
       "    <tr>\n",
       "      <th>454332</th>\n",
       "      <td>321684446</td>\n",
       "      <td>2024-01-31 23:40:14</td>\n",
       "    </tr>\n",
       "    <tr>\n",
       "      <th>454333</th>\n",
       "      <td>321684447</td>\n",
       "      <td>2024-01-31 23:36:08</td>\n",
       "    </tr>\n",
       "    <tr>\n",
       "      <th>454334</th>\n",
       "      <td>321684448</td>\n",
       "      <td>2024-01-31 23:58:05</td>\n",
       "    </tr>\n",
       "    <tr>\n",
       "      <th>454335</th>\n",
       "      <td>321684449</td>\n",
       "      <td>2024-01-31 23:55:46</td>\n",
       "    </tr>\n",
       "  </tbody>\n",
       "</table>\n",
       "<p>454336 rows × 2 columns</p>\n",
       "</div>"
      ],
      "text/plain": [
       "         order_id      order_placed_at\n",
       "0       321230114  2020-12-11 00:01:29\n",
       "1       321230115  2020-12-11 00:36:02\n",
       "2       321230116  2020-12-11 00:55:01\n",
       "3       321230117  2020-12-11 01:05:27\n",
       "4       321230118  2020-12-11 01:14:20\n",
       "...           ...                  ...\n",
       "454331  321684445  2024-01-31 23:27:51\n",
       "454332  321684446  2024-01-31 23:40:14\n",
       "454333  321684447  2024-01-31 23:36:08\n",
       "454334  321684448  2024-01-31 23:58:05\n",
       "454335  321684449  2024-01-31 23:55:46\n",
       "\n",
       "[454336 rows x 2 columns]"
      ]
     },
     "execution_count": 7,
     "metadata": {},
     "output_type": "execute_result"
    }
   ],
   "source": [
    "orders"
   ]
  },
  {
   "cell_type": "code",
   "execution_count": 8,
   "id": "37f02905-8901-4a4f-a566-ad870ef16360",
   "metadata": {},
   "outputs": [],
   "source": [
    "arr = delivery[delivery.status == 'Delivered'].sort_values(by='order_id').time_stamp\n",
    "#arr"
   ]
  },
  {
   "cell_type": "code",
   "execution_count": 9,
   "id": "d9ae9ddf-8b5e-4ed9-b436-e113a7f4b07c",
   "metadata": {},
   "outputs": [
    {
     "data": {
      "text/plain": [
       "(454336, 1)"
      ]
     },
     "execution_count": 9,
     "metadata": {},
     "output_type": "execute_result"
    }
   ],
   "source": [
    "d_time_arr = arr.to_numpy()\n",
    "d_time_arr = pd.DataFrame(d_time_arr)\n",
    "d_time_arr.shape"
   ]
  },
  {
   "cell_type": "code",
   "execution_count": 10,
   "id": "55fd44a9-ecc6-4917-9437-585a1d297c97",
   "metadata": {},
   "outputs": [
    {
     "data": {
      "text/plain": [
       "(454336, 3)"
      ]
     },
     "execution_count": 10,
     "metadata": {},
     "output_type": "execute_result"
    }
   ],
   "source": [
    "new_orders = orders.sort_values(by='order_id')\n",
    "new_orders['delivered_at'] = d_time_arr\n",
    "new_orders.shape"
   ]
  },
  {
   "cell_type": "code",
   "execution_count": 11,
   "id": "da362e4a-f71b-4b3d-913b-b6f0030bed2c",
   "metadata": {},
   "outputs": [],
   "source": [
    "new_orders['order_placed_at'] = pd.to_datetime(new_orders['order_placed_at'])\n",
    "new_orders['delivered_at'] = pd.to_datetime(new_orders['delivered_at'])"
   ]
  },
  {
   "cell_type": "code",
   "execution_count": 12,
   "id": "7fd89195-0c49-493c-96b3-c824f9be7e98",
   "metadata": {},
   "outputs": [
    {
     "name": "stdout",
     "output_type": "stream",
     "text": [
      "<class 'pandas.core.frame.DataFrame'>\n",
      "Int64Index: 454336 entries, 0 to 454335\n",
      "Data columns (total 3 columns):\n",
      " #   Column           Non-Null Count   Dtype         \n",
      "---  ------           --------------   -----         \n",
      " 0   order_id         454336 non-null  int64         \n",
      " 1   order_placed_at  454336 non-null  datetime64[ns]\n",
      " 2   delivered_at     454336 non-null  datetime64[ns]\n",
      "dtypes: datetime64[ns](2), int64(1)\n",
      "memory usage: 13.9 MB\n"
     ]
    }
   ],
   "source": [
    "new_orders.info()"
   ]
  },
  {
   "cell_type": "code",
   "execution_count": 13,
   "id": "0f255126-1248-4de7-bb4c-1686b8379a0d",
   "metadata": {},
   "outputs": [],
   "source": [
    "new_orders['delivery_time'] = (new_orders['delivered_at'] - new_orders['order_placed_at']) / pd.Timedelta(minutes=1)"
   ]
  },
  {
   "cell_type": "code",
   "execution_count": 14,
   "id": "98e86791-a02e-492a-ad95-bdae4df00b1d",
   "metadata": {},
   "outputs": [
    {
     "data": {
      "text/html": [
       "<div>\n",
       "<style scoped>\n",
       "    .dataframe tbody tr th:only-of-type {\n",
       "        vertical-align: middle;\n",
       "    }\n",
       "\n",
       "    .dataframe tbody tr th {\n",
       "        vertical-align: top;\n",
       "    }\n",
       "\n",
       "    .dataframe thead th {\n",
       "        text-align: right;\n",
       "    }\n",
       "</style>\n",
       "<table border=\"1\" class=\"dataframe\">\n",
       "  <thead>\n",
       "    <tr style=\"text-align: right;\">\n",
       "      <th></th>\n",
       "      <th>order_id</th>\n",
       "      <th>order_placed_at</th>\n",
       "      <th>delivered_at</th>\n",
       "      <th>delivery_time</th>\n",
       "    </tr>\n",
       "  </thead>\n",
       "  <tbody>\n",
       "    <tr>\n",
       "      <th>0</th>\n",
       "      <td>321230114</td>\n",
       "      <td>2020-12-11 00:01:29</td>\n",
       "      <td>2020-12-11 00:19:13.299151076</td>\n",
       "      <td>17.738319</td>\n",
       "    </tr>\n",
       "    <tr>\n",
       "      <th>1</th>\n",
       "      <td>321230115</td>\n",
       "      <td>2020-12-11 00:36:02</td>\n",
       "      <td>2020-12-11 00:59:18.054846609</td>\n",
       "      <td>23.267581</td>\n",
       "    </tr>\n",
       "    <tr>\n",
       "      <th>2</th>\n",
       "      <td>321230116</td>\n",
       "      <td>2020-12-11 00:55:01</td>\n",
       "      <td>2020-12-11 01:13:52.153042625</td>\n",
       "      <td>18.852551</td>\n",
       "    </tr>\n",
       "    <tr>\n",
       "      <th>3</th>\n",
       "      <td>321230117</td>\n",
       "      <td>2020-12-11 01:05:27</td>\n",
       "      <td>2020-12-11 01:22:44.430088094</td>\n",
       "      <td>17.290501</td>\n",
       "    </tr>\n",
       "    <tr>\n",
       "      <th>4</th>\n",
       "      <td>321230118</td>\n",
       "      <td>2020-12-11 01:14:20</td>\n",
       "      <td>2020-12-11 01:32:27.488575946</td>\n",
       "      <td>18.124810</td>\n",
       "    </tr>\n",
       "    <tr>\n",
       "      <th>...</th>\n",
       "      <td>...</td>\n",
       "      <td>...</td>\n",
       "      <td>...</td>\n",
       "      <td>...</td>\n",
       "    </tr>\n",
       "    <tr>\n",
       "      <th>454331</th>\n",
       "      <td>321684445</td>\n",
       "      <td>2024-01-31 23:27:51</td>\n",
       "      <td>2024-01-31 23:45:54.185192716</td>\n",
       "      <td>18.053087</td>\n",
       "    </tr>\n",
       "    <tr>\n",
       "      <th>454332</th>\n",
       "      <td>321684446</td>\n",
       "      <td>2024-01-31 23:40:14</td>\n",
       "      <td>2024-01-31 23:58:08.494812502</td>\n",
       "      <td>17.908247</td>\n",
       "    </tr>\n",
       "    <tr>\n",
       "      <th>454333</th>\n",
       "      <td>321684447</td>\n",
       "      <td>2024-01-31 23:36:08</td>\n",
       "      <td>2024-01-31 23:56:35.426400154</td>\n",
       "      <td>20.457107</td>\n",
       "    </tr>\n",
       "    <tr>\n",
       "      <th>454334</th>\n",
       "      <td>321684448</td>\n",
       "      <td>2024-01-31 23:58:05</td>\n",
       "      <td>2024-02-01 00:17:50.996900711</td>\n",
       "      <td>19.766615</td>\n",
       "    </tr>\n",
       "    <tr>\n",
       "      <th>454335</th>\n",
       "      <td>321684449</td>\n",
       "      <td>2024-01-31 23:55:46</td>\n",
       "      <td>2024-02-01 00:14:56.997433391</td>\n",
       "      <td>19.183291</td>\n",
       "    </tr>\n",
       "  </tbody>\n",
       "</table>\n",
       "<p>454336 rows × 4 columns</p>\n",
       "</div>"
      ],
      "text/plain": [
       "         order_id     order_placed_at                  delivered_at  \\\n",
       "0       321230114 2020-12-11 00:01:29 2020-12-11 00:19:13.299151076   \n",
       "1       321230115 2020-12-11 00:36:02 2020-12-11 00:59:18.054846609   \n",
       "2       321230116 2020-12-11 00:55:01 2020-12-11 01:13:52.153042625   \n",
       "3       321230117 2020-12-11 01:05:27 2020-12-11 01:22:44.430088094   \n",
       "4       321230118 2020-12-11 01:14:20 2020-12-11 01:32:27.488575946   \n",
       "...           ...                 ...                           ...   \n",
       "454331  321684445 2024-01-31 23:27:51 2024-01-31 23:45:54.185192716   \n",
       "454332  321684446 2024-01-31 23:40:14 2024-01-31 23:58:08.494812502   \n",
       "454333  321684447 2024-01-31 23:36:08 2024-01-31 23:56:35.426400154   \n",
       "454334  321684448 2024-01-31 23:58:05 2024-02-01 00:17:50.996900711   \n",
       "454335  321684449 2024-01-31 23:55:46 2024-02-01 00:14:56.997433391   \n",
       "\n",
       "        delivery_time  \n",
       "0           17.738319  \n",
       "1           23.267581  \n",
       "2           18.852551  \n",
       "3           17.290501  \n",
       "4           18.124810  \n",
       "...               ...  \n",
       "454331      18.053087  \n",
       "454332      17.908247  \n",
       "454333      20.457107  \n",
       "454334      19.766615  \n",
       "454335      19.183291  \n",
       "\n",
       "[454336 rows x 4 columns]"
      ]
     },
     "execution_count": 14,
     "metadata": {},
     "output_type": "execute_result"
    }
   ],
   "source": [
    "new_orders"
   ]
  },
  {
   "cell_type": "code",
   "execution_count": 15,
   "id": "8d696bde-3fec-463f-9b14-942a429e5c35",
   "metadata": {},
   "outputs": [
    {
     "data": {
      "text/html": [
       "<div>\n",
       "<style scoped>\n",
       "    .dataframe tbody tr th:only-of-type {\n",
       "        vertical-align: middle;\n",
       "    }\n",
       "\n",
       "    .dataframe tbody tr th {\n",
       "        vertical-align: top;\n",
       "    }\n",
       "\n",
       "    .dataframe thead th {\n",
       "        text-align: right;\n",
       "    }\n",
       "</style>\n",
       "<table border=\"1\" class=\"dataframe\">\n",
       "  <thead>\n",
       "    <tr style=\"text-align: right;\">\n",
       "      <th></th>\n",
       "      <th>order_id</th>\n",
       "      <th>delivery_time</th>\n",
       "    </tr>\n",
       "  </thead>\n",
       "  <tbody>\n",
       "    <tr>\n",
       "      <th>count</th>\n",
       "      <td>4.543360e+05</td>\n",
       "      <td>454336.000000</td>\n",
       "    </tr>\n",
       "    <tr>\n",
       "      <th>mean</th>\n",
       "      <td>3.214573e+08</td>\n",
       "      <td>20.647561</td>\n",
       "    </tr>\n",
       "    <tr>\n",
       "      <th>std</th>\n",
       "      <td>1.311557e+05</td>\n",
       "      <td>3.007652</td>\n",
       "    </tr>\n",
       "    <tr>\n",
       "      <th>min</th>\n",
       "      <td>3.212301e+08</td>\n",
       "      <td>15.368415</td>\n",
       "    </tr>\n",
       "    <tr>\n",
       "      <th>25%</th>\n",
       "      <td>3.213437e+08</td>\n",
       "      <td>18.560568</td>\n",
       "    </tr>\n",
       "    <tr>\n",
       "      <th>50%</th>\n",
       "      <td>3.214573e+08</td>\n",
       "      <td>19.981662</td>\n",
       "    </tr>\n",
       "    <tr>\n",
       "      <th>75%</th>\n",
       "      <td>3.215709e+08</td>\n",
       "      <td>21.979704</td>\n",
       "    </tr>\n",
       "    <tr>\n",
       "      <th>max</th>\n",
       "      <td>3.216844e+08</td>\n",
       "      <td>62.912078</td>\n",
       "    </tr>\n",
       "  </tbody>\n",
       "</table>\n",
       "</div>"
      ],
      "text/plain": [
       "           order_id  delivery_time\n",
       "count  4.543360e+05  454336.000000\n",
       "mean   3.214573e+08      20.647561\n",
       "std    1.311557e+05       3.007652\n",
       "min    3.212301e+08      15.368415\n",
       "25%    3.213437e+08      18.560568\n",
       "50%    3.214573e+08      19.981662\n",
       "75%    3.215709e+08      21.979704\n",
       "max    3.216844e+08      62.912078"
      ]
     },
     "execution_count": 15,
     "metadata": {},
     "output_type": "execute_result"
    }
   ],
   "source": [
    "new_orders.describe()"
   ]
  },
  {
   "cell_type": "code",
   "execution_count": null,
   "id": "2a66c2d0-737d-468f-9e1e-bb58fa0a909e",
   "metadata": {},
   "outputs": [],
   "source": []
  },
  {
   "cell_type": "markdown",
   "id": "91ab14c4-a2a0-4717-a577-223629710746",
   "metadata": {},
   "source": [
    "### 99th Percentile Delivery Time"
   ]
  },
  {
   "cell_type": "code",
   "execution_count": 16,
   "id": "fa47079e-5f33-4cc7-9a05-1f32154dc6ef",
   "metadata": {},
   "outputs": [
    {
     "data": {
      "text/plain": [
       "30.895424588832544"
      ]
     },
     "execution_count": 16,
     "metadata": {},
     "output_type": "execute_result"
    }
   ],
   "source": [
    "new_orders['delivery_time'].quantile(0.99)"
   ]
  },
  {
   "cell_type": "markdown",
   "id": "f1e0721c-7129-4056-adef-4480a8be8596",
   "metadata": {},
   "source": [
    "### Order with max Delivery Time"
   ]
  },
  {
   "cell_type": "code",
   "execution_count": 17,
   "id": "7e8f5793-51a9-4ffe-92ab-39fdc89d97f0",
   "metadata": {},
   "outputs": [
    {
     "data": {
      "text/plain": [
       "398935    62.912078\n",
       "27227     58.067802\n",
       "18620     57.142915\n",
       "179126    55.920903\n",
       "242265    55.002177\n",
       "            ...    \n",
       "271683    15.566000\n",
       "429475    15.534010\n",
       "296923    15.529763\n",
       "11101     15.491267\n",
       "254166    15.368415\n",
       "Name: delivery_time, Length: 454336, dtype: float64"
      ]
     },
     "execution_count": 17,
     "metadata": {},
     "output_type": "execute_result"
    }
   ],
   "source": [
    "new_orders['delivery_time'].sort_values(ascending=False)"
   ]
  },
  {
   "cell_type": "markdown",
   "id": "7bafa2df-01e0-491c-bb94-717e2b4794f6",
   "metadata": {},
   "source": [
    "### No of Pizzas ordered b/w Jan1 & Jan31, 2024"
   ]
  },
  {
   "cell_type": "code",
   "execution_count": 18,
   "id": "91c7c61b-9088-4fdd-be50-e2e4ae9dc905",
   "metadata": {},
   "outputs": [
    {
     "data": {
      "text/html": [
       "<div>\n",
       "<style scoped>\n",
       "    .dataframe tbody tr th:only-of-type {\n",
       "        vertical-align: middle;\n",
       "    }\n",
       "\n",
       "    .dataframe tbody tr th {\n",
       "        vertical-align: top;\n",
       "    }\n",
       "\n",
       "    .dataframe thead th {\n",
       "        text-align: right;\n",
       "    }\n",
       "</style>\n",
       "<table border=\"1\" class=\"dataframe\">\n",
       "  <thead>\n",
       "    <tr style=\"text-align: right;\">\n",
       "      <th></th>\n",
       "      <th>order_id</th>\n",
       "      <th>order_placed_at</th>\n",
       "    </tr>\n",
       "  </thead>\n",
       "  <tbody>\n",
       "    <tr>\n",
       "      <th>0</th>\n",
       "      <td>321230114</td>\n",
       "      <td>2020-12-11 00:01:29</td>\n",
       "    </tr>\n",
       "    <tr>\n",
       "      <th>1</th>\n",
       "      <td>321230115</td>\n",
       "      <td>2020-12-11 00:36:02</td>\n",
       "    </tr>\n",
       "    <tr>\n",
       "      <th>2</th>\n",
       "      <td>321230116</td>\n",
       "      <td>2020-12-11 00:55:01</td>\n",
       "    </tr>\n",
       "    <tr>\n",
       "      <th>3</th>\n",
       "      <td>321230117</td>\n",
       "      <td>2020-12-11 01:05:27</td>\n",
       "    </tr>\n",
       "    <tr>\n",
       "      <th>4</th>\n",
       "      <td>321230118</td>\n",
       "      <td>2020-12-11 01:14:20</td>\n",
       "    </tr>\n",
       "    <tr>\n",
       "      <th>...</th>\n",
       "      <td>...</td>\n",
       "      <td>...</td>\n",
       "    </tr>\n",
       "    <tr>\n",
       "      <th>454331</th>\n",
       "      <td>321684445</td>\n",
       "      <td>2024-01-31 23:27:51</td>\n",
       "    </tr>\n",
       "    <tr>\n",
       "      <th>454332</th>\n",
       "      <td>321684446</td>\n",
       "      <td>2024-01-31 23:40:14</td>\n",
       "    </tr>\n",
       "    <tr>\n",
       "      <th>454333</th>\n",
       "      <td>321684447</td>\n",
       "      <td>2024-01-31 23:36:08</td>\n",
       "    </tr>\n",
       "    <tr>\n",
       "      <th>454334</th>\n",
       "      <td>321684448</td>\n",
       "      <td>2024-01-31 23:58:05</td>\n",
       "    </tr>\n",
       "    <tr>\n",
       "      <th>454335</th>\n",
       "      <td>321684449</td>\n",
       "      <td>2024-01-31 23:55:46</td>\n",
       "    </tr>\n",
       "  </tbody>\n",
       "</table>\n",
       "<p>454336 rows × 2 columns</p>\n",
       "</div>"
      ],
      "text/plain": [
       "         order_id      order_placed_at\n",
       "0       321230114  2020-12-11 00:01:29\n",
       "1       321230115  2020-12-11 00:36:02\n",
       "2       321230116  2020-12-11 00:55:01\n",
       "3       321230117  2020-12-11 01:05:27\n",
       "4       321230118  2020-12-11 01:14:20\n",
       "...           ...                  ...\n",
       "454331  321684445  2024-01-31 23:27:51\n",
       "454332  321684446  2024-01-31 23:40:14\n",
       "454333  321684447  2024-01-31 23:36:08\n",
       "454334  321684448  2024-01-31 23:58:05\n",
       "454335  321684449  2024-01-31 23:55:46\n",
       "\n",
       "[454336 rows x 2 columns]"
      ]
     },
     "execution_count": 18,
     "metadata": {},
     "output_type": "execute_result"
    }
   ],
   "source": [
    "orders"
   ]
  },
  {
   "cell_type": "code",
   "execution_count": 19,
   "id": "abf75aeb-59fe-40f7-aee9-aabe4385214c",
   "metadata": {},
   "outputs": [
    {
     "data": {
      "text/html": [
       "<div>\n",
       "<style scoped>\n",
       "    .dataframe tbody tr th:only-of-type {\n",
       "        vertical-align: middle;\n",
       "    }\n",
       "\n",
       "    .dataframe tbody tr th {\n",
       "        vertical-align: top;\n",
       "    }\n",
       "\n",
       "    .dataframe thead th {\n",
       "        text-align: right;\n",
       "    }\n",
       "</style>\n",
       "<table border=\"1\" class=\"dataframe\">\n",
       "  <thead>\n",
       "    <tr style=\"text-align: right;\">\n",
       "      <th></th>\n",
       "      <th>order_id</th>\n",
       "      <th>order_placed_at</th>\n",
       "      <th>items_ordered</th>\n",
       "    </tr>\n",
       "  </thead>\n",
       "  <tbody>\n",
       "    <tr>\n",
       "      <th>0</th>\n",
       "      <td>321230114</td>\n",
       "      <td>2020-12-11 00:01:29</td>\n",
       "      <td>['p_025', 'p_032', 'p_037']</td>\n",
       "    </tr>\n",
       "    <tr>\n",
       "      <th>1</th>\n",
       "      <td>321230115</td>\n",
       "      <td>2020-12-11 00:36:02</td>\n",
       "      <td>['p_017', 'p_012']</td>\n",
       "    </tr>\n",
       "    <tr>\n",
       "      <th>2</th>\n",
       "      <td>321230116</td>\n",
       "      <td>2020-12-11 00:55:01</td>\n",
       "      <td>['p_027', 'p_037']</td>\n",
       "    </tr>\n",
       "    <tr>\n",
       "      <th>3</th>\n",
       "      <td>321230117</td>\n",
       "      <td>2020-12-11 01:05:27</td>\n",
       "      <td>['p_004', 'p_029']</td>\n",
       "    </tr>\n",
       "    <tr>\n",
       "      <th>4</th>\n",
       "      <td>321230118</td>\n",
       "      <td>2020-12-11 01:14:20</td>\n",
       "      <td>['p_017', 'p_037']</td>\n",
       "    </tr>\n",
       "    <tr>\n",
       "      <th>...</th>\n",
       "      <td>...</td>\n",
       "      <td>...</td>\n",
       "      <td>...</td>\n",
       "    </tr>\n",
       "    <tr>\n",
       "      <th>454331</th>\n",
       "      <td>321684445</td>\n",
       "      <td>2024-01-31 23:27:51</td>\n",
       "      <td>['p_002', 'p_006', 'p_037']</td>\n",
       "    </tr>\n",
       "    <tr>\n",
       "      <th>454332</th>\n",
       "      <td>321684446</td>\n",
       "      <td>2024-01-31 23:40:14</td>\n",
       "      <td>['p_015', 'p_013']</td>\n",
       "    </tr>\n",
       "    <tr>\n",
       "      <th>454333</th>\n",
       "      <td>321684447</td>\n",
       "      <td>2024-01-31 23:36:08</td>\n",
       "      <td>['p_009', 'p_016']</td>\n",
       "    </tr>\n",
       "    <tr>\n",
       "      <th>454334</th>\n",
       "      <td>321684448</td>\n",
       "      <td>2024-01-31 23:58:05</td>\n",
       "      <td>['p_007', 'p_003', 'p_037']</td>\n",
       "    </tr>\n",
       "    <tr>\n",
       "      <th>454335</th>\n",
       "      <td>321684449</td>\n",
       "      <td>2024-01-31 23:55:46</td>\n",
       "      <td>['p_022', 'p_037']</td>\n",
       "    </tr>\n",
       "  </tbody>\n",
       "</table>\n",
       "<p>454336 rows × 3 columns</p>\n",
       "</div>"
      ],
      "text/plain": [
       "         order_id      order_placed_at                items_ordered\n",
       "0       321230114  2020-12-11 00:01:29  ['p_025', 'p_032', 'p_037']\n",
       "1       321230115  2020-12-11 00:36:02           ['p_017', 'p_012']\n",
       "2       321230116  2020-12-11 00:55:01           ['p_027', 'p_037']\n",
       "3       321230117  2020-12-11 01:05:27           ['p_004', 'p_029']\n",
       "4       321230118  2020-12-11 01:14:20           ['p_017', 'p_037']\n",
       "...           ...                  ...                          ...\n",
       "454331  321684445  2024-01-31 23:27:51  ['p_002', 'p_006', 'p_037']\n",
       "454332  321684446  2024-01-31 23:40:14           ['p_015', 'p_013']\n",
       "454333  321684447  2024-01-31 23:36:08           ['p_009', 'p_016']\n",
       "454334  321684448  2024-01-31 23:58:05  ['p_007', 'p_003', 'p_037']\n",
       "454335  321684449  2024-01-31 23:55:46           ['p_022', 'p_037']\n",
       "\n",
       "[454336 rows x 3 columns]"
      ]
     },
     "execution_count": 19,
     "metadata": {},
     "output_type": "execute_result"
    }
   ],
   "source": [
    "df_order = pd.merge(orders, order_item, on='order_id', how='left')\n",
    "df_order"
   ]
  },
  {
   "cell_type": "code",
   "execution_count": 20,
   "id": "f3b65293-eb22-4e1c-9a8a-76685b5c29bb",
   "metadata": {},
   "outputs": [],
   "source": [
    "df_order['order_placed_at'] = pd.to_datetime(df_order.order_placed_at)\n",
    "#df_order[df_order.order_placed_at >= '2024-01-01']\n",
    "\n",
    "df_order_jan = df_order.loc[(df_order['order_placed_at'] >= '2024-01-01') & (df_order['order_placed_at'] < '2024-02-01')]\n",
    "# df_order_jan.to_csv('order-sample.csv', encoding='utf-8')"
   ]
  },
  {
   "cell_type": "code",
   "execution_count": 21,
   "id": "2b823d49-45ca-4e29-8479-4ee7a1686dfb",
   "metadata": {},
   "outputs": [
    {
     "data": {
      "text/html": [
       "<div>\n",
       "<style scoped>\n",
       "    .dataframe tbody tr th:only-of-type {\n",
       "        vertical-align: middle;\n",
       "    }\n",
       "\n",
       "    .dataframe tbody tr th {\n",
       "        vertical-align: top;\n",
       "    }\n",
       "\n",
       "    .dataframe thead th {\n",
       "        text-align: right;\n",
       "    }\n",
       "</style>\n",
       "<table border=\"1\" class=\"dataframe\">\n",
       "  <thead>\n",
       "    <tr style=\"text-align: right;\">\n",
       "      <th></th>\n",
       "      <th>order_id</th>\n",
       "      <th>order_placed_at</th>\n",
       "      <th>items_ordered</th>\n",
       "    </tr>\n",
       "  </thead>\n",
       "  <tbody>\n",
       "    <tr>\n",
       "      <th>442032</th>\n",
       "      <td>321672146</td>\n",
       "      <td>2024-01-01 00:02:30</td>\n",
       "      <td>['p_020', 'p_037']</td>\n",
       "    </tr>\n",
       "    <tr>\n",
       "      <th>442033</th>\n",
       "      <td>321672147</td>\n",
       "      <td>2024-01-01 00:08:01</td>\n",
       "      <td>['p_004', 'p_031', 'p_037']</td>\n",
       "    </tr>\n",
       "    <tr>\n",
       "      <th>442034</th>\n",
       "      <td>321672148</td>\n",
       "      <td>2024-01-01 00:13:57</td>\n",
       "      <td>['p_009', 'p_002', 'p_037']</td>\n",
       "    </tr>\n",
       "    <tr>\n",
       "      <th>442035</th>\n",
       "      <td>321672149</td>\n",
       "      <td>2024-01-01 00:18:59</td>\n",
       "      <td>['p_008', 'p_029', 'p_037']</td>\n",
       "    </tr>\n",
       "    <tr>\n",
       "      <th>442036</th>\n",
       "      <td>321672150</td>\n",
       "      <td>2024-01-01 00:19:12</td>\n",
       "      <td>['p_011', 'p_037']</td>\n",
       "    </tr>\n",
       "    <tr>\n",
       "      <th>...</th>\n",
       "      <td>...</td>\n",
       "      <td>...</td>\n",
       "      <td>...</td>\n",
       "    </tr>\n",
       "    <tr>\n",
       "      <th>454331</th>\n",
       "      <td>321684445</td>\n",
       "      <td>2024-01-31 23:27:51</td>\n",
       "      <td>['p_002', 'p_006', 'p_037']</td>\n",
       "    </tr>\n",
       "    <tr>\n",
       "      <th>454332</th>\n",
       "      <td>321684446</td>\n",
       "      <td>2024-01-31 23:40:14</td>\n",
       "      <td>['p_015', 'p_013']</td>\n",
       "    </tr>\n",
       "    <tr>\n",
       "      <th>454333</th>\n",
       "      <td>321684447</td>\n",
       "      <td>2024-01-31 23:36:08</td>\n",
       "      <td>['p_009', 'p_016']</td>\n",
       "    </tr>\n",
       "    <tr>\n",
       "      <th>454334</th>\n",
       "      <td>321684448</td>\n",
       "      <td>2024-01-31 23:58:05</td>\n",
       "      <td>['p_007', 'p_003', 'p_037']</td>\n",
       "    </tr>\n",
       "    <tr>\n",
       "      <th>454335</th>\n",
       "      <td>321684449</td>\n",
       "      <td>2024-01-31 23:55:46</td>\n",
       "      <td>['p_022', 'p_037']</td>\n",
       "    </tr>\n",
       "  </tbody>\n",
       "</table>\n",
       "<p>12304 rows × 3 columns</p>\n",
       "</div>"
      ],
      "text/plain": [
       "         order_id     order_placed_at                items_ordered\n",
       "442032  321672146 2024-01-01 00:02:30           ['p_020', 'p_037']\n",
       "442033  321672147 2024-01-01 00:08:01  ['p_004', 'p_031', 'p_037']\n",
       "442034  321672148 2024-01-01 00:13:57  ['p_009', 'p_002', 'p_037']\n",
       "442035  321672149 2024-01-01 00:18:59  ['p_008', 'p_029', 'p_037']\n",
       "442036  321672150 2024-01-01 00:19:12           ['p_011', 'p_037']\n",
       "...           ...                 ...                          ...\n",
       "454331  321684445 2024-01-31 23:27:51  ['p_002', 'p_006', 'p_037']\n",
       "454332  321684446 2024-01-31 23:40:14           ['p_015', 'p_013']\n",
       "454333  321684447 2024-01-31 23:36:08           ['p_009', 'p_016']\n",
       "454334  321684448 2024-01-31 23:58:05  ['p_007', 'p_003', 'p_037']\n",
       "454335  321684449 2024-01-31 23:55:46           ['p_022', 'p_037']\n",
       "\n",
       "[12304 rows x 3 columns]"
      ]
     },
     "execution_count": 21,
     "metadata": {},
     "output_type": "execute_result"
    }
   ],
   "source": [
    "df_order_jan.sort_values(by='order_id')"
   ]
  },
  {
   "cell_type": "code",
   "execution_count": 22,
   "id": "8fdf4ab8-40da-42d6-be16-5f296c300314",
   "metadata": {},
   "outputs": [],
   "source": [
    "# for i in df_order_jan.items_ordered:\n",
    "#     print(type(i))\n",
    "#     for j in i:\n",
    "#         print(i)\n",
    "#         #print(j)\n",
    "#         #print(type(j))\n",
    "#     break"
   ]
  },
  {
   "cell_type": "code",
   "execution_count": 23,
   "id": "6d9ac11a-1953-44b1-a21e-fa85bce9e7c4",
   "metadata": {},
   "outputs": [],
   "source": [
    "## pass pd.series as input\n",
    "def format_orders(df_sample):\n",
    "    df_sample = df_sample.apply(lambda quan: quan.strip(\"][''\"))\n",
    "    df_sample = df_sample.apply(lambda quan: quan.replace(\"'\", ''))\n",
    "    df_sample = df_sample.apply(lambda quan: quan.split(\",\"))\n",
    "    \n",
    "    return df_sample\n",
    "    "
   ]
  },
  {
   "cell_type": "code",
   "execution_count": 24,
   "id": "fca18551-4bfc-4f84-b9d3-0703df197057",
   "metadata": {},
   "outputs": [
    {
     "name": "stderr",
     "output_type": "stream",
     "text": [
      "C:\\Users\\rajath.k\\AppData\\Local\\Temp/ipykernel_5516/1078775793.py:4: SettingWithCopyWarning: \n",
      "A value is trying to be set on a copy of a slice from a DataFrame.\n",
      "Try using .loc[row_indexer,col_indexer] = value instead\n",
      "\n",
      "See the caveats in the documentation: https://pandas.pydata.org/pandas-docs/stable/user_guide/indexing.html#returning-a-view-versus-a-copy\n",
      "  df_order_jan['items_ordered'] = df_order_jan['items_ordered'].apply(lambda quan: quan.strip(\"][''\"))\n"
     ]
    }
   ],
   "source": [
    "#res = ini_list.strip('][').split(', ')\n",
    "#df_order_jan.items_ordered=df_order_jan.items_ordered.str.split(',').tolist()\n",
    "\n",
    "df_order_jan['items_ordered'] = df_order_jan['items_ordered'].apply(lambda quan: quan.strip(\"][''\"))\n",
    "#df_order_jan['items_ordered'] = df_order_jan['items_ordered'].apply(lambda quan: list(quan))"
   ]
  },
  {
   "cell_type": "code",
   "execution_count": 25,
   "id": "63af6a58-59ea-466a-831a-edee05e9c7cd",
   "metadata": {},
   "outputs": [
    {
     "name": "stderr",
     "output_type": "stream",
     "text": [
      "C:\\Users\\rajath.k\\AppData\\Local\\Temp/ipykernel_5516/97503023.py:1: SettingWithCopyWarning: \n",
      "A value is trying to be set on a copy of a slice from a DataFrame.\n",
      "Try using .loc[row_indexer,col_indexer] = value instead\n",
      "\n",
      "See the caveats in the documentation: https://pandas.pydata.org/pandas-docs/stable/user_guide/indexing.html#returning-a-view-versus-a-copy\n",
      "  df_order_jan['items_ordered'] = df_order_jan['items_ordered'].apply(lambda quan: quan.replace(\"'\", ''))\n",
      "C:\\Users\\rajath.k\\AppData\\Local\\Temp/ipykernel_5516/97503023.py:2: SettingWithCopyWarning: \n",
      "A value is trying to be set on a copy of a slice from a DataFrame.\n",
      "Try using .loc[row_indexer,col_indexer] = value instead\n",
      "\n",
      "See the caveats in the documentation: https://pandas.pydata.org/pandas-docs/stable/user_guide/indexing.html#returning-a-view-versus-a-copy\n",
      "  df_order_jan['items_ordered'] = df_order_jan['items_ordered'].apply(lambda quan: quan.split(\",\"))\n"
     ]
    }
   ],
   "source": [
    "df_order_jan['items_ordered'] = df_order_jan['items_ordered'].apply(lambda quan: quan.replace(\"'\", ''))\n",
    "df_order_jan['items_ordered'] = df_order_jan['items_ordered'].apply(lambda quan: quan.split(\",\"))"
   ]
  },
  {
   "cell_type": "code",
   "execution_count": 26,
   "id": "bb9d551a-bb0e-4be7-87f5-8413e5f7b7c7",
   "metadata": {},
   "outputs": [],
   "source": [
    "## trying to explode items_ordered\n",
    "\n",
    "exploded_order_jan = df_order_jan.explode('items_ordered')"
   ]
  },
  {
   "cell_type": "code",
   "execution_count": 27,
   "id": "9a2e5a38-57b8-4122-ae27-b2abd9370010",
   "metadata": {},
   "outputs": [
    {
     "data": {
      "text/plain": [
       "(31358, 3)"
      ]
     },
     "execution_count": 27,
     "metadata": {},
     "output_type": "execute_result"
    }
   ],
   "source": [
    "exploded_order_jan.shape"
   ]
  },
  {
   "cell_type": "code",
   "execution_count": 28,
   "id": "4198ef21-6282-45ed-8032-4b721ad07ab3",
   "metadata": {},
   "outputs": [],
   "source": [
    "exploded_order_jan.head(10)\n",
    "exploded_order_jan.to_csv('order-sample.csv', encoding='utf-8')"
   ]
  },
  {
   "cell_type": "code",
   "execution_count": 29,
   "id": "6b2c24b2-54d1-4e7d-9d49-71ad4c7827c7",
   "metadata": {},
   "outputs": [],
   "source": [
    "#pizza_count = exploded_order_jan[exploded_order_jan.items_ordered].apply(lambda p: p == 'p_037')"
   ]
  },
  {
   "cell_type": "code",
   "execution_count": 30,
   "id": "2efa2adb-3b1b-49e3-b66d-9e2f4fb81baa",
   "metadata": {},
   "outputs": [],
   "source": [
    "#exploded_order_jan.items_ordered == 'p_037'"
   ]
  },
  {
   "cell_type": "code",
   "execution_count": 31,
   "id": "cb0f1332-cef5-4afe-8b4f-b4c8a4dead01",
   "metadata": {},
   "outputs": [],
   "source": [
    "### 20951 (with 31st)"
   ]
  },
  {
   "cell_type": "markdown",
   "id": "c03439bd-dbc6-4fcf-a631-bc48039b61e0",
   "metadata": {},
   "source": [
    "### How many orders took >30 mins delivery between Jan1 & Jan31"
   ]
  },
  {
   "cell_type": "code",
   "execution_count": 32,
   "id": "e582542f-4405-444f-974a-cf2bf0a84a4e",
   "metadata": {},
   "outputs": [],
   "source": [
    "#df_order_jan"
   ]
  },
  {
   "cell_type": "code",
   "execution_count": 33,
   "id": "e4928e3e-5268-489f-8846-84bf145e4aeb",
   "metadata": {},
   "outputs": [],
   "source": [
    "#new_orders"
   ]
  },
  {
   "cell_type": "code",
   "execution_count": 34,
   "id": "fcd2d6a0-41e5-42fd-a8fe-656a6a245102",
   "metadata": {},
   "outputs": [
    {
     "data": {
      "text/plain": [
       "(12304, 6)"
      ]
     },
     "execution_count": 34,
     "metadata": {},
     "output_type": "execute_result"
    }
   ],
   "source": [
    "gt = pd.merge(df_order_jan, new_orders, on='order_id', how='inner')\n",
    "gt.shape"
   ]
  },
  {
   "cell_type": "code",
   "execution_count": 35,
   "id": "6109d9a7-2fa2-4a3d-a854-2082fe44fcf8",
   "metadata": {},
   "outputs": [
    {
     "data": {
      "text/html": [
       "<div>\n",
       "<style scoped>\n",
       "    .dataframe tbody tr th:only-of-type {\n",
       "        vertical-align: middle;\n",
       "    }\n",
       "\n",
       "    .dataframe tbody tr th {\n",
       "        vertical-align: top;\n",
       "    }\n",
       "\n",
       "    .dataframe thead th {\n",
       "        text-align: right;\n",
       "    }\n",
       "</style>\n",
       "<table border=\"1\" class=\"dataframe\">\n",
       "  <thead>\n",
       "    <tr style=\"text-align: right;\">\n",
       "      <th></th>\n",
       "      <th>order_id</th>\n",
       "      <th>order_placed_at_x</th>\n",
       "      <th>items_ordered</th>\n",
       "      <th>order_placed_at_y</th>\n",
       "      <th>delivered_at</th>\n",
       "      <th>delivery_time</th>\n",
       "    </tr>\n",
       "  </thead>\n",
       "  <tbody>\n",
       "    <tr>\n",
       "      <th>73</th>\n",
       "      <td>321672219</td>\n",
       "      <td>2024-01-01 07:09:58</td>\n",
       "      <td>[p_002,  p_004,  p_037]</td>\n",
       "      <td>2024-01-01 07:09:58</td>\n",
       "      <td>2024-01-01 07:40:00.050788143</td>\n",
       "      <td>30.034180</td>\n",
       "    </tr>\n",
       "    <tr>\n",
       "      <th>100</th>\n",
       "      <td>321672246</td>\n",
       "      <td>2024-01-01 10:09:42</td>\n",
       "      <td>[p_018,  p_037]</td>\n",
       "      <td>2024-01-01 10:09:42</td>\n",
       "      <td>2024-01-01 10:42:08.274877203</td>\n",
       "      <td>32.437915</td>\n",
       "    </tr>\n",
       "    <tr>\n",
       "      <th>249</th>\n",
       "      <td>321672395</td>\n",
       "      <td>2024-01-01 19:19:02</td>\n",
       "      <td>[p_030,  p_025,  p_037]</td>\n",
       "      <td>2024-01-01 19:19:02</td>\n",
       "      <td>2024-01-01 19:51:39.281358734</td>\n",
       "      <td>32.621356</td>\n",
       "    </tr>\n",
       "    <tr>\n",
       "      <th>347</th>\n",
       "      <td>321672493</td>\n",
       "      <td>2024-01-02 08:06:48</td>\n",
       "      <td>[p_035,  p_017,  p_037]</td>\n",
       "      <td>2024-01-02 08:06:48</td>\n",
       "      <td>2024-01-02 08:37:27.696347889</td>\n",
       "      <td>30.661606</td>\n",
       "    </tr>\n",
       "    <tr>\n",
       "      <th>360</th>\n",
       "      <td>321672506</td>\n",
       "      <td>2024-01-02 08:54:14</td>\n",
       "      <td>[p_003,  p_037]</td>\n",
       "      <td>2024-01-02 08:54:14</td>\n",
       "      <td>2024-01-02 09:32:23.416695505</td>\n",
       "      <td>38.156945</td>\n",
       "    </tr>\n",
       "    <tr>\n",
       "      <th>...</th>\n",
       "      <td>...</td>\n",
       "      <td>...</td>\n",
       "      <td>...</td>\n",
       "      <td>...</td>\n",
       "      <td>...</td>\n",
       "      <td>...</td>\n",
       "    </tr>\n",
       "    <tr>\n",
       "      <th>11882</th>\n",
       "      <td>321684028</td>\n",
       "      <td>2024-01-30 22:43:33</td>\n",
       "      <td>[p_020,  p_029,  p_037]</td>\n",
       "      <td>2024-01-30 22:43:33</td>\n",
       "      <td>2024-01-30 23:15:57.900528163</td>\n",
       "      <td>32.415009</td>\n",
       "    </tr>\n",
       "    <tr>\n",
       "      <th>11982</th>\n",
       "      <td>321684128</td>\n",
       "      <td>2024-01-31 08:45:58</td>\n",
       "      <td>[p_011,  p_023,  p_037]</td>\n",
       "      <td>2024-01-31 08:45:58</td>\n",
       "      <td>2024-01-31 09:28:43.508245394</td>\n",
       "      <td>42.758471</td>\n",
       "    </tr>\n",
       "    <tr>\n",
       "      <th>12120</th>\n",
       "      <td>321684266</td>\n",
       "      <td>2024-01-31 13:32:25</td>\n",
       "      <td>[p_030,  p_030]</td>\n",
       "      <td>2024-01-31 13:32:25</td>\n",
       "      <td>2024-01-31 14:03:26.613185573</td>\n",
       "      <td>31.026886</td>\n",
       "    </tr>\n",
       "    <tr>\n",
       "      <th>12232</th>\n",
       "      <td>321684378</td>\n",
       "      <td>2024-01-31 18:05:26</td>\n",
       "      <td>[p_024,  p_016,  p_037]</td>\n",
       "      <td>2024-01-31 18:05:26</td>\n",
       "      <td>2024-01-31 18:35:39.707616698</td>\n",
       "      <td>30.228460</td>\n",
       "    </tr>\n",
       "    <tr>\n",
       "      <th>12282</th>\n",
       "      <td>321684428</td>\n",
       "      <td>2024-01-31 21:08:51</td>\n",
       "      <td>[p_024,  p_011,  p_037]</td>\n",
       "      <td>2024-01-31 21:08:51</td>\n",
       "      <td>2024-01-31 21:40:13.177156302</td>\n",
       "      <td>31.369619</td>\n",
       "    </tr>\n",
       "  </tbody>\n",
       "</table>\n",
       "<p>162 rows × 6 columns</p>\n",
       "</div>"
      ],
      "text/plain": [
       "        order_id   order_placed_at_x            items_ordered  \\\n",
       "73     321672219 2024-01-01 07:09:58  [p_002,  p_004,  p_037]   \n",
       "100    321672246 2024-01-01 10:09:42          [p_018,  p_037]   \n",
       "249    321672395 2024-01-01 19:19:02  [p_030,  p_025,  p_037]   \n",
       "347    321672493 2024-01-02 08:06:48  [p_035,  p_017,  p_037]   \n",
       "360    321672506 2024-01-02 08:54:14          [p_003,  p_037]   \n",
       "...          ...                 ...                      ...   \n",
       "11882  321684028 2024-01-30 22:43:33  [p_020,  p_029,  p_037]   \n",
       "11982  321684128 2024-01-31 08:45:58  [p_011,  p_023,  p_037]   \n",
       "12120  321684266 2024-01-31 13:32:25          [p_030,  p_030]   \n",
       "12232  321684378 2024-01-31 18:05:26  [p_024,  p_016,  p_037]   \n",
       "12282  321684428 2024-01-31 21:08:51  [p_024,  p_011,  p_037]   \n",
       "\n",
       "        order_placed_at_y                  delivered_at  delivery_time  \n",
       "73    2024-01-01 07:09:58 2024-01-01 07:40:00.050788143      30.034180  \n",
       "100   2024-01-01 10:09:42 2024-01-01 10:42:08.274877203      32.437915  \n",
       "249   2024-01-01 19:19:02 2024-01-01 19:51:39.281358734      32.621356  \n",
       "347   2024-01-02 08:06:48 2024-01-02 08:37:27.696347889      30.661606  \n",
       "360   2024-01-02 08:54:14 2024-01-02 09:32:23.416695505      38.156945  \n",
       "...                   ...                           ...            ...  \n",
       "11882 2024-01-30 22:43:33 2024-01-30 23:15:57.900528163      32.415009  \n",
       "11982 2024-01-31 08:45:58 2024-01-31 09:28:43.508245394      42.758471  \n",
       "12120 2024-01-31 13:32:25 2024-01-31 14:03:26.613185573      31.026886  \n",
       "12232 2024-01-31 18:05:26 2024-01-31 18:35:39.707616698      30.228460  \n",
       "12282 2024-01-31 21:08:51 2024-01-31 21:40:13.177156302      31.369619  \n",
       "\n",
       "[162 rows x 6 columns]"
      ]
     },
     "execution_count": 35,
     "metadata": {},
     "output_type": "execute_result"
    }
   ],
   "source": [
    "gt[gt.delivery_time > 30]"
   ]
  },
  {
   "cell_type": "markdown",
   "id": "354bb77d-b33c-467d-9d09-d4f048afec12",
   "metadata": {},
   "source": [
    "## Total amount lost in 2023 due to refunds"
   ]
  },
  {
   "cell_type": "code",
   "execution_count": 36,
   "id": "f82385ab-38d7-4cae-8e99-f5662e2c892c",
   "metadata": {},
   "outputs": [
    {
     "data": {
      "text/html": [
       "<div>\n",
       "<style scoped>\n",
       "    .dataframe tbody tr th:only-of-type {\n",
       "        vertical-align: middle;\n",
       "    }\n",
       "\n",
       "    .dataframe tbody tr th {\n",
       "        vertical-align: top;\n",
       "    }\n",
       "\n",
       "    .dataframe thead th {\n",
       "        text-align: right;\n",
       "    }\n",
       "</style>\n",
       "<table border=\"1\" class=\"dataframe\">\n",
       "  <thead>\n",
       "    <tr style=\"text-align: right;\">\n",
       "      <th></th>\n",
       "      <th>order_id</th>\n",
       "      <th>order_placed_at</th>\n",
       "      <th>items_ordered</th>\n",
       "    </tr>\n",
       "  </thead>\n",
       "  <tbody>\n",
       "    <tr>\n",
       "      <th>0</th>\n",
       "      <td>321230114</td>\n",
       "      <td>2020-12-11 00:01:29</td>\n",
       "      <td>['p_025', 'p_032', 'p_037']</td>\n",
       "    </tr>\n",
       "    <tr>\n",
       "      <th>1</th>\n",
       "      <td>321230115</td>\n",
       "      <td>2020-12-11 00:36:02</td>\n",
       "      <td>['p_017', 'p_012']</td>\n",
       "    </tr>\n",
       "    <tr>\n",
       "      <th>2</th>\n",
       "      <td>321230116</td>\n",
       "      <td>2020-12-11 00:55:01</td>\n",
       "      <td>['p_027', 'p_037']</td>\n",
       "    </tr>\n",
       "    <tr>\n",
       "      <th>3</th>\n",
       "      <td>321230117</td>\n",
       "      <td>2020-12-11 01:05:27</td>\n",
       "      <td>['p_004', 'p_029']</td>\n",
       "    </tr>\n",
       "    <tr>\n",
       "      <th>4</th>\n",
       "      <td>321230118</td>\n",
       "      <td>2020-12-11 01:14:20</td>\n",
       "      <td>['p_017', 'p_037']</td>\n",
       "    </tr>\n",
       "  </tbody>\n",
       "</table>\n",
       "</div>"
      ],
      "text/plain": [
       "    order_id     order_placed_at                items_ordered\n",
       "0  321230114 2020-12-11 00:01:29  ['p_025', 'p_032', 'p_037']\n",
       "1  321230115 2020-12-11 00:36:02           ['p_017', 'p_012']\n",
       "2  321230116 2020-12-11 00:55:01           ['p_027', 'p_037']\n",
       "3  321230117 2020-12-11 01:05:27           ['p_004', 'p_029']\n",
       "4  321230118 2020-12-11 01:14:20           ['p_017', 'p_037']"
      ]
     },
     "execution_count": 36,
     "metadata": {},
     "output_type": "execute_result"
    }
   ],
   "source": [
    "df_order.head()"
   ]
  },
  {
   "cell_type": "code",
   "execution_count": 37,
   "id": "109eef96-dfa0-4578-8159-171f4e575aa3",
   "metadata": {},
   "outputs": [
    {
     "name": "stdout",
     "output_type": "stream",
     "text": [
      "<class 'pandas.core.frame.DataFrame'>\n",
      "Int64Index: 454336 entries, 0 to 454335\n",
      "Data columns (total 3 columns):\n",
      " #   Column           Non-Null Count   Dtype         \n",
      "---  ------           --------------   -----         \n",
      " 0   order_id         454336 non-null  int64         \n",
      " 1   order_placed_at  454336 non-null  datetime64[ns]\n",
      " 2   items_ordered    454336 non-null  object        \n",
      "dtypes: datetime64[ns](1), int64(1), object(1)\n",
      "memory usage: 13.9+ MB\n"
     ]
    }
   ],
   "source": [
    "df_order.info()"
   ]
  },
  {
   "cell_type": "code",
   "execution_count": 38,
   "id": "0df871aa-470c-4231-92eb-15e5a7d02e21",
   "metadata": {},
   "outputs": [
    {
     "data": {
      "text/html": [
       "<div>\n",
       "<style scoped>\n",
       "    .dataframe tbody tr th:only-of-type {\n",
       "        vertical-align: middle;\n",
       "    }\n",
       "\n",
       "    .dataframe tbody tr th {\n",
       "        vertical-align: top;\n",
       "    }\n",
       "\n",
       "    .dataframe thead th {\n",
       "        text-align: right;\n",
       "    }\n",
       "</style>\n",
       "<table border=\"1\" class=\"dataframe\">\n",
       "  <thead>\n",
       "    <tr style=\"text-align: right;\">\n",
       "      <th></th>\n",
       "      <th>order_id</th>\n",
       "      <th>order_placed_at</th>\n",
       "      <th>items_ordered</th>\n",
       "    </tr>\n",
       "  </thead>\n",
       "  <tbody>\n",
       "    <tr>\n",
       "      <th>290505</th>\n",
       "      <td>321520619</td>\n",
       "      <td>2023-01-01 00:08:58</td>\n",
       "      <td>['p_034', 'p_011', 'p_037']</td>\n",
       "    </tr>\n",
       "    <tr>\n",
       "      <th>290506</th>\n",
       "      <td>321520620</td>\n",
       "      <td>2023-01-01 00:16:00</td>\n",
       "      <td>['p_016', 'p_010', 'p_037']</td>\n",
       "    </tr>\n",
       "    <tr>\n",
       "      <th>290507</th>\n",
       "      <td>321520621</td>\n",
       "      <td>2023-01-01 00:14:57</td>\n",
       "      <td>['p_032', 'p_037']</td>\n",
       "    </tr>\n",
       "    <tr>\n",
       "      <th>290508</th>\n",
       "      <td>321520622</td>\n",
       "      <td>2023-01-01 00:16:55</td>\n",
       "      <td>['p_003', 'p_017']</td>\n",
       "    </tr>\n",
       "    <tr>\n",
       "      <th>290509</th>\n",
       "      <td>321520623</td>\n",
       "      <td>2023-01-01 00:19:25</td>\n",
       "      <td>['p_036', 'p_037']</td>\n",
       "    </tr>\n",
       "    <tr>\n",
       "      <th>...</th>\n",
       "      <td>...</td>\n",
       "      <td>...</td>\n",
       "      <td>...</td>\n",
       "    </tr>\n",
       "    <tr>\n",
       "      <th>442027</th>\n",
       "      <td>321672141</td>\n",
       "      <td>2023-12-31 23:48:07</td>\n",
       "      <td>['p_008', 'p_012', 'p_037']</td>\n",
       "    </tr>\n",
       "    <tr>\n",
       "      <th>442028</th>\n",
       "      <td>321672142</td>\n",
       "      <td>2023-12-31 23:52:05</td>\n",
       "      <td>['p_013', 'p_037']</td>\n",
       "    </tr>\n",
       "    <tr>\n",
       "      <th>442029</th>\n",
       "      <td>321672143</td>\n",
       "      <td>2023-12-31 23:53:43</td>\n",
       "      <td>['p_012', 'p_006', 'p_037']</td>\n",
       "    </tr>\n",
       "    <tr>\n",
       "      <th>442030</th>\n",
       "      <td>321672144</td>\n",
       "      <td>2023-12-31 23:53:06</td>\n",
       "      <td>['p_023', 'p_006', 'p_037']</td>\n",
       "    </tr>\n",
       "    <tr>\n",
       "      <th>442031</th>\n",
       "      <td>321672145</td>\n",
       "      <td>2023-12-31 23:56:48</td>\n",
       "      <td>['p_005', 'p_037']</td>\n",
       "    </tr>\n",
       "  </tbody>\n",
       "</table>\n",
       "<p>151527 rows × 3 columns</p>\n",
       "</div>"
      ],
      "text/plain": [
       "         order_id     order_placed_at                items_ordered\n",
       "290505  321520619 2023-01-01 00:08:58  ['p_034', 'p_011', 'p_037']\n",
       "290506  321520620 2023-01-01 00:16:00  ['p_016', 'p_010', 'p_037']\n",
       "290507  321520621 2023-01-01 00:14:57           ['p_032', 'p_037']\n",
       "290508  321520622 2023-01-01 00:16:55           ['p_003', 'p_017']\n",
       "290509  321520623 2023-01-01 00:19:25           ['p_036', 'p_037']\n",
       "...           ...                 ...                          ...\n",
       "442027  321672141 2023-12-31 23:48:07  ['p_008', 'p_012', 'p_037']\n",
       "442028  321672142 2023-12-31 23:52:05           ['p_013', 'p_037']\n",
       "442029  321672143 2023-12-31 23:53:43  ['p_012', 'p_006', 'p_037']\n",
       "442030  321672144 2023-12-31 23:53:06  ['p_023', 'p_006', 'p_037']\n",
       "442031  321672145 2023-12-31 23:56:48           ['p_005', 'p_037']\n",
       "\n",
       "[151527 rows x 3 columns]"
      ]
     },
     "execution_count": 38,
     "metadata": {},
     "output_type": "execute_result"
    }
   ],
   "source": [
    "orders_2023 = df_order[(df_order.order_placed_at >= '2023-01-01') & (df_order.order_placed_at < '2024-01-01')]\n",
    "orders_2023"
   ]
  },
  {
   "cell_type": "code",
   "execution_count": 39,
   "id": "9c17e796-26eb-49dc-9471-b4c4afddb47d",
   "metadata": {},
   "outputs": [],
   "source": [
    "#format_orders(orders_2023.items_ordered)"
   ]
  },
  {
   "cell_type": "code",
   "execution_count": 40,
   "id": "16ea2b47-c3ab-48ff-ade5-3f2ab3026288",
   "metadata": {},
   "outputs": [
    {
     "name": "stderr",
     "output_type": "stream",
     "text": [
      "C:\\Users\\rajath.k\\AppData\\Local\\Temp/ipykernel_5516/1264408512.py:1: SettingWithCopyWarning: \n",
      "A value is trying to be set on a copy of a slice from a DataFrame.\n",
      "Try using .loc[row_indexer,col_indexer] = value instead\n",
      "\n",
      "See the caveats in the documentation: https://pandas.pydata.org/pandas-docs/stable/user_guide/indexing.html#returning-a-view-versus-a-copy\n",
      "  orders_2023['items_ordered'] = orders_2023['items_ordered'].apply(lambda quan: quan.strip(\"][''\"))\n"
     ]
    }
   ],
   "source": [
    "orders_2023['items_ordered'] = orders_2023['items_ordered'].apply(lambda quan: quan.strip(\"][''\"))"
   ]
  },
  {
   "cell_type": "code",
   "execution_count": 41,
   "id": "6e70cbb6-2830-4eb8-9f70-801ae01ecec6",
   "metadata": {},
   "outputs": [
    {
     "name": "stderr",
     "output_type": "stream",
     "text": [
      "C:\\Users\\rajath.k\\AppData\\Local\\Temp/ipykernel_5516/79893545.py:1: SettingWithCopyWarning: \n",
      "A value is trying to be set on a copy of a slice from a DataFrame.\n",
      "Try using .loc[row_indexer,col_indexer] = value instead\n",
      "\n",
      "See the caveats in the documentation: https://pandas.pydata.org/pandas-docs/stable/user_guide/indexing.html#returning-a-view-versus-a-copy\n",
      "  orders_2023['items_ordered'] = orders_2023['items_ordered'].apply(lambda quan: quan.replace(\"'\", ''))\n",
      "C:\\Users\\rajath.k\\AppData\\Local\\Temp/ipykernel_5516/79893545.py:2: SettingWithCopyWarning: \n",
      "A value is trying to be set on a copy of a slice from a DataFrame.\n",
      "Try using .loc[row_indexer,col_indexer] = value instead\n",
      "\n",
      "See the caveats in the documentation: https://pandas.pydata.org/pandas-docs/stable/user_guide/indexing.html#returning-a-view-versus-a-copy\n",
      "  orders_2023['items_ordered'] = orders_2023['items_ordered'].apply(lambda quan: quan.split(\",\"))\n"
     ]
    }
   ],
   "source": [
    "orders_2023['items_ordered'] = orders_2023['items_ordered'].apply(lambda quan: quan.replace(\"'\", ''))\n",
    "orders_2023['items_ordered'] = orders_2023['items_ordered'].apply(lambda quan: quan.split(\",\"))"
   ]
  },
  {
   "cell_type": "code",
   "execution_count": 42,
   "id": "a65431d8-cd7a-4fd8-8ad7-aac0cb0ff7f6",
   "metadata": {},
   "outputs": [
    {
     "data": {
      "text/html": [
       "<div>\n",
       "<style scoped>\n",
       "    .dataframe tbody tr th:only-of-type {\n",
       "        vertical-align: middle;\n",
       "    }\n",
       "\n",
       "    .dataframe tbody tr th {\n",
       "        vertical-align: top;\n",
       "    }\n",
       "\n",
       "    .dataframe thead th {\n",
       "        text-align: right;\n",
       "    }\n",
       "</style>\n",
       "<table border=\"1\" class=\"dataframe\">\n",
       "  <thead>\n",
       "    <tr style=\"text-align: right;\">\n",
       "      <th></th>\n",
       "      <th>order_id</th>\n",
       "      <th>order_placed_at</th>\n",
       "      <th>items_ordered</th>\n",
       "    </tr>\n",
       "  </thead>\n",
       "  <tbody>\n",
       "    <tr>\n",
       "      <th>290505</th>\n",
       "      <td>321520619</td>\n",
       "      <td>2023-01-01 00:08:58</td>\n",
       "      <td>[p_034,  p_011,  p_037]</td>\n",
       "    </tr>\n",
       "    <tr>\n",
       "      <th>290506</th>\n",
       "      <td>321520620</td>\n",
       "      <td>2023-01-01 00:16:00</td>\n",
       "      <td>[p_016,  p_010,  p_037]</td>\n",
       "    </tr>\n",
       "    <tr>\n",
       "      <th>290507</th>\n",
       "      <td>321520621</td>\n",
       "      <td>2023-01-01 00:14:57</td>\n",
       "      <td>[p_032,  p_037]</td>\n",
       "    </tr>\n",
       "    <tr>\n",
       "      <th>290508</th>\n",
       "      <td>321520622</td>\n",
       "      <td>2023-01-01 00:16:55</td>\n",
       "      <td>[p_003,  p_017]</td>\n",
       "    </tr>\n",
       "    <tr>\n",
       "      <th>290509</th>\n",
       "      <td>321520623</td>\n",
       "      <td>2023-01-01 00:19:25</td>\n",
       "      <td>[p_036,  p_037]</td>\n",
       "    </tr>\n",
       "    <tr>\n",
       "      <th>...</th>\n",
       "      <td>...</td>\n",
       "      <td>...</td>\n",
       "      <td>...</td>\n",
       "    </tr>\n",
       "    <tr>\n",
       "      <th>442027</th>\n",
       "      <td>321672141</td>\n",
       "      <td>2023-12-31 23:48:07</td>\n",
       "      <td>[p_008,  p_012,  p_037]</td>\n",
       "    </tr>\n",
       "    <tr>\n",
       "      <th>442028</th>\n",
       "      <td>321672142</td>\n",
       "      <td>2023-12-31 23:52:05</td>\n",
       "      <td>[p_013,  p_037]</td>\n",
       "    </tr>\n",
       "    <tr>\n",
       "      <th>442029</th>\n",
       "      <td>321672143</td>\n",
       "      <td>2023-12-31 23:53:43</td>\n",
       "      <td>[p_012,  p_006,  p_037]</td>\n",
       "    </tr>\n",
       "    <tr>\n",
       "      <th>442030</th>\n",
       "      <td>321672144</td>\n",
       "      <td>2023-12-31 23:53:06</td>\n",
       "      <td>[p_023,  p_006,  p_037]</td>\n",
       "    </tr>\n",
       "    <tr>\n",
       "      <th>442031</th>\n",
       "      <td>321672145</td>\n",
       "      <td>2023-12-31 23:56:48</td>\n",
       "      <td>[p_005,  p_037]</td>\n",
       "    </tr>\n",
       "  </tbody>\n",
       "</table>\n",
       "<p>151527 rows × 3 columns</p>\n",
       "</div>"
      ],
      "text/plain": [
       "         order_id     order_placed_at            items_ordered\n",
       "290505  321520619 2023-01-01 00:08:58  [p_034,  p_011,  p_037]\n",
       "290506  321520620 2023-01-01 00:16:00  [p_016,  p_010,  p_037]\n",
       "290507  321520621 2023-01-01 00:14:57          [p_032,  p_037]\n",
       "290508  321520622 2023-01-01 00:16:55          [p_003,  p_017]\n",
       "290509  321520623 2023-01-01 00:19:25          [p_036,  p_037]\n",
       "...           ...                 ...                      ...\n",
       "442027  321672141 2023-12-31 23:48:07  [p_008,  p_012,  p_037]\n",
       "442028  321672142 2023-12-31 23:52:05          [p_013,  p_037]\n",
       "442029  321672143 2023-12-31 23:53:43  [p_012,  p_006,  p_037]\n",
       "442030  321672144 2023-12-31 23:53:06  [p_023,  p_006,  p_037]\n",
       "442031  321672145 2023-12-31 23:56:48          [p_005,  p_037]\n",
       "\n",
       "[151527 rows x 3 columns]"
      ]
     },
     "execution_count": 42,
     "metadata": {},
     "output_type": "execute_result"
    }
   ],
   "source": [
    "orders_2023"
   ]
  },
  {
   "cell_type": "code",
   "execution_count": 43,
   "id": "9969860c-3753-4eb0-9491-8cb43c439dca",
   "metadata": {},
   "outputs": [
    {
     "data": {
      "text/html": [
       "<div>\n",
       "<style scoped>\n",
       "    .dataframe tbody tr th:only-of-type {\n",
       "        vertical-align: middle;\n",
       "    }\n",
       "\n",
       "    .dataframe tbody tr th {\n",
       "        vertical-align: top;\n",
       "    }\n",
       "\n",
       "    .dataframe thead th {\n",
       "        text-align: right;\n",
       "    }\n",
       "</style>\n",
       "<table border=\"1\" class=\"dataframe\">\n",
       "  <thead>\n",
       "    <tr style=\"text-align: right;\">\n",
       "      <th></th>\n",
       "      <th>order_id</th>\n",
       "      <th>order_placed_at_x</th>\n",
       "      <th>items_ordered</th>\n",
       "      <th>order_placed_at_y</th>\n",
       "      <th>delivered_at</th>\n",
       "      <th>delivery_time</th>\n",
       "    </tr>\n",
       "  </thead>\n",
       "  <tbody>\n",
       "    <tr>\n",
       "      <th>91</th>\n",
       "      <td>321520710</td>\n",
       "      <td>2023-01-01 06:43:17</td>\n",
       "      <td>[p_020,  p_030,  p_037]</td>\n",
       "      <td>2023-01-01 06:43:17</td>\n",
       "      <td>2023-01-01 07:13:53.796142791</td>\n",
       "      <td>30.613269</td>\n",
       "    </tr>\n",
       "    <tr>\n",
       "      <th>162</th>\n",
       "      <td>321520781</td>\n",
       "      <td>2023-01-01 11:50:08</td>\n",
       "      <td>[p_003,  p_023]</td>\n",
       "      <td>2023-01-01 11:50:08</td>\n",
       "      <td>2023-01-01 12:21:27.548250439</td>\n",
       "      <td>31.325804</td>\n",
       "    </tr>\n",
       "    <tr>\n",
       "      <th>262</th>\n",
       "      <td>321520881</td>\n",
       "      <td>2023-01-01 15:32:36</td>\n",
       "      <td>[p_023,  p_005,  p_037]</td>\n",
       "      <td>2023-01-01 15:32:36</td>\n",
       "      <td>2023-01-01 16:09:22.481604124</td>\n",
       "      <td>36.774693</td>\n",
       "    </tr>\n",
       "    <tr>\n",
       "      <th>298</th>\n",
       "      <td>321520917</td>\n",
       "      <td>2023-01-01 17:33:28</td>\n",
       "      <td>[p_019,  p_035,  p_037]</td>\n",
       "      <td>2023-01-01 17:33:28</td>\n",
       "      <td>2023-01-01 18:05:14.271442042</td>\n",
       "      <td>31.771191</td>\n",
       "    </tr>\n",
       "    <tr>\n",
       "      <th>328</th>\n",
       "      <td>321520947</td>\n",
       "      <td>2023-01-01 19:01:40</td>\n",
       "      <td>[p_034,  p_024,  p_037]</td>\n",
       "      <td>2023-01-01 19:01:40</td>\n",
       "      <td>2023-01-01 19:33:06.691488219</td>\n",
       "      <td>31.444858</td>\n",
       "    </tr>\n",
       "    <tr>\n",
       "      <th>...</th>\n",
       "      <td>...</td>\n",
       "      <td>...</td>\n",
       "      <td>...</td>\n",
       "      <td>...</td>\n",
       "      <td>...</td>\n",
       "      <td>...</td>\n",
       "    </tr>\n",
       "    <tr>\n",
       "      <th>151131</th>\n",
       "      <td>321671750</td>\n",
       "      <td>2023-12-31 02:45:46</td>\n",
       "      <td>[p_016,  p_035,  p_037]</td>\n",
       "      <td>2023-12-31 02:45:46</td>\n",
       "      <td>2023-12-31 03:16:59.733576587</td>\n",
       "      <td>31.228893</td>\n",
       "    </tr>\n",
       "    <tr>\n",
       "      <th>151167</th>\n",
       "      <td>321671786</td>\n",
       "      <td>2023-12-31 07:43:40</td>\n",
       "      <td>[p_006,  p_034,  p_037]</td>\n",
       "      <td>2023-12-31 07:43:40</td>\n",
       "      <td>2023-12-31 08:14:03.021796853</td>\n",
       "      <td>30.383697</td>\n",
       "    </tr>\n",
       "    <tr>\n",
       "      <th>151207</th>\n",
       "      <td>321671826</td>\n",
       "      <td>2023-12-31 10:17:18</td>\n",
       "      <td>[p_029,  p_006]</td>\n",
       "      <td>2023-12-31 10:17:18</td>\n",
       "      <td>2023-12-31 10:54:48.241061676</td>\n",
       "      <td>37.504018</td>\n",
       "    </tr>\n",
       "    <tr>\n",
       "      <th>151446</th>\n",
       "      <td>321672065</td>\n",
       "      <td>2023-12-31 20:27:16</td>\n",
       "      <td>[p_021,  p_037]</td>\n",
       "      <td>2023-12-31 20:27:16</td>\n",
       "      <td>2023-12-31 21:02:07.686868217</td>\n",
       "      <td>34.861448</td>\n",
       "    </tr>\n",
       "    <tr>\n",
       "      <th>151464</th>\n",
       "      <td>321672083</td>\n",
       "      <td>2023-12-31 21:11:54</td>\n",
       "      <td>[p_013,  p_037]</td>\n",
       "      <td>2023-12-31 21:11:54</td>\n",
       "      <td>2023-12-31 21:43:40.912531676</td>\n",
       "      <td>31.781876</td>\n",
       "    </tr>\n",
       "  </tbody>\n",
       "</table>\n",
       "<p>2003 rows × 6 columns</p>\n",
       "</div>"
      ],
      "text/plain": [
       "         order_id   order_placed_at_x            items_ordered  \\\n",
       "91      321520710 2023-01-01 06:43:17  [p_020,  p_030,  p_037]   \n",
       "162     321520781 2023-01-01 11:50:08          [p_003,  p_023]   \n",
       "262     321520881 2023-01-01 15:32:36  [p_023,  p_005,  p_037]   \n",
       "298     321520917 2023-01-01 17:33:28  [p_019,  p_035,  p_037]   \n",
       "328     321520947 2023-01-01 19:01:40  [p_034,  p_024,  p_037]   \n",
       "...           ...                 ...                      ...   \n",
       "151131  321671750 2023-12-31 02:45:46  [p_016,  p_035,  p_037]   \n",
       "151167  321671786 2023-12-31 07:43:40  [p_006,  p_034,  p_037]   \n",
       "151207  321671826 2023-12-31 10:17:18          [p_029,  p_006]   \n",
       "151446  321672065 2023-12-31 20:27:16          [p_021,  p_037]   \n",
       "151464  321672083 2023-12-31 21:11:54          [p_013,  p_037]   \n",
       "\n",
       "         order_placed_at_y                  delivered_at  delivery_time  \n",
       "91     2023-01-01 06:43:17 2023-01-01 07:13:53.796142791      30.613269  \n",
       "162    2023-01-01 11:50:08 2023-01-01 12:21:27.548250439      31.325804  \n",
       "262    2023-01-01 15:32:36 2023-01-01 16:09:22.481604124      36.774693  \n",
       "298    2023-01-01 17:33:28 2023-01-01 18:05:14.271442042      31.771191  \n",
       "328    2023-01-01 19:01:40 2023-01-01 19:33:06.691488219      31.444858  \n",
       "...                    ...                           ...            ...  \n",
       "151131 2023-12-31 02:45:46 2023-12-31 03:16:59.733576587      31.228893  \n",
       "151167 2023-12-31 07:43:40 2023-12-31 08:14:03.021796853      30.383697  \n",
       "151207 2023-12-31 10:17:18 2023-12-31 10:54:48.241061676      37.504018  \n",
       "151446 2023-12-31 20:27:16 2023-12-31 21:02:07.686868217      34.861448  \n",
       "151464 2023-12-31 21:11:54 2023-12-31 21:43:40.912531676      31.781876  \n",
       "\n",
       "[2003 rows x 6 columns]"
      ]
     },
     "execution_count": 43,
     "metadata": {},
     "output_type": "execute_result"
    }
   ],
   "source": [
    "orders_2023_late = pd.merge(orders_2023, new_orders, on='order_id')\n",
    "orders_2023_late = orders_2023_late[orders_2023_late.delivery_time > 30]\n",
    "orders_2023_late"
   ]
  },
  {
   "cell_type": "code",
   "execution_count": 44,
   "id": "3b5f3a86-7202-40a2-9df6-dd7e69c6da86",
   "metadata": {},
   "outputs": [
    {
     "data": {
      "text/html": [
       "<div>\n",
       "<style scoped>\n",
       "    .dataframe tbody tr th:only-of-type {\n",
       "        vertical-align: middle;\n",
       "    }\n",
       "\n",
       "    .dataframe tbody tr th {\n",
       "        vertical-align: top;\n",
       "    }\n",
       "\n",
       "    .dataframe thead th {\n",
       "        text-align: right;\n",
       "    }\n",
       "</style>\n",
       "<table border=\"1\" class=\"dataframe\">\n",
       "  <thead>\n",
       "    <tr style=\"text-align: right;\">\n",
       "      <th></th>\n",
       "      <th>order_id</th>\n",
       "      <th>order_placed_at_x</th>\n",
       "      <th>items_ordered</th>\n",
       "      <th>order_placed_at_y</th>\n",
       "      <th>delivered_at</th>\n",
       "      <th>delivery_time</th>\n",
       "    </tr>\n",
       "  </thead>\n",
       "  <tbody>\n",
       "    <tr>\n",
       "      <th>91</th>\n",
       "      <td>321520710</td>\n",
       "      <td>2023-01-01 06:43:17</td>\n",
       "      <td>p_020</td>\n",
       "      <td>2023-01-01 06:43:17</td>\n",
       "      <td>2023-01-01 07:13:53.796142791</td>\n",
       "      <td>30.613269</td>\n",
       "    </tr>\n",
       "    <tr>\n",
       "      <th>91</th>\n",
       "      <td>321520710</td>\n",
       "      <td>2023-01-01 06:43:17</td>\n",
       "      <td>p_030</td>\n",
       "      <td>2023-01-01 06:43:17</td>\n",
       "      <td>2023-01-01 07:13:53.796142791</td>\n",
       "      <td>30.613269</td>\n",
       "    </tr>\n",
       "    <tr>\n",
       "      <th>91</th>\n",
       "      <td>321520710</td>\n",
       "      <td>2023-01-01 06:43:17</td>\n",
       "      <td>p_037</td>\n",
       "      <td>2023-01-01 06:43:17</td>\n",
       "      <td>2023-01-01 07:13:53.796142791</td>\n",
       "      <td>30.613269</td>\n",
       "    </tr>\n",
       "    <tr>\n",
       "      <th>162</th>\n",
       "      <td>321520781</td>\n",
       "      <td>2023-01-01 11:50:08</td>\n",
       "      <td>p_003</td>\n",
       "      <td>2023-01-01 11:50:08</td>\n",
       "      <td>2023-01-01 12:21:27.548250439</td>\n",
       "      <td>31.325804</td>\n",
       "    </tr>\n",
       "    <tr>\n",
       "      <th>162</th>\n",
       "      <td>321520781</td>\n",
       "      <td>2023-01-01 11:50:08</td>\n",
       "      <td>p_023</td>\n",
       "      <td>2023-01-01 11:50:08</td>\n",
       "      <td>2023-01-01 12:21:27.548250439</td>\n",
       "      <td>31.325804</td>\n",
       "    </tr>\n",
       "    <tr>\n",
       "      <th>...</th>\n",
       "      <td>...</td>\n",
       "      <td>...</td>\n",
       "      <td>...</td>\n",
       "      <td>...</td>\n",
       "      <td>...</td>\n",
       "      <td>...</td>\n",
       "    </tr>\n",
       "    <tr>\n",
       "      <th>151207</th>\n",
       "      <td>321671826</td>\n",
       "      <td>2023-12-31 10:17:18</td>\n",
       "      <td>p_006</td>\n",
       "      <td>2023-12-31 10:17:18</td>\n",
       "      <td>2023-12-31 10:54:48.241061676</td>\n",
       "      <td>37.504018</td>\n",
       "    </tr>\n",
       "    <tr>\n",
       "      <th>151446</th>\n",
       "      <td>321672065</td>\n",
       "      <td>2023-12-31 20:27:16</td>\n",
       "      <td>p_021</td>\n",
       "      <td>2023-12-31 20:27:16</td>\n",
       "      <td>2023-12-31 21:02:07.686868217</td>\n",
       "      <td>34.861448</td>\n",
       "    </tr>\n",
       "    <tr>\n",
       "      <th>151446</th>\n",
       "      <td>321672065</td>\n",
       "      <td>2023-12-31 20:27:16</td>\n",
       "      <td>p_037</td>\n",
       "      <td>2023-12-31 20:27:16</td>\n",
       "      <td>2023-12-31 21:02:07.686868217</td>\n",
       "      <td>34.861448</td>\n",
       "    </tr>\n",
       "    <tr>\n",
       "      <th>151464</th>\n",
       "      <td>321672083</td>\n",
       "      <td>2023-12-31 21:11:54</td>\n",
       "      <td>p_013</td>\n",
       "      <td>2023-12-31 21:11:54</td>\n",
       "      <td>2023-12-31 21:43:40.912531676</td>\n",
       "      <td>31.781876</td>\n",
       "    </tr>\n",
       "    <tr>\n",
       "      <th>151464</th>\n",
       "      <td>321672083</td>\n",
       "      <td>2023-12-31 21:11:54</td>\n",
       "      <td>p_037</td>\n",
       "      <td>2023-12-31 21:11:54</td>\n",
       "      <td>2023-12-31 21:43:40.912531676</td>\n",
       "      <td>31.781876</td>\n",
       "    </tr>\n",
       "  </tbody>\n",
       "</table>\n",
       "<p>5103 rows × 6 columns</p>\n",
       "</div>"
      ],
      "text/plain": [
       "         order_id   order_placed_at_x items_ordered   order_placed_at_y  \\\n",
       "91      321520710 2023-01-01 06:43:17         p_020 2023-01-01 06:43:17   \n",
       "91      321520710 2023-01-01 06:43:17         p_030 2023-01-01 06:43:17   \n",
       "91      321520710 2023-01-01 06:43:17         p_037 2023-01-01 06:43:17   \n",
       "162     321520781 2023-01-01 11:50:08         p_003 2023-01-01 11:50:08   \n",
       "162     321520781 2023-01-01 11:50:08         p_023 2023-01-01 11:50:08   \n",
       "...           ...                 ...           ...                 ...   \n",
       "151207  321671826 2023-12-31 10:17:18         p_006 2023-12-31 10:17:18   \n",
       "151446  321672065 2023-12-31 20:27:16         p_021 2023-12-31 20:27:16   \n",
       "151446  321672065 2023-12-31 20:27:16         p_037 2023-12-31 20:27:16   \n",
       "151464  321672083 2023-12-31 21:11:54         p_013 2023-12-31 21:11:54   \n",
       "151464  321672083 2023-12-31 21:11:54         p_037 2023-12-31 21:11:54   \n",
       "\n",
       "                        delivered_at  delivery_time  \n",
       "91     2023-01-01 07:13:53.796142791      30.613269  \n",
       "91     2023-01-01 07:13:53.796142791      30.613269  \n",
       "91     2023-01-01 07:13:53.796142791      30.613269  \n",
       "162    2023-01-01 12:21:27.548250439      31.325804  \n",
       "162    2023-01-01 12:21:27.548250439      31.325804  \n",
       "...                              ...            ...  \n",
       "151207 2023-12-31 10:54:48.241061676      37.504018  \n",
       "151446 2023-12-31 21:02:07.686868217      34.861448  \n",
       "151446 2023-12-31 21:02:07.686868217      34.861448  \n",
       "151464 2023-12-31 21:43:40.912531676      31.781876  \n",
       "151464 2023-12-31 21:43:40.912531676      31.781876  \n",
       "\n",
       "[5103 rows x 6 columns]"
      ]
     },
     "execution_count": 44,
     "metadata": {},
     "output_type": "execute_result"
    }
   ],
   "source": [
    "exploded_late_2023 = orders_2023_late.explode('items_ordered')\n",
    "\n",
    "exploded_late_2023['items_ordered'] = exploded_late_2023['items_ordered'].apply(lambda quan: quan.strip(\" \"))\n",
    "\n",
    "exploded_late_2023"
   ]
  },
  {
   "cell_type": "code",
   "execution_count": 45,
   "id": "ab91697c-af5b-4406-af27-175f2536b8be",
   "metadata": {},
   "outputs": [],
   "source": [
    "val_2023 = exploded_late_2023.items_ordered.value_counts()"
   ]
  },
  {
   "cell_type": "code",
   "execution_count": 46,
   "id": "24580821-5ab7-4128-ae0a-f18f5dde1947",
   "metadata": {},
   "outputs": [],
   "source": [
    "from collections import Counter\n",
    "\n",
    "dict_2023 = Counter(exploded_late_2023.items_ordered)\n",
    "\n",
    "#val_2023 = pd.DataFrame(dict_2023, index=['count'])\n",
    "#val_2023.transpose()"
   ]
  },
  {
   "cell_type": "code",
   "execution_count": 47,
   "id": "5475a460-c758-4196-88ed-7f8668c884e2",
   "metadata": {},
   "outputs": [],
   "source": [
    "#list(dict_2023.keys())"
   ]
  },
  {
   "cell_type": "code",
   "execution_count": 48,
   "id": "47efefcb-3334-4458-9988-e467b1414008",
   "metadata": {},
   "outputs": [],
   "source": [
    "val_2023 = pd.DataFrame(\n",
    "    {'item_id': list(dict_2023.keys()),\n",
    "     'count': list(dict_2023.values())\n",
    "    })\n",
    "\n",
    "#val_2023"
   ]
  },
  {
   "cell_type": "code",
   "execution_count": 49,
   "id": "8bdd925a-20b2-4611-bfe4-fa47601bc799",
   "metadata": {},
   "outputs": [
    {
     "name": "stdout",
     "output_type": "stream",
     "text": [
      "<class 'pandas.core.frame.DataFrame'>\n",
      "RangeIndex: 37 entries, 0 to 36\n",
      "Data columns (total 5 columns):\n",
      " #   Column    Non-Null Count  Dtype \n",
      "---  ------    --------------  ----- \n",
      " 0   item_id   37 non-null     object\n",
      " 1   category  37 non-null     object\n",
      " 2   Item      37 non-null     object\n",
      " 3   Size      37 non-null     object\n",
      " 4   Price     37 non-null     int64 \n",
      "dtypes: int64(1), object(4)\n",
      "memory usage: 1.6+ KB\n"
     ]
    }
   ],
   "source": [
    "products.info()"
   ]
  },
  {
   "cell_type": "code",
   "execution_count": 50,
   "id": "fda07d92-0ab9-46e3-8335-e16a739e54b9",
   "metadata": {},
   "outputs": [
    {
     "data": {
      "text/html": [
       "<div>\n",
       "<style scoped>\n",
       "    .dataframe tbody tr th:only-of-type {\n",
       "        vertical-align: middle;\n",
       "    }\n",
       "\n",
       "    .dataframe tbody tr th {\n",
       "        vertical-align: top;\n",
       "    }\n",
       "\n",
       "    .dataframe thead th {\n",
       "        text-align: right;\n",
       "    }\n",
       "</style>\n",
       "<table border=\"1\" class=\"dataframe\">\n",
       "  <thead>\n",
       "    <tr style=\"text-align: right;\">\n",
       "      <th></th>\n",
       "      <th>item_id</th>\n",
       "      <th>category</th>\n",
       "      <th>Item</th>\n",
       "      <th>Size</th>\n",
       "      <th>Price</th>\n",
       "      <th>count</th>\n",
       "    </tr>\n",
       "  </thead>\n",
       "  <tbody>\n",
       "    <tr>\n",
       "      <th>0</th>\n",
       "      <td>p_001</td>\n",
       "      <td>Veg</td>\n",
       "      <td>Margherita</td>\n",
       "      <td>Regular</td>\n",
       "      <td>109</td>\n",
       "      <td>87</td>\n",
       "    </tr>\n",
       "    <tr>\n",
       "      <th>1</th>\n",
       "      <td>p_002</td>\n",
       "      <td>Veg</td>\n",
       "      <td>Margherita</td>\n",
       "      <td>Medium</td>\n",
       "      <td>245</td>\n",
       "      <td>89</td>\n",
       "    </tr>\n",
       "    <tr>\n",
       "      <th>2</th>\n",
       "      <td>p_003</td>\n",
       "      <td>Veg</td>\n",
       "      <td>Margherita</td>\n",
       "      <td>Large</td>\n",
       "      <td>455</td>\n",
       "      <td>97</td>\n",
       "    </tr>\n",
       "    <tr>\n",
       "      <th>3</th>\n",
       "      <td>p_004</td>\n",
       "      <td>Veg</td>\n",
       "      <td>Double Cheese Margherita</td>\n",
       "      <td>Regular</td>\n",
       "      <td>215</td>\n",
       "      <td>87</td>\n",
       "    </tr>\n",
       "    <tr>\n",
       "      <th>4</th>\n",
       "      <td>p_005</td>\n",
       "      <td>Veg</td>\n",
       "      <td>Double Cheese Margherita</td>\n",
       "      <td>Medium</td>\n",
       "      <td>385</td>\n",
       "      <td>97</td>\n",
       "    </tr>\n",
       "  </tbody>\n",
       "</table>\n",
       "</div>"
      ],
      "text/plain": [
       "  item_id category                      Item     Size  Price  count\n",
       "0   p_001      Veg                Margherita  Regular    109     87\n",
       "1   p_002      Veg                Margherita   Medium    245     89\n",
       "2   p_003      Veg                Margherita    Large    455     97\n",
       "3   p_004      Veg  Double Cheese Margherita  Regular    215     87\n",
       "4   p_005      Veg  Double Cheese Margherita   Medium    385     97"
      ]
     },
     "execution_count": 50,
     "metadata": {},
     "output_type": "execute_result"
    }
   ],
   "source": [
    "refund_2023 = pd.merge(products, val_2023, on='item_id')\n",
    "refund_2023.head()"
   ]
  },
  {
   "cell_type": "code",
   "execution_count": 51,
   "id": "a4be8b58-8819-4e13-a214-8c4689775de6",
   "metadata": {},
   "outputs": [
    {
     "name": "stdout",
     "output_type": "stream",
     "text": [
      "<class 'pandas.core.frame.DataFrame'>\n",
      "Int64Index: 37 entries, 0 to 36\n",
      "Data columns (total 6 columns):\n",
      " #   Column    Non-Null Count  Dtype \n",
      "---  ------    --------------  ----- \n",
      " 0   item_id   37 non-null     object\n",
      " 1   category  37 non-null     object\n",
      " 2   Item      37 non-null     object\n",
      " 3   Size      37 non-null     object\n",
      " 4   Price     37 non-null     int64 \n",
      " 5   count     37 non-null     int64 \n",
      "dtypes: int64(2), object(4)\n",
      "memory usage: 2.0+ KB\n"
     ]
    }
   ],
   "source": [
    "refund_2023.info()"
   ]
  },
  {
   "cell_type": "code",
   "execution_count": 52,
   "id": "2a2ea70b-bcd7-4eb8-82ee-aa256bb36c76",
   "metadata": {},
   "outputs": [
    {
     "data": {
      "text/html": [
       "<div>\n",
       "<style scoped>\n",
       "    .dataframe tbody tr th:only-of-type {\n",
       "        vertical-align: middle;\n",
       "    }\n",
       "\n",
       "    .dataframe tbody tr th {\n",
       "        vertical-align: top;\n",
       "    }\n",
       "\n",
       "    .dataframe thead th {\n",
       "        text-align: right;\n",
       "    }\n",
       "</style>\n",
       "<table border=\"1\" class=\"dataframe\">\n",
       "  <thead>\n",
       "    <tr style=\"text-align: right;\">\n",
       "      <th></th>\n",
       "      <th>item_id</th>\n",
       "      <th>category</th>\n",
       "      <th>Item</th>\n",
       "      <th>Size</th>\n",
       "      <th>Price</th>\n",
       "      <th>count</th>\n",
       "      <th>bill</th>\n",
       "    </tr>\n",
       "  </thead>\n",
       "  <tbody>\n",
       "    <tr>\n",
       "      <th>0</th>\n",
       "      <td>p_001</td>\n",
       "      <td>Veg</td>\n",
       "      <td>Margherita</td>\n",
       "      <td>Regular</td>\n",
       "      <td>109</td>\n",
       "      <td>87</td>\n",
       "      <td>9483</td>\n",
       "    </tr>\n",
       "    <tr>\n",
       "      <th>1</th>\n",
       "      <td>p_002</td>\n",
       "      <td>Veg</td>\n",
       "      <td>Margherita</td>\n",
       "      <td>Medium</td>\n",
       "      <td>245</td>\n",
       "      <td>89</td>\n",
       "      <td>21805</td>\n",
       "    </tr>\n",
       "    <tr>\n",
       "      <th>2</th>\n",
       "      <td>p_003</td>\n",
       "      <td>Veg</td>\n",
       "      <td>Margherita</td>\n",
       "      <td>Large</td>\n",
       "      <td>455</td>\n",
       "      <td>97</td>\n",
       "      <td>44135</td>\n",
       "    </tr>\n",
       "    <tr>\n",
       "      <th>3</th>\n",
       "      <td>p_004</td>\n",
       "      <td>Veg</td>\n",
       "      <td>Double Cheese Margherita</td>\n",
       "      <td>Regular</td>\n",
       "      <td>215</td>\n",
       "      <td>87</td>\n",
       "      <td>18705</td>\n",
       "    </tr>\n",
       "    <tr>\n",
       "      <th>4</th>\n",
       "      <td>p_005</td>\n",
       "      <td>Veg</td>\n",
       "      <td>Double Cheese Margherita</td>\n",
       "      <td>Medium</td>\n",
       "      <td>385</td>\n",
       "      <td>97</td>\n",
       "      <td>37345</td>\n",
       "    </tr>\n",
       "  </tbody>\n",
       "</table>\n",
       "</div>"
      ],
      "text/plain": [
       "  item_id category                      Item     Size  Price  count   bill\n",
       "0   p_001      Veg                Margherita  Regular    109     87   9483\n",
       "1   p_002      Veg                Margherita   Medium    245     89  21805\n",
       "2   p_003      Veg                Margherita    Large    455     97  44135\n",
       "3   p_004      Veg  Double Cheese Margherita  Regular    215     87  18705\n",
       "4   p_005      Veg  Double Cheese Margherita   Medium    385     97  37345"
      ]
     },
     "execution_count": 52,
     "metadata": {},
     "output_type": "execute_result"
    }
   ],
   "source": [
    "refund_2023['bill'] = refund_2023[\"Price\"] * refund_2023[\"count\"]\n",
    "refund_2023.head()"
   ]
  },
  {
   "cell_type": "code",
   "execution_count": 53,
   "id": "5f5cd517-99a8-4237-9249-b98a3a5dfdbe",
   "metadata": {},
   "outputs": [
    {
     "data": {
      "text/plain": [
       "1826393"
      ]
     },
     "execution_count": 53,
     "metadata": {},
     "output_type": "execute_result"
    }
   ],
   "source": [
    "refund_2023_amt = refund_2023.bill.sum()\n",
    "refund_2023_amt"
   ]
  },
  {
   "cell_type": "markdown",
   "id": "29e207e9-cc67-46f7-90cb-3bbcf9aab7b2",
   "metadata": {},
   "source": [
    "# Finding bills for All Orders"
   ]
  },
  {
   "cell_type": "code",
   "execution_count": 54,
   "id": "c14cda6c-466f-44e1-a874-68b139734257",
   "metadata": {},
   "outputs": [
    {
     "data": {
      "text/html": [
       "<div>\n",
       "<style scoped>\n",
       "    .dataframe tbody tr th:only-of-type {\n",
       "        vertical-align: middle;\n",
       "    }\n",
       "\n",
       "    .dataframe tbody tr th {\n",
       "        vertical-align: top;\n",
       "    }\n",
       "\n",
       "    .dataframe thead th {\n",
       "        text-align: right;\n",
       "    }\n",
       "</style>\n",
       "<table border=\"1\" class=\"dataframe\">\n",
       "  <thead>\n",
       "    <tr style=\"text-align: right;\">\n",
       "      <th></th>\n",
       "      <th>order_id</th>\n",
       "      <th>items_ordered</th>\n",
       "    </tr>\n",
       "  </thead>\n",
       "  <tbody>\n",
       "    <tr>\n",
       "      <th>0</th>\n",
       "      <td>321230114</td>\n",
       "      <td>['p_025', 'p_032', 'p_037']</td>\n",
       "    </tr>\n",
       "    <tr>\n",
       "      <th>1</th>\n",
       "      <td>321230115</td>\n",
       "      <td>['p_017', 'p_012']</td>\n",
       "    </tr>\n",
       "    <tr>\n",
       "      <th>2</th>\n",
       "      <td>321230116</td>\n",
       "      <td>['p_027', 'p_037']</td>\n",
       "    </tr>\n",
       "    <tr>\n",
       "      <th>3</th>\n",
       "      <td>321230117</td>\n",
       "      <td>['p_004', 'p_029']</td>\n",
       "    </tr>\n",
       "    <tr>\n",
       "      <th>4</th>\n",
       "      <td>321230118</td>\n",
       "      <td>['p_017', 'p_037']</td>\n",
       "    </tr>\n",
       "  </tbody>\n",
       "</table>\n",
       "</div>"
      ],
      "text/plain": [
       "    order_id                items_ordered\n",
       "0  321230114  ['p_025', 'p_032', 'p_037']\n",
       "1  321230115           ['p_017', 'p_012']\n",
       "2  321230116           ['p_027', 'p_037']\n",
       "3  321230117           ['p_004', 'p_029']\n",
       "4  321230118           ['p_017', 'p_037']"
      ]
     },
     "execution_count": 54,
     "metadata": {},
     "output_type": "execute_result"
    }
   ],
   "source": [
    "order_item.head()"
   ]
  },
  {
   "cell_type": "code",
   "execution_count": 55,
   "id": "be2e477c-8ef1-4f63-8900-95d03596a07e",
   "metadata": {},
   "outputs": [
    {
     "name": "stdout",
     "output_type": "stream",
     "text": [
      "<class 'pandas.core.frame.DataFrame'>\n",
      "RangeIndex: 454336 entries, 0 to 454335\n",
      "Data columns (total 2 columns):\n",
      " #   Column         Non-Null Count   Dtype \n",
      "---  ------         --------------   ----- \n",
      " 0   order_id       454336 non-null  int64 \n",
      " 1   items_ordered  454336 non-null  object\n",
      "dtypes: int64(1), object(1)\n",
      "memory usage: 6.9+ MB\n"
     ]
    }
   ],
   "source": [
    "order_item.info()"
   ]
  },
  {
   "cell_type": "code",
   "execution_count": 56,
   "id": "4190075e-418c-4706-8f55-eb50651576ef",
   "metadata": {},
   "outputs": [],
   "source": [
    "bill = order_item.copy(deep=True)"
   ]
  },
  {
   "cell_type": "code",
   "execution_count": 57,
   "id": "902c7f94-0dee-4d95-be3e-7e60225f4396",
   "metadata": {},
   "outputs": [],
   "source": [
    "bill['items_ordered'] = order_item['items_ordered'].apply(lambda quan: quan.strip(\"]['\"))\n",
    "bill['items_ordered'] = bill['items_ordered'].apply(lambda quan: quan.replace(\"'\", ''))\n",
    "bill['items_ordered'] = bill['items_ordered'].apply(lambda quan: quan.split(\",\"))"
   ]
  },
  {
   "cell_type": "code",
   "execution_count": 58,
   "id": "e9516b5c-5849-4160-83d0-f0ba17bc4bc7",
   "metadata": {},
   "outputs": [
    {
     "data": {
      "text/html": [
       "<div>\n",
       "<style scoped>\n",
       "    .dataframe tbody tr th:only-of-type {\n",
       "        vertical-align: middle;\n",
       "    }\n",
       "\n",
       "    .dataframe tbody tr th {\n",
       "        vertical-align: top;\n",
       "    }\n",
       "\n",
       "    .dataframe thead th {\n",
       "        text-align: right;\n",
       "    }\n",
       "</style>\n",
       "<table border=\"1\" class=\"dataframe\">\n",
       "  <thead>\n",
       "    <tr style=\"text-align: right;\">\n",
       "      <th></th>\n",
       "      <th>order_id</th>\n",
       "      <th>items_ordered</th>\n",
       "    </tr>\n",
       "  </thead>\n",
       "  <tbody>\n",
       "    <tr>\n",
       "      <th>0</th>\n",
       "      <td>321230114</td>\n",
       "      <td>p_025</td>\n",
       "    </tr>\n",
       "    <tr>\n",
       "      <th>0</th>\n",
       "      <td>321230114</td>\n",
       "      <td>p_032</td>\n",
       "    </tr>\n",
       "    <tr>\n",
       "      <th>0</th>\n",
       "      <td>321230114</td>\n",
       "      <td>p_037</td>\n",
       "    </tr>\n",
       "    <tr>\n",
       "      <th>1</th>\n",
       "      <td>321230115</td>\n",
       "      <td>p_017</td>\n",
       "    </tr>\n",
       "    <tr>\n",
       "      <th>1</th>\n",
       "      <td>321230115</td>\n",
       "      <td>p_012</td>\n",
       "    </tr>\n",
       "    <tr>\n",
       "      <th>...</th>\n",
       "      <td>...</td>\n",
       "      <td>...</td>\n",
       "    </tr>\n",
       "    <tr>\n",
       "      <th>454334</th>\n",
       "      <td>321684448</td>\n",
       "      <td>p_007</td>\n",
       "    </tr>\n",
       "    <tr>\n",
       "      <th>454334</th>\n",
       "      <td>321684448</td>\n",
       "      <td>p_003</td>\n",
       "    </tr>\n",
       "    <tr>\n",
       "      <th>454334</th>\n",
       "      <td>321684448</td>\n",
       "      <td>p_037</td>\n",
       "    </tr>\n",
       "    <tr>\n",
       "      <th>454335</th>\n",
       "      <td>321684449</td>\n",
       "      <td>p_022</td>\n",
       "    </tr>\n",
       "    <tr>\n",
       "      <th>454335</th>\n",
       "      <td>321684449</td>\n",
       "      <td>p_037</td>\n",
       "    </tr>\n",
       "  </tbody>\n",
       "</table>\n",
       "<p>1158893 rows × 2 columns</p>\n",
       "</div>"
      ],
      "text/plain": [
       "         order_id items_ordered\n",
       "0       321230114         p_025\n",
       "0       321230114         p_032\n",
       "0       321230114         p_037\n",
       "1       321230115         p_017\n",
       "1       321230115         p_012\n",
       "...           ...           ...\n",
       "454334  321684448         p_007\n",
       "454334  321684448         p_003\n",
       "454334  321684448         p_037\n",
       "454335  321684449         p_022\n",
       "454335  321684449         p_037\n",
       "\n",
       "[1158893 rows x 2 columns]"
      ]
     },
     "execution_count": 58,
     "metadata": {},
     "output_type": "execute_result"
    }
   ],
   "source": [
    "bill_exploded = bill.explode('items_ordered')\n",
    "\n",
    "bill_exploded['items_ordered'] = bill_exploded['items_ordered'].apply(lambda quan: quan.strip(\" \"))\n",
    "\n",
    "bill_exploded"
   ]
  },
  {
   "cell_type": "code",
   "execution_count": 59,
   "id": "50ce2733-2f6d-4ee0-82e3-28c638721b8c",
   "metadata": {},
   "outputs": [],
   "source": [
    "#bill_exploded['items_ordered'].value_counts()"
   ]
  },
  {
   "cell_type": "code",
   "execution_count": 60,
   "id": "b735952e-4f17-4d55-9aa2-14878558199a",
   "metadata": {},
   "outputs": [],
   "source": [
    "# dict_bill = Counter(bill_exploded.items_ordered)\n",
    "\n",
    "# bill_val = pd.DataFrame(\n",
    "#     {'item_id': list(dict_bill.keys()),\n",
    "#      'count': list(dict_bill.values())\n",
    "#     })"
   ]
  },
  {
   "cell_type": "code",
   "execution_count": 61,
   "id": "0060f26b-a5ac-46d3-94c9-9e3442a929fb",
   "metadata": {},
   "outputs": [],
   "source": [
    "# price_per_order = pd.merge(bill_val, products, on='item_id')\n",
    "# price_per_order.shape"
   ]
  },
  {
   "cell_type": "code",
   "execution_count": 62,
   "id": "c51ccb1d-8ea9-4b8c-bc96-58574c661e1b",
   "metadata": {},
   "outputs": [],
   "source": [
    "bill_exploded.columns = [\"order_id\", \"item_id\"]\n",
    "#bill_exploded.head()"
   ]
  },
  {
   "cell_type": "code",
   "execution_count": 63,
   "id": "b5743f55-71ca-4f47-9212-14dd4b49501e",
   "metadata": {},
   "outputs": [],
   "source": [
    "bill = pd.merge(bill_exploded, products, on='item_id')"
   ]
  },
  {
   "cell_type": "code",
   "execution_count": 64,
   "id": "7c545766-1719-42f6-8fe3-51a7db80d511",
   "metadata": {},
   "outputs": [
    {
     "data": {
      "text/html": [
       "<div>\n",
       "<style scoped>\n",
       "    .dataframe tbody tr th:only-of-type {\n",
       "        vertical-align: middle;\n",
       "    }\n",
       "\n",
       "    .dataframe tbody tr th {\n",
       "        vertical-align: top;\n",
       "    }\n",
       "\n",
       "    .dataframe thead th {\n",
       "        text-align: right;\n",
       "    }\n",
       "</style>\n",
       "<table border=\"1\" class=\"dataframe\">\n",
       "  <thead>\n",
       "    <tr style=\"text-align: right;\">\n",
       "      <th></th>\n",
       "      <th>order_id</th>\n",
       "      <th>Price</th>\n",
       "    </tr>\n",
       "  </thead>\n",
       "  <tbody>\n",
       "    <tr>\n",
       "      <th>0</th>\n",
       "      <td>321230114</td>\n",
       "      <td>365</td>\n",
       "    </tr>\n",
       "    <tr>\n",
       "      <th>1</th>\n",
       "      <td>321230125</td>\n",
       "      <td>365</td>\n",
       "    </tr>\n",
       "    <tr>\n",
       "      <th>2</th>\n",
       "      <td>321230132</td>\n",
       "      <td>365</td>\n",
       "    </tr>\n",
       "    <tr>\n",
       "      <th>3</th>\n",
       "      <td>321230136</td>\n",
       "      <td>365</td>\n",
       "    </tr>\n",
       "    <tr>\n",
       "      <th>4</th>\n",
       "      <td>321230174</td>\n",
       "      <td>365</td>\n",
       "    </tr>\n",
       "    <tr>\n",
       "      <th>...</th>\n",
       "      <td>...</td>\n",
       "      <td>...</td>\n",
       "    </tr>\n",
       "    <tr>\n",
       "      <th>1158888</th>\n",
       "      <td>321684344</td>\n",
       "      <td>609</td>\n",
       "    </tr>\n",
       "    <tr>\n",
       "      <th>1158889</th>\n",
       "      <td>321684386</td>\n",
       "      <td>609</td>\n",
       "    </tr>\n",
       "    <tr>\n",
       "      <th>1158890</th>\n",
       "      <td>321684398</td>\n",
       "      <td>609</td>\n",
       "    </tr>\n",
       "    <tr>\n",
       "      <th>1158891</th>\n",
       "      <td>321684401</td>\n",
       "      <td>609</td>\n",
       "    </tr>\n",
       "    <tr>\n",
       "      <th>1158892</th>\n",
       "      <td>321684410</td>\n",
       "      <td>609</td>\n",
       "    </tr>\n",
       "  </tbody>\n",
       "</table>\n",
       "<p>1158893 rows × 2 columns</p>\n",
       "</div>"
      ],
      "text/plain": [
       "          order_id  Price\n",
       "0        321230114    365\n",
       "1        321230125    365\n",
       "2        321230132    365\n",
       "3        321230136    365\n",
       "4        321230174    365\n",
       "...            ...    ...\n",
       "1158888  321684344    609\n",
       "1158889  321684386    609\n",
       "1158890  321684398    609\n",
       "1158891  321684401    609\n",
       "1158892  321684410    609\n",
       "\n",
       "[1158893 rows x 2 columns]"
      ]
     },
     "execution_count": 64,
     "metadata": {},
     "output_type": "execute_result"
    }
   ],
   "source": [
    "bill = bill.drop(['item_id', 'category', 'Item', 'Size'], axis=1)\n",
    "bill"
   ]
  },
  {
   "cell_type": "code",
   "execution_count": 65,
   "id": "ef5ea2b3-3397-4eef-b195-a504cb8dadcc",
   "metadata": {},
   "outputs": [
    {
     "data": {
      "text/html": [
       "<div>\n",
       "<style scoped>\n",
       "    .dataframe tbody tr th:only-of-type {\n",
       "        vertical-align: middle;\n",
       "    }\n",
       "\n",
       "    .dataframe tbody tr th {\n",
       "        vertical-align: top;\n",
       "    }\n",
       "\n",
       "    .dataframe thead th {\n",
       "        text-align: right;\n",
       "    }\n",
       "</style>\n",
       "<table border=\"1\" class=\"dataframe\">\n",
       "  <thead>\n",
       "    <tr style=\"text-align: right;\">\n",
       "      <th></th>\n",
       "      <th>Price</th>\n",
       "    </tr>\n",
       "    <tr>\n",
       "      <th>order_id</th>\n",
       "      <th></th>\n",
       "    </tr>\n",
       "  </thead>\n",
       "  <tbody>\n",
       "    <tr>\n",
       "      <th>321230114</th>\n",
       "      <td>1035</td>\n",
       "    </tr>\n",
       "    <tr>\n",
       "      <th>321230115</th>\n",
       "      <td>1178</td>\n",
       "    </tr>\n",
       "    <tr>\n",
       "      <th>321230116</th>\n",
       "      <td>1006</td>\n",
       "    </tr>\n",
       "    <tr>\n",
       "      <th>321230117</th>\n",
       "      <td>634</td>\n",
       "    </tr>\n",
       "    <tr>\n",
       "      <th>321230118</th>\n",
       "      <td>630</td>\n",
       "    </tr>\n",
       "  </tbody>\n",
       "</table>\n",
       "</div>"
      ],
      "text/plain": [
       "           Price\n",
       "order_id        \n",
       "321230114   1035\n",
       "321230115   1178\n",
       "321230116   1006\n",
       "321230117    634\n",
       "321230118    630"
      ]
     },
     "execution_count": 65,
     "metadata": {},
     "output_type": "execute_result"
    }
   ],
   "source": [
    "bill = bill.groupby(['order_id']).sum().sort_values(by='order_id')\n",
    "bill.head()"
   ]
  },
  {
   "cell_type": "code",
   "execution_count": 66,
   "id": "8f942b94-9c17-44e2-827e-36c2ae85420b",
   "metadata": {},
   "outputs": [
    {
     "name": "stdout",
     "output_type": "stream",
     "text": [
      "<class 'pandas.core.frame.DataFrame'>\n",
      "Int64Index: 454336 entries, 0 to 454335\n",
      "Data columns (total 4 columns):\n",
      " #   Column           Non-Null Count   Dtype         \n",
      "---  ------           --------------   -----         \n",
      " 0   order_id         454336 non-null  int64         \n",
      " 1   order_placed_at  454336 non-null  datetime64[ns]\n",
      " 2   delivered_at     454336 non-null  datetime64[ns]\n",
      " 3   delivery_time    454336 non-null  float64       \n",
      "dtypes: datetime64[ns](2), float64(1), int64(1)\n",
      "memory usage: 17.3 MB\n"
     ]
    }
   ],
   "source": [
    "new_orders.info()"
   ]
  },
  {
   "cell_type": "code",
   "execution_count": 67,
   "id": "303127a2-5a6a-4e9c-8aef-87f67b86f7f2",
   "metadata": {},
   "outputs": [
    {
     "data": {
      "text/html": [
       "<div>\n",
       "<style scoped>\n",
       "    .dataframe tbody tr th:only-of-type {\n",
       "        vertical-align: middle;\n",
       "    }\n",
       "\n",
       "    .dataframe tbody tr th {\n",
       "        vertical-align: top;\n",
       "    }\n",
       "\n",
       "    .dataframe thead th {\n",
       "        text-align: right;\n",
       "    }\n",
       "</style>\n",
       "<table border=\"1\" class=\"dataframe\">\n",
       "  <thead>\n",
       "    <tr style=\"text-align: right;\">\n",
       "      <th></th>\n",
       "      <th>order_id</th>\n",
       "      <th>order_placed_at</th>\n",
       "      <th>delivered_at</th>\n",
       "      <th>delivery_time</th>\n",
       "      <th>Price</th>\n",
       "    </tr>\n",
       "  </thead>\n",
       "  <tbody>\n",
       "    <tr>\n",
       "      <th>0</th>\n",
       "      <td>321230114</td>\n",
       "      <td>2020-12-11 00:01:29</td>\n",
       "      <td>2020-12-11 00:19:13.299151076</td>\n",
       "      <td>17.738319</td>\n",
       "      <td>1035</td>\n",
       "    </tr>\n",
       "    <tr>\n",
       "      <th>1</th>\n",
       "      <td>321230115</td>\n",
       "      <td>2020-12-11 00:36:02</td>\n",
       "      <td>2020-12-11 00:59:18.054846609</td>\n",
       "      <td>23.267581</td>\n",
       "      <td>1178</td>\n",
       "    </tr>\n",
       "    <tr>\n",
       "      <th>2</th>\n",
       "      <td>321230116</td>\n",
       "      <td>2020-12-11 00:55:01</td>\n",
       "      <td>2020-12-11 01:13:52.153042625</td>\n",
       "      <td>18.852551</td>\n",
       "      <td>1006</td>\n",
       "    </tr>\n",
       "    <tr>\n",
       "      <th>3</th>\n",
       "      <td>321230117</td>\n",
       "      <td>2020-12-11 01:05:27</td>\n",
       "      <td>2020-12-11 01:22:44.430088094</td>\n",
       "      <td>17.290501</td>\n",
       "      <td>634</td>\n",
       "    </tr>\n",
       "    <tr>\n",
       "      <th>4</th>\n",
       "      <td>321230118</td>\n",
       "      <td>2020-12-11 01:14:20</td>\n",
       "      <td>2020-12-11 01:32:27.488575946</td>\n",
       "      <td>18.124810</td>\n",
       "      <td>630</td>\n",
       "    </tr>\n",
       "    <tr>\n",
       "      <th>...</th>\n",
       "      <td>...</td>\n",
       "      <td>...</td>\n",
       "      <td>...</td>\n",
       "      <td>...</td>\n",
       "      <td>...</td>\n",
       "    </tr>\n",
       "    <tr>\n",
       "      <th>454331</th>\n",
       "      <td>321684445</td>\n",
       "      <td>2024-01-31 23:27:51</td>\n",
       "      <td>2024-01-31 23:45:54.185192716</td>\n",
       "      <td>18.053087</td>\n",
       "      <td>935</td>\n",
       "    </tr>\n",
       "    <tr>\n",
       "      <th>454332</th>\n",
       "      <td>321684446</td>\n",
       "      <td>2024-01-31 23:40:14</td>\n",
       "      <td>2024-01-31 23:58:08.494812502</td>\n",
       "      <td>17.908247</td>\n",
       "      <td>698</td>\n",
       "    </tr>\n",
       "    <tr>\n",
       "      <th>454333</th>\n",
       "      <td>321684447</td>\n",
       "      <td>2024-01-31 23:36:08</td>\n",
       "      <td>2024-01-31 23:56:35.426400154</td>\n",
       "      <td>20.457107</td>\n",
       "      <td>1010</td>\n",
       "    </tr>\n",
       "    <tr>\n",
       "      <th>454334</th>\n",
       "      <td>321684448</td>\n",
       "      <td>2024-01-31 23:58:05</td>\n",
       "      <td>2024-02-01 00:17:50.996900711</td>\n",
       "      <td>19.766615</td>\n",
       "      <td>791</td>\n",
       "    </tr>\n",
       "    <tr>\n",
       "      <th>454335</th>\n",
       "      <td>321684449</td>\n",
       "      <td>2024-01-31 23:55:46</td>\n",
       "      <td>2024-02-01 00:14:56.997433391</td>\n",
       "      <td>19.183291</td>\n",
       "      <td>436</td>\n",
       "    </tr>\n",
       "  </tbody>\n",
       "</table>\n",
       "<p>454336 rows × 5 columns</p>\n",
       "</div>"
      ],
      "text/plain": [
       "         order_id     order_placed_at                  delivered_at  \\\n",
       "0       321230114 2020-12-11 00:01:29 2020-12-11 00:19:13.299151076   \n",
       "1       321230115 2020-12-11 00:36:02 2020-12-11 00:59:18.054846609   \n",
       "2       321230116 2020-12-11 00:55:01 2020-12-11 01:13:52.153042625   \n",
       "3       321230117 2020-12-11 01:05:27 2020-12-11 01:22:44.430088094   \n",
       "4       321230118 2020-12-11 01:14:20 2020-12-11 01:32:27.488575946   \n",
       "...           ...                 ...                           ...   \n",
       "454331  321684445 2024-01-31 23:27:51 2024-01-31 23:45:54.185192716   \n",
       "454332  321684446 2024-01-31 23:40:14 2024-01-31 23:58:08.494812502   \n",
       "454333  321684447 2024-01-31 23:36:08 2024-01-31 23:56:35.426400154   \n",
       "454334  321684448 2024-01-31 23:58:05 2024-02-01 00:17:50.996900711   \n",
       "454335  321684449 2024-01-31 23:55:46 2024-02-01 00:14:56.997433391   \n",
       "\n",
       "        delivery_time  Price  \n",
       "0           17.738319   1035  \n",
       "1           23.267581   1178  \n",
       "2           18.852551   1006  \n",
       "3           17.290501    634  \n",
       "4           18.124810    630  \n",
       "...               ...    ...  \n",
       "454331      18.053087    935  \n",
       "454332      17.908247    698  \n",
       "454333      20.457107   1010  \n",
       "454334      19.766615    791  \n",
       "454335      19.183291    436  \n",
       "\n",
       "[454336 rows x 5 columns]"
      ]
     },
     "execution_count": 67,
     "metadata": {},
     "output_type": "execute_result"
    }
   ],
   "source": [
    "all_orders = pd.merge(new_orders, bill, on='order_id')\n",
    "all_orders"
   ]
  },
  {
   "cell_type": "markdown",
   "id": "dd5465f2-33e0-4af4-bcab-77639b841562",
   "metadata": {},
   "source": [
    "## In which year, pizza store lost most on late deliveries"
   ]
  },
  {
   "cell_type": "code",
   "execution_count": 68,
   "id": "075620cc-d726-4b35-8020-a713d7befeb3",
   "metadata": {},
   "outputs": [
    {
     "data": {
      "text/html": [
       "<div>\n",
       "<style scoped>\n",
       "    .dataframe tbody tr th:only-of-type {\n",
       "        vertical-align: middle;\n",
       "    }\n",
       "\n",
       "    .dataframe tbody tr th {\n",
       "        vertical-align: top;\n",
       "    }\n",
       "\n",
       "    .dataframe thead th {\n",
       "        text-align: right;\n",
       "    }\n",
       "</style>\n",
       "<table border=\"1\" class=\"dataframe\">\n",
       "  <thead>\n",
       "    <tr style=\"text-align: right;\">\n",
       "      <th></th>\n",
       "      <th>order_id</th>\n",
       "      <th>order_placed_at</th>\n",
       "      <th>delivered_at</th>\n",
       "      <th>delivery_time</th>\n",
       "      <th>Price</th>\n",
       "    </tr>\n",
       "  </thead>\n",
       "  <tbody>\n",
       "    <tr>\n",
       "      <th>0</th>\n",
       "      <td>321230114</td>\n",
       "      <td>2020-12-11 00:01:29</td>\n",
       "      <td>2020-12-11 00:19:13.299151076</td>\n",
       "      <td>17.738319</td>\n",
       "      <td>1035</td>\n",
       "    </tr>\n",
       "    <tr>\n",
       "      <th>1</th>\n",
       "      <td>321230115</td>\n",
       "      <td>2020-12-11 00:36:02</td>\n",
       "      <td>2020-12-11 00:59:18.054846609</td>\n",
       "      <td>23.267581</td>\n",
       "      <td>1178</td>\n",
       "    </tr>\n",
       "    <tr>\n",
       "      <th>2</th>\n",
       "      <td>321230116</td>\n",
       "      <td>2020-12-11 00:55:01</td>\n",
       "      <td>2020-12-11 01:13:52.153042625</td>\n",
       "      <td>18.852551</td>\n",
       "      <td>1006</td>\n",
       "    </tr>\n",
       "    <tr>\n",
       "      <th>3</th>\n",
       "      <td>321230117</td>\n",
       "      <td>2020-12-11 01:05:27</td>\n",
       "      <td>2020-12-11 01:22:44.430088094</td>\n",
       "      <td>17.290501</td>\n",
       "      <td>634</td>\n",
       "    </tr>\n",
       "    <tr>\n",
       "      <th>4</th>\n",
       "      <td>321230118</td>\n",
       "      <td>2020-12-11 01:14:20</td>\n",
       "      <td>2020-12-11 01:32:27.488575946</td>\n",
       "      <td>18.124810</td>\n",
       "      <td>630</td>\n",
       "    </tr>\n",
       "    <tr>\n",
       "      <th>...</th>\n",
       "      <td>...</td>\n",
       "      <td>...</td>\n",
       "      <td>...</td>\n",
       "      <td>...</td>\n",
       "      <td>...</td>\n",
       "    </tr>\n",
       "    <tr>\n",
       "      <th>7797</th>\n",
       "      <td>321237911</td>\n",
       "      <td>2020-12-31 23:32:27</td>\n",
       "      <td>2020-12-31 23:50:23.085851138</td>\n",
       "      <td>17.934764</td>\n",
       "      <td>436</td>\n",
       "    </tr>\n",
       "    <tr>\n",
       "      <th>7798</th>\n",
       "      <td>321237912</td>\n",
       "      <td>2020-12-31 23:44:56</td>\n",
       "      <td>2021-01-01 00:02:16.282864797</td>\n",
       "      <td>17.338048</td>\n",
       "      <td>965</td>\n",
       "    </tr>\n",
       "    <tr>\n",
       "      <th>7799</th>\n",
       "      <td>321237913</td>\n",
       "      <td>2020-12-31 23:54:02</td>\n",
       "      <td>2021-01-01 00:11:58.409029407</td>\n",
       "      <td>17.940150</td>\n",
       "      <td>1391</td>\n",
       "    </tr>\n",
       "    <tr>\n",
       "      <th>7800</th>\n",
       "      <td>321237914</td>\n",
       "      <td>2020-12-31 23:53:19</td>\n",
       "      <td>2021-01-01 00:12:57.987290750</td>\n",
       "      <td>19.649788</td>\n",
       "      <td>655</td>\n",
       "    </tr>\n",
       "    <tr>\n",
       "      <th>7801</th>\n",
       "      <td>321237915</td>\n",
       "      <td>2020-12-31 23:52:46</td>\n",
       "      <td>2021-01-01 00:14:05.659665957</td>\n",
       "      <td>21.327661</td>\n",
       "      <td>1075</td>\n",
       "    </tr>\n",
       "  </tbody>\n",
       "</table>\n",
       "<p>7802 rows × 5 columns</p>\n",
       "</div>"
      ],
      "text/plain": [
       "       order_id     order_placed_at                  delivered_at  \\\n",
       "0     321230114 2020-12-11 00:01:29 2020-12-11 00:19:13.299151076   \n",
       "1     321230115 2020-12-11 00:36:02 2020-12-11 00:59:18.054846609   \n",
       "2     321230116 2020-12-11 00:55:01 2020-12-11 01:13:52.153042625   \n",
       "3     321230117 2020-12-11 01:05:27 2020-12-11 01:22:44.430088094   \n",
       "4     321230118 2020-12-11 01:14:20 2020-12-11 01:32:27.488575946   \n",
       "...         ...                 ...                           ...   \n",
       "7797  321237911 2020-12-31 23:32:27 2020-12-31 23:50:23.085851138   \n",
       "7798  321237912 2020-12-31 23:44:56 2021-01-01 00:02:16.282864797   \n",
       "7799  321237913 2020-12-31 23:54:02 2021-01-01 00:11:58.409029407   \n",
       "7800  321237914 2020-12-31 23:53:19 2021-01-01 00:12:57.987290750   \n",
       "7801  321237915 2020-12-31 23:52:46 2021-01-01 00:14:05.659665957   \n",
       "\n",
       "      delivery_time  Price  \n",
       "0         17.738319   1035  \n",
       "1         23.267581   1178  \n",
       "2         18.852551   1006  \n",
       "3         17.290501    634  \n",
       "4         18.124810    630  \n",
       "...             ...    ...  \n",
       "7797      17.934764    436  \n",
       "7798      17.338048    965  \n",
       "7799      17.940150   1391  \n",
       "7800      19.649788    655  \n",
       "7801      21.327661   1075  \n",
       "\n",
       "[7802 rows x 5 columns]"
      ]
     },
     "execution_count": 68,
     "metadata": {},
     "output_type": "execute_result"
    }
   ],
   "source": [
    "### 2020\n",
    "\n",
    "orders_2020 = all_orders[(df_order.order_placed_at >= '2020-01-01') & (all_orders.order_placed_at < '2021-01-01')]\n",
    "orders_2020"
   ]
  },
  {
   "cell_type": "code",
   "execution_count": 69,
   "id": "f5327116-817c-4d1b-9a37-fd57b2bb5eba",
   "metadata": {},
   "outputs": [
    {
     "data": {
      "text/plain": [
       "(111, 5)"
      ]
     },
     "execution_count": 69,
     "metadata": {},
     "output_type": "execute_result"
    }
   ],
   "source": [
    "late_2020 = orders_2020[orders_2020.delivery_time > 30]\n",
    "late_2020.shape"
   ]
  },
  {
   "cell_type": "code",
   "execution_count": 70,
   "id": "f48d75db-af03-42a4-9a00-950164c3caa1",
   "metadata": {},
   "outputs": [
    {
     "data": {
      "text/plain": [
       "96688"
      ]
     },
     "execution_count": 70,
     "metadata": {},
     "output_type": "execute_result"
    }
   ],
   "source": [
    "late_2020['Price'].sum()"
   ]
  },
  {
   "cell_type": "code",
   "execution_count": 71,
   "id": "c77df595-7ad0-4de8-be08-17421a1f06b6",
   "metadata": {},
   "outputs": [
    {
     "data": {
      "text/plain": [
       "(1992, 5)"
      ]
     },
     "execution_count": 71,
     "metadata": {},
     "output_type": "execute_result"
    }
   ],
   "source": [
    "## 2021\n",
    "\n",
    "orders_2021 = all_orders[(df_order.order_placed_at >= '2021-01-01') & (all_orders.order_placed_at < '2022-01-01')]\n",
    "\n",
    "late_2021 = orders_2021[orders_2021.delivery_time > 30]\n",
    "late_2021.shape\n"
   ]
  },
  {
   "cell_type": "code",
   "execution_count": 72,
   "id": "b7b92bf0-12c0-4213-bb41-15f77769d5fd",
   "metadata": {},
   "outputs": [
    {
     "data": {
      "text/plain": [
       "1791568"
      ]
     },
     "execution_count": 72,
     "metadata": {},
     "output_type": "execute_result"
    }
   ],
   "source": [
    "late_2021['Price'].sum()"
   ]
  },
  {
   "cell_type": "code",
   "execution_count": 73,
   "id": "91de6643-5f98-4bbe-bb2d-6311d95a021d",
   "metadata": {},
   "outputs": [
    {
     "data": {
      "text/plain": [
       "(1851, 5)"
      ]
     },
     "execution_count": 73,
     "metadata": {},
     "output_type": "execute_result"
    }
   ],
   "source": [
    "## 2022\n",
    "\n",
    "orders_2022 = all_orders[(df_order.order_placed_at >= '2022-01-01') & (all_orders.order_placed_at < '2023-01-01')]\n",
    "\n",
    "late_2022 = orders_2022[orders_2022.delivery_time > 30]\n",
    "late_2022.shape"
   ]
  },
  {
   "cell_type": "code",
   "execution_count": 74,
   "id": "f56db3bf-fcc3-4af3-806f-7bc16c3a0fe6",
   "metadata": {},
   "outputs": [
    {
     "data": {
      "text/plain": [
       "1664113"
      ]
     },
     "execution_count": 74,
     "metadata": {},
     "output_type": "execute_result"
    }
   ],
   "source": [
    "late_2022['Price'].sum()"
   ]
  },
  {
   "cell_type": "code",
   "execution_count": 75,
   "id": "4bfc19e9-0e53-4c1a-8dd2-35ca1a022810",
   "metadata": {},
   "outputs": [
    {
     "data": {
      "text/plain": [
       "(2003, 5)"
      ]
     },
     "execution_count": 75,
     "metadata": {},
     "output_type": "execute_result"
    }
   ],
   "source": [
    "## 2023\n",
    "\n",
    "orders_2023 = all_orders[(df_order.order_placed_at >= '2023-01-01') & (all_orders.order_placed_at < '2024-01-01')]\n",
    "\n",
    "late_2023 = orders_2023[orders_2023.delivery_time > 30]\n",
    "late_2023.shape"
   ]
  },
  {
   "cell_type": "code",
   "execution_count": 76,
   "id": "67b4cc38-6ca9-4937-86c7-ffced5c2a921",
   "metadata": {},
   "outputs": [
    {
     "data": {
      "text/plain": [
       "1826393"
      ]
     },
     "execution_count": 76,
     "metadata": {},
     "output_type": "execute_result"
    }
   ],
   "source": [
    "late_2023['Price'].sum()"
   ]
  },
  {
   "cell_type": "code",
   "execution_count": 77,
   "id": "69e50147-6b14-4353-a94a-47d3c7c19f02",
   "metadata": {},
   "outputs": [
    {
     "data": {
      "text/plain": [
       "(162, 5)"
      ]
     },
     "execution_count": 77,
     "metadata": {},
     "output_type": "execute_result"
    }
   ],
   "source": [
    "## 2024\n",
    "\n",
    "orders_2024 = all_orders[(df_order.order_placed_at >= '2024-01-01') & (all_orders.order_placed_at < '2025-01-01')]\n",
    "\n",
    "late_2024 = orders_2024[orders_2024.delivery_time > 30]\n",
    "late_2024.shape"
   ]
  },
  {
   "cell_type": "code",
   "execution_count": 78,
   "id": "a612c367-689f-4053-b927-dd8c1165406d",
   "metadata": {},
   "outputs": [
    {
     "data": {
      "text/plain": [
       "145669"
      ]
     },
     "execution_count": 78,
     "metadata": {},
     "output_type": "execute_result"
    }
   ],
   "source": [
    "late_2024['Price'].sum()"
   ]
  },
  {
   "cell_type": "markdown",
   "id": "ad67f2f4-dadc-4813-9b0f-c485a2e12f89",
   "metadata": {},
   "source": [
    "## Revenue generated excluding refunds"
   ]
  },
  {
   "cell_type": "code",
   "execution_count": 79,
   "id": "3ce065a7-77ab-47b6-90b2-2eff594cf9b2",
   "metadata": {},
   "outputs": [
    {
     "data": {
      "text/plain": [
       "(448217, 5)"
      ]
     },
     "execution_count": 79,
     "metadata": {},
     "output_type": "execute_result"
    }
   ],
   "source": [
    "## get all orders with revenuw < 30min\n",
    "\n",
    "total_bill = all_orders[all_orders['delivery_time'] <= 30]\n",
    "total_bill.shape"
   ]
  },
  {
   "cell_type": "code",
   "execution_count": 80,
   "id": "de9d3dbe-d12f-4887-95f6-88227917b5f0",
   "metadata": {},
   "outputs": [
    {
     "data": {
      "text/plain": [
       "402310056"
      ]
     },
     "execution_count": 80,
     "metadata": {},
     "output_type": "execute_result"
    }
   ],
   "source": [
    "total_bill['Price'].sum()"
   ]
  },
  {
   "cell_type": "code",
   "execution_count": null,
   "id": "85646c4a-60c8-4586-90a8-fc7ac86f232b",
   "metadata": {},
   "outputs": [],
   "source": []
  },
  {
   "cell_type": "markdown",
   "id": "00892b80-7b2c-415e-b367-a06a4abb9ae2",
   "metadata": {},
   "source": [
    "# BONUS QUESTION:\n",
    "## Distribution to Model no of orders incoming per hour"
   ]
  },
  {
   "cell_type": "code",
   "execution_count": 81,
   "id": "fdf67cfd-10ff-4597-a646-9d47d2caee88",
   "metadata": {},
   "outputs": [
    {
     "data": {
      "text/html": [
       "<div>\n",
       "<style scoped>\n",
       "    .dataframe tbody tr th:only-of-type {\n",
       "        vertical-align: middle;\n",
       "    }\n",
       "\n",
       "    .dataframe tbody tr th {\n",
       "        vertical-align: top;\n",
       "    }\n",
       "\n",
       "    .dataframe thead th {\n",
       "        text-align: right;\n",
       "    }\n",
       "</style>\n",
       "<table border=\"1\" class=\"dataframe\">\n",
       "  <thead>\n",
       "    <tr style=\"text-align: right;\">\n",
       "      <th></th>\n",
       "      <th>order_id</th>\n",
       "      <th>order_placed_at</th>\n",
       "    </tr>\n",
       "  </thead>\n",
       "  <tbody>\n",
       "    <tr>\n",
       "      <th>0</th>\n",
       "      <td>321230114</td>\n",
       "      <td>2020-12-11 00:01:29</td>\n",
       "    </tr>\n",
       "    <tr>\n",
       "      <th>1</th>\n",
       "      <td>321230115</td>\n",
       "      <td>2020-12-11 00:36:02</td>\n",
       "    </tr>\n",
       "    <tr>\n",
       "      <th>2</th>\n",
       "      <td>321230116</td>\n",
       "      <td>2020-12-11 00:55:01</td>\n",
       "    </tr>\n",
       "    <tr>\n",
       "      <th>3</th>\n",
       "      <td>321230117</td>\n",
       "      <td>2020-12-11 01:05:27</td>\n",
       "    </tr>\n",
       "    <tr>\n",
       "      <th>4</th>\n",
       "      <td>321230118</td>\n",
       "      <td>2020-12-11 01:14:20</td>\n",
       "    </tr>\n",
       "  </tbody>\n",
       "</table>\n",
       "</div>"
      ],
      "text/plain": [
       "    order_id      order_placed_at\n",
       "0  321230114  2020-12-11 00:01:29\n",
       "1  321230115  2020-12-11 00:36:02\n",
       "2  321230116  2020-12-11 00:55:01\n",
       "3  321230117  2020-12-11 01:05:27\n",
       "4  321230118  2020-12-11 01:14:20"
      ]
     },
     "execution_count": 81,
     "metadata": {},
     "output_type": "execute_result"
    }
   ],
   "source": [
    "orders.head()"
   ]
  },
  {
   "cell_type": "code",
   "execution_count": 86,
   "id": "11584339-7844-433b-9cfc-c8c4bdd530e8",
   "metadata": {},
   "outputs": [],
   "source": [
    "orders['order_placed_at'] = pd.to_datetime(orders['order_placed_at'])\n",
    "#orders.info()"
   ]
  },
  {
   "cell_type": "code",
   "execution_count": 83,
   "id": "c1714d68-f895-4c99-99dd-a051c3d01553",
   "metadata": {},
   "outputs": [],
   "source": [
    "# orders.groupby([orders['order_placed_at'].dt.hour])\n",
    "# orders['order_placed_at'].dt.hour"
   ]
  },
  {
   "cell_type": "code",
   "execution_count": 87,
   "id": "3d85a6a3-c3e8-4c92-bd8c-2b615177cd60",
   "metadata": {},
   "outputs": [
    {
     "data": {
      "text/plain": [
       "order_placed_at\n",
       "2020-12-11 00:00:00     3\n",
       "2020-12-11 01:00:00     4\n",
       "2020-12-11 02:00:00     4\n",
       "2020-12-11 03:00:00     9\n",
       "2020-12-11 04:00:00     6\n",
       "                       ..\n",
       "2024-01-31 19:00:00    12\n",
       "2024-01-31 20:00:00    16\n",
       "2024-01-31 21:00:00    11\n",
       "2024-01-31 22:00:00     4\n",
       "2024-01-31 23:00:00     9\n",
       "Freq: H, Name: order_id, Length: 27528, dtype: int64"
      ]
     },
     "execution_count": 87,
     "metadata": {},
     "output_type": "execute_result"
    }
   ],
   "source": [
    "hour_wise = orders.resample('H', on='order_placed_at').order_id.nunique()\n",
    "hour_wise"
   ]
  },
  {
   "cell_type": "code",
   "execution_count": 88,
   "id": "562a1a0d-b454-4b88-ad11-83a2866c393c",
   "metadata": {},
   "outputs": [
    {
     "data": {
      "text/plain": [
       "pandas.core.series.Series"
      ]
     },
     "execution_count": 88,
     "metadata": {},
     "output_type": "execute_result"
    }
   ],
   "source": [
    "type(hour_wise)"
   ]
  },
  {
   "cell_type": "code",
   "execution_count": 89,
   "id": "72fcc209-f0bb-4682-b935-a68fd5661e22",
   "metadata": {},
   "outputs": [
    {
     "data": {
      "text/plain": [
       "DatetimeIndex(['2020-12-11 00:00:00', '2020-12-11 01:00:00',\n",
       "               '2020-12-11 02:00:00', '2020-12-11 03:00:00',\n",
       "               '2020-12-11 04:00:00', '2020-12-11 05:00:00',\n",
       "               '2020-12-11 06:00:00', '2020-12-11 07:00:00',\n",
       "               '2020-12-11 08:00:00', '2020-12-11 09:00:00',\n",
       "               ...\n",
       "               '2024-01-31 14:00:00', '2024-01-31 15:00:00',\n",
       "               '2024-01-31 16:00:00', '2024-01-31 17:00:00',\n",
       "               '2024-01-31 18:00:00', '2024-01-31 19:00:00',\n",
       "               '2024-01-31 20:00:00', '2024-01-31 21:00:00',\n",
       "               '2024-01-31 22:00:00', '2024-01-31 23:00:00'],\n",
       "              dtype='datetime64[ns]', name='order_placed_at', length=27528, freq='H')"
      ]
     },
     "execution_count": 89,
     "metadata": {},
     "output_type": "execute_result"
    }
   ],
   "source": [
    "hour_wise.index"
   ]
  },
  {
   "cell_type": "code",
   "execution_count": 90,
   "id": "8212369b-d627-4ec4-a0fe-ec02f21f1821",
   "metadata": {},
   "outputs": [
    {
     "data": {
      "image/png": "[encoded data removed]",
      "text/plain": [
       "<Figure size 432x288 with 1 Axes>"
      ]
     },
     "metadata": {
      "needs_background": "light"
     },
     "output_type": "display_data"
    }
   ],
   "source": [
    "import seaborn as sns\n",
    "import matplotlib.pyplot as plt\n",
    "import numpy as np\n",
    "\n",
    "# Plot\n",
    "sns.kdeplot(hour_wise)\n",
    "\n",
    "plt.xlabel('Ratings')\n",
    "plt.ylabel('Range')\n",
    "\n",
    "plt.show()"
   ]
  },
  {
   "cell_type": "code",
   "execution_count": 91,
   "id": "18d51d70-5a66-4935-bc64-9fb25073a2a6",
   "metadata": {},
   "outputs": [
    {
     "data": {
      "text/plain": [
       "<Axes: >"
      ]
     },
     "execution_count": 91,
     "metadata": {},
     "output_type": "execute_result"
    },
    {
     "data": {
      "image/png": "[encoded data removed]",
      "text/plain": [
       "<Figure size 432x288 with 1 Axes>"
      ]
     },
     "metadata": {
      "needs_background": "light"
     },
     "output_type": "display_data"
    }
   ],
   "source": [
    "hour_wise.plot(kind='box')"
   ]
  },
  {
   "cell_type": "code",
   "execution_count": 96,
   "id": "1f3dd792-348b-4532-97e8-6e3239213b6f",
   "metadata": {},
   "outputs": [
    {
     "data": {
      "image/png": "[encoded data removed]",
      "text/plain": [
       "<Figure size 432x288 with 1 Axes>"
      ]
     },
     "metadata": {
      "needs_background": "light"
     },
     "output_type": "display_data"
    }
   ],
   "source": []
  },
  {
   "cell_type": "code",
   "execution_count": 95,
   "id": "5ce8f454-b45d-4180-b183-505ee18b5f5c",
   "metadata": {},
   "outputs": [
    {
     "data": {
      "text/plain": [
       "<Axes: xlabel='order_id'>"
      ]
     },
     "execution_count": 95,
     "metadata": {},
     "output_type": "execute_result"
    },
    {
     "data": {
      "image/png": "[encoded data removed]",
      "text/plain": [
       "<Figure size 432x288 with 1 Axes>"
      ]
     },
     "metadata": {
      "needs_background": "light"
     },
     "output_type": "display_data"
    }
   ],
   "source": [
    "sns.boxenplot(x=hour_wise)"
   ]
  },
  {
   "cell_type": "code",
   "execution_count": null,
   "id": "bbc6cc0c-6eff-42db-80fd-c1df4f57d539",
   "metadata": {},
   "outputs": [],
   "source": []
  }
 ],
 "metadata": {
  "kernelspec": {
   "display_name": "Python 3 (ipykernel)",
   "language": "python",
   "name": "python3"
  },
  "language_info": {
   "codemirror_mode": {
    "name": "ipython",
    "version": 3
   },
   "file_extension": ".py",
   "mimetype": "text/x-python",
   "name": "python",
   "nbconvert_exporter": "python",
   "pygments_lexer": "ipython3",
   "version": "3.10.1"
  }
 },
 "nbformat": 4,
 "nbformat_minor": 5
}
