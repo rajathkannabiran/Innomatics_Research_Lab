{
 "cells": [
  {
   "cell_type": "code",
   "execution_count": 40,
   "id": "50496844-b499-4fa0-b2f9-87e8da55b1ca",
   "metadata": {},
   "outputs": [],
   "source": [
    "import numpy as np\n",
    "import pandas as pd"
   ]
  },
  {
   "cell_type": "code",
   "execution_count": 41,
   "id": "d78a55b8-8bae-47a1-8482-86d0a248f5a0",
   "metadata": {},
   "outputs": [],
   "source": [
    "df = pd.read_csv(r'C:\\Users\\rajath.k\\Downloads\\raw_data_v11_3.csv')"
   ]
  },
  {
   "cell_type": "code",
   "execution_count": 42,
   "id": "26208dda-3fd2-48ff-a7c9-d25bcce9fa93",
   "metadata": {},
   "outputs": [
    {
     "data": {
      "text/html": [
       "<div>\n",
       "<style scoped>\n",
       "    .dataframe tbody tr th:only-of-type {\n",
       "        vertical-align: middle;\n",
       "    }\n",
       "\n",
       "    .dataframe tbody tr th {\n",
       "        vertical-align: top;\n",
       "    }\n",
       "\n",
       "    .dataframe thead th {\n",
       "        text-align: right;\n",
       "    }\n",
       "</style>\n",
       "<table border=\"1\" class=\"dataframe\">\n",
       "  <thead>\n",
       "    <tr style=\"text-align: right;\">\n",
       "      <th></th>\n",
       "      <th>Date of Birth</th>\n",
       "      <th>What is your current profession?</th>\n",
       "      <th>What is the year of completion of your Highest Education Qualification?</th>\n",
       "      <th>Which of the following best describes you?</th>\n",
       "      <th>Please mention the name of the institute where you have completed or are currently pursuing your Data Science Certification Course.</th>\n",
       "      <th>In case your certification institute is \"Innomatics Research Labs\", please provide your Enrolled Batch Number.</th>\n",
       "      <th>Please indicate the time that suits you for your daily LIVE interaction with our Chief Data Scientist as part of your internship.</th>\n",
       "      <th>What do you think are most important skill right now for a skilled Data Scientist?</th>\n",
       "    </tr>\n",
       "  </thead>\n",
       "  <tbody>\n",
       "    <tr>\n",
       "      <th>0</th>\n",
       "      <td>9/16/2000</td>\n",
       "      <td>Fresher (I have completed my Education and loo...</td>\n",
       "      <td>7/30/2023</td>\n",
       "      <td>I am currently enrolled in a Data Science cert...</td>\n",
       "      <td>Innomatics Research Labs</td>\n",
       "      <td>251</td>\n",
       "      <td>6:00 to 7:00 PM IST</td>\n",
       "      <td>Extracting actionable insights from the raw da...</td>\n",
       "    </tr>\n",
       "    <tr>\n",
       "      <th>1</th>\n",
       "      <td>2/6/1998</td>\n",
       "      <td>Fresher (I have completed my Education and loo...</td>\n",
       "      <td>5/18/2022</td>\n",
       "      <td>I have never enrolled in any certification cou...</td>\n",
       "      <td>NaN</td>\n",
       "      <td>NaN</td>\n",
       "      <td>6:00 to 7:00 PM IST</td>\n",
       "      <td>Extracting actionable insights from the raw data</td>\n",
       "    </tr>\n",
       "    <tr>\n",
       "      <th>2</th>\n",
       "      <td>10/8/2003</td>\n",
       "      <td>Student (I am currently enrolled in some Educa...</td>\n",
       "      <td>4/1/2025</td>\n",
       "      <td>I am currently enrolled in a Data Science cert...</td>\n",
       "      <td>NaN</td>\n",
       "      <td>NaN</td>\n",
       "      <td>6:00 to 7:00 PM IST</td>\n",
       "      <td>Data Modelling</td>\n",
       "    </tr>\n",
       "    <tr>\n",
       "      <th>3</th>\n",
       "      <td>11/29/2001</td>\n",
       "      <td>Student (I am currently enrolled in some Educa...</td>\n",
       "      <td>5/15/2024</td>\n",
       "      <td>I have never enrolled in any certification cou...</td>\n",
       "      <td>NaN</td>\n",
       "      <td>NaN</td>\n",
       "      <td>5:00 to 6:00 PM IST</td>\n",
       "      <td>Extracting actionable insights from the raw da...</td>\n",
       "    </tr>\n",
       "    <tr>\n",
       "      <th>4</th>\n",
       "      <td>11/25/2004</td>\n",
       "      <td>Student (I am currently enrolled in some Educa...</td>\n",
       "      <td>1/10/2026</td>\n",
       "      <td>I have completed a Data Science certification ...</td>\n",
       "      <td>Velagapudi ramakrishna Siddhartha college</td>\n",
       "      <td>Na</td>\n",
       "      <td>6:00 to 7:00 PM IST</td>\n",
       "      <td>Extracting actionable insights from the raw da...</td>\n",
       "    </tr>\n",
       "  </tbody>\n",
       "</table>\n",
       "</div>"
      ],
      "text/plain": [
       "  Date of Birth                   What is your current profession?  \\\n",
       "0     9/16/2000  Fresher (I have completed my Education and loo...   \n",
       "1      2/6/1998  Fresher (I have completed my Education and loo...   \n",
       "2     10/8/2003  Student (I am currently enrolled in some Educa...   \n",
       "3    11/29/2001  Student (I am currently enrolled in some Educa...   \n",
       "4    11/25/2004  Student (I am currently enrolled in some Educa...   \n",
       "\n",
       "  What is the year of completion of your Highest Education Qualification?  \\\n",
       "0                                          7/30/2023                        \n",
       "1                                          5/18/2022                        \n",
       "2                                           4/1/2025                        \n",
       "3                                          5/15/2024                        \n",
       "4                                          1/10/2026                        \n",
       "\n",
       "          Which of the following best describes you?  \\\n",
       "0  I am currently enrolled in a Data Science cert...   \n",
       "1  I have never enrolled in any certification cou...   \n",
       "2  I am currently enrolled in a Data Science cert...   \n",
       "3  I have never enrolled in any certification cou...   \n",
       "4  I have completed a Data Science certification ...   \n",
       "\n",
       "  Please mention the name of the institute where you have completed or are currently pursuing your Data Science Certification Course.  \\\n",
       "0                           Innomatics Research Labs                                                                                    \n",
       "1                                                NaN                                                                                    \n",
       "2                                                NaN                                                                                    \n",
       "3                                                NaN                                                                                    \n",
       "4         Velagapudi ramakrishna Siddhartha college                                                                                     \n",
       "\n",
       "  In case your certification institute is \"Innomatics Research Labs\", please provide your Enrolled Batch Number.  \\\n",
       "0                                                251                                                               \n",
       "1                                                NaN                                                               \n",
       "2                                                NaN                                                               \n",
       "3                                                NaN                                                               \n",
       "4                                                 Na                                                               \n",
       "\n",
       "  Please indicate the time that suits you for your daily LIVE interaction with our Chief Data Scientist as part of your internship.  \\\n",
       "0                                6:00 to 7:00 PM IST                                                                                  \n",
       "1                                6:00 to 7:00 PM IST                                                                                  \n",
       "2                                6:00 to 7:00 PM IST                                                                                  \n",
       "3                                5:00 to 6:00 PM IST                                                                                  \n",
       "4                                6:00 to 7:00 PM IST                                                                                  \n",
       "\n",
       "  What do you think are most important skill right now for a skilled Data Scientist?  \n",
       "0  Extracting actionable insights from the raw da...                                  \n",
       "1   Extracting actionable insights from the raw data                                  \n",
       "2                                     Data Modelling                                  \n",
       "3  Extracting actionable insights from the raw da...                                  \n",
       "4  Extracting actionable insights from the raw da...                                  "
      ]
     },
     "execution_count": 42,
     "metadata": {},
     "output_type": "execute_result"
    }
   ],
   "source": [
    "df.head()"
   ]
  },
  {
   "cell_type": "markdown",
   "id": "33e4042c-c13e-49de-ad0c-d7647eb2965b",
   "metadata": {},
   "source": [
    "### Renaming the col names <br>\n",
    " - by using rename (refer the task1.ipynb file for syntax)\n",
    " - by using just df.column=[give comma seperated new names for all the columns]"
   ]
  },
  {
   "cell_type": "code",
   "execution_count": 43,
   "id": "0b7f812b-29d9-4cde-a91e-6bcf38edc31b",
   "metadata": {},
   "outputs": [
    {
     "data": {
      "text/html": [
       "<div>\n",
       "<style scoped>\n",
       "    .dataframe tbody tr th:only-of-type {\n",
       "        vertical-align: middle;\n",
       "    }\n",
       "\n",
       "    .dataframe tbody tr th {\n",
       "        vertical-align: top;\n",
       "    }\n",
       "\n",
       "    .dataframe thead th {\n",
       "        text-align: right;\n",
       "    }\n",
       "</style>\n",
       "<table border=\"1\" class=\"dataframe\">\n",
       "  <thead>\n",
       "    <tr style=\"text-align: right;\">\n",
       "      <th></th>\n",
       "      <th>dob</th>\n",
       "      <th>profession</th>\n",
       "      <th>yog</th>\n",
       "      <th>desc</th>\n",
       "      <th>Institute</th>\n",
       "      <th>Innomatics_batch_no</th>\n",
       "      <th>session_time</th>\n",
       "      <th>ds_skills</th>\n",
       "    </tr>\n",
       "  </thead>\n",
       "  <tbody>\n",
       "    <tr>\n",
       "      <th>0</th>\n",
       "      <td>9/16/2000</td>\n",
       "      <td>Fresher (I have completed my Education and loo...</td>\n",
       "      <td>7/30/2023</td>\n",
       "      <td>I am currently enrolled in a Data Science cert...</td>\n",
       "      <td>Innomatics Research Labs</td>\n",
       "      <td>251</td>\n",
       "      <td>6:00 to 7:00 PM IST</td>\n",
       "      <td>Extracting actionable insights from the raw da...</td>\n",
       "    </tr>\n",
       "    <tr>\n",
       "      <th>1</th>\n",
       "      <td>2/6/1998</td>\n",
       "      <td>Fresher (I have completed my Education and loo...</td>\n",
       "      <td>5/18/2022</td>\n",
       "      <td>I have never enrolled in any certification cou...</td>\n",
       "      <td>NaN</td>\n",
       "      <td>NaN</td>\n",
       "      <td>6:00 to 7:00 PM IST</td>\n",
       "      <td>Extracting actionable insights from the raw data</td>\n",
       "    </tr>\n",
       "    <tr>\n",
       "      <th>2</th>\n",
       "      <td>10/8/2003</td>\n",
       "      <td>Student (I am currently enrolled in some Educa...</td>\n",
       "      <td>4/1/2025</td>\n",
       "      <td>I am currently enrolled in a Data Science cert...</td>\n",
       "      <td>NaN</td>\n",
       "      <td>NaN</td>\n",
       "      <td>6:00 to 7:00 PM IST</td>\n",
       "      <td>Data Modelling</td>\n",
       "    </tr>\n",
       "    <tr>\n",
       "      <th>3</th>\n",
       "      <td>11/29/2001</td>\n",
       "      <td>Student (I am currently enrolled in some Educa...</td>\n",
       "      <td>5/15/2024</td>\n",
       "      <td>I have never enrolled in any certification cou...</td>\n",
       "      <td>NaN</td>\n",
       "      <td>NaN</td>\n",
       "      <td>5:00 to 6:00 PM IST</td>\n",
       "      <td>Extracting actionable insights from the raw da...</td>\n",
       "    </tr>\n",
       "    <tr>\n",
       "      <th>4</th>\n",
       "      <td>11/25/2004</td>\n",
       "      <td>Student (I am currently enrolled in some Educa...</td>\n",
       "      <td>1/10/2026</td>\n",
       "      <td>I have completed a Data Science certification ...</td>\n",
       "      <td>Velagapudi ramakrishna Siddhartha college</td>\n",
       "      <td>Na</td>\n",
       "      <td>6:00 to 7:00 PM IST</td>\n",
       "      <td>Extracting actionable insights from the raw da...</td>\n",
       "    </tr>\n",
       "  </tbody>\n",
       "</table>\n",
       "</div>"
      ],
      "text/plain": [
       "          dob                                         profession        yog  \\\n",
       "0   9/16/2000  Fresher (I have completed my Education and loo...  7/30/2023   \n",
       "1    2/6/1998  Fresher (I have completed my Education and loo...  5/18/2022   \n",
       "2   10/8/2003  Student (I am currently enrolled in some Educa...   4/1/2025   \n",
       "3  11/29/2001  Student (I am currently enrolled in some Educa...  5/15/2024   \n",
       "4  11/25/2004  Student (I am currently enrolled in some Educa...  1/10/2026   \n",
       "\n",
       "                                                desc  \\\n",
       "0  I am currently enrolled in a Data Science cert...   \n",
       "1  I have never enrolled in any certification cou...   \n",
       "2  I am currently enrolled in a Data Science cert...   \n",
       "3  I have never enrolled in any certification cou...   \n",
       "4  I have completed a Data Science certification ...   \n",
       "\n",
       "                                    Institute Innomatics_batch_no  \\\n",
       "0                    Innomatics Research Labs                 251   \n",
       "1                                         NaN                 NaN   \n",
       "2                                         NaN                 NaN   \n",
       "3                                         NaN                 NaN   \n",
       "4  Velagapudi ramakrishna Siddhartha college                   Na   \n",
       "\n",
       "          session_time                                          ds_skills  \n",
       "0  6:00 to 7:00 PM IST  Extracting actionable insights from the raw da...  \n",
       "1  6:00 to 7:00 PM IST   Extracting actionable insights from the raw data  \n",
       "2  6:00 to 7:00 PM IST                                     Data Modelling  \n",
       "3  5:00 to 6:00 PM IST  Extracting actionable insights from the raw da...  \n",
       "4  6:00 to 7:00 PM IST  Extracting actionable insights from the raw da...  "
      ]
     },
     "execution_count": 43,
     "metadata": {},
     "output_type": "execute_result"
    }
   ],
   "source": [
    "df.columns = ['dob', 'profession', 'yog', 'desc', 'Institute', 'Innomatics_batch_no', 'session_time', 'ds_skills']\n",
    "df.head()"
   ]
  },
  {
   "cell_type": "code",
   "execution_count": 44,
   "id": "5fadbdf2-da2d-495b-8030-e2a58d027a6c",
   "metadata": {},
   "outputs": [
    {
     "name": "stdout",
     "output_type": "stream",
     "text": [
      "<class 'pandas.core.frame.DataFrame'>\n",
      "RangeIndex: 1000 entries, 0 to 999\n",
      "Data columns (total 8 columns):\n",
      " #   Column               Non-Null Count  Dtype \n",
      "---  ------               --------------  ----- \n",
      " 0   dob                  1000 non-null   object\n",
      " 1   profession           1000 non-null   object\n",
      " 2   yog                  1000 non-null   object\n",
      " 3   desc                 1000 non-null   object\n",
      " 4   Institute            678 non-null    object\n",
      " 5   Innomatics_batch_no  338 non-null    object\n",
      " 6   session_time         1000 non-null   object\n",
      " 7   ds_skills            1000 non-null   object\n",
      "dtypes: object(8)\n",
      "memory usage: 62.6+ KB\n"
     ]
    }
   ],
   "source": [
    "df.info()"
   ]
  },
  {
   "cell_type": "markdown",
   "id": "bad1ece8-50c5-4376-93cf-87d709057c45",
   "metadata": {},
   "source": [
    "## Check for duplicates <br>\n",
    "  - This will return the duplicated rows\n",
    "  - By doing drop_duplicates, we will remove all the duplicates present - i.e, they will have just one entry"
   ]
  },
  {
   "cell_type": "code",
   "execution_count": 45,
   "id": "7fb6a4a2-b608-4c63-89a6-407d0954ef7b",
   "metadata": {},
   "outputs": [
    {
     "data": {
      "text/html": [
       "<div>\n",
       "<style scoped>\n",
       "    .dataframe tbody tr th:only-of-type {\n",
       "        vertical-align: middle;\n",
       "    }\n",
       "\n",
       "    .dataframe tbody tr th {\n",
       "        vertical-align: top;\n",
       "    }\n",
       "\n",
       "    .dataframe thead th {\n",
       "        text-align: right;\n",
       "    }\n",
       "</style>\n",
       "<table border=\"1\" class=\"dataframe\">\n",
       "  <thead>\n",
       "    <tr style=\"text-align: right;\">\n",
       "      <th></th>\n",
       "      <th>dob</th>\n",
       "      <th>profession</th>\n",
       "      <th>yog</th>\n",
       "      <th>desc</th>\n",
       "      <th>Institute</th>\n",
       "      <th>Innomatics_batch_no</th>\n",
       "      <th>session_time</th>\n",
       "      <th>ds_skills</th>\n",
       "    </tr>\n",
       "  </thead>\n",
       "  <tbody>\n",
       "    <tr>\n",
       "      <th>8</th>\n",
       "      <td>10/30/2003</td>\n",
       "      <td>Student (I am currently enrolled in some Educa...</td>\n",
       "      <td>4/30/2025</td>\n",
       "      <td>I have never enrolled in any certification cou...</td>\n",
       "      <td>NaN</td>\n",
       "      <td>NaN</td>\n",
       "      <td>6:00 to 7:00 PM IST</td>\n",
       "      <td>Basics of backend application development usin...</td>\n",
       "    </tr>\n",
       "    <tr>\n",
       "      <th>221</th>\n",
       "      <td>3/22/2004</td>\n",
       "      <td>Student (I am currently enrolled in some Educa...</td>\n",
       "      <td>5/31/2025</td>\n",
       "      <td>I am currently enrolled in a Data Science cert...</td>\n",
       "      <td>Cisco networking academy</td>\n",
       "      <td>NaN</td>\n",
       "      <td>6:00 to 7:00 PM IST</td>\n",
       "      <td>Extracting actionable insights from the raw da...</td>\n",
       "    </tr>\n",
       "    <tr>\n",
       "      <th>341</th>\n",
       "      <td>3/22/2004</td>\n",
       "      <td>Student (I am currently enrolled in some Educa...</td>\n",
       "      <td>5/31/2025</td>\n",
       "      <td>I am currently enrolled in a Data Science cert...</td>\n",
       "      <td>Cisco networking academy</td>\n",
       "      <td>NaN</td>\n",
       "      <td>6:00 to 7:00 PM IST</td>\n",
       "      <td>Extracting actionable insights from the raw da...</td>\n",
       "    </tr>\n",
       "    <tr>\n",
       "      <th>384</th>\n",
       "      <td>10/30/2003</td>\n",
       "      <td>Student (I am currently enrolled in some Educa...</td>\n",
       "      <td>4/30/2025</td>\n",
       "      <td>I have never enrolled in any certification cou...</td>\n",
       "      <td>NaN</td>\n",
       "      <td>NaN</td>\n",
       "      <td>6:00 to 7:00 PM IST</td>\n",
       "      <td>Basics of backend application development usin...</td>\n",
       "    </tr>\n",
       "  </tbody>\n",
       "</table>\n",
       "</div>"
      ],
      "text/plain": [
       "            dob                                         profession        yog  \\\n",
       "8    10/30/2003  Student (I am currently enrolled in some Educa...  4/30/2025   \n",
       "221   3/22/2004  Student (I am currently enrolled in some Educa...  5/31/2025   \n",
       "341   3/22/2004  Student (I am currently enrolled in some Educa...  5/31/2025   \n",
       "384  10/30/2003  Student (I am currently enrolled in some Educa...  4/30/2025   \n",
       "\n",
       "                                                  desc  \\\n",
       "8    I have never enrolled in any certification cou...   \n",
       "221  I am currently enrolled in a Data Science cert...   \n",
       "341  I am currently enrolled in a Data Science cert...   \n",
       "384  I have never enrolled in any certification cou...   \n",
       "\n",
       "                     Institute Innomatics_batch_no         session_time  \\\n",
       "8                          NaN                 NaN  6:00 to 7:00 PM IST   \n",
       "221  Cisco networking academy                  NaN  6:00 to 7:00 PM IST   \n",
       "341  Cisco networking academy                  NaN  6:00 to 7:00 PM IST   \n",
       "384                        NaN                 NaN  6:00 to 7:00 PM IST   \n",
       "\n",
       "                                             ds_skills  \n",
       "8    Basics of backend application development usin...  \n",
       "221  Extracting actionable insights from the raw da...  \n",
       "341  Extracting actionable insights from the raw da...  \n",
       "384  Basics of backend application development usin...  "
      ]
     },
     "execution_count": 45,
     "metadata": {},
     "output_type": "execute_result"
    }
   ],
   "source": [
    "df[df.duplicated(keep=False)]"
   ]
  },
  {
   "cell_type": "code",
   "execution_count": 46,
   "id": "2778ece0-c50d-436a-bd79-01a51077d3df",
   "metadata": {},
   "outputs": [],
   "source": [
    "df = df.drop_duplicates()"
   ]
  },
  {
   "cell_type": "code",
   "execution_count": 47,
   "id": "cce4d835-9216-4d4c-876b-9177e15db260",
   "metadata": {},
   "outputs": [
    {
     "data": {
      "text/plain": [
       "(998, 8)"
      ]
     },
     "execution_count": 47,
     "metadata": {},
     "output_type": "execute_result"
    }
   ],
   "source": [
    "df.shape"
   ]
  },
  {
   "cell_type": "markdown",
   "id": "238233d0-8697-49b4-8e6f-80f33b5d1c96",
   "metadata": {},
   "source": [
    "## 1. What is the current profession of most interns?"
   ]
  },
  {
   "cell_type": "code",
   "execution_count": 48,
   "id": "6355bd3c-6bc2-4b1c-945d-48b8d8a370f0",
   "metadata": {},
   "outputs": [
    {
     "data": {
      "text/plain": [
       "Student (I am currently enrolled in some Educational Program)                          486\n",
       "Fresher (I have completed my Education and looking for a job now)                      424\n",
       "Working Professional (I have completed my Education and working full time)              62\n",
       "Freelancer (I have completed my Education and working part time or owns a business)     26\n",
       "Name: profession, dtype: int64"
      ]
     },
     "execution_count": 48,
     "metadata": {},
     "output_type": "execute_result"
    }
   ],
   "source": [
    "df['profession'].value_counts()"
   ]
  },
  {
   "cell_type": "code",
   "execution_count": 49,
   "id": "0819454a-44c6-4bea-9314-a12062842e6d",
   "metadata": {},
   "outputs": [
    {
     "data": {
      "text/plain": [
       "'Student (I am currently enrolled in some Educational Program)'"
      ]
     },
     "execution_count": 49,
     "metadata": {},
     "output_type": "execute_result"
    }
   ],
   "source": [
    "df['profession'].value_counts().idxmax()"
   ]
  },
  {
   "cell_type": "markdown",
   "id": "6342334c-f4df-4587-b91a-cde200031b5d",
   "metadata": {},
   "source": [
    "## 2. What are the preferred LIVE session timings?"
   ]
  },
  {
   "cell_type": "code",
   "execution_count": 50,
   "id": "d0f49705-8763-4522-bf07-904737b9dd57",
   "metadata": {},
   "outputs": [
    {
     "data": {
      "text/plain": [
       "6:00 to 7:00 PM IST    670\n",
       "5:00 to 6:00 PM IST    328\n",
       "Name: session_time, dtype: int64"
      ]
     },
     "execution_count": 50,
     "metadata": {},
     "output_type": "execute_result"
    }
   ],
   "source": [
    "df['session_time'].value_counts()"
   ]
  },
  {
   "cell_type": "code",
   "execution_count": 51,
   "id": "de9296ab-484f-4469-b8f6-eaba59f5a49b",
   "metadata": {},
   "outputs": [
    {
     "data": {
      "text/plain": [
       "'6:00 to 7:00 PM IST'"
      ]
     },
     "execution_count": 51,
     "metadata": {},
     "output_type": "execute_result"
    }
   ],
   "source": [
    "df['session_time'].value_counts().idxmax()"
   ]
  },
  {
   "cell_type": "markdown",
   "id": "998ebadf-698f-432b-a6da-770c3a1552da",
   "metadata": {},
   "source": [
    "## 3. How many interns enrolled in data science professional courses?"
   ]
  },
  {
   "cell_type": "code",
   "execution_count": 52,
   "id": "9d063eee-c7f9-40b9-b3b1-9e850fcf731a",
   "metadata": {},
   "outputs": [
    {
     "data": {
      "text/plain": [
       "I am currently enrolled in a Data Science certification course    404\n",
       "I have never enrolled in any certification courses                301\n",
       "I have completed a Data Science certification course              293\n",
       "Name: desc, dtype: int64"
      ]
     },
     "execution_count": 52,
     "metadata": {},
     "output_type": "execute_result"
    }
   ],
   "source": [
    "df['desc'].value_counts()"
   ]
  },
  {
   "cell_type": "code",
   "execution_count": 53,
   "id": "a673dab3-6d92-40c9-a359-82e9573c564f",
   "metadata": {},
   "outputs": [
    {
     "data": {
      "text/plain": [
       "697"
      ]
     },
     "execution_count": 53,
     "metadata": {},
     "output_type": "execute_result"
    }
   ],
   "source": [
    "df['desc'].value_counts().values[0] + df['desc'].value_counts().values[2]"
   ]
  },
  {
   "cell_type": "markdown",
   "id": "331e4f6e-26b0-4f72-b825-130da659260e",
   "metadata": {},
   "source": [
    "## 4. For interns who never enrolled in a data science course, what is the current profession of the majority of them? <br>\n",
    "\n",
    "- Using Bivariate analysis - catg vs catg col."
   ]
  },
  {
   "cell_type": "code",
   "execution_count": 54,
   "id": "5ea57e94-3131-43b7-ad5c-d4a36c07893f",
   "metadata": {},
   "outputs": [
    {
     "data": {
      "text/html": [
       "<div>\n",
       "<style scoped>\n",
       "    .dataframe tbody tr th:only-of-type {\n",
       "        vertical-align: middle;\n",
       "    }\n",
       "\n",
       "    .dataframe tbody tr th {\n",
       "        vertical-align: top;\n",
       "    }\n",
       "\n",
       "    .dataframe thead th {\n",
       "        text-align: right;\n",
       "    }\n",
       "</style>\n",
       "<table border=\"1\" class=\"dataframe\">\n",
       "  <thead>\n",
       "    <tr style=\"text-align: right;\">\n",
       "      <th>profession</th>\n",
       "      <th>Freelancer (I have completed my Education and working part time or owns a business)</th>\n",
       "      <th>Fresher (I have completed my Education and looking for a job now)</th>\n",
       "      <th>Student (I am currently enrolled in some Educational Program)</th>\n",
       "      <th>Working Professional (I have completed my Education and working full time)</th>\n",
       "    </tr>\n",
       "    <tr>\n",
       "      <th>desc</th>\n",
       "      <th></th>\n",
       "      <th></th>\n",
       "      <th></th>\n",
       "      <th></th>\n",
       "    </tr>\n",
       "  </thead>\n",
       "  <tbody>\n",
       "    <tr>\n",
       "      <th>I am currently enrolled in a Data Science certification course</th>\n",
       "      <td>0.029703</td>\n",
       "      <td>0.487624</td>\n",
       "      <td>0.415842</td>\n",
       "      <td>0.066832</td>\n",
       "    </tr>\n",
       "    <tr>\n",
       "      <th>I have completed a Data Science certification course</th>\n",
       "      <td>0.037543</td>\n",
       "      <td>0.477816</td>\n",
       "      <td>0.409556</td>\n",
       "      <td>0.075085</td>\n",
       "    </tr>\n",
       "    <tr>\n",
       "      <th>I have never enrolled in any certification courses</th>\n",
       "      <td>0.009967</td>\n",
       "      <td>0.289037</td>\n",
       "      <td>0.657807</td>\n",
       "      <td>0.043189</td>\n",
       "    </tr>\n",
       "  </tbody>\n",
       "</table>\n",
       "</div>"
      ],
      "text/plain": [
       "profession                                          Freelancer (I have completed my Education and working part time or owns a business)  \\\n",
       "desc                                                                                                                                      \n",
       "I am currently enrolled in a Data Science certi...                                           0.029703                                     \n",
       "I have completed a Data Science certification c...                                           0.037543                                     \n",
       "I have never enrolled in any certification courses                                           0.009967                                     \n",
       "\n",
       "profession                                          Fresher (I have completed my Education and looking for a job now)  \\\n",
       "desc                                                                                                                    \n",
       "I am currently enrolled in a Data Science certi...                                           0.487624                   \n",
       "I have completed a Data Science certification c...                                           0.477816                   \n",
       "I have never enrolled in any certification courses                                           0.289037                   \n",
       "\n",
       "profession                                          Student (I am currently enrolled in some Educational Program)  \\\n",
       "desc                                                                                                                \n",
       "I am currently enrolled in a Data Science certi...                                           0.415842               \n",
       "I have completed a Data Science certification c...                                           0.409556               \n",
       "I have never enrolled in any certification courses                                           0.657807               \n",
       "\n",
       "profession                                          Working Professional (I have completed my Education and working full time)  \n",
       "desc                                                                                                                            \n",
       "I am currently enrolled in a Data Science certi...                                           0.066832                           \n",
       "I have completed a Data Science certification c...                                           0.075085                           \n",
       "I have never enrolled in any certification courses                                           0.043189                           "
      ]
     },
     "execution_count": 54,
     "metadata": {},
     "output_type": "execute_result"
    }
   ],
   "source": [
    "pd.crosstab(df['desc'], df['profession'], normalize='index')"
   ]
  },
  {
   "cell_type": "code",
   "execution_count": 55,
   "id": "61a5fc06-da2f-4d71-b893-78b6187606d8",
   "metadata": {},
   "outputs": [],
   "source": [
    "import matplotlib.pyplot as plt"
   ]
  },
  {
   "cell_type": "code",
   "execution_count": 56,
   "id": "e708e1e7-0b83-4fbf-9bca-83f30c3c7cae",
   "metadata": {},
   "outputs": [
    {
     "data": {
      "text/plain": [
       "<matplotlib.legend.Legend at 0x2a4e3a59270>"
      ]
     },
     "execution_count": 56,
     "metadata": {},
     "output_type": "execute_result"
    },
    {
     "data": {
      "image/png": "[encoded data removed]",
      "text/plain": [
       "<Figure size 432x288 with 1 Axes>"
      ]
     },
     "metadata": {
      "needs_background": "light"
     },
     "output_type": "display_data"
    }
   ],
   "source": [
    "tab = pd.crosstab(df['desc'], df['profession'], normalize='index')\n",
    "tab.plot(kind='barh')\n",
    "## w/o this line, the chart description box will collide with the graph\n",
    "plt.legend(bbox_to_anchor=(1,1))"
   ]
  },
  {
   "cell_type": "markdown",
   "id": "84566c33-4366-49f9-a18a-89948e5eeb35",
   "metadata": {},
   "source": [
    "## 5. Let’s now analyze the age groups of fellow interns."
   ]
  },
  {
   "cell_type": "markdown",
   "id": "8e1c9a3a-ebd8-461a-a151-1965291f6ae6",
   "metadata": {},
   "source": [
    "### a). a. What is the minimum age of an intern at Innomatics Research Labs?"
   ]
  },
  {
   "cell_type": "code",
   "execution_count": 57,
   "id": "4ccdfa3c-176e-4791-906e-8f8733936c1d",
   "metadata": {},
   "outputs": [
    {
     "name": "stdout",
     "output_type": "stream",
     "text": [
      "<class 'pandas.core.frame.DataFrame'>\n",
      "Int64Index: 998 entries, 0 to 999\n",
      "Data columns (total 8 columns):\n",
      " #   Column               Non-Null Count  Dtype \n",
      "---  ------               --------------  ----- \n",
      " 0   dob                  998 non-null    object\n",
      " 1   profession           998 non-null    object\n",
      " 2   yog                  998 non-null    object\n",
      " 3   desc                 998 non-null    object\n",
      " 4   Institute            677 non-null    object\n",
      " 5   Innomatics_batch_no  338 non-null    object\n",
      " 6   session_time         998 non-null    object\n",
      " 7   ds_skills            998 non-null    object\n",
      "dtypes: object(8)\n",
      "memory usage: 70.2+ KB\n"
     ]
    }
   ],
   "source": [
    "df.info()"
   ]
  },
  {
   "cell_type": "code",
   "execution_count": 58,
   "id": "d2862143-50b8-4f81-b443-7aa557eb9978",
   "metadata": {},
   "outputs": [
    {
     "name": "stdout",
     "output_type": "stream",
     "text": [
      "<class 'pandas.core.frame.DataFrame'>\n",
      "Int64Index: 998 entries, 0 to 999\n",
      "Data columns (total 8 columns):\n",
      " #   Column               Non-Null Count  Dtype         \n",
      "---  ------               --------------  -----         \n",
      " 0   dob                  998 non-null    datetime64[ns]\n",
      " 1   profession           998 non-null    object        \n",
      " 2   yog                  998 non-null    object        \n",
      " 3   desc                 998 non-null    object        \n",
      " 4   Institute            677 non-null    object        \n",
      " 5   Innomatics_batch_no  338 non-null    object        \n",
      " 6   session_time         998 non-null    object        \n",
      " 7   ds_skills            998 non-null    object        \n",
      "dtypes: datetime64[ns](1), object(7)\n",
      "memory usage: 70.2+ KB\n"
     ]
    }
   ],
   "source": [
    "df['dob'] = pd.to_datetime(df['dob'])\n",
    "\n",
    "df.info()"
   ]
  },
  {
   "cell_type": "code",
   "execution_count": 59,
   "id": "30433bb7-3b95-4bf5-8b24-a9240749f8d7",
   "metadata": {},
   "outputs": [],
   "source": [
    "today = pd.to_datetime('today')\n",
    "\n",
    "## this has bias\n",
    "df['age1'] = today.year - df['dob'].dt.year\n",
    "## this is more accurate method for age\n",
    "df['age2'] = df['dob'].apply(lambda born: today.year - born.year - ((today.month, today.day) < (born.month, born.day)))"
   ]
  },
  {
   "cell_type": "code",
   "execution_count": 60,
   "id": "1c358c95-3c62-4c37-af88-3df305aae925",
   "metadata": {},
   "outputs": [
    {
     "data": {
      "text/html": [
       "<div>\n",
       "<style scoped>\n",
       "    .dataframe tbody tr th:only-of-type {\n",
       "        vertical-align: middle;\n",
       "    }\n",
       "\n",
       "    .dataframe tbody tr th {\n",
       "        vertical-align: top;\n",
       "    }\n",
       "\n",
       "    .dataframe thead th {\n",
       "        text-align: right;\n",
       "    }\n",
       "</style>\n",
       "<table border=\"1\" class=\"dataframe\">\n",
       "  <thead>\n",
       "    <tr style=\"text-align: right;\">\n",
       "      <th></th>\n",
       "      <th>age1</th>\n",
       "      <th>age2</th>\n",
       "    </tr>\n",
       "  </thead>\n",
       "  <tbody>\n",
       "    <tr>\n",
       "      <th>count</th>\n",
       "      <td>998.000000</td>\n",
       "      <td>998.000000</td>\n",
       "    </tr>\n",
       "    <tr>\n",
       "      <th>mean</th>\n",
       "      <td>23.330661</td>\n",
       "      <td>22.404810</td>\n",
       "    </tr>\n",
       "    <tr>\n",
       "      <th>std</th>\n",
       "      <td>3.299020</td>\n",
       "      <td>3.286771</td>\n",
       "    </tr>\n",
       "    <tr>\n",
       "      <th>min</th>\n",
       "      <td>0.000000</td>\n",
       "      <td>-1.000000</td>\n",
       "    </tr>\n",
       "    <tr>\n",
       "      <th>25%</th>\n",
       "      <td>21.000000</td>\n",
       "      <td>21.000000</td>\n",
       "    </tr>\n",
       "    <tr>\n",
       "      <th>50%</th>\n",
       "      <td>23.000000</td>\n",
       "      <td>22.000000</td>\n",
       "    </tr>\n",
       "    <tr>\n",
       "      <th>75%</th>\n",
       "      <td>24.000000</td>\n",
       "      <td>23.000000</td>\n",
       "    </tr>\n",
       "    <tr>\n",
       "      <th>max</th>\n",
       "      <td>44.000000</td>\n",
       "      <td>43.000000</td>\n",
       "    </tr>\n",
       "  </tbody>\n",
       "</table>\n",
       "</div>"
      ],
      "text/plain": [
       "             age1        age2\n",
       "count  998.000000  998.000000\n",
       "mean    23.330661   22.404810\n",
       "std      3.299020    3.286771\n",
       "min      0.000000   -1.000000\n",
       "25%     21.000000   21.000000\n",
       "50%     23.000000   22.000000\n",
       "75%     24.000000   23.000000\n",
       "max     44.000000   43.000000"
      ]
     },
     "execution_count": 60,
     "metadata": {},
     "output_type": "execute_result"
    }
   ],
   "source": [
    "df.describe()"
   ]
  },
  {
   "cell_type": "code",
   "execution_count": 61,
   "id": "00f6b62e-d391-44ab-9fb1-3eb3614d14ff",
   "metadata": {},
   "outputs": [
    {
     "data": {
      "text/plain": [
       "<Axes: >"
      ]
     },
     "execution_count": 61,
     "metadata": {},
     "output_type": "execute_result"
    },
    {
     "data": {
      "image/png": "[encoded data removed]",
      "text/plain": [
       "<Figure size 432x288 with 1 Axes>"
      ]
     },
     "metadata": {
      "needs_background": "light"
     },
     "output_type": "display_data"
    }
   ],
   "source": [
    "df['age1'].plot(kind='box')"
   ]
  },
  {
   "cell_type": "code",
   "execution_count": 62,
   "id": "5c525b0b-eaac-4e60-a8b6-1d858ca3e164",
   "metadata": {},
   "outputs": [
    {
     "data": {
      "text/html": [
       "<div>\n",
       "<style scoped>\n",
       "    .dataframe tbody tr th:only-of-type {\n",
       "        vertical-align: middle;\n",
       "    }\n",
       "\n",
       "    .dataframe tbody tr th {\n",
       "        vertical-align: top;\n",
       "    }\n",
       "\n",
       "    .dataframe thead th {\n",
       "        text-align: right;\n",
       "    }\n",
       "</style>\n",
       "<table border=\"1\" class=\"dataframe\">\n",
       "  <thead>\n",
       "    <tr style=\"text-align: right;\">\n",
       "      <th></th>\n",
       "      <th>dob</th>\n",
       "      <th>age1</th>\n",
       "      <th>age2</th>\n",
       "    </tr>\n",
       "  </thead>\n",
       "  <tbody>\n",
       "    <tr>\n",
       "      <th>112</th>\n",
       "      <td>2024-10-19</td>\n",
       "      <td>0</td>\n",
       "      <td>-1</td>\n",
       "    </tr>\n",
       "    <tr>\n",
       "      <th>307</th>\n",
       "      <td>2024-01-16</td>\n",
       "      <td>0</td>\n",
       "      <td>0</td>\n",
       "    </tr>\n",
       "    <tr>\n",
       "      <th>536</th>\n",
       "      <td>2024-05-13</td>\n",
       "      <td>0</td>\n",
       "      <td>-1</td>\n",
       "    </tr>\n",
       "  </tbody>\n",
       "</table>\n",
       "</div>"
      ],
      "text/plain": [
       "           dob  age1  age2\n",
       "112 2024-10-19     0    -1\n",
       "307 2024-01-16     0     0\n",
       "536 2024-05-13     0    -1"
      ]
     },
     "execution_count": 62,
     "metadata": {},
     "output_type": "execute_result"
    }
   ],
   "source": [
    "## Age cannot be -1\n",
    "## so we try to remove all the bias/outliers in our data\n",
    "\n",
    "df.loc[df['age2'] <= 0, ['dob', 'age1', 'age2']]"
   ]
  },
  {
   "cell_type": "code",
   "execution_count": 63,
   "id": "6be874e2-ee3e-48c4-b506-72b4eb4a8aec",
   "metadata": {},
   "outputs": [
    {
     "data": {
      "text/html": [
       "<div>\n",
       "<style scoped>\n",
       "    .dataframe tbody tr th:only-of-type {\n",
       "        vertical-align: middle;\n",
       "    }\n",
       "\n",
       "    .dataframe tbody tr th {\n",
       "        vertical-align: top;\n",
       "    }\n",
       "\n",
       "    .dataframe thead th {\n",
       "        text-align: right;\n",
       "    }\n",
       "</style>\n",
       "<table border=\"1\" class=\"dataframe\">\n",
       "  <thead>\n",
       "    <tr style=\"text-align: right;\">\n",
       "      <th></th>\n",
       "      <th>age1</th>\n",
       "      <th>age2</th>\n",
       "    </tr>\n",
       "  </thead>\n",
       "  <tbody>\n",
       "    <tr>\n",
       "      <th>count</th>\n",
       "      <td>995.000000</td>\n",
       "      <td>995.000000</td>\n",
       "    </tr>\n",
       "    <tr>\n",
       "      <th>mean</th>\n",
       "      <td>23.401005</td>\n",
       "      <td>22.474372</td>\n",
       "    </tr>\n",
       "    <tr>\n",
       "      <th>std</th>\n",
       "      <td>3.044439</td>\n",
       "      <td>3.037011</td>\n",
       "    </tr>\n",
       "    <tr>\n",
       "      <th>min</th>\n",
       "      <td>17.000000</td>\n",
       "      <td>16.000000</td>\n",
       "    </tr>\n",
       "    <tr>\n",
       "      <th>25%</th>\n",
       "      <td>21.500000</td>\n",
       "      <td>21.000000</td>\n",
       "    </tr>\n",
       "    <tr>\n",
       "      <th>50%</th>\n",
       "      <td>23.000000</td>\n",
       "      <td>22.000000</td>\n",
       "    </tr>\n",
       "    <tr>\n",
       "      <th>75%</th>\n",
       "      <td>24.000000</td>\n",
       "      <td>23.000000</td>\n",
       "    </tr>\n",
       "    <tr>\n",
       "      <th>max</th>\n",
       "      <td>44.000000</td>\n",
       "      <td>43.000000</td>\n",
       "    </tr>\n",
       "  </tbody>\n",
       "</table>\n",
       "</div>"
      ],
      "text/plain": [
       "             age1        age2\n",
       "count  995.000000  995.000000\n",
       "mean    23.401005   22.474372\n",
       "std      3.044439    3.037011\n",
       "min     17.000000   16.000000\n",
       "25%     21.500000   21.000000\n",
       "50%     23.000000   22.000000\n",
       "75%     24.000000   23.000000\n",
       "max     44.000000   43.000000"
      ]
     },
     "execution_count": 63,
     "metadata": {},
     "output_type": "execute_result"
    }
   ],
   "source": [
    "## Removing outliers\n",
    "\n",
    "df[df['age2'] > 0].describe()"
   ]
  },
  {
   "cell_type": "markdown",
   "id": "bccf8f28-1fdd-4019-a934-76c1cb8b0576",
   "metadata": {},
   "source": [
    "## b). How many interns were born on a Sunday?"
   ]
  },
  {
   "cell_type": "code",
   "execution_count": 64,
   "id": "15cd7cd2-17d7-451f-a825-0535b2e67df7",
   "metadata": {},
   "outputs": [
    {
     "data": {
      "text/plain": [
       "Monday       162\n",
       "Friday       146\n",
       "Thursday     146\n",
       "Saturday     145\n",
       "Tuesday      140\n",
       "Wednesday    134\n",
       "Sunday       125\n",
       "Name: dob, dtype: int64"
      ]
     },
     "execution_count": 64,
     "metadata": {},
     "output_type": "execute_result"
    }
   ],
   "source": [
    "df['dob'].dt.day_name().value_counts()"
   ]
  },
  {
   "cell_type": "markdown",
   "id": "ab195bc5-bfa2-4ea9-94b2-e9c621c5db6c",
   "metadata": {},
   "source": [
    "## c). In which month do the majority of interns are born?"
   ]
  },
  {
   "cell_type": "code",
   "execution_count": 65,
   "id": "c94bf601-61e2-47df-a272-aa3a14ce85c5",
   "metadata": {},
   "outputs": [
    {
     "data": {
      "text/plain": [
       "<Axes: >"
      ]
     },
     "execution_count": 65,
     "metadata": {},
     "output_type": "execute_result"
    },
    {
     "data": {
      "image/png": "[encoded data removed]",
      "text/plain": [
       "<Figure size 432x288 with 1 Axes>"
      ]
     },
     "metadata": {
      "needs_background": "light"
     },
     "output_type": "display_data"
    }
   ],
   "source": [
    "df['dob'].dt.month_name().value_counts().plot(kind='bar')"
   ]
  },
  {
   "cell_type": "code",
   "execution_count": null,
   "id": "5aee588d-a155-4c39-8612-b3513afd1d25",
   "metadata": {},
   "outputs": [],
   "source": []
  },
  {
   "cell_type": "code",
   "execution_count": null,
   "id": "fce7c317-8198-4b2d-bf07-f0a9f9748e8b",
   "metadata": {},
   "outputs": [],
   "source": []
  },
  {
   "cell_type": "markdown",
   "id": "53ed2352-d356-414e-9f6d-38a72dd57b05",
   "metadata": {},
   "source": [
    "## 6. Which skill is the most important for a data scientist?"
   ]
  },
  {
   "cell_type": "code",
   "execution_count": 66,
   "id": "28a3ba87-8860-459b-bd37-25d544994862",
   "metadata": {},
   "outputs": [
    {
     "data": {
      "text/plain": [
       "Extracting actionable insights from the raw data, Data Modelling, LLMs, MLOps, Basics of backend application development using python, Prompt Engineering    214\n",
       "Extracting actionable insights from the raw data, Data Modelling, MLOps                                                                                       73\n",
       "Extracting actionable insights from the raw data, Data Modelling                                                                                              70\n",
       "Extracting actionable insights from the raw data, Data Modelling, LLMs, MLOps                                                                                 66\n",
       "Extracting actionable insights from the raw data, Data Modelling, Basics of backend application development using python                                      59\n",
       "Extracting actionable insights from the raw data, Data Modelling, MLOps, Basics of backend application development using python                               51\n",
       "Extracting actionable insights from the raw data, Data Modelling, LLMs, MLOps, Basics of backend application development using python                         42\n",
       "Extracting actionable insights from the raw data                                                                                                              41\n",
       "Extracting actionable insights from the raw data, Data Modelling, LLMs, MLOps, Prompt Engineering                                                             31\n",
       "Extracting actionable insights from the raw data, Data Modelling, LLMs                                                                                        31\n",
       "Extracting actionable insights from the raw data, Data Modelling, Basics of backend application development using python, Prompt Engineering                  27\n",
       "Extracting actionable insights from the raw data, Data Modelling, LLMs, Basics of backend application development using python                                25\n",
       "Extracting actionable insights from the raw data, Data Modelling, Prompt Engineering                                                                          25\n",
       "Basics of backend application development using python                                                                                                        19\n",
       "Extracting actionable insights from the raw data, Data Modelling, LLMs, Prompt Engineering                                                                    18\n",
       "Extracting actionable insights from the raw data, Data Modelling, MLOps, Prompt Engineering                                                                   14\n",
       "Data Modelling                                                                                                                                                14\n",
       "Extracting actionable insights from the raw data, Data Modelling, LLMs, Basics of backend application development using python, Prompt Engineering            13\n",
       "LLMs, MLOps, Prompt Engineering                                                                                                                               10\n",
       "Extracting actionable insights from the raw data, LLMs, MLOps                                                                                                 10\n",
       "Data Modelling, LLMs, MLOps                                                                                                                                    9\n",
       "Extracting actionable insights from the raw data, Basics of backend application development using python                                                       8\n",
       "MLOps                                                                                                                                                          8\n",
       "Data Modelling, MLOps, Basics of backend application development using python                                                                                  7\n",
       "Prompt Engineering                                                                                                                                             7\n",
       "Extracting actionable insights from the raw data, LLMs, MLOps, Prompt Engineering                                                                              6\n",
       "Extracting actionable insights from the raw data, MLOps                                                                                                        6\n",
       "Extracting actionable insights from the raw data, Data Modelling, MLOps, Basics of backend application development using python, Prompt Engineering            6\n",
       "Data Modelling, LLMs, MLOps, Prompt Engineering                                                                                                                6\n",
       "LLMs, MLOps                                                                                                                                                    5\n",
       "Basics of backend application development using python, Prompt Engineering                                                                                     5\n",
       "Extracting actionable insights from the raw data, LLMs, MLOps, Basics of backend application development using python                                          5\n",
       "Extracting actionable insights from the raw data, LLMs, Prompt Engineering                                                                                     5\n",
       "Data Modelling, Basics of backend application development using python                                                                                         4\n",
       "Extracting actionable insights from the raw data, Basics of backend application development using python, Prompt Engineering                                   4\n",
       "LLMs                                                                                                                                                           4\n",
       "Data Modelling, LLMs, MLOps, Basics of backend application development using python, Prompt Engineering                                                        4\n",
       "LLMs, MLOps, Basics of backend application development using python, Prompt Engineering                                                                        3\n",
       "Extracting actionable insights from the raw data, MLOps, Prompt Engineering                                                                                    3\n",
       "Extracting actionable insights from the raw data, Prompt Engineering                                                                                           3\n",
       "Data Modelling, LLMs, Basics of backend application development using python, Prompt Engineering                                                               3\n",
       "Data Modelling, LLMs, MLOps, Basics of backend application development using python                                                                            3\n",
       "Data Modelling, LLMs                                                                                                                                           3\n",
       "Extracting actionable insights from the raw data, LLMs, Basics of backend application development using python                                                 3\n",
       "Extracting actionable insights from the raw data, LLMs, MLOps, Basics of backend application development using python, Prompt Engineering                      2\n",
       "Data Modelling, LLMs, Prompt Engineering                                                                                                                       2\n",
       "Extracting actionable insights from the raw data, LLMs                                                                                                         2\n",
       "Data Modelling, MLOps, Basics of backend application development using python, Prompt Engineering                                                              2\n",
       "LLMs, Basics of backend application development using python, Prompt Engineering                                                                               2\n",
       "Extracting actionable insights from the raw data, LLMs, Basics of backend application development using python, Prompt Engineering                             2\n",
       "Data Modelling, MLOps                                                                                                                                          2\n",
       "LLMs, Prompt Engineering                                                                                                                                       2\n",
       "Extracting actionable insights from the raw data, MLOps, Basics of backend application development using python, Prompt Engineering                            2\n",
       "Extracting actionable insights from the raw data, MLOps, Basics of backend application development using python                                                1\n",
       "Data Modelling, MLOps, Prompt Engineering                                                                                                                      1\n",
       "LLMs, Basics of backend application development using python                                                                                                   1\n",
       "LLMs, MLOps, Basics of backend application development using python                                                                                            1\n",
       "MLOps, Basics of backend application development using python                                                                                                  1\n",
       "MLOps, Basics of backend application development using python, Prompt Engineering                                                                              1\n",
       "MLOps, Prompt Engineering                                                                                                                                      1\n",
       "Name: ds_skills, dtype: int64"
      ]
     },
     "execution_count": 66,
     "metadata": {},
     "output_type": "execute_result"
    }
   ],
   "source": [
    "df['ds_skills'].value_counts()"
   ]
  },
  {
   "cell_type": "markdown",
   "id": "c27859ac-f99d-4ccc-a33e-6acb0799b112",
   "metadata": {},
   "source": [
    "## Exploding the column <br>\n",
    " - Pre-condition to use explode - we have pass a list\n",
    " - syntax -> dataframe.explode(\"col_name\")\n",
    " - How it works: <br>\n",
    " eg, <br> A | [b, c, d] <br>\n",
    "     B | [a, c] <br>\n",
    "Before exploding, we had 2 rows, 2 cols <br>\n",
    "After exploding, we will have A | b, A | c, A | d, B | a, B | c,  we will have 5 rows, 2 cols"
   ]
  },
  {
   "cell_type": "code",
   "execution_count": 67,
   "id": "1ee1986a-3e3d-4743-a46f-b19eb4a68801",
   "metadata": {},
   "outputs": [
    {
     "data": {
      "text/plain": [
       "60"
      ]
     },
     "execution_count": 67,
     "metadata": {},
     "output_type": "execute_result"
    }
   ],
   "source": [
    "df['ds_skills'].nunique()"
   ]
  },
  {
   "cell_type": "code",
   "execution_count": 68,
   "id": "f005efff-c242-4e12-aad4-d27b2c7057f4",
   "metadata": {},
   "outputs": [],
   "source": [
    "df['ds_skills'] = df['ds_skills'].apply(lambda skill: skill.split(','))"
   ]
  },
  {
   "cell_type": "code",
   "execution_count": 69,
   "id": "a08c6115-69f4-4037-89bc-a6283a267613",
   "metadata": {},
   "outputs": [
    {
     "data": {
      "text/html": [
       "<div>\n",
       "<style scoped>\n",
       "    .dataframe tbody tr th:only-of-type {\n",
       "        vertical-align: middle;\n",
       "    }\n",
       "\n",
       "    .dataframe tbody tr th {\n",
       "        vertical-align: top;\n",
       "    }\n",
       "\n",
       "    .dataframe thead th {\n",
       "        text-align: right;\n",
       "    }\n",
       "</style>\n",
       "<table border=\"1\" class=\"dataframe\">\n",
       "  <thead>\n",
       "    <tr style=\"text-align: right;\">\n",
       "      <th></th>\n",
       "      <th>dob</th>\n",
       "      <th>profession</th>\n",
       "      <th>yog</th>\n",
       "      <th>desc</th>\n",
       "      <th>Institute</th>\n",
       "      <th>Innomatics_batch_no</th>\n",
       "      <th>session_time</th>\n",
       "      <th>ds_skills</th>\n",
       "      <th>age1</th>\n",
       "      <th>age2</th>\n",
       "    </tr>\n",
       "  </thead>\n",
       "  <tbody>\n",
       "    <tr>\n",
       "      <th>0</th>\n",
       "      <td>2000-09-16</td>\n",
       "      <td>Fresher (I have completed my Education and loo...</td>\n",
       "      <td>7/30/2023</td>\n",
       "      <td>I am currently enrolled in a Data Science cert...</td>\n",
       "      <td>Innomatics Research Labs</td>\n",
       "      <td>251</td>\n",
       "      <td>6:00 to 7:00 PM IST</td>\n",
       "      <td>[Extracting actionable insights from the raw d...</td>\n",
       "      <td>24</td>\n",
       "      <td>23</td>\n",
       "    </tr>\n",
       "    <tr>\n",
       "      <th>1</th>\n",
       "      <td>1998-02-06</td>\n",
       "      <td>Fresher (I have completed my Education and loo...</td>\n",
       "      <td>5/18/2022</td>\n",
       "      <td>I have never enrolled in any certification cou...</td>\n",
       "      <td>NaN</td>\n",
       "      <td>NaN</td>\n",
       "      <td>6:00 to 7:00 PM IST</td>\n",
       "      <td>[Extracting actionable insights from the raw d...</td>\n",
       "      <td>26</td>\n",
       "      <td>25</td>\n",
       "    </tr>\n",
       "    <tr>\n",
       "      <th>2</th>\n",
       "      <td>2003-10-08</td>\n",
       "      <td>Student (I am currently enrolled in some Educa...</td>\n",
       "      <td>4/1/2025</td>\n",
       "      <td>I am currently enrolled in a Data Science cert...</td>\n",
       "      <td>NaN</td>\n",
       "      <td>NaN</td>\n",
       "      <td>6:00 to 7:00 PM IST</td>\n",
       "      <td>[Data Modelling]</td>\n",
       "      <td>21</td>\n",
       "      <td>20</td>\n",
       "    </tr>\n",
       "    <tr>\n",
       "      <th>3</th>\n",
       "      <td>2001-11-29</td>\n",
       "      <td>Student (I am currently enrolled in some Educa...</td>\n",
       "      <td>5/15/2024</td>\n",
       "      <td>I have never enrolled in any certification cou...</td>\n",
       "      <td>NaN</td>\n",
       "      <td>NaN</td>\n",
       "      <td>5:00 to 6:00 PM IST</td>\n",
       "      <td>[Extracting actionable insights from the raw d...</td>\n",
       "      <td>23</td>\n",
       "      <td>22</td>\n",
       "    </tr>\n",
       "    <tr>\n",
       "      <th>4</th>\n",
       "      <td>2004-11-25</td>\n",
       "      <td>Student (I am currently enrolled in some Educa...</td>\n",
       "      <td>1/10/2026</td>\n",
       "      <td>I have completed a Data Science certification ...</td>\n",
       "      <td>Velagapudi ramakrishna Siddhartha college</td>\n",
       "      <td>Na</td>\n",
       "      <td>6:00 to 7:00 PM IST</td>\n",
       "      <td>[Extracting actionable insights from the raw d...</td>\n",
       "      <td>20</td>\n",
       "      <td>19</td>\n",
       "    </tr>\n",
       "  </tbody>\n",
       "</table>\n",
       "</div>"
      ],
      "text/plain": [
       "         dob                                         profession        yog  \\\n",
       "0 2000-09-16  Fresher (I have completed my Education and loo...  7/30/2023   \n",
       "1 1998-02-06  Fresher (I have completed my Education and loo...  5/18/2022   \n",
       "2 2003-10-08  Student (I am currently enrolled in some Educa...   4/1/2025   \n",
       "3 2001-11-29  Student (I am currently enrolled in some Educa...  5/15/2024   \n",
       "4 2004-11-25  Student (I am currently enrolled in some Educa...  1/10/2026   \n",
       "\n",
       "                                                desc  \\\n",
       "0  I am currently enrolled in a Data Science cert...   \n",
       "1  I have never enrolled in any certification cou...   \n",
       "2  I am currently enrolled in a Data Science cert...   \n",
       "3  I have never enrolled in any certification cou...   \n",
       "4  I have completed a Data Science certification ...   \n",
       "\n",
       "                                    Institute Innomatics_batch_no  \\\n",
       "0                    Innomatics Research Labs                 251   \n",
       "1                                         NaN                 NaN   \n",
       "2                                         NaN                 NaN   \n",
       "3                                         NaN                 NaN   \n",
       "4  Velagapudi ramakrishna Siddhartha college                   Na   \n",
       "\n",
       "          session_time                                          ds_skills  \\\n",
       "0  6:00 to 7:00 PM IST  [Extracting actionable insights from the raw d...   \n",
       "1  6:00 to 7:00 PM IST  [Extracting actionable insights from the raw d...   \n",
       "2  6:00 to 7:00 PM IST                                   [Data Modelling]   \n",
       "3  5:00 to 6:00 PM IST  [Extracting actionable insights from the raw d...   \n",
       "4  6:00 to 7:00 PM IST  [Extracting actionable insights from the raw d...   \n",
       "\n",
       "   age1  age2  \n",
       "0    24    23  \n",
       "1    26    25  \n",
       "2    21    20  \n",
       "3    23    22  \n",
       "4    20    19  "
      ]
     },
     "execution_count": 69,
     "metadata": {},
     "output_type": "execute_result"
    }
   ],
   "source": [
    "df.head()"
   ]
  },
  {
   "cell_type": "code",
   "execution_count": 70,
   "id": "6f07fae0-f0be-46dc-9d6b-91e552d7e27a",
   "metadata": {},
   "outputs": [],
   "source": [
    "exploded_df = df.explode('ds_skills')"
   ]
  },
  {
   "cell_type": "code",
   "execution_count": 71,
   "id": "b8c1baa5-d11b-4349-be1f-49c5eb7397f8",
   "metadata": {},
   "outputs": [
    {
     "data": {
      "text/plain": [
       "(3766, 10)"
      ]
     },
     "execution_count": 71,
     "metadata": {},
     "output_type": "execute_result"
    }
   ],
   "source": [
    "exploded_df.shape"
   ]
  },
  {
   "cell_type": "code",
   "execution_count": 72,
   "id": "55adeee4-1545-4d79-93b3-210c8da83909",
   "metadata": {},
   "outputs": [
    {
     "data": {
      "text/html": [
       "<div>\n",
       "<style scoped>\n",
       "    .dataframe tbody tr th:only-of-type {\n",
       "        vertical-align: middle;\n",
       "    }\n",
       "\n",
       "    .dataframe tbody tr th {\n",
       "        vertical-align: top;\n",
       "    }\n",
       "\n",
       "    .dataframe thead th {\n",
       "        text-align: right;\n",
       "    }\n",
       "</style>\n",
       "<table border=\"1\" class=\"dataframe\">\n",
       "  <thead>\n",
       "    <tr style=\"text-align: right;\">\n",
       "      <th></th>\n",
       "      <th>dob</th>\n",
       "      <th>profession</th>\n",
       "      <th>yog</th>\n",
       "      <th>desc</th>\n",
       "      <th>Institute</th>\n",
       "      <th>Innomatics_batch_no</th>\n",
       "      <th>session_time</th>\n",
       "      <th>ds_skills</th>\n",
       "      <th>age1</th>\n",
       "      <th>age2</th>\n",
       "    </tr>\n",
       "  </thead>\n",
       "  <tbody>\n",
       "    <tr>\n",
       "      <th>0</th>\n",
       "      <td>2000-09-16</td>\n",
       "      <td>Fresher (I have completed my Education and loo...</td>\n",
       "      <td>7/30/2023</td>\n",
       "      <td>I am currently enrolled in a Data Science cert...</td>\n",
       "      <td>Innomatics Research Labs</td>\n",
       "      <td>251</td>\n",
       "      <td>6:00 to 7:00 PM IST</td>\n",
       "      <td>Extracting actionable insights from the raw data</td>\n",
       "      <td>24</td>\n",
       "      <td>23</td>\n",
       "    </tr>\n",
       "    <tr>\n",
       "      <th>0</th>\n",
       "      <td>2000-09-16</td>\n",
       "      <td>Fresher (I have completed my Education and loo...</td>\n",
       "      <td>7/30/2023</td>\n",
       "      <td>I am currently enrolled in a Data Science cert...</td>\n",
       "      <td>Innomatics Research Labs</td>\n",
       "      <td>251</td>\n",
       "      <td>6:00 to 7:00 PM IST</td>\n",
       "      <td>Data Modelling</td>\n",
       "      <td>24</td>\n",
       "      <td>23</td>\n",
       "    </tr>\n",
       "    <tr>\n",
       "      <th>0</th>\n",
       "      <td>2000-09-16</td>\n",
       "      <td>Fresher (I have completed my Education and loo...</td>\n",
       "      <td>7/30/2023</td>\n",
       "      <td>I am currently enrolled in a Data Science cert...</td>\n",
       "      <td>Innomatics Research Labs</td>\n",
       "      <td>251</td>\n",
       "      <td>6:00 to 7:00 PM IST</td>\n",
       "      <td>LLMs</td>\n",
       "      <td>24</td>\n",
       "      <td>23</td>\n",
       "    </tr>\n",
       "    <tr>\n",
       "      <th>0</th>\n",
       "      <td>2000-09-16</td>\n",
       "      <td>Fresher (I have completed my Education and loo...</td>\n",
       "      <td>7/30/2023</td>\n",
       "      <td>I am currently enrolled in a Data Science cert...</td>\n",
       "      <td>Innomatics Research Labs</td>\n",
       "      <td>251</td>\n",
       "      <td>6:00 to 7:00 PM IST</td>\n",
       "      <td>MLOps</td>\n",
       "      <td>24</td>\n",
       "      <td>23</td>\n",
       "    </tr>\n",
       "    <tr>\n",
       "      <th>0</th>\n",
       "      <td>2000-09-16</td>\n",
       "      <td>Fresher (I have completed my Education and loo...</td>\n",
       "      <td>7/30/2023</td>\n",
       "      <td>I am currently enrolled in a Data Science cert...</td>\n",
       "      <td>Innomatics Research Labs</td>\n",
       "      <td>251</td>\n",
       "      <td>6:00 to 7:00 PM IST</td>\n",
       "      <td>Basics of backend application development usi...</td>\n",
       "      <td>24</td>\n",
       "      <td>23</td>\n",
       "    </tr>\n",
       "    <tr>\n",
       "      <th>...</th>\n",
       "      <td>...</td>\n",
       "      <td>...</td>\n",
       "      <td>...</td>\n",
       "      <td>...</td>\n",
       "      <td>...</td>\n",
       "      <td>...</td>\n",
       "      <td>...</td>\n",
       "      <td>...</td>\n",
       "      <td>...</td>\n",
       "      <td>...</td>\n",
       "    </tr>\n",
       "    <tr>\n",
       "      <th>998</th>\n",
       "      <td>2003-06-03</td>\n",
       "      <td>Student (I am currently enrolled in some Educa...</td>\n",
       "      <td>5/30/2025</td>\n",
       "      <td>I have never enrolled in any certification cou...</td>\n",
       "      <td>NaN</td>\n",
       "      <td>NaN</td>\n",
       "      <td>6:00 to 7:00 PM IST</td>\n",
       "      <td>LLMs</td>\n",
       "      <td>21</td>\n",
       "      <td>20</td>\n",
       "    </tr>\n",
       "    <tr>\n",
       "      <th>998</th>\n",
       "      <td>2003-06-03</td>\n",
       "      <td>Student (I am currently enrolled in some Educa...</td>\n",
       "      <td>5/30/2025</td>\n",
       "      <td>I have never enrolled in any certification cou...</td>\n",
       "      <td>NaN</td>\n",
       "      <td>NaN</td>\n",
       "      <td>6:00 to 7:00 PM IST</td>\n",
       "      <td>Basics of backend application development usi...</td>\n",
       "      <td>21</td>\n",
       "      <td>20</td>\n",
       "    </tr>\n",
       "    <tr>\n",
       "      <th>999</th>\n",
       "      <td>2003-07-24</td>\n",
       "      <td>Student (I am currently enrolled in some Educa...</td>\n",
       "      <td>5/25/2025</td>\n",
       "      <td>I am currently enrolled in a Data Science cert...</td>\n",
       "      <td>Birla Institute of Technology and Science, Pil...</td>\n",
       "      <td>NaN</td>\n",
       "      <td>6:00 to 7:00 PM IST</td>\n",
       "      <td>LLMs</td>\n",
       "      <td>21</td>\n",
       "      <td>20</td>\n",
       "    </tr>\n",
       "    <tr>\n",
       "      <th>999</th>\n",
       "      <td>2003-07-24</td>\n",
       "      <td>Student (I am currently enrolled in some Educa...</td>\n",
       "      <td>5/25/2025</td>\n",
       "      <td>I am currently enrolled in a Data Science cert...</td>\n",
       "      <td>Birla Institute of Technology and Science, Pil...</td>\n",
       "      <td>NaN</td>\n",
       "      <td>6:00 to 7:00 PM IST</td>\n",
       "      <td>MLOps</td>\n",
       "      <td>21</td>\n",
       "      <td>20</td>\n",
       "    </tr>\n",
       "    <tr>\n",
       "      <th>999</th>\n",
       "      <td>2003-07-24</td>\n",
       "      <td>Student (I am currently enrolled in some Educa...</td>\n",
       "      <td>5/25/2025</td>\n",
       "      <td>I am currently enrolled in a Data Science cert...</td>\n",
       "      <td>Birla Institute of Technology and Science, Pil...</td>\n",
       "      <td>NaN</td>\n",
       "      <td>6:00 to 7:00 PM IST</td>\n",
       "      <td>Prompt Engineering</td>\n",
       "      <td>21</td>\n",
       "      <td>20</td>\n",
       "    </tr>\n",
       "  </tbody>\n",
       "</table>\n",
       "<p>3766 rows × 10 columns</p>\n",
       "</div>"
      ],
      "text/plain": [
       "           dob                                         profession        yog  \\\n",
       "0   2000-09-16  Fresher (I have completed my Education and loo...  7/30/2023   \n",
       "0   2000-09-16  Fresher (I have completed my Education and loo...  7/30/2023   \n",
       "0   2000-09-16  Fresher (I have completed my Education and loo...  7/30/2023   \n",
       "0   2000-09-16  Fresher (I have completed my Education and loo...  7/30/2023   \n",
       "0   2000-09-16  Fresher (I have completed my Education and loo...  7/30/2023   \n",
       "..         ...                                                ...        ...   \n",
       "998 2003-06-03  Student (I am currently enrolled in some Educa...  5/30/2025   \n",
       "998 2003-06-03  Student (I am currently enrolled in some Educa...  5/30/2025   \n",
       "999 2003-07-24  Student (I am currently enrolled in some Educa...  5/25/2025   \n",
       "999 2003-07-24  Student (I am currently enrolled in some Educa...  5/25/2025   \n",
       "999 2003-07-24  Student (I am currently enrolled in some Educa...  5/25/2025   \n",
       "\n",
       "                                                  desc  \\\n",
       "0    I am currently enrolled in a Data Science cert...   \n",
       "0    I am currently enrolled in a Data Science cert...   \n",
       "0    I am currently enrolled in a Data Science cert...   \n",
       "0    I am currently enrolled in a Data Science cert...   \n",
       "0    I am currently enrolled in a Data Science cert...   \n",
       "..                                                 ...   \n",
       "998  I have never enrolled in any certification cou...   \n",
       "998  I have never enrolled in any certification cou...   \n",
       "999  I am currently enrolled in a Data Science cert...   \n",
       "999  I am currently enrolled in a Data Science cert...   \n",
       "999  I am currently enrolled in a Data Science cert...   \n",
       "\n",
       "                                             Institute Innomatics_batch_no  \\\n",
       "0                             Innomatics Research Labs                 251   \n",
       "0                             Innomatics Research Labs                 251   \n",
       "0                             Innomatics Research Labs                 251   \n",
       "0                             Innomatics Research Labs                 251   \n",
       "0                             Innomatics Research Labs                 251   \n",
       "..                                                 ...                 ...   \n",
       "998                                                NaN                 NaN   \n",
       "998                                                NaN                 NaN   \n",
       "999  Birla Institute of Technology and Science, Pil...                 NaN   \n",
       "999  Birla Institute of Technology and Science, Pil...                 NaN   \n",
       "999  Birla Institute of Technology and Science, Pil...                 NaN   \n",
       "\n",
       "            session_time                                          ds_skills  \\\n",
       "0    6:00 to 7:00 PM IST   Extracting actionable insights from the raw data   \n",
       "0    6:00 to 7:00 PM IST                                     Data Modelling   \n",
       "0    6:00 to 7:00 PM IST                                               LLMs   \n",
       "0    6:00 to 7:00 PM IST                                              MLOps   \n",
       "0    6:00 to 7:00 PM IST   Basics of backend application development usi...   \n",
       "..                   ...                                                ...   \n",
       "998  6:00 to 7:00 PM IST                                               LLMs   \n",
       "998  6:00 to 7:00 PM IST   Basics of backend application development usi...   \n",
       "999  6:00 to 7:00 PM IST                                               LLMs   \n",
       "999  6:00 to 7:00 PM IST                                              MLOps   \n",
       "999  6:00 to 7:00 PM IST                                 Prompt Engineering   \n",
       "\n",
       "     age1  age2  \n",
       "0      24    23  \n",
       "0      24    23  \n",
       "0      24    23  \n",
       "0      24    23  \n",
       "0      24    23  \n",
       "..    ...   ...  \n",
       "998    21    20  \n",
       "998    21    20  \n",
       "999    21    20  \n",
       "999    21    20  \n",
       "999    21    20  \n",
       "\n",
       "[3766 rows x 10 columns]"
      ]
     },
     "execution_count": 72,
     "metadata": {},
     "output_type": "execute_result"
    }
   ],
   "source": [
    "exploded_df"
   ]
  },
  {
   "cell_type": "code",
   "execution_count": 76,
   "id": "11397b8e-2b77-4f8f-aa6c-644f67a110be",
   "metadata": {},
   "outputs": [
    {
     "data": {
      "text/plain": [
       "Extracting actionable insights from the raw data           868\n",
       " Data Modelling                                            765\n",
       " MLOps                                                     585\n",
       " LLMs                                                      505\n",
       " Basics of backend application development using python    496\n",
       " Prompt Engineering                                        417\n",
       "Data Modelling                                              60\n",
       "LLMs                                                        28\n",
       "Basics of backend application development using python      24\n",
       "MLOps                                                       11\n",
       "Prompt Engineering                                           7\n",
       "Name: ds_skills, dtype: int64"
      ]
     },
     "execution_count": 76,
     "metadata": {},
     "output_type": "execute_result"
    }
   ],
   "source": [
    "exploded_df['ds_skills'].value_counts()"
   ]
  },
  {
   "cell_type": "markdown",
   "id": "9bed3b2f-eb02-4f26-9b87-7f79aa427648",
   "metadata": {},
   "source": [
    "### Since there are spaces in the response values, we are not seeing exact count <br> so apply strip"
   ]
  },
  {
   "cell_type": "code",
   "execution_count": 81,
   "id": "b1321ad9-cd1e-4953-a125-a69167ee1d0b",
   "metadata": {},
   "outputs": [],
   "source": [
    "exploded_df['ds_skills'] = exploded_df['ds_skills'].str.strip()"
   ]
  },
  {
   "cell_type": "code",
   "execution_count": 82,
   "id": "eff8e39a-0aea-44df-ba2c-1dd234bf9d32",
   "metadata": {},
   "outputs": [
    {
     "data": {
      "text/plain": [
       "Extracting actionable insights from the raw data          868\n",
       "Data Modelling                                            825\n",
       "MLOps                                                     596\n",
       "LLMs                                                      533\n",
       "Basics of backend application development using python    520\n",
       "Prompt Engineering                                        424\n",
       "Name: ds_skills, dtype: int64"
      ]
     },
     "execution_count": 82,
     "metadata": {},
     "output_type": "execute_result"
    }
   ],
   "source": [
    "exploded_df['ds_skills'].value_counts()"
   ]
  },
  {
   "cell_type": "code",
   "execution_count": 83,
   "id": "77a9653a-f4d6-4756-9a9b-bc6fdc0027f4",
   "metadata": {},
   "outputs": [
    {
     "data": {
      "text/plain": [
       "'MLOps'"
      ]
     },
     "execution_count": 83,
     "metadata": {},
     "output_type": "execute_result"
    }
   ],
   "source": [
    "exploded_df['ds_skills'].value_counts().index[2]"
   ]
  },
  {
   "cell_type": "markdown",
   "id": "c6e7d722-6cb3-40ca-9a8a-1e33dfc78a9f",
   "metadata": {},
   "source": [
    "## 7. How many interns selected “Prompt Engineering” as the most important skill?"
   ]
  },
  {
   "cell_type": "code",
   "execution_count": 84,
   "id": "3911c401-e889-4b55-a99b-d2324557dd31",
   "metadata": {},
   "outputs": [
    {
     "data": {
      "text/plain": [
       "424"
      ]
     },
     "execution_count": 84,
     "metadata": {},
     "output_type": "execute_result"
    }
   ],
   "source": [
    "exploded_df['ds_skills'].value_counts()['Prompt Engineering']"
   ]
  },
  {
   "cell_type": "markdown",
   "id": "86aef1b6-9f08-4912-9d08-ecf72b4acf76",
   "metadata": {},
   "source": [
    "## 8 a). How many interns didn’t mention the name of the data science institute from where they completed or are currently pursuing the courses?"
   ]
  },
  {
   "cell_type": "code",
   "execution_count": 85,
   "id": "6452c9f1-9722-4309-8aba-8f7128674530",
   "metadata": {},
   "outputs": [
    {
     "data": {
      "text/plain": [
       "365"
      ]
     },
     "execution_count": 85,
     "metadata": {},
     "output_type": "execute_result"
    }
   ],
   "source": [
    "df['Institute'].nunique()"
   ]
  },
  {
   "cell_type": "code",
   "execution_count": 86,
   "id": "d17d3508-9860-4b01-931f-03f606fb44cc",
   "metadata": {},
   "outputs": [
    {
     "data": {
      "text/plain": [
       "array(['Innomatics Research Labs', nan,\n",
       "       'Velagapudi ramakrishna Siddhartha college ',\n",
       "       'In NPTEL as well as Coursera IBM Data Science Course I am currently enrolled in.',\n",
       "       'Innomatics research labs ', 'Coach-Ed',\n",
       "       'Internship at Innomatics Research Labs',\n",
       "       'Symbiosis skills and professional University',\n",
       "       'AISSMS Institute of Information Technology',\n",
       "       'Swayam NPTEL course ', 'Innomatics Research Labs ',\n",
       "       'Innomatics Research Labs\"', 'Innomatices research labs',\n",
       "       'InnomaticsResearchLabs ', 'Udemy', 'INNOMATICS RESEARCH LABS',\n",
       "       'Innomatics research labs', 'Scaler Academy ',\n",
       "       'Sri Manakula Vinayagar Engineering College',\n",
       "       'Innomatics Resarch Labs ', 'Innomatics',\n",
       "       'innomatics research labs', 'ExcelR Solutions',\n",
       "       'Innomatics Research Lab ', 'Na', 'Acmegrade', 'excelR solutions ',\n",
       "       'Mysore University', 'Coursera', 'Top Mentor',\n",
       "       'Skill for all cisco', 'Innomatics Research labs', 'UDEMY',\n",
       "       'Vikramasimhapuri University', 'Simplilearn',\n",
       "       'University of Kerala', 'Udemy ', 'COURSERA', 'Coursera ',\n",
       "       'Sreenidhi institute of science and technology ',\n",
       "       'SQUAD Infotech Pvt. Ltd.', 'FunctionUp', 'No',\n",
       "       'Andhra Pradesh State Skill Development Corporation (APSSDC)',\n",
       "       'Innomatics Research Labs , JNTU Hyderabad ',\n",
       "       'Chandigarh University ', 'COCSIT ', 'Inomatics research labs ',\n",
       "       'NA ', 'Excelr', 'Yhills',\n",
       "       \"AWS MACHINE LEARNING FOUNDATIONS, deeplearning.ai and stanford's machine learning specialization on coursera\",\n",
       "       'Pantech solutions, Twilearn ', 'ALMABETTER',\n",
       "       'Innomatics Reasearch Labs', 'Innomatics Research Labs Hyderabad',\n",
       "       'Internshala Trainings', 'ETlhive ', 'Data Einstein ',\n",
       "       ' Coursera, Geeks For Geeks , Udemy.',\n",
       "       'NPTEL Online course for completed the Data science and engineers certification.',\n",
       "       'Scaler', 'Simplilearn and Codebasics',\n",
       "       'Innomatics Research labs ',\n",
       "       'TechnoHacks EduTech Private limited ', 'Internshala',\n",
       "       'IIT madras', 'Offline coaching centre ', 'AlmaBetter ',\n",
       "       'Google Data Analytics Certification, IBM Data Science Certification',\n",
       "       'Institute of aeronautical engineering',\n",
       "       'Tamilnadu Skill Development of Corporation', 'Pantech University',\n",
       "       'almabetter,British Airways Data science virtual internship',\n",
       "       'innomatics Research labs, Hyderabad',\n",
       "       'Innomatics Research Labs, Hyderabad ', 'Innomatics Research lab',\n",
       "       'CodeBasics Online Platform ', 'skill for all Cisco',\n",
       "       'Excelr solutions Pune', 'Digipodium ', '365 Careers',\n",
       "       'Cisco networking academy ', 'Innometics Research Labs',\n",
       "       'Indian Institute of Technology Madras', '1stop',\n",
       "       \"Innomatics Research Lab's\", 'Freecodecamp',\n",
       "       'INNOVATIVE RESEARCH LAB', 'Bharat Intern',\n",
       "       'Innomatics research lab', 'Stanford University', 'coursera ',\n",
       "       'HDLC Technologies ', 'Bharati Vidyapeeth University ',\n",
       "       'Innomatics research Labs', 'Jobaaj Learnings',\n",
       "       'Lovely Professional University ',\n",
       "       'Kaggle Online Course , Coursera Online Course,IBM Course',\n",
       "       'Kristu jayanti college ', 'Innomatics ',\n",
       "       'ITvedant Education Institute', 'INNOMATICS',\n",
       "       'Learnbay institute ', 'DataCamp', 'Stanford University Online ',\n",
       "       'Simplilearn platform ', 'GUVI -IIT Madras Research Park',\n",
       "       'EdYoda Digital Institute', 'St Clair College ', 'The correlation',\n",
       "       'Informatics research lab', 'Innomatics Reasearch labs',\n",
       "       'SR University', 'Coding Ninjas ', 'na', 'Excelr Solutions',\n",
       "       'Charotar University of Science and Technology',\n",
       "       'Innomatics Research Labs.', 'Squad Infotech', 'IBM ', 'Scaler ',\n",
       "       'Upgrad ', 'I am doing geeks for geeks course',\n",
       "       'MIT ADT University', 'Linkedin', 'Bishop Heber College ',\n",
       "       'Shiv Nadar University Chennai ', 'NA(self learning) ',\n",
       "       'IIITDM(Indian Institute of Information and Technology ,Design and Manufacturing) Kancheepuram',\n",
       "       'Ganpat University ', 'Department of technology (pune university)',\n",
       "       'Explore Academy', 'NPTEL',\n",
       "       'Ramniranjan Jhunjhunwala College Mumbai ',\n",
       "       'iNeuron.ai (Full Stack Data Science)', 'Top mentor', '360digitmg',\n",
       "       \"Vidya Pratishthan's Kamalnayan Bajaj Institute of Engineering and Technology\",\n",
       "       'International Institute of Information Technology',\n",
       "       'Vaagdevi college of engineering ',\n",
       "       'Forks coding school, Innomatics Research lab',\n",
       "       'Hagital Consult Nigeria and IBM Data Science Professional Certificate Course (Coursera)',\n",
       "       'Guvi - IITM', '365 Data Science', 'Intershala ',\n",
       "       'Innomatics Research Lab, Hyderabad', 'INeuron', 'Pwskills ',\n",
       "       'College of Engineering Pune', 'Graphic era university ',\n",
       "       'Coursera Platform', 'KWS college of Sangli ',\n",
       "       'INNOMATICS RESEARCH LAB ', 'Jansons Institute of Technology ',\n",
       "       'Coursera Data Science course by IBM', 'DA innomatics',\n",
       "       'Innomatices', 'Google Data analytics certification ', 'IBM',\n",
       "       'GITAM University, Visakhapatnam ', 'Pantech', 'Courseera',\n",
       "       'PW skills ', 'Gnanamani College of Technology ', 'Evarcity',\n",
       "       'Internstudio , Microsoft Learning',\n",
       "       'Indira institute of Education', 'Squad Infotech Pvt.ltd',\n",
       "       'Pwskills', 'Internship studio', 'N/a', 'IANT', 'HyperionDev',\n",
       "       'Great Learning ', 'Learnwick Solutions ',\n",
       "       'Centre for Development of Advanced Computing Mumbai ',\n",
       "       'Innomatics research labs, jntu', 'Physics wallah ',\n",
       "       'Nucot in Bangalore', 'Royal Technosoft pvt Ltd ',\n",
       "       'Innomatics Reasearch Labs ', 'ExcelR', 'Learnbay',\n",
       "       'Coursera IBM Data Science COurse', 'ExcelR Institude Baner Pune',\n",
       "       'Geek For Geeks Course', 'Applied Roots',\n",
       "       'INTELLIPAT and IIT Roorkee',\n",
       "       'From my college I have a subject data science, and also registered with Cisco learnings ',\n",
       "       'PW Skills', 'Tkr college of engineering and technology',\n",
       "       'innomatics research lab', 'Online course (physics Wallah)',\n",
       "       'Innomatics Resreach lab', 'Quality Thoughts',\n",
       "       'Coursers deep learning by Andrew Ng', 'Squad Infotech ', 'N',\n",
       "       'Hamoye and Binance Charity',\n",
       "       'IBM SkillsBuild and CSRBOX academic Internship for Data Analytics!',\n",
       "       'Pw skills', 'Freecodecamp online lessons',\n",
       "       'Innomatics Research  Labs', 'IIT Roorkee ',\n",
       "       'Skill Academy by Testbook', 'Cognitive Class',\n",
       "       'IPCS GLOBAL CALICUT ',\n",
       "       'Rajiv Gandhi Proudyogiki Vishwavidyalaya, Udacity', 'AlmaBetter',\n",
       "       'Academor ', 'PYTHON FOR DATA SCIENCE AND AI BY IBM',\n",
       "       'Letsupgrade ', 'Jain University and FingerTips collaboration ',\n",
       "       'ALIGARH MUSLIM UNIVERSITY', 'IIT-M and Intellipaat',\n",
       "       'Department of Futures Studies, University of Kerala',\n",
       "       'Physics Wallah', 'TCSiON Industry Honored Course',\n",
       "       'Squad Institute ', 'innomatics reseach labs', 'Almabetter ',\n",
       "       'Internshala trainings', 'Simplelearn',\n",
       "       'Indian Institute of Technology, Mandi',\n",
       "       'Deep Learning.ai and Campus X', 'INNOMATICS RESEARCH LABS ',\n",
       "       'Udacity', 'Udemy and PW Skills', 'Learned mostly from Youtube',\n",
       "       'Almabetter Institute ', 'Udemy Zero To Mastery Academy',\n",
       "       'Innomatis Research Labs', 'Linux World Informatic Practices',\n",
       "       'prepinsta', 'Innomatics Research Lab , Hyderabad',\n",
       "       'University of Kerala ', 'Innomatics Research Lab',\n",
       "       'Coursera Certification ', 'innomatics research labs ',\n",
       "       'Kg reddy college of engineering and technology', 'Ybi Foundation',\n",
       "       'Jansons Institute of Technology', 'coursera & scaler',\n",
       "       'Central University of Rajasthan', 'GOOGLE',\n",
       "       'Aligarh Muslim University ', 'Prepinsta',\n",
       "       'Jobaaj Data Science 5 day free course.', 'Odin school  hyderbad ',\n",
       "       'Indian Institute of Technology Kharagpur ',\n",
       "       'Udemy courses and youtube', 'Bishop Heber College (as Degree)',\n",
       "       'sathya technologiies',\n",
       "       '1. Udemy - Completed  2. Great Learning - Completed', 'TEACHNOOK',\n",
       "       'Infosys springboard ',\n",
       "       \"i have done data science virtualship internship and it's completed and also I did an data science certificate from IBM\",\n",
       "       'Analytics Vidhya', 'NareshIT', 'IBM at COURSERA', '360DIGITMG',\n",
       "       'Degree', 'Udemy and coursera', '360DigitMG',\n",
       "       'Devi Ahilya Vishwavidyalay, Indore, India', 'Upskill Campus',\n",
       "       'Ibm', 'Infinite Graphics Teachnology, Pune',\n",
       "       'Infosys Springboard ', 'Cognitiveclass.ai',\n",
       "       'Entrance exam certificate got', 'PrepInsta Prime', 'Swayam NPTL',\n",
       "       'Datamites, bangalore', 'Jain (Deemed-to-be-University)',\n",
       "       'Applied AI Course', 'Teks Academy', 'LEARNBAY', 'VERZEO',\n",
       "       'Iam taking personally by one of the professor ',\n",
       "       'Sona College of Technology & Google ', 'DAVV ',\n",
       "       'PanTech E learning ', 'PES Modern College of Engineering Pune ',\n",
       "       'Ducat,Noida sec-16', 'TCS',\n",
       "       'python programming and artificial intelligence , pantech e learning',\n",
       "       \"Simplilearn data science ( ongoing master's in AI engineer course)\",\n",
       "       'St.Martins Engineering College ', 'Great learning', 'Uncodemy',\n",
       "       'Department of Futures Studies ', 'HarvardX ',\n",
       "       'Cyberaegis IT Solutions Pvt Ltd', 'NCVET', 'YBI Foundation',\n",
       "       'M.Sc Data science ', 'Innomatics research lab Hyderabad ',\n",
       "       'Seed Infotech ', 'Gana Tech Solutions ', 'Guvi',\n",
       "       'Innomatic Reaserch Lab', 'KGiSL Institute of technology',\n",
       "       'Btech Artificial intelligence and data science @ Dhanalakshmi Srinivasan Engineering College Perambalur ',\n",
       "       'udemy', 'NPTEL, freeCodeCamp.org, CS50, Coursera',\n",
       "       'Amity University',\n",
       "       'School of Data Science and Business Intellegence (SDBI), University of Mumbai',\n",
       "       'World Quant Univeristy', 'INNOMATICS RESEARCH LAB',\n",
       "       'Function Up School of Technology ',\n",
       "       'IBM Data Science Professional Certificate Course',\n",
       "       'G H Raisoni collage of engineering and management, Whagoli ',\n",
       "       'Google Advanced Data analytics and Inmakes infotech internship',\n",
       "       'IIT GUWAHATI, EDUREKA ',\n",
       "       'Madanapalle Institute of Technology and Science',\n",
       "       'MIT World Peace University', 'Datamites',\n",
       "       'Paavai engineering college ',\n",
       "       'Innomatics Research Labs, Hyderabad', 'WorldQuant University',\n",
       "       'Data Science for Engineers, Swayam(NTPEL)', 'Codingrad, ExcelR',\n",
       "       'PGD in Pune University ', 'Udemy , great learning ', 'Learn AI',\n",
       "       'Geeks for Geeks',\n",
       "       'Quality Thoughts Infosystems, Velachery, Chennai ',\n",
       "       'Simplilearn ,India.', 'Innomatics Research Labs,Hayderabad',\n",
       "       'The Cooperative university of Kenya ', 'Free code camp',\n",
       "       'Innomatics research labs Hyderabad ', 'IIIT-Bangalore',\n",
       "       'LinkedIn, Coursera ', 'CodeClause', 'ISBR BUSINESS SCHOOL', 'In',\n",
       "       ' Innomatics Research Labs', 'ineuron',\n",
       "       'Sharad Institute of Technology College of engineering ',\n",
       "       \"Ducat's institute \", 'Brainovision', 'Internshala ',\n",
       "       'Amrita school of engineering ', 'Anits ',\n",
       "       'Infinity graphics technology, Pune ', 'Digital nest, Udemy ',\n",
       "       'African Leadership X(ALX)', 'msc data scince',\n",
       "       'Lagos School of programming ',\n",
       "       'University of Roehampton, United Kingdom',\n",
       "       'Livewire Livetech Skills ', 'Naresh IT ',\n",
       "       'Coursera(Stanford), MyCaptain', 'Learnbay ', 'IIIT bangalore',\n",
       "       'SCALER', 'INNOMATICS REASEARCH LABS', 'DataMites',\n",
       "       'Coursera, Google certification', 'Govt ANMT School Anantnag',\n",
       "       'DevTown', 'ONLINE COURSE ',\n",
       "       'Birla Institute of Technology and Science, Pilani '], dtype=object)"
      ]
     },
     "execution_count": 86,
     "metadata": {},
     "output_type": "execute_result"
    }
   ],
   "source": [
    "df['Institute'].unique()"
   ]
  },
  {
   "cell_type": "code",
   "execution_count": 87,
   "id": "9c0a645b-3e49-4390-b247-2583fe600789",
   "metadata": {},
   "outputs": [
    {
     "data": {
      "text/plain": [
       "NaN                                                                                        321\n",
       "Innomatics Research Labs                                                                   109\n",
       "Innomatics research labs                                                                    33\n",
       "Coursera                                                                                    18\n",
       "Innomatics research labs                                                                    16\n",
       "                                                                                          ... \n",
       "Intershala                                                                                   1\n",
       "365 Data Science                                                                             1\n",
       "Guvi - IITM                                                                                  1\n",
       "Hagital Consult Nigeria and IBM Data Science Professional Certificate Course (Coursera)      1\n",
       "Birla Institute of Technology and Science, Pilani                                            1\n",
       "Name: Institute, Length: 366, dtype: int64"
      ]
     },
     "execution_count": 87,
     "metadata": {},
     "output_type": "execute_result"
    }
   ],
   "source": [
    "df['Institute'].value_counts(dropna=False)"
   ]
  },
  {
   "cell_type": "markdown",
   "id": "0bcf9fdb-7bb5-47a6-92a7-f9fbde36c656",
   "metadata": {},
   "source": [
    "#### Na and Innomatics have many versions due to spelling mistakes. so we cannot take 321 as answer.. <br> We have to perform spelling check\n",
    "#### Levenshtein Distance - To calculate edit distance b/w 2 words, It tells minimum operations reqd to convert word1 to word2\n",
    "#### fuzzywuzzy library internally uses Levenshtein algorithm"
   ]
  },
  {
   "cell_type": "code",
   "execution_count": null,
   "id": "aba7fec8-7b35-476b-9d3a-6890949b8d0f",
   "metadata": {},
   "outputs": [],
   "source": [
    "# ! pip install python-Levenshtein"
   ]
  },
  {
   "cell_type": "code",
   "execution_count": 88,
   "id": "584b1d79-ae4c-469b-925c-f4b3ce75cead",
   "metadata": {},
   "outputs": [
    {
     "name": "stdout",
     "output_type": "stream",
     "text": [
      "The Edit dist b/w Innomatics and innomatecs is: 2\n"
     ]
    }
   ],
   "source": [
    "import Levenshtein\n",
    "\n",
    "## Example\n",
    "str1 = 'Innomatics'\n",
    "str2 = 'innomatecs'\n",
    "\n",
    "distance = Levenshtein.distance(str1, str2)\n",
    "\n",
    "print(f'The Edit dist b/w {str1} and {str2} is: {distance}')"
   ]
  },
  {
   "cell_type": "code",
   "execution_count": null,
   "id": "f729ca12-756f-4d95-b7a3-f48571bc4123",
   "metadata": {},
   "outputs": [],
   "source": [
    "# ! pip install fuzzywuzzy"
   ]
  },
  {
   "cell_type": "code",
   "execution_count": 105,
   "id": "a58983f4-cdc2-45f2-8736-42631c1197e0",
   "metadata": {},
   "outputs": [],
   "source": [
    "# Spelling correction using fuzzy matching\n",
    "# Reason: Gives a score out of 100\n",
    "\n",
    "# Parameters:\n",
    "#     - target_word: The word to be corrected.\n",
    "#     - choices: A list of candidate words for correction.\n",
    "#     - threshold: The minimum similarity score for a correction to be accepted. -> need to find this by hit and trial\n",
    "# Returns:\n",
    "#     - The corrected word or the original word if no correction is found.\n",
    "\n",
    "\n",
    "from fuzzywuzzy import process\n",
    "\n",
    "def correct_spelling_errors(target_word=\"\", choices=[], threshold=75):\n",
    "    match, score = process.extractOne(target_word, choices)\n",
    "    if score >= threshold:\n",
    "        return match\n",
    "    else:\n",
    "        return target_word\n"
   ]
  },
  {
   "cell_type": "code",
   "execution_count": 106,
   "id": "aa074105-b56a-4340-8385-5eb2082c933a",
   "metadata": {},
   "outputs": [
    {
     "data": {
      "text/plain": [
       "'Innomatics Research Labs'"
      ]
     },
     "execution_count": 106,
     "metadata": {},
     "output_type": "execute_result"
    }
   ],
   "source": [
    "choices = ['nan', 'Innomatics', 'Innomatics Research Labs', 'Simplilearn', 'IBM', 'Coursera', 'Excelr', 'Internshala', \n",
    "           'Udemy', 'Scaler', 'Scaler Academy', 'cisco', 'IIT', 'NIT', 'IIIT', 'GUVI', 'NPTEL', 'Swayam', 'FreeCodeCamp', \n",
    "           '1Stop', 'Youtube', 'iNeuron']\n",
    "\n",
    "correct_spelling_errors(target_word='Innometric reseerch lab', choices=choices)"
   ]
  },
  {
   "cell_type": "code",
   "execution_count": 115,
   "id": "39539132-060e-41db-aa0f-e83cb2c9cf63",
   "metadata": {},
   "outputs": [
    {
     "data": {
      "text/plain": [
       "'NA(self learning)'"
      ]
     },
     "execution_count": 115,
     "metadata": {},
     "output_type": "execute_result"
    }
   ],
   "source": [
    "correct_spelling_errors(target_word='NA(self learning)', choices=choices) ##NA(self learning), no, No, N/a, NA, N/A"
   ]
  },
  {
   "cell_type": "code",
   "execution_count": 95,
   "id": "8ee3cc3f-f0b7-4a6f-b775-d1cd791025d4",
   "metadata": {},
   "outputs": [],
   "source": [
    "df['ds_institute_final'] = df['Institute'].apply(lambda a: correct_spelling_errors(str(a), choices))"
   ]
  },
  {
   "cell_type": "code",
   "execution_count": 96,
   "id": "d0d2246d-27e4-487b-a39f-cc5ffd5a7d7e",
   "metadata": {},
   "outputs": [
    {
     "data": {
      "text/plain": [
       "243"
      ]
     },
     "execution_count": 96,
     "metadata": {},
     "output_type": "execute_result"
    }
   ],
   "source": [
    "df['ds_institute_final'].nunique()"
   ]
  },
  {
   "cell_type": "code",
   "execution_count": 118,
   "id": "60cfc000-f47e-4d53-8eb7-b39d156ddf6a",
   "metadata": {},
   "outputs": [
    {
     "data": {
      "text/plain": [
       "336"
      ]
     },
     "execution_count": 118,
     "metadata": {},
     "output_type": "execute_result"
    }
   ],
   "source": [
    "df['ds_institute_final'].value_counts()['nan']"
   ]
  },
  {
   "cell_type": "markdown",
   "id": "7436ffc8-e286-4d05-95eb-f502e26c7e26",
   "metadata": {},
   "source": [
    "## 8 b). How many interns mentioned Innomatics as their data science institute?"
   ]
  },
  {
   "cell_type": "code",
   "execution_count": 119,
   "id": "d7b9e225-22e6-44c6-bebd-a171e90ac7b6",
   "metadata": {},
   "outputs": [
    {
     "data": {
      "text/plain": [
       "nan                                                   336\n",
       "Innomatics Research Labs                              259\n",
       "Coursera                                               43\n",
       "Innomatics                                             30\n",
       "Udemy                                                  23\n",
       "                                                     ... \n",
       "PW skills                                               1\n",
       "Gnanamani College of Technology                         1\n",
       "Evarcity                                                1\n",
       "Internstudio , Microsoft Learning                       1\n",
       "Birla Institute of Technology and Science, Pilani       1\n",
       "Name: ds_institute_final, Length: 243, dtype: int64"
      ]
     },
     "execution_count": 119,
     "metadata": {},
     "output_type": "execute_result"
    }
   ],
   "source": [
    "df['ds_institute_final'].value_counts()"
   ]
  },
  {
   "cell_type": "code",
   "execution_count": 121,
   "id": "2f6e7fdb-ce1d-49c4-9f92-7f52c2fc5088",
   "metadata": {},
   "outputs": [
    {
     "data": {
      "text/plain": [
       "289"
      ]
     },
     "execution_count": 121,
     "metadata": {},
     "output_type": "execute_result"
    }
   ],
   "source": [
    "df['ds_institute_final'].value_counts()['Innomatics'] + df['ds_institute_final'].value_counts()['Innomatics Research Labs']"
   ]
  },
  {
   "cell_type": "code",
   "execution_count": null,
   "id": "2d9161cf-d72e-4150-8b0e-77031d0f5f13",
   "metadata": {},
   "outputs": [],
   "source": []
  }
 ],
 "metadata": {
  "kernelspec": {
   "display_name": "Python 3 (ipykernel)",
   "language": "python",
   "name": "python3"
  },
  "language_info": {
   "codemirror_mode": {
    "name": "ipython",
    "version": 3
   },
   "file_extension": ".py",
   "mimetype": "text/x-python",
   "name": "python",
   "nbconvert_exporter": "python",
   "pygments_lexer": "ipython3",
   "version": "3.10.1"
  }
 },
 "nbformat": 4,
 "nbformat_minor": 5
}
