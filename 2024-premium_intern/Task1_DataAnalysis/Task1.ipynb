{
  "nbformat": 4,
  "nbformat_minor": 0,
  "metadata": {
    "colab": {
      "provenance": [],
      "toc_visible": true
    },
    "kernelspec": {
      "name": "python3",
      "display_name": "Python 3"
    },
    "language_info": {
      "name": "python"
    }
  },
  "cells": [
    {
      "cell_type": "markdown",
      "source": [
        "# Task 1 - Data Analysis"
      ],
      "metadata": {
        "id": "6E7CLmkgDrWE"
      }
    },
    {
      "cell_type": "code",
      "execution_count": 108,
      "metadata": {
        "id": "flNsHqIwDf6P"
      },
      "outputs": [],
      "source": [
        "import numpy as np\n",
        "import pandas as pd"
      ]
    },
    {
      "cell_type": "code",
      "source": [
        "data = pd.read_csv('/content/raw_data_v11_3.csv')"
      ],
      "metadata": {
        "id": "zr6VtBBXD-oH"
      },
      "execution_count": 109,
      "outputs": []
    },
    {
      "cell_type": "code",
      "source": [
        "data.head()"
      ],
      "metadata": {
        "id": "s3vsLfHbD_oi",
        "colab": {
          "base_uri": "https://localhost:8080/",
          "height": 657
        },
        "outputId": "4276c53c-eff6-4fd4-887e-7923d4fb6a7f"
      },
      "execution_count": 110,
      "outputs": [
        {
          "output_type": "execute_result",
          "data": {
            "text/plain": [
              "  Date of Birth                   What is your current profession?  \\\n",
              "0     9/16/2000  Fresher (I have completed my Education and loo...   \n",
              "1      2/6/1998  Fresher (I have completed my Education and loo...   \n",
              "2     10/8/2003  Student (I am currently enrolled in some Educa...   \n",
              "3    11/29/2001  Student (I am currently enrolled in some Educa...   \n",
              "4    11/25/2004  Student (I am currently enrolled in some Educa...   \n",
              "\n",
              "  What is the year of completion of your Highest Education Qualification?  \\\n",
              "0                                          7/30/2023                        \n",
              "1                                          5/18/2022                        \n",
              "2                                           4/1/2025                        \n",
              "3                                          5/15/2024                        \n",
              "4                                          1/10/2026                        \n",
              "\n",
              "          Which of the following best describes you?  \\\n",
              "0  I am currently enrolled in a Data Science cert...   \n",
              "1  I have never enrolled in any certification cou...   \n",
              "2  I am currently enrolled in a Data Science cert...   \n",
              "3  I have never enrolled in any certification cou...   \n",
              "4  I have completed a Data Science certification ...   \n",
              "\n",
              "  Please mention the name of the institute where you have completed or are currently pursuing your Data Science Certification Course.  \\\n",
              "0                           Innomatics Research Labs                                                                                    \n",
              "1                                                NaN                                                                                    \n",
              "2                                                NaN                                                                                    \n",
              "3                                                NaN                                                                                    \n",
              "4         Velagapudi ramakrishna Siddhartha college                                                                                     \n",
              "\n",
              "  In case your certification institute is \"Innomatics Research Labs\", please provide your Enrolled Batch Number.  \\\n",
              "0                                                251                                                               \n",
              "1                                                NaN                                                               \n",
              "2                                                NaN                                                               \n",
              "3                                                NaN                                                               \n",
              "4                                                 Na                                                               \n",
              "\n",
              "  Please indicate the time that suits you for your daily LIVE interaction with our Chief Data Scientist as part of your internship.  \\\n",
              "0                                6:00 to 7:00 PM IST                                                                                  \n",
              "1                                6:00 to 7:00 PM IST                                                                                  \n",
              "2                                6:00 to 7:00 PM IST                                                                                  \n",
              "3                                5:00 to 6:00 PM IST                                                                                  \n",
              "4                                6:00 to 7:00 PM IST                                                                                  \n",
              "\n",
              "  What do you think are most important skill right now for a skilled Data Scientist?  \n",
              "0  Extracting actionable insights from the raw da...                                  \n",
              "1   Extracting actionable insights from the raw data                                  \n",
              "2                                     Data Modelling                                  \n",
              "3  Extracting actionable insights from the raw da...                                  \n",
              "4  Extracting actionable insights from the raw da...                                  "
            ],
            "text/html": [
              "\n",
              "  <div id=\"df-780ba5fd-6c85-4760-8c0f-4caf29bf7fe0\" class=\"colab-df-container\">\n",
              "    <div>\n",
              "<style scoped>\n",
              "    .dataframe tbody tr th:only-of-type {\n",
              "        vertical-align: middle;\n",
              "    }\n",
              "\n",
              "    .dataframe tbody tr th {\n",
              "        vertical-align: top;\n",
              "    }\n",
              "\n",
              "    .dataframe thead th {\n",
              "        text-align: right;\n",
              "    }\n",
              "</style>\n",
              "<table border=\"1\" class=\"dataframe\">\n",
              "  <thead>\n",
              "    <tr style=\"text-align: right;\">\n",
              "      <th></th>\n",
              "      <th>Date of Birth</th>\n",
              "      <th>What is your current profession?</th>\n",
              "      <th>What is the year of completion of your Highest Education Qualification?</th>\n",
              "      <th>Which of the following best describes you?</th>\n",
              "      <th>Please mention the name of the institute where you have completed or are currently pursuing your Data Science Certification Course.</th>\n",
              "      <th>In case your certification institute is \"Innomatics Research Labs\", please provide your Enrolled Batch Number.</th>\n",
              "      <th>Please indicate the time that suits you for your daily LIVE interaction with our Chief Data Scientist as part of your internship.</th>\n",
              "      <th>What do you think are most important skill right now for a skilled Data Scientist?</th>\n",
              "    </tr>\n",
              "  </thead>\n",
              "  <tbody>\n",
              "    <tr>\n",
              "      <th>0</th>\n",
              "      <td>9/16/2000</td>\n",
              "      <td>Fresher (I have completed my Education and loo...</td>\n",
              "      <td>7/30/2023</td>\n",
              "      <td>I am currently enrolled in a Data Science cert...</td>\n",
              "      <td>Innomatics Research Labs</td>\n",
              "      <td>251</td>\n",
              "      <td>6:00 to 7:00 PM IST</td>\n",
              "      <td>Extracting actionable insights from the raw da...</td>\n",
              "    </tr>\n",
              "    <tr>\n",
              "      <th>1</th>\n",
              "      <td>2/6/1998</td>\n",
              "      <td>Fresher (I have completed my Education and loo...</td>\n",
              "      <td>5/18/2022</td>\n",
              "      <td>I have never enrolled in any certification cou...</td>\n",
              "      <td>NaN</td>\n",
              "      <td>NaN</td>\n",
              "      <td>6:00 to 7:00 PM IST</td>\n",
              "      <td>Extracting actionable insights from the raw data</td>\n",
              "    </tr>\n",
              "    <tr>\n",
              "      <th>2</th>\n",
              "      <td>10/8/2003</td>\n",
              "      <td>Student (I am currently enrolled in some Educa...</td>\n",
              "      <td>4/1/2025</td>\n",
              "      <td>I am currently enrolled in a Data Science cert...</td>\n",
              "      <td>NaN</td>\n",
              "      <td>NaN</td>\n",
              "      <td>6:00 to 7:00 PM IST</td>\n",
              "      <td>Data Modelling</td>\n",
              "    </tr>\n",
              "    <tr>\n",
              "      <th>3</th>\n",
              "      <td>11/29/2001</td>\n",
              "      <td>Student (I am currently enrolled in some Educa...</td>\n",
              "      <td>5/15/2024</td>\n",
              "      <td>I have never enrolled in any certification cou...</td>\n",
              "      <td>NaN</td>\n",
              "      <td>NaN</td>\n",
              "      <td>5:00 to 6:00 PM IST</td>\n",
              "      <td>Extracting actionable insights from the raw da...</td>\n",
              "    </tr>\n",
              "    <tr>\n",
              "      <th>4</th>\n",
              "      <td>11/25/2004</td>\n",
              "      <td>Student (I am currently enrolled in some Educa...</td>\n",
              "      <td>1/10/2026</td>\n",
              "      <td>I have completed a Data Science certification ...</td>\n",
              "      <td>Velagapudi ramakrishna Siddhartha college</td>\n",
              "      <td>Na</td>\n",
              "      <td>6:00 to 7:00 PM IST</td>\n",
              "      <td>Extracting actionable insights from the raw da...</td>\n",
              "    </tr>\n",
              "  </tbody>\n",
              "</table>\n",
              "</div>\n",
              "    <div class=\"colab-df-buttons\">\n",
              "\n",
              "  <div class=\"colab-df-container\">\n",
              "    <button class=\"colab-df-convert\" onclick=\"convertToInteractive('df-780ba5fd-6c85-4760-8c0f-4caf29bf7fe0')\"\n",
              "            title=\"Convert this dataframe to an interactive table.\"\n",
              "            style=\"display:none;\">\n",
              "\n",
              "  <svg xmlns=\"http://www.w3.org/2000/svg\" height=\"24px\" viewBox=\"0 -960 960 960\">\n",
              "    <path d=\"M120-120v-720h720v720H120Zm60-500h600v-160H180v160Zm220 220h160v-160H400v160Zm0 220h160v-160H400v160ZM180-400h160v-160H180v160Zm440 0h160v-160H620v160ZM180-180h160v-160H180v160Zm440 0h160v-160H620v160Z\"/>\n",
              "  </svg>\n",
              "    </button>\n",
              "\n",
              "  <style>\n",
              "    .colab-df-container {\n",
              "      display:flex;\n",
              "      gap: 12px;\n",
              "    }\n",
              "\n",
              "    .colab-df-convert {\n",
              "      background-color: #E8F0FE;\n",
              "      border: none;\n",
              "      border-radius: 50%;\n",
              "      cursor: pointer;\n",
              "      display: none;\n",
              "      fill: #1967D2;\n",
              "      height: 32px;\n",
              "      padding: 0 0 0 0;\n",
              "      width: 32px;\n",
              "    }\n",
              "\n",
              "    .colab-df-convert:hover {\n",
              "      background-color: #E2EBFA;\n",
              "      box-shadow: 0px 1px 2px rgba(60, 64, 67, 0.3), 0px 1px 3px 1px rgba(60, 64, 67, 0.15);\n",
              "      fill: #174EA6;\n",
              "    }\n",
              "\n",
              "    .colab-df-buttons div {\n",
              "      margin-bottom: 4px;\n",
              "    }\n",
              "\n",
              "    [theme=dark] .colab-df-convert {\n",
              "      background-color: #3B4455;\n",
              "      fill: #D2E3FC;\n",
              "    }\n",
              "\n",
              "    [theme=dark] .colab-df-convert:hover {\n",
              "      background-color: #434B5C;\n",
              "      box-shadow: 0px 1px 3px 1px rgba(0, 0, 0, 0.15);\n",
              "      filter: drop-shadow(0px 1px 2px rgba(0, 0, 0, 0.3));\n",
              "      fill: #FFFFFF;\n",
              "    }\n",
              "  </style>\n",
              "\n",
              "    <script>\n",
              "      const buttonEl =\n",
              "        document.querySelector('#df-780ba5fd-6c85-4760-8c0f-4caf29bf7fe0 button.colab-df-convert');\n",
              "      buttonEl.style.display =\n",
              "        google.colab.kernel.accessAllowed ? 'block' : 'none';\n",
              "\n",
              "      async function convertToInteractive(key) {\n",
              "        const element = document.querySelector('#df-780ba5fd-6c85-4760-8c0f-4caf29bf7fe0');\n",
              "        const dataTable =\n",
              "          await google.colab.kernel.invokeFunction('convertToInteractive',\n",
              "                                                    [key], {});\n",
              "        if (!dataTable) return;\n",
              "\n",
              "        const docLinkHtml = 'Like what you see? Visit the ' +\n",
              "          '<a target=\"_blank\" href=https://colab.research.google.com/notebooks/data_table.ipynb>data table notebook</a>'\n",
              "          + ' to learn more about interactive tables.';\n",
              "        element.innerHTML = '';\n",
              "        dataTable['output_type'] = 'display_data';\n",
              "        await google.colab.output.renderOutput(dataTable, element);\n",
              "        const docLink = document.createElement('div');\n",
              "        docLink.innerHTML = docLinkHtml;\n",
              "        element.appendChild(docLink);\n",
              "      }\n",
              "    </script>\n",
              "  </div>\n",
              "\n",
              "\n",
              "<div id=\"df-0d103767-785d-42d1-942b-99306996c756\">\n",
              "  <button class=\"colab-df-quickchart\" onclick=\"quickchart('df-0d103767-785d-42d1-942b-99306996c756')\"\n",
              "            title=\"Suggest charts\"\n",
              "            style=\"display:none;\">\n",
              "\n",
              "<svg xmlns=\"http://www.w3.org/2000/svg\" height=\"24px\"viewBox=\"0 0 24 24\"\n",
              "     width=\"24px\">\n",
              "    <g>\n",
              "        <path d=\"M19 3H5c-1.1 0-2 .9-2 2v14c0 1.1.9 2 2 2h14c1.1 0 2-.9 2-2V5c0-1.1-.9-2-2-2zM9 17H7v-7h2v7zm4 0h-2V7h2v10zm4 0h-2v-4h2v4z\"/>\n",
              "    </g>\n",
              "</svg>\n",
              "  </button>\n",
              "\n",
              "<style>\n",
              "  .colab-df-quickchart {\n",
              "      --bg-color: #E8F0FE;\n",
              "      --fill-color: #1967D2;\n",
              "      --hover-bg-color: #E2EBFA;\n",
              "      --hover-fill-color: #174EA6;\n",
              "      --disabled-fill-color: #AAA;\n",
              "      --disabled-bg-color: #DDD;\n",
              "  }\n",
              "\n",
              "  [theme=dark] .colab-df-quickchart {\n",
              "      --bg-color: #3B4455;\n",
              "      --fill-color: #D2E3FC;\n",
              "      --hover-bg-color: #434B5C;\n",
              "      --hover-fill-color: #FFFFFF;\n",
              "      --disabled-bg-color: #3B4455;\n",
              "      --disabled-fill-color: #666;\n",
              "  }\n",
              "\n",
              "  .colab-df-quickchart {\n",
              "    background-color: var(--bg-color);\n",
              "    border: none;\n",
              "    border-radius: 50%;\n",
              "    cursor: pointer;\n",
              "    display: none;\n",
              "    fill: var(--fill-color);\n",
              "    height: 32px;\n",
              "    padding: 0;\n",
              "    width: 32px;\n",
              "  }\n",
              "\n",
              "  .colab-df-quickchart:hover {\n",
              "    background-color: var(--hover-bg-color);\n",
              "    box-shadow: 0 1px 2px rgba(60, 64, 67, 0.3), 0 1px 3px 1px rgba(60, 64, 67, 0.15);\n",
              "    fill: var(--button-hover-fill-color);\n",
              "  }\n",
              "\n",
              "  .colab-df-quickchart-complete:disabled,\n",
              "  .colab-df-quickchart-complete:disabled:hover {\n",
              "    background-color: var(--disabled-bg-color);\n",
              "    fill: var(--disabled-fill-color);\n",
              "    box-shadow: none;\n",
              "  }\n",
              "\n",
              "  .colab-df-spinner {\n",
              "    border: 2px solid var(--fill-color);\n",
              "    border-color: transparent;\n",
              "    border-bottom-color: var(--fill-color);\n",
              "    animation:\n",
              "      spin 1s steps(1) infinite;\n",
              "  }\n",
              "\n",
              "  @keyframes spin {\n",
              "    0% {\n",
              "      border-color: transparent;\n",
              "      border-bottom-color: var(--fill-color);\n",
              "      border-left-color: var(--fill-color);\n",
              "    }\n",
              "    20% {\n",
              "      border-color: transparent;\n",
              "      border-left-color: var(--fill-color);\n",
              "      border-top-color: var(--fill-color);\n",
              "    }\n",
              "    30% {\n",
              "      border-color: transparent;\n",
              "      border-left-color: var(--fill-color);\n",
              "      border-top-color: var(--fill-color);\n",
              "      border-right-color: var(--fill-color);\n",
              "    }\n",
              "    40% {\n",
              "      border-color: transparent;\n",
              "      border-right-color: var(--fill-color);\n",
              "      border-top-color: var(--fill-color);\n",
              "    }\n",
              "    60% {\n",
              "      border-color: transparent;\n",
              "      border-right-color: var(--fill-color);\n",
              "    }\n",
              "    80% {\n",
              "      border-color: transparent;\n",
              "      border-right-color: var(--fill-color);\n",
              "      border-bottom-color: var(--fill-color);\n",
              "    }\n",
              "    90% {\n",
              "      border-color: transparent;\n",
              "      border-bottom-color: var(--fill-color);\n",
              "    }\n",
              "  }\n",
              "</style>\n",
              "\n",
              "  <script>\n",
              "    async function quickchart(key) {\n",
              "      const quickchartButtonEl =\n",
              "        document.querySelector('#' + key + ' button');\n",
              "      quickchartButtonEl.disabled = true;  // To prevent multiple clicks.\n",
              "      quickchartButtonEl.classList.add('colab-df-spinner');\n",
              "      try {\n",
              "        const charts = await google.colab.kernel.invokeFunction(\n",
              "            'suggestCharts', [key], {});\n",
              "      } catch (error) {\n",
              "        console.error('Error during call to suggestCharts:', error);\n",
              "      }\n",
              "      quickchartButtonEl.classList.remove('colab-df-spinner');\n",
              "      quickchartButtonEl.classList.add('colab-df-quickchart-complete');\n",
              "    }\n",
              "    (() => {\n",
              "      let quickchartButtonEl =\n",
              "        document.querySelector('#df-0d103767-785d-42d1-942b-99306996c756 button');\n",
              "      quickchartButtonEl.style.display =\n",
              "        google.colab.kernel.accessAllowed ? 'block' : 'none';\n",
              "    })();\n",
              "  </script>\n",
              "</div>\n",
              "    </div>\n",
              "  </div>\n"
            ]
          },
          "metadata": {},
          "execution_count": 110
        }
      ]
    },
    {
      "cell_type": "markdown",
      "source": [
        "Renaming columns for easy usage"
      ],
      "metadata": {
        "id": "s69Lsr7Vig25"
      }
    },
    {
      "cell_type": "code",
      "source": [
        "data.rename(columns = {data.columns[0]:'DOB',\n",
        "                       data.columns[1]:'Profession',\n",
        "                       data.columns[2]:'YOG',\n",
        "                       data.columns[3]:'Self_Description',\n",
        "                       data.columns[4]:'DS_Course',\n",
        "                       data.columns[5]:'Innomatics_batch_no',\n",
        "                       data.columns[6]:'session_timings',\n",
        "                       data.columns[7]:'DS_skills'}, inplace = True)\n",
        "data.describe()"
      ],
      "metadata": {
        "colab": {
          "base_uri": "https://localhost:8080/",
          "height": 209
        },
        "id": "Kr1Iu51Uft4h",
        "outputId": "12ede631-db0b-4c7c-a8ab-e8263acd006e"
      },
      "execution_count": 111,
      "outputs": [
        {
          "output_type": "execute_result",
          "data": {
            "text/plain": [
              "               DOB                                         Profession  \\\n",
              "count         1000                                               1000   \n",
              "unique         826                                                  4   \n",
              "top     11/24/2001  Student (I am currently enrolled in some Educa...   \n",
              "freq             4                                                488   \n",
              "\n",
              "              YOG                                   Self_Description  \\\n",
              "count        1000                                               1000   \n",
              "unique        553                                                  3   \n",
              "top     5/15/2024  I am currently enrolled in a Data Science cert...   \n",
              "freq           19                                                405   \n",
              "\n",
              "                       DS_Course Innomatics_batch_no      session_timings  \\\n",
              "count                        678                 338                 1000   \n",
              "unique                       365                 139                    2   \n",
              "top     Innomatics Research Labs                  Na  6:00 to 7:00 PM IST   \n",
              "freq                         109                  16                  672   \n",
              "\n",
              "                                                DS_skills  \n",
              "count                                                1000  \n",
              "unique                                                 60  \n",
              "top     Extracting actionable insights from the raw da...  \n",
              "freq                                                  214  "
            ],
            "text/html": [
              "\n",
              "  <div id=\"df-fa11232a-a19c-4a02-b978-cc0e25faecd8\" class=\"colab-df-container\">\n",
              "    <div>\n",
              "<style scoped>\n",
              "    .dataframe tbody tr th:only-of-type {\n",
              "        vertical-align: middle;\n",
              "    }\n",
              "\n",
              "    .dataframe tbody tr th {\n",
              "        vertical-align: top;\n",
              "    }\n",
              "\n",
              "    .dataframe thead th {\n",
              "        text-align: right;\n",
              "    }\n",
              "</style>\n",
              "<table border=\"1\" class=\"dataframe\">\n",
              "  <thead>\n",
              "    <tr style=\"text-align: right;\">\n",
              "      <th></th>\n",
              "      <th>DOB</th>\n",
              "      <th>Profession</th>\n",
              "      <th>YOG</th>\n",
              "      <th>Self_Description</th>\n",
              "      <th>DS_Course</th>\n",
              "      <th>Innomatics_batch_no</th>\n",
              "      <th>session_timings</th>\n",
              "      <th>DS_skills</th>\n",
              "    </tr>\n",
              "  </thead>\n",
              "  <tbody>\n",
              "    <tr>\n",
              "      <th>count</th>\n",
              "      <td>1000</td>\n",
              "      <td>1000</td>\n",
              "      <td>1000</td>\n",
              "      <td>1000</td>\n",
              "      <td>678</td>\n",
              "      <td>338</td>\n",
              "      <td>1000</td>\n",
              "      <td>1000</td>\n",
              "    </tr>\n",
              "    <tr>\n",
              "      <th>unique</th>\n",
              "      <td>826</td>\n",
              "      <td>4</td>\n",
              "      <td>553</td>\n",
              "      <td>3</td>\n",
              "      <td>365</td>\n",
              "      <td>139</td>\n",
              "      <td>2</td>\n",
              "      <td>60</td>\n",
              "    </tr>\n",
              "    <tr>\n",
              "      <th>top</th>\n",
              "      <td>11/24/2001</td>\n",
              "      <td>Student (I am currently enrolled in some Educa...</td>\n",
              "      <td>5/15/2024</td>\n",
              "      <td>I am currently enrolled in a Data Science cert...</td>\n",
              "      <td>Innomatics Research Labs</td>\n",
              "      <td>Na</td>\n",
              "      <td>6:00 to 7:00 PM IST</td>\n",
              "      <td>Extracting actionable insights from the raw da...</td>\n",
              "    </tr>\n",
              "    <tr>\n",
              "      <th>freq</th>\n",
              "      <td>4</td>\n",
              "      <td>488</td>\n",
              "      <td>19</td>\n",
              "      <td>405</td>\n",
              "      <td>109</td>\n",
              "      <td>16</td>\n",
              "      <td>672</td>\n",
              "      <td>214</td>\n",
              "    </tr>\n",
              "  </tbody>\n",
              "</table>\n",
              "</div>\n",
              "    <div class=\"colab-df-buttons\">\n",
              "\n",
              "  <div class=\"colab-df-container\">\n",
              "    <button class=\"colab-df-convert\" onclick=\"convertToInteractive('df-fa11232a-a19c-4a02-b978-cc0e25faecd8')\"\n",
              "            title=\"Convert this dataframe to an interactive table.\"\n",
              "            style=\"display:none;\">\n",
              "\n",
              "  <svg xmlns=\"http://www.w3.org/2000/svg\" height=\"24px\" viewBox=\"0 -960 960 960\">\n",
              "    <path d=\"M120-120v-720h720v720H120Zm60-500h600v-160H180v160Zm220 220h160v-160H400v160Zm0 220h160v-160H400v160ZM180-400h160v-160H180v160Zm440 0h160v-160H620v160ZM180-180h160v-160H180v160Zm440 0h160v-160H620v160Z\"/>\n",
              "  </svg>\n",
              "    </button>\n",
              "\n",
              "  <style>\n",
              "    .colab-df-container {\n",
              "      display:flex;\n",
              "      gap: 12px;\n",
              "    }\n",
              "\n",
              "    .colab-df-convert {\n",
              "      background-color: #E8F0FE;\n",
              "      border: none;\n",
              "      border-radius: 50%;\n",
              "      cursor: pointer;\n",
              "      display: none;\n",
              "      fill: #1967D2;\n",
              "      height: 32px;\n",
              "      padding: 0 0 0 0;\n",
              "      width: 32px;\n",
              "    }\n",
              "\n",
              "    .colab-df-convert:hover {\n",
              "      background-color: #E2EBFA;\n",
              "      box-shadow: 0px 1px 2px rgba(60, 64, 67, 0.3), 0px 1px 3px 1px rgba(60, 64, 67, 0.15);\n",
              "      fill: #174EA6;\n",
              "    }\n",
              "\n",
              "    .colab-df-buttons div {\n",
              "      margin-bottom: 4px;\n",
              "    }\n",
              "\n",
              "    [theme=dark] .colab-df-convert {\n",
              "      background-color: #3B4455;\n",
              "      fill: #D2E3FC;\n",
              "    }\n",
              "\n",
              "    [theme=dark] .colab-df-convert:hover {\n",
              "      background-color: #434B5C;\n",
              "      box-shadow: 0px 1px 3px 1px rgba(0, 0, 0, 0.15);\n",
              "      filter: drop-shadow(0px 1px 2px rgba(0, 0, 0, 0.3));\n",
              "      fill: #FFFFFF;\n",
              "    }\n",
              "  </style>\n",
              "\n",
              "    <script>\n",
              "      const buttonEl =\n",
              "        document.querySelector('#df-fa11232a-a19c-4a02-b978-cc0e25faecd8 button.colab-df-convert');\n",
              "      buttonEl.style.display =\n",
              "        google.colab.kernel.accessAllowed ? 'block' : 'none';\n",
              "\n",
              "      async function convertToInteractive(key) {\n",
              "        const element = document.querySelector('#df-fa11232a-a19c-4a02-b978-cc0e25faecd8');\n",
              "        const dataTable =\n",
              "          await google.colab.kernel.invokeFunction('convertToInteractive',\n",
              "                                                    [key], {});\n",
              "        if (!dataTable) return;\n",
              "\n",
              "        const docLinkHtml = 'Like what you see? Visit the ' +\n",
              "          '<a target=\"_blank\" href=https://colab.research.google.com/notebooks/data_table.ipynb>data table notebook</a>'\n",
              "          + ' to learn more about interactive tables.';\n",
              "        element.innerHTML = '';\n",
              "        dataTable['output_type'] = 'display_data';\n",
              "        await google.colab.output.renderOutput(dataTable, element);\n",
              "        const docLink = document.createElement('div');\n",
              "        docLink.innerHTML = docLinkHtml;\n",
              "        element.appendChild(docLink);\n",
              "      }\n",
              "    </script>\n",
              "  </div>\n",
              "\n",
              "\n",
              "<div id=\"df-514f8475-ac4d-49f8-a56e-6546d63f5a04\">\n",
              "  <button class=\"colab-df-quickchart\" onclick=\"quickchart('df-514f8475-ac4d-49f8-a56e-6546d63f5a04')\"\n",
              "            title=\"Suggest charts\"\n",
              "            style=\"display:none;\">\n",
              "\n",
              "<svg xmlns=\"http://www.w3.org/2000/svg\" height=\"24px\"viewBox=\"0 0 24 24\"\n",
              "     width=\"24px\">\n",
              "    <g>\n",
              "        <path d=\"M19 3H5c-1.1 0-2 .9-2 2v14c0 1.1.9 2 2 2h14c1.1 0 2-.9 2-2V5c0-1.1-.9-2-2-2zM9 17H7v-7h2v7zm4 0h-2V7h2v10zm4 0h-2v-4h2v4z\"/>\n",
              "    </g>\n",
              "</svg>\n",
              "  </button>\n",
              "\n",
              "<style>\n",
              "  .colab-df-quickchart {\n",
              "      --bg-color: #E8F0FE;\n",
              "      --fill-color: #1967D2;\n",
              "      --hover-bg-color: #E2EBFA;\n",
              "      --hover-fill-color: #174EA6;\n",
              "      --disabled-fill-color: #AAA;\n",
              "      --disabled-bg-color: #DDD;\n",
              "  }\n",
              "\n",
              "  [theme=dark] .colab-df-quickchart {\n",
              "      --bg-color: #3B4455;\n",
              "      --fill-color: #D2E3FC;\n",
              "      --hover-bg-color: #434B5C;\n",
              "      --hover-fill-color: #FFFFFF;\n",
              "      --disabled-bg-color: #3B4455;\n",
              "      --disabled-fill-color: #666;\n",
              "  }\n",
              "\n",
              "  .colab-df-quickchart {\n",
              "    background-color: var(--bg-color);\n",
              "    border: none;\n",
              "    border-radius: 50%;\n",
              "    cursor: pointer;\n",
              "    display: none;\n",
              "    fill: var(--fill-color);\n",
              "    height: 32px;\n",
              "    padding: 0;\n",
              "    width: 32px;\n",
              "  }\n",
              "\n",
              "  .colab-df-quickchart:hover {\n",
              "    background-color: var(--hover-bg-color);\n",
              "    box-shadow: 0 1px 2px rgba(60, 64, 67, 0.3), 0 1px 3px 1px rgba(60, 64, 67, 0.15);\n",
              "    fill: var(--button-hover-fill-color);\n",
              "  }\n",
              "\n",
              "  .colab-df-quickchart-complete:disabled,\n",
              "  .colab-df-quickchart-complete:disabled:hover {\n",
              "    background-color: var(--disabled-bg-color);\n",
              "    fill: var(--disabled-fill-color);\n",
              "    box-shadow: none;\n",
              "  }\n",
              "\n",
              "  .colab-df-spinner {\n",
              "    border: 2px solid var(--fill-color);\n",
              "    border-color: transparent;\n",
              "    border-bottom-color: var(--fill-color);\n",
              "    animation:\n",
              "      spin 1s steps(1) infinite;\n",
              "  }\n",
              "\n",
              "  @keyframes spin {\n",
              "    0% {\n",
              "      border-color: transparent;\n",
              "      border-bottom-color: var(--fill-color);\n",
              "      border-left-color: var(--fill-color);\n",
              "    }\n",
              "    20% {\n",
              "      border-color: transparent;\n",
              "      border-left-color: var(--fill-color);\n",
              "      border-top-color: var(--fill-color);\n",
              "    }\n",
              "    30% {\n",
              "      border-color: transparent;\n",
              "      border-left-color: var(--fill-color);\n",
              "      border-top-color: var(--fill-color);\n",
              "      border-right-color: var(--fill-color);\n",
              "    }\n",
              "    40% {\n",
              "      border-color: transparent;\n",
              "      border-right-color: var(--fill-color);\n",
              "      border-top-color: var(--fill-color);\n",
              "    }\n",
              "    60% {\n",
              "      border-color: transparent;\n",
              "      border-right-color: var(--fill-color);\n",
              "    }\n",
              "    80% {\n",
              "      border-color: transparent;\n",
              "      border-right-color: var(--fill-color);\n",
              "      border-bottom-color: var(--fill-color);\n",
              "    }\n",
              "    90% {\n",
              "      border-color: transparent;\n",
              "      border-bottom-color: var(--fill-color);\n",
              "    }\n",
              "  }\n",
              "</style>\n",
              "\n",
              "  <script>\n",
              "    async function quickchart(key) {\n",
              "      const quickchartButtonEl =\n",
              "        document.querySelector('#' + key + ' button');\n",
              "      quickchartButtonEl.disabled = true;  // To prevent multiple clicks.\n",
              "      quickchartButtonEl.classList.add('colab-df-spinner');\n",
              "      try {\n",
              "        const charts = await google.colab.kernel.invokeFunction(\n",
              "            'suggestCharts', [key], {});\n",
              "      } catch (error) {\n",
              "        console.error('Error during call to suggestCharts:', error);\n",
              "      }\n",
              "      quickchartButtonEl.classList.remove('colab-df-spinner');\n",
              "      quickchartButtonEl.classList.add('colab-df-quickchart-complete');\n",
              "    }\n",
              "    (() => {\n",
              "      let quickchartButtonEl =\n",
              "        document.querySelector('#df-514f8475-ac4d-49f8-a56e-6546d63f5a04 button');\n",
              "      quickchartButtonEl.style.display =\n",
              "        google.colab.kernel.accessAllowed ? 'block' : 'none';\n",
              "    })();\n",
              "  </script>\n",
              "</div>\n",
              "    </div>\n",
              "  </div>\n"
            ]
          },
          "metadata": {},
          "execution_count": 111
        }
      ]
    },
    {
      "cell_type": "code",
      "source": [
        "data.info()"
      ],
      "metadata": {
        "colab": {
          "base_uri": "https://localhost:8080/"
        },
        "id": "BFV_XJtSj32J",
        "outputId": "a60e2888-e953-4470-b353-615d18f11df4"
      },
      "execution_count": 112,
      "outputs": [
        {
          "output_type": "stream",
          "name": "stdout",
          "text": [
            "<class 'pandas.core.frame.DataFrame'>\n",
            "RangeIndex: 1000 entries, 0 to 999\n",
            "Data columns (total 8 columns):\n",
            " #   Column               Non-Null Count  Dtype \n",
            "---  ------               --------------  ----- \n",
            " 0   DOB                  1000 non-null   object\n",
            " 1   Profession           1000 non-null   object\n",
            " 2   YOG                  1000 non-null   object\n",
            " 3   Self_Description     1000 non-null   object\n",
            " 4   DS_Course            678 non-null    object\n",
            " 5   Innomatics_batch_no  338 non-null    object\n",
            " 6   session_timings      1000 non-null   object\n",
            " 7   DS_skills            1000 non-null   object\n",
            "dtypes: object(8)\n",
            "memory usage: 62.6+ KB\n"
          ]
        }
      ]
    },
    {
      "cell_type": "markdown",
      "source": [
        "**Question 1:**"
      ],
      "metadata": {
        "id": "VwSkYWEwgXn0"
      }
    },
    {
      "cell_type": "code",
      "source": [
        "data['Profession'].value_counts()"
      ],
      "metadata": {
        "colab": {
          "base_uri": "https://localhost:8080/"
        },
        "id": "JTXe35offuBV",
        "outputId": "5a431250-56c6-4f5a-be31-8828eea08f80"
      },
      "execution_count": 113,
      "outputs": [
        {
          "output_type": "execute_result",
          "data": {
            "text/plain": [
              "Student (I am currently enrolled in some Educational Program)                          488\n",
              "Fresher (I have completed my Education and looking for a job now)                      424\n",
              "Working Professional (I have completed my Education and working full time)              62\n",
              "Freelancer (I have completed my Education and working part time or owns a business)     26\n",
              "Name: Profession, dtype: int64"
            ]
          },
          "metadata": {},
          "execution_count": 113
        }
      ]
    },
    {
      "cell_type": "markdown",
      "source": [
        "**Ans:** <br>\n",
        "The above data shows that most of the interns are students who are still studying. And freshers are 2nd highest very close in number too"
      ],
      "metadata": {
        "id": "ay8kWw8xknNW"
      }
    },
    {
      "cell_type": "markdown",
      "source": [
        "**Question 2:**"
      ],
      "metadata": {
        "id": "cpJROeMSlZLn"
      }
    },
    {
      "cell_type": "code",
      "source": [
        "print(data['session_timings'].unique())\n",
        "print(data['session_timings'].value_counts())"
      ],
      "metadata": {
        "colab": {
          "base_uri": "https://localhost:8080/"
        },
        "id": "-7ERF4PsfuI9",
        "outputId": "afb3ab21-1104-4c53-fe5c-b0a97139227a"
      },
      "execution_count": 114,
      "outputs": [
        {
          "output_type": "stream",
          "name": "stdout",
          "text": [
            "['6:00 to 7:00 PM IST' '5:00 to 6:00 PM IST']\n",
            "6:00 to 7:00 PM IST    672\n",
            "5:00 to 6:00 PM IST    328\n",
            "Name: session_timings, dtype: int64\n"
          ]
        }
      ]
    },
    {
      "cell_type": "markdown",
      "source": [
        "**Ans:** <br> 1). 6 - 7 PM IST and 5 - 6 PM IST are the preferred timings given by the interns for live sessions <br> 2). 6-7 PM being the most preferred\n"
      ],
      "metadata": {
        "id": "Ld8_6CaXl2x_"
      }
    },
    {
      "cell_type": "markdown",
      "source": [
        "**Question 3:**"
      ],
      "metadata": {
        "id": "gINauCuzmLy3"
      }
    },
    {
      "cell_type": "code",
      "source": [
        "data.shape"
      ],
      "metadata": {
        "colab": {
          "base_uri": "https://localhost:8080/"
        },
        "id": "Sjm6kSkHfuQL",
        "outputId": "1f82a893-5bed-4a48-ffb3-76d93345dcf2"
      },
      "execution_count": 115,
      "outputs": [
        {
          "output_type": "execute_result",
          "data": {
            "text/plain": [
              "(1000, 8)"
            ]
          },
          "metadata": {},
          "execution_count": 115
        }
      ]
    },
    {
      "cell_type": "code",
      "source": [
        "print(len(data['DOB'].unique()))\n",
        "\n",
        "#(data['DOB'].unique().value_counts() > 1)\n",
        "\n",
        "#data['DOB'].value_counts()>1"
      ],
      "metadata": {
        "colab": {
          "base_uri": "https://localhost:8080/"
        },
        "id": "zieD-hQQoQ_o",
        "outputId": "432cdbbb-e28c-4b10-c675-5f7daabb9ecf"
      },
      "execution_count": 116,
      "outputs": [
        {
          "output_type": "stream",
          "name": "stdout",
          "text": [
            "826\n"
          ]
        }
      ]
    },
    {
      "cell_type": "markdown",
      "source": [
        "**Ans:** <br> As per the dataset, we have 1000 unique interns. On further analysis, some interns happen to share birthdays on few common days"
      ],
      "metadata": {
        "id": "UZr2_QhbmMsG"
      }
    },
    {
      "cell_type": "markdown",
      "source": [
        "**Question 4:**"
      ],
      "metadata": {
        "id": "25T-LWdRuHkr"
      }
    },
    {
      "cell_type": "code",
      "source": [
        "data['DS_Course'].info()"
      ],
      "metadata": {
        "colab": {
          "base_uri": "https://localhost:8080/"
        },
        "id": "H7spi1f3oZIA",
        "outputId": "627a2921-bfc3-42b6-c027-dff7808bab15"
      },
      "execution_count": 117,
      "outputs": [
        {
          "output_type": "stream",
          "name": "stdout",
          "text": [
            "<class 'pandas.core.series.Series'>\n",
            "RangeIndex: 1000 entries, 0 to 999\n",
            "Series name: DS_Course\n",
            "Non-Null Count  Dtype \n",
            "--------------  ----- \n",
            "678 non-null    object\n",
            "dtypes: object(1)\n",
            "memory usage: 7.9+ KB\n"
          ]
        }
      ]
    },
    {
      "cell_type": "code",
      "source": [
        "data[data['DS_Course'].isna()].Profession.value_counts()"
      ],
      "metadata": {
        "colab": {
          "base_uri": "https://localhost:8080/"
        },
        "id": "lN08vDMauQVk",
        "outputId": "6e0a4c2c-5e78-4339-d5ca-386cc4779497"
      },
      "execution_count": 118,
      "outputs": [
        {
          "output_type": "execute_result",
          "data": {
            "text/plain": [
              "Student (I am currently enrolled in some Educational Program)                          205\n",
              "Fresher (I have completed my Education and looking for a job now)                      101\n",
              "Working Professional (I have completed my Education and working full time)              12\n",
              "Freelancer (I have completed my Education and working part time or owns a business)      4\n",
              "Name: Profession, dtype: int64"
            ]
          },
          "metadata": {},
          "execution_count": 118
        }
      ]
    },
    {
      "cell_type": "markdown",
      "source": [
        "**Ans:** <br> 1). Total of 332 interns have NaN in the course, hence they have never enrolled in a Data science course <br> 2). 205 out of 332 are students. so majority of their current profession is students who are still in university"
      ],
      "metadata": {
        "id": "yBFTYfRHuLF8"
      }
    },
    {
      "cell_type": "markdown",
      "source": [
        "**Question 5:**"
      ],
      "metadata": {
        "id": "Pwzb7egcuP7s"
      }
    },
    {
      "cell_type": "markdown",
      "source": [
        "a. What is the minimum age of an intern at Innomatics Research Labs?"
      ],
      "metadata": {
        "id": "p8_KYKbuG7w5"
      }
    },
    {
      "cell_type": "code",
      "source": [
        "data['DOB']\n"
      ],
      "metadata": {
        "colab": {
          "base_uri": "https://localhost:8080/"
        },
        "id": "bY1IBjTxU3JN",
        "outputId": "aee7b2e1-7395-493b-99df-a0041df308da"
      },
      "execution_count": 119,
      "outputs": [
        {
          "output_type": "execute_result",
          "data": {
            "text/plain": [
              "0       9/16/2000\n",
              "1        2/6/1998\n",
              "2       10/8/2003\n",
              "3      11/29/2001\n",
              "4      11/25/2004\n",
              "          ...    \n",
              "995     8/28/1998\n",
              "996     4/22/2004\n",
              "997      6/8/2000\n",
              "998      6/3/2003\n",
              "999     7/24/2003\n",
              "Name: DOB, Length: 1000, dtype: object"
            ]
          },
          "metadata": {},
          "execution_count": 119
        }
      ]
    },
    {
      "cell_type": "code",
      "source": [
        "from datetime import datetime, date\n",
        "def age(born):\n",
        "    born = datetime.strptime(born, \"%m/%d/%Y\").date()\n",
        "    today = date.today()\n",
        "    return today.year - born.year - ((today.month,\n",
        "                                      today.day) < (born.month,\n",
        "                                                    born.day))\n",
        "\n",
        "data_age = data['DOB'].apply(age)\n",
        "\n",
        "print(data_age.sort_values())"
      ],
      "metadata": {
        "colab": {
          "base_uri": "https://localhost:8080/"
        },
        "id": "Yr64Gm0lIoiv",
        "outputId": "6d08e793-c284-41e1-878e-cf0fa16c390f"
      },
      "execution_count": 120,
      "outputs": [
        {
          "output_type": "stream",
          "name": "stdout",
          "text": [
            "112    -1\n",
            "536    -1\n",
            "307     0\n",
            "834    16\n",
            "844    17\n",
            "       ..\n",
            "711    35\n",
            "274    35\n",
            "684    35\n",
            "598    37\n",
            "606    43\n",
            "Name: DOB, Length: 1000, dtype: int64\n"
          ]
        }
      ]
    },
    {
      "cell_type": "markdown",
      "source": [
        "Ans:<br>\n",
        "When sorted the age in ascending order, we see negative value an zero which means wrong date of birth values given by the interns. <br> So logically, 16 is the valid minimum age of all interns."
      ],
      "metadata": {
        "id": "78PazAVpHCiS"
      }
    },
    {
      "cell_type": "markdown",
      "source": [
        "b. How many interns were born on a Sunday?"
      ],
      "metadata": {
        "id": "yBJ6rflZK76_"
      }
    },
    {
      "cell_type": "code",
      "source": [
        "def getDay(born):\n",
        "    born = datetime.strptime(born, \"%m/%d/%Y\").date()\n",
        "    ts = pd.Timestamp(born.year, born.month, born.day)\n",
        "    return ts.day_of_week\n",
        "\n",
        "data_day = data['DOB'].apply(getDay)\n",
        "\n",
        "print(data_day.value_counts()) #pd.Timestamp(2023, 01, 28)"
      ],
      "metadata": {
        "colab": {
          "base_uri": "https://localhost:8080/"
        },
        "id": "mtAdVFmuHDZx",
        "outputId": "54cac4e2-cfcc-4fc6-bab0-e156ce1926f2"
      },
      "execution_count": 121,
      "outputs": [
        {
          "output_type": "stream",
          "name": "stdout",
          "text": [
            "0    163\n",
            "3    147\n",
            "4    146\n",
            "5    145\n",
            "1    140\n",
            "2    134\n",
            "6    125\n",
            "Name: DOB, dtype: int64\n"
          ]
        }
      ]
    },
    {
      "cell_type": "markdown",
      "source": [
        "**Ans:** <br> **125** interns were born on Sunday"
      ],
      "metadata": {
        "id": "8JJq8cF2uQqq"
      }
    },
    {
      "cell_type": "markdown",
      "source": [
        "c. In which month do the majority of interns are born?"
      ],
      "metadata": {
        "id": "Shott9eZNwe-"
      }
    },
    {
      "cell_type": "code",
      "source": [
        "def getMonth(born):\n",
        "    born = datetime.strptime(born, \"%m/%d/%Y\").date()\n",
        "    ts = pd.Timestamp(born.year, born.month, born.day)\n",
        "    return ts.month\n",
        "\n",
        "data_day = data['DOB'].apply(getMonth)\n",
        "\n",
        "print(data_day.value_counts())"
      ],
      "metadata": {
        "colab": {
          "base_uri": "https://localhost:8080/"
        },
        "id": "kr-ef93jNw47",
        "outputId": "b16a6b1e-3254-4f54-cff0-3f50662d3daf"
      },
      "execution_count": 122,
      "outputs": [
        {
          "output_type": "stream",
          "name": "stdout",
          "text": [
            "7     103\n",
            "5     102\n",
            "6      97\n",
            "8      93\n",
            "10     92\n",
            "4      87\n",
            "9      81\n",
            "11     78\n",
            "12     76\n",
            "1      66\n",
            "2      64\n",
            "3      61\n",
            "Name: DOB, dtype: int64\n"
          ]
        }
      ]
    },
    {
      "cell_type": "markdown",
      "source": [
        "Ans: <br> Majority were born in **July**"
      ],
      "metadata": {
        "id": "SIPwbwjaOMis"
      }
    },
    {
      "cell_type": "markdown",
      "source": [
        "d. What is the average age of a working professional?"
      ],
      "metadata": {
        "id": "-Y--BPclOM03"
      }
    },
    {
      "cell_type": "code",
      "source": [
        "data_workage = data[data['Profession'].str.startswith('W')]\n",
        "#data_age =\n",
        "\n",
        "def workAge(born):\n",
        "    born = datetime.strptime(born, \"%m/%d/%Y\").date()\n",
        "    today = date.today()\n",
        "    return today.year - born.year - ((today.month,\n",
        "                                      today.day) < (born.month,\n",
        "                                                    born.day))\n",
        "\n",
        "data_age = data_workage['DOB'].apply(workAge)\n",
        "\n",
        "print(data_age.mean())"
      ],
      "metadata": {
        "colab": {
          "base_uri": "https://localhost:8080/"
        },
        "id": "Vjsqd6ZtOb5A",
        "outputId": "b39518c5-c7d5-4b4b-dda5-936a7d8ed737"
      },
      "execution_count": 123,
      "outputs": [
        {
          "output_type": "stream",
          "name": "stdout",
          "text": [
            "26.112903225806452\n"
          ]
        }
      ]
    },
    {
      "cell_type": "markdown",
      "source": [
        "**Ans**: <br>\n",
        "Average age is **approx. 26 years 1 month** for working professionals"
      ],
      "metadata": {
        "id": "hNoC5TtjOd0_"
      }
    },
    {
      "cell_type": "markdown",
      "source": [
        "e. What is the maximum age of a freelancer?"
      ],
      "metadata": {
        "id": "BRi1lD43OcrD"
      }
    },
    {
      "cell_type": "code",
      "source": [
        "data_freelanceage = data[data['Profession'].str.startswith('F')]\n",
        "\n",
        "def freeAge(born):\n",
        "    born = datetime.strptime(born, \"%m/%d/%Y\").date()\n",
        "    today = date.today()\n",
        "    return today.year - born.year - ((today.month,\n",
        "                                      today.day) < (born.month,\n",
        "                                                    born.day))\n",
        "\n",
        "data_age = data_freelanceage['DOB'].apply(freeAge)\n",
        "\n",
        "print(data_age.max())"
      ],
      "metadata": {
        "colab": {
          "base_uri": "https://localhost:8080/"
        },
        "id": "_3Wq4ymuOdHL",
        "outputId": "e8a4136a-f07e-4b55-91fc-3785778a6e8b"
      },
      "execution_count": 124,
      "outputs": [
        {
          "output_type": "stream",
          "name": "stdout",
          "text": [
            "43\n"
          ]
        }
      ]
    },
    {
      "cell_type": "markdown",
      "source": [
        "**Ans:** <br> **43** is the Maximum age of a freelancer in this internship"
      ],
      "metadata": {
        "id": "oCwbxgVsOey2"
      }
    },
    {
      "cell_type": "markdown",
      "source": [
        "**Question 6:**"
      ],
      "metadata": {
        "id": "nIoXWQ-rV8H8"
      }
    },
    {
      "cell_type": "code",
      "source": [
        "data_skill = data['DS_skills']\n",
        "data_skill"
      ],
      "metadata": {
        "colab": {
          "base_uri": "https://localhost:8080/"
        },
        "id": "xAoakwwRV8qR",
        "outputId": "dba5bbbf-0683-4eb6-f73a-b046f8ee1055"
      },
      "execution_count": 125,
      "outputs": [
        {
          "output_type": "execute_result",
          "data": {
            "text/plain": [
              "0      Extracting actionable insights from the raw da...\n",
              "1       Extracting actionable insights from the raw data\n",
              "2                                         Data Modelling\n",
              "3      Extracting actionable insights from the raw da...\n",
              "4      Extracting actionable insights from the raw da...\n",
              "                             ...                        \n",
              "995    Extracting actionable insights from the raw da...\n",
              "996                                                 LLMs\n",
              "997    Extracting actionable insights from the raw da...\n",
              "998    Extracting actionable insights from the raw da...\n",
              "999                      LLMs, MLOps, Prompt Engineering\n",
              "Name: DS_skills, Length: 1000, dtype: object"
            ]
          },
          "metadata": {},
          "execution_count": 125
        }
      ]
    },
    {
      "cell_type": "code",
      "source": [
        "list_all = data['DS_skills'].str.split(r',').dropna()\n",
        "arr = []\n",
        "for i in list_all:\n",
        "  arr.append(i)\n",
        "#list_all = np.array(list_all)\n",
        "#print(list_all.shape)\n",
        "# list_unique = np.unique(sum(list_all, []))\n",
        "# print(len(list_unique))\n",
        "#list_unique\n",
        "list_all = np.array(arr, dtype=object)\n",
        "list_all.ndim\n",
        "#print(list_all.ndim)\n",
        "#list_all\n",
        "#list_all\n",
        "#np.count_nonzero(list_all == \"LLM\")"
      ],
      "metadata": {
        "colab": {
          "base_uri": "https://localhost:8080/"
        },
        "id": "Xg-17no8cy3s",
        "outputId": "6ec55c42-8ed1-45f2-8376-43cfd627c9ac"
      },
      "execution_count": 126,
      "outputs": [
        {
          "output_type": "execute_result",
          "data": {
            "text/plain": [
              "1"
            ]
          },
          "metadata": {},
          "execution_count": 126
        }
      ]
    },
    {
      "cell_type": "code",
      "source": [
        "## Possible values/options of skills\n",
        "skill_options = [\"Data Modelling\", \"LLMs\", \"MLOps\", \"Basics of backend application development using python\", \"Prompt Engineering\", \"Extracting actionable insights from the raw data\"]\n",
        "#skill_options = [1,2,3,4,5]\n",
        "for skill in skill_options:\n",
        "  count = np.count_nonzero(data_skill == skill)\n",
        "  print(\"{} - {}\".format(skill, count))"
      ],
      "metadata": {
        "id": "qjZQm6TIXPkL"
      },
      "execution_count": null,
      "outputs": []
    },
    {
      "cell_type": "code",
      "source": [
        "dm_count, llm_count, mlop_count, bdev_count, prompt_count, ext_count = 0, 0, 0, 0, 0, 0\n",
        "\n",
        "for skill in data_skill:\n",
        "  if 'Data Modelling' in skill:\n",
        "    dm_count += 1\n",
        "\n",
        "for skill in data_skill:\n",
        "  if 'LLMs' in skill:\n",
        "    llm_count += 1\n",
        "\n",
        "for skill in data_skill:\n",
        "  if 'MLOps' in skill:\n",
        "    mlop_count += 1\n",
        "\n",
        "for skill in data_skill:\n",
        "  if 'Basics of backend application development using python' in skill:\n",
        "    bdev_count += 1\n",
        "\n",
        "for skill in data_skill:\n",
        "  if 'Prompt Engineering' in skill:\n",
        "    prompt_count += 1\n",
        "\n",
        "for skill in data_skill:\n",
        "  if 'Extracting actionable insights from the raw data' in skill:\n",
        "    ext_count += 1\n",
        "\n",
        "print(dm_count)\n",
        "print(llm_count)\n",
        "print(mlop_count)\n",
        "print(bdev_count)\n",
        "print(prompt_count)\n",
        "print(ext_count)"
      ],
      "metadata": {
        "colab": {
          "base_uri": "https://localhost:8080/"
        },
        "id": "j506hpw8XkBP",
        "outputId": "043d550e-25cb-4797-a85c-6dc6ac75ed2e"
      },
      "execution_count": 128,
      "outputs": [
        {
          "output_type": "stream",
          "name": "stdout",
          "text": [
            "825\n",
            "533\n",
            "596\n",
            "522\n",
            "425\n",
            "869\n"
          ]
        }
      ]
    },
    {
      "cell_type": "markdown",
      "source": [
        "**Ans:** <br> **Extracting actionable insights** and **Data Modelling** are two skills chosen by most of the interns"
      ],
      "metadata": {
        "id": "PysPT2KtV86j"
      }
    },
    {
      "cell_type": "markdown",
      "source": [
        "Question 7:"
      ],
      "metadata": {
        "id": "lG-id6rfWcjO"
      }
    },
    {
      "cell_type": "code",
      "source": [
        "data_skill = data['DS_skills']\n",
        "\n",
        "count = 0\n",
        "for skill in data_skill:\n",
        "  if 'Prompt Engineering' in skill:\n",
        "    count += 1\n",
        "print(count)"
      ],
      "metadata": {
        "colab": {
          "base_uri": "https://localhost:8080/"
        },
        "id": "3i6NIw7JV9wQ",
        "outputId": "ae462424-379b-45ac-af4a-086f31965bac"
      },
      "execution_count": 129,
      "outputs": [
        {
          "output_type": "stream",
          "name": "stdout",
          "text": [
            "425\n"
          ]
        }
      ]
    },
    {
      "cell_type": "markdown",
      "source": [
        "**Ans:** <br> 425 interns have selected Prompt Engineering as one of the options to be most important skill"
      ],
      "metadata": {
        "id": "HreKZTWuV-wi"
      }
    },
    {
      "cell_type": "markdown",
      "source": [
        "### Question 8: Institue Analysis"
      ],
      "metadata": {
        "id": "ifK4ovZyR8SR"
      }
    },
    {
      "cell_type": "markdown",
      "source": [
        "a. How many interns didn’t mention the name of the data science institute"
      ],
      "metadata": {
        "id": "To8Twj7WSGVN"
      }
    },
    {
      "cell_type": "code",
      "source": [
        "len(data[data['DS_Course'].isna()])"
      ],
      "metadata": {
        "colab": {
          "base_uri": "https://localhost:8080/"
        },
        "id": "KO-jTcz7R8pH",
        "outputId": "417d667e-de7e-4191-b075-464a75687023"
      },
      "execution_count": 130,
      "outputs": [
        {
          "output_type": "execute_result",
          "data": {
            "text/plain": [
              "322"
            ]
          },
          "metadata": {},
          "execution_count": 130
        }
      ]
    },
    {
      "cell_type": "markdown",
      "source": [
        "b. How many interns mentioned Innomatics as their data science institute?"
      ],
      "metadata": {
        "id": "5YB1A30nSmX9"
      }
    },
    {
      "cell_type": "code",
      "source": [
        "data['DS_Course'].str.extract(pat = '([Ii]nnomatics.)').value_counts()"
      ],
      "metadata": {
        "colab": {
          "base_uri": "https://localhost:8080/"
        },
        "id": "axdX8O-KSmu5",
        "outputId": "00413b08-a3b5-4f10-d251-22581cb6942c"
      },
      "execution_count": 131,
      "outputs": [
        {
          "output_type": "execute_result",
          "data": {
            "text/plain": [
              "Innomatics     237\n",
              "innomatics       8\n",
              "InnomaticsR      1\n",
              "dtype: int64"
            ]
          },
          "metadata": {},
          "execution_count": 131
        }
      ]
    },
    {
      "cell_type": "markdown",
      "source": [
        "**Ans**: <br> Total of **246 interns** are associated with Innomatics"
      ],
      "metadata": {
        "id": "6KN-IJ6tV9Lu"
      }
    }
  ]
}