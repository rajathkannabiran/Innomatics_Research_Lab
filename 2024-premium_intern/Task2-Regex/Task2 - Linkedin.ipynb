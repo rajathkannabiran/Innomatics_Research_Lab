{
 "cells": [
  {
   "cell_type": "code",
   "execution_count": 54,
   "id": "0bb6467e-a6c9-4692-8bd4-93741c51b20e",
   "metadata": {},
   "outputs": [],
   "source": [
    "import numpy as np\n",
    "import pandas as pd\n",
    "import re"
   ]
  },
  {
   "cell_type": "code",
   "execution_count": null,
   "id": "6ce5789e-6c73-4e6b-a6a6-6b9143737dc9",
   "metadata": {},
   "outputs": [],
   "source": [
    "file = open('', 'r')\n",
    "content1 = file.read()\n",
    "file1.close()\n",
    "\n",
    "final_file = open('concatenated.txt', 'w')\n",
    "conc = final_file.read()\n",
    "\n",
    "# try to concatenate all files\n",
    "final_file.write(conc + content1)\n",
    "\n",
    "final_file.close()"
   ]
  },
  {
   "cell_type": "markdown",
   "id": "1aa0ccac-04c9-4c3e-8f7d-ca07cb2be6c1",
   "metadata": {},
   "source": [
    "## Merging all txt files into one"
   ]
  },
  {
   "cell_type": "code",
   "execution_count": 32,
   "id": "d8e45cdd-58f4-4940-933a-831e8d638255",
   "metadata": {},
   "outputs": [],
   "source": [
    "file_paths = ['C:\\\\Users\\\\rajath.k\\\\Downloads\\\\GMT20240125-121850_RecordingnewChat\\\\recovery_1\\\\RecordingnewChat-Copy1.txt',\n",
    "              'C:\\\\Users\\\\rajath.k\\\\Downloads\\\\GMT20240125-121850_RecordingnewChat\\\\recovery_2\\\\RecordingnewChat-Copy2.txt',\n",
    "              'C:\\\\Users\\\\rajath.k\\\\Downloads\\\\GMT20240125-121850_RecordingnewChat\\\\recovery_3\\\\RecordingnewChat-Copy3.txt',\n",
    "              'C:\\\\Users\\\\rajath.k\\\\Downloads\\\\GMT20240125-121850_RecordingnewChat\\\\recovery_4\\\\RecordingnewChat-Copy4.txt',\n",
    "              'C:\\\\Users\\\\rajath.k\\\\Downloads\\\\GMT20240125-121850_RecordingnewChat\\\\recovery_5\\\\RecordingnewChat-Copy5.txt',\n",
    "              'C:\\\\Users\\\\rajath.k\\\\Downloads\\\\GMT20240125-121850_RecordingnewChat\\\\recovery_6\\\\RecordingnewChat-Copy6.txt',\n",
    "              'C:\\\\Users\\\\rajath.k\\\\Downloads\\\\GMT20240125-121850_RecordingnewChat\\\\recovery_7\\\\RecordingnewChat-Copy7.txt',\n",
    "              'C:\\\\Users\\\\rajath.k\\\\Downloads\\\\GMT20240125-121850_RecordingnewChat\\\\recovery_8\\\\RecordingnewChat-Copy8.txt',\n",
    "              'C:\\\\Users\\\\rajath.k\\\\Downloads\\\\GMT20240125-121850_RecordingnewChat\\\\recovery_9\\\\RecordingnewChat-Copy9.txt',\n",
    "              'C:\\\\Users\\\\rajath.k\\\\Downloads\\\\GMT20240125-121850_RecordingnewChat\\\\recovery_10\\\\RecordingnewChat-Copy10.txt',\n",
    "              'C:\\\\Users\\\\rajath.k\\\\Downloads\\\\GMT20240125-121850_RecordingnewChat\\\\recovery_11\\\\RecordingnewChat-Copy11.txt',\n",
    "              'C:\\\\Users\\\\rajath.k\\\\Downloads\\\\GMT20240125-121850_RecordingnewChat\\\\recovery_12\\\\RecordingnewChat-Copy12.txt',\n",
    "              'C:\\\\Users\\\\rajath.k\\\\Downloads\\\\GMT20240125-121850_RecordingnewChat\\\\recovery_13\\\\RecordingnewChat-Copy13.txt',\n",
    "              'C:\\\\Users\\\\rajath.k\\\\Downloads\\\\GMT20240125-121850_RecordingnewChat\\\\recovery_14\\\\RecordingnewChat-Copy14.txt',\n",
    "              'C:\\\\Users\\\\rajath.k\\\\Downloads\\\\GMT20240125-121850_RecordingnewChat\\\\recovery_15\\\\RecordingnewChat-Copy15.txt']\n",
    "\n",
    "\n",
    "with open('output-file.txt', 'w', encoding='utf-8') as output_file:\n",
    "    for file_path in file_paths:\n",
    "        with open(file_path, 'r', encoding='utf-8') as input_file:\n",
    "            #print(len(input_file.readlines()), end = ' ')\n",
    "            output_file.write(input_file.read())\n"
   ]
  },
  {
   "cell_type": "markdown",
   "id": "20483743-e884-4826-a946-c5d7e5dc2694",
   "metadata": {},
   "source": [
    "## Reading the final merged txt file"
   ]
  },
  {
   "cell_type": "code",
   "execution_count": 75,
   "id": "dbbe3eb3-e8eb-466e-8cc8-7e499fbd35ec",
   "metadata": {},
   "outputs": [],
   "source": [
    "input_file = open(r'output-file.txt', 'r', encoding=\"utf8\")\n",
    "\n",
    "file = input_file.read()\n",
    "\n",
    "#print(file)"
   ]
  },
  {
   "cell_type": "markdown",
   "id": "dcf9531b-9a77-47df-be5b-adb061f29c78",
   "metadata": {},
   "source": [
    "### Finding all linkedin URLs in the message"
   ]
  },
  {
   "cell_type": "code",
   "execution_count": 94,
   "id": "785b764c-4e95-4291-b0ba-eea9d1e78cb9",
   "metadata": {},
   "outputs": [
    {
     "name": "stdout",
     "output_type": "stream",
     "text": [
      "6591\n"
     ]
    },
    {
     "data": {
      "text/plain": [
       "False"
      ]
     },
     "execution_count": 94,
     "metadata": {},
     "output_type": "execute_result"
    }
   ],
   "source": [
    "pattern = r'linkedin.com'\n",
    "linkedin_url = re.findall(pattern, file)\n",
    "\n",
    "# pattern = re.compile(r'linkedin.com')\n",
    "# linkedin_url = pattern.findall(file)\n",
    "\n",
    "# linkedin_url = [url for url in matches if 'linkedin.com/in/' in url]\n",
    "\n",
    "#\"https://www.linkedin.com/feed/\" in linkedin_url\n",
    "\n",
    "print(len(linkedin_url))\n"
   ]
  },
  {
   "cell_type": "code",
   "execution_count": null,
   "id": "b6983455-2b54-4b33-9758-162c8e5e8b71",
   "metadata": {},
   "outputs": [],
   "source": []
  },
  {
   "cell_type": "code",
   "execution_count": 74,
   "id": "3013e91b-a3fe-415a-aed9-d5b528047595",
   "metadata": {},
   "outputs": [
    {
     "name": "stdout",
     "output_type": "stream",
     "text": [
      "['https://www.linkedin.com/in/aniket-gupta-044075236', 'https://www.linkedin.com/in/s-dinesh-kumar-b0284822a/', 'https://www.linkedin.com/in/s-dinesh-kumar-b0284822a/', 'https://www.linkedin.com/in/s-dinesh-kumar-b0284822a/', 'https://www.linkedin.com/in/jkpratik99/', 'https://www.linkedin.com/in/s-dinesh-kumar-b0284822a/', 'https://www.linkedin.com/in/s-dinesh-kumar-b0284822a/', 'https://www.linkedin.com/in/s-dinesh-kumar-b0284822a/', 'https://www.linkedin.com/in/ashutosh-ramnath-pawar', 'https://www.linkedin.com/in/ravi-rathod-b3bb4227b', 'https://www.linkedin.com/in/', 'https://www.linkedin.com/in/kartikdhanai', 'https://www.linkedin.com/in/meenuga-jyothi-6a9bba23b/', 'https://www.linkedin.com/in/kartikdhanai', 'https://www.linkedin.com/in/kartikdhanai', 'https://www.linkedin.com/in/mahimachuri/', 'https://www.linkedin.com/in/raju-lakkarsu-7b541b253/']\n"
     ]
    }
   ],
   "source": [
    "# import re\n",
    "\n",
    "# text = \"\"\"\n",
    "# t Gupta:\thttps://www.linkedin.com/in/aniket-gupta-044075236?utm_source=share&utm_campaign=share_via&utm_content=profile&utm_medium=android_app\n",
    "# \tLine  1893: 00:43:53\tMaradapu Charishma:\twww.linkedin.com/in/\n",
    "# \tLine  1895: 00:43:53\tS.Dinesh Kumar:\thttps://www.linkedin.com/in/s-dinesh-kumar-b0284822a/\n",
    "# \tLine  1896: 00:43:53\tHarshit Punera:\tlinkedin.com/in/harshit-punera-248177228\n",
    "#     linkedin.com\n",
    "# \tLine  1897: 00:43:53\tS.Dinesh Kumar:\thttps://www.linkedin.com/in/s-dinesh-kumar-b0284822a/\n",
    "# \tLine  1898: 00:43:54\tS.Dinesh Kumar:\thttps://www.linkedin.com/in/s-dinesh-kumar-b0284822a/\n",
    "# \tLine  1900: 00:43:54\tPratik Kumar Jha:\thttps://www.linkedin.com/in/jkpratik99/\n",
    "# \tLine  1901: 00:43:54\tS.Dinesh Kumar:\thttps://www.linkedin.com/in/s-dinesh-kumar-b0284822a/\n",
    "# \tLine  1902: 00:43:54\tS.Dinesh Kumar:\thttps://www.linkedin.com/in/s-dinesh-kumar-b0284822a/\n",
    "# \tLine  1903: 00:43:54\tS.Dinesh Kumar:\thttps://www.linkedin.com/in/s-dinesh-kumar-b0284822a/\n",
    "# \tLine  1909: 00:43:56\tAshutosh Pawar:\thttps://www.linkedin.com/in/ashutosh-ramnath-pawar\n",
    "# \tLine  1910: 00:43:57\tRavi Rathod:\thttps://www.linkedin.com/in/ravi-rathod-b3bb4227b?utm_source=share&utm_campaign=share_via&utm_content=profile&utm_medium=android_app\n",
    "# \tLine  1915: 00:45:11\tmounika avadutha:\thttps://www.linkedin.com/in/\n",
    "# \tLine  1971: 00:45:37\tMohammed Abdul Rafay:\twww.linkedin.com/in/mohammed-abdul-rafay-20a700228\n",
    "# \tLine  1979: 00:45:40\tKartik Dhanai:\thttps://www.linkedin.com/in/kartikdhanai\n",
    "# \tLine  1982: 00:45:41\tMEENUGA JYOTHI:\thttps://www.linkedin.com/in/meenuga-jyothi-6a9bba23b/\n",
    "# \tLine  1992: 00:45:47\tKartik Dhanai:\thttps://www.linkedin.com/in/kartikdhanai\n",
    "# \tLine  2003: 00:46:01\tKartik Dhanai:\thttps://www.linkedin.com/in/kartikdhanai\n",
    "# \tLine  2007: 00:46:15\tMahima Churi:\thttps://www.linkedin.com/in/mahimachuri/\n",
    "# \tLine  2011: 00:46:26\tShreya Ranjankar:\twww.linkedin.com/in/shreya-ranjankar-440850258\n",
    "# \tLine  2033: 00:46:37\tRaju lakkarsu:\thttps://www.linkedin.com/in/raju-lakkarsu-7b541b253/\n",
    "# linkedin.com/\n",
    "# \"\"\"\n",
    "\n",
    "# # Define a regex pattern for various LinkedIn URLs\n",
    "# pattern = re.compile(r'https?://www\\.linkedin\\.com/[a-zA-Z0-9_/-]+/?')\n",
    "# #pattern = re.compile(r'https?://www\\.linkedin\\.com')\n",
    "# #pattern = re.compile(r'linkedin\\.com/[a-zA-Z0-9_/-]+/?')\n",
    "\n",
    "# # Find all matches in the given text\n",
    "# matches = pattern.findall(text)\n",
    "\n",
    "# # Filter for URLs that contain 'linkedin.com/in/' to focus on profiles\n",
    "# linkedin_profile_urls = [url for url in matches if 'linkedin.com/in/' in url]\n",
    "\n",
    "# # Print the extracted LinkedIn profile URLs\n",
    "# print(linkedin_profile_urls)\n"
   ]
  },
  {
   "cell_type": "markdown",
   "id": "31f80ad9-646a-4f0d-bc27-72ea97bf7393",
   "metadata": {},
   "source": [
    "### Finding VALID URLs until ? or / or next line or white space"
   ]
  },
  {
   "cell_type": "code",
   "execution_count": 95,
   "id": "42bdd852-8a11-46b2-80fb-23cae66ef777",
   "metadata": {},
   "outputs": [
    {
     "name": "stdout",
     "output_type": "stream",
     "text": [
      "6404\n"
     ]
    },
    {
     "data": {
      "text/plain": [
       "['linkedin.com/in/aardra-reji-a615ba26b',\n",
       " 'linkedin.com/in/sathish-vanga',\n",
       " 'linkedin.com/in/abhishek-ganeshkar2023',\n",
       " 'linkedin.com/in/vishakha-deshmukh-a97261264',\n",
       " 'linkedin.com/in/harsh-raj-gupta-388234250',\n",
       " 'linkedin.com/in/vyom-modi',\n",
       " 'linkedin.com/in/krishna-kumar217',\n",
       " 'linkedin.com/in/arun-kumar-vollala-78713518b',\n",
       " 'linkedin.com/in/gurram-ruthvi-chaitanya-ab234a105',\n",
       " 'linkedin.com/in/adepubharath',\n",
       " 'linkedin.com/in/sohil-sharma',\n",
       " 'linkedin.com/in/kritagyay',\n",
       " 'linkedin.com/in/vyom-modi',\n",
       " 'linkedin.com/in/vyom-modi',\n",
       " 'linkedin.com/in/vyom-modi',\n",
       " 'linkedin.com/in/vyom-modi',\n",
       " 'linkedin.com/in/darshan-gowda-m-9b7576227',\n",
       " 'linkedin.com/in/vyom-modi',\n",
       " 'linkedin.com/in/Arnav-Rangwani',\n",
       " 'linkedin.com/in/mohammed-abdul-rafay-20a700228']"
      ]
     },
     "execution_count": 95,
     "metadata": {},
     "output_type": "execute_result"
    }
   ],
   "source": [
    "#pattern = r'linkedin.com/in/.+/?'\n",
    "pattern = r'linkedin.com/in/[^?/\\s]+'\n",
    "profile_url = re.findall(pattern, file)\n",
    "\n",
    "print(len(profile_url))\n",
    "profile_url[:20]"
   ]
  },
  {
   "cell_type": "markdown",
   "id": "85059d26-85bb-4d85-906c-7fbfb5db5f08",
   "metadata": {},
   "source": [
    "### Confirming the occurrence of each unique entries"
   ]
  },
  {
   "cell_type": "code",
   "execution_count": 91,
   "id": "e39f16bc-71a0-4b48-b55b-47c2d239ecae",
   "metadata": {},
   "outputs": [
    {
     "data": {
      "text/plain": [
       "Counter({'linkedin.com/in/aardra-reji-a615ba26b': 191,\n",
       "         'linkedin.com/in/sathish-vanga': 43,\n",
       "         'linkedin.com/in/abhishek-ganeshkar2023': 10,\n",
       "         'linkedin.com/in/vishakha-deshmukh-a97261264': 10,\n",
       "         'linkedin.com/in/harsh-raj-gupta-388234250': 10,\n",
       "         'linkedin.com/in/vyom-modi': 468,\n",
       "         'linkedin.com/in/krishna-kumar217': 10,\n",
       "         'linkedin.com/in/arun-kumar-vollala-78713518b': 86,\n",
       "         'linkedin.com/in/gurram-ruthvi-chaitanya-ab234a105': 22,\n",
       "         'linkedin.com/in/adepubharath': 126,\n",
       "         'linkedin.com/in/sohil-sharma': 10,\n",
       "         'linkedin.com/in/kritagyay': 21,\n",
       "         'linkedin.com/in/darshan-gowda-m-9b7576227': 22,\n",
       "         'linkedin.com/in/Arnav-Rangwani': 10,\n",
       "         'linkedin.com/in/mohammed-abdul-rafay-20a700228': 78,\n",
       "         'linkedin.com/in/ajay-koka-94879b21b': 169,\n",
       "         'linkedin.com/in/ravi-singh18': 34,\n",
       "         'linkedin.com/in/s-dinesh-kumar-b0284822a': 998,\n",
       "         'linkedin.com/in/jaichaudhrani': 21,\n",
       "         'linkedin.com/in/thisadityasoni': 22,\n",
       "         'linkedin.com/in/snehitha-tadapaneni-b8bb52201': 187,\n",
       "         'linkedin.com/in/swastikdubey123': 122,\n",
       "         'linkedin.com/in/kartikdhanai': 263,\n",
       "         'linkedin.com/in/anantha-sai-kotha-755419281': 10,\n",
       "         'linkedin.com/in/karri-dharma-teja-b7b575206': 613,\n",
       "         'linkedin.com/in/pavan-kumar-reddy-banavasi-519b78258': 10,\n",
       "         'linkedin.com/in/yashkhandagale': 10,\n",
       "         'linkedin.com/in/pranavbhawsar': 32,\n",
       "         'linkedin.com/in/chirra-satish-653a68288': 23,\n",
       "         'linkedin.com/in/lokesh1111': 22,\n",
       "         'linkedin.com/in/nishantdandwate000': 402,\n",
       "         'linkedin.com/in/bandala-manisha-ba8a53220': 11,\n",
       "         'linkedin.com/in/pavani-kasipeta-a02b7422b': 23,\n",
       "         'linkedin.com/in/yenamala-umamahesh-a20423197': 11,\n",
       "         'linkedin.com/in/shajitha-banu-rasul-khan-9529631a3': 73,\n",
       "         'linkedin.com/in/deepraj-vadhwane': 34,\n",
       "         'linkedin.com/in/bishal-pal-a8442423b': 12,\n",
       "         'linkedin.com/in/aftaab-shaik-2984051b0': 12,\n",
       "         'linkedin.com/in/jkpratik99': 120,\n",
       "         'linkedin.com/in/anushka-yeole': 24,\n",
       "         'linkedin.com/in/venkata-manoj-yadav-muddam-9b4329224': 24,\n",
       "         'linkedin.com/in/ishaq-miyawala': 48,\n",
       "         'linkedin.com/in/pamarthi-dhanush-13a94b250': 59,\n",
       "         'linkedin.com/in/lashika-arun': 12,\n",
       "         'linkedin.com/in/shrikant-suryawanshi-62580121a': 25,\n",
       "         'linkedin.com/in/hannahigboke': 24,\n",
       "         'linkedin.com/in/kushal-adhyaru': 12,\n",
       "         'linkedin.com/in/aditi-phapale-2a965322a': 24,\n",
       "         'linkedin.com/in/mahimachuri': 34,\n",
       "         'linkedin.com/in/suriyagurumoorthi': 24,\n",
       "         'linkedin.com/in/prerna-pal-0a4499277': 12,\n",
       "         'linkedin.com/in/aishwary-dakhare-a3445a191': 12,\n",
       "         'linkedin.com/in/aravinth-b': 106,\n",
       "         'linkedin.com/in/vaishnavi-voleti-b55278238': 35,\n",
       "         'linkedin.com/in/mandala-pavani': 12,\n",
       "         'linkedin.com/in/gundala-satish-64156a192': 124,\n",
       "         'linkedin.com/in/sanhita-t-03966b1b3': 12,\n",
       "         'linkedin.com/in/diksha-ahire-61951823b': 12,\n",
       "         'linkedin.com/in/mohd-sardar-4a9867221': 12,\n",
       "         'linkedin.com/in/iman-fasasi-716614232': 175,\n",
       "         'linkedin.com/in/dhanyaibk': 12,\n",
       "         'linkedin.com/in/srivatsav-damaraju-03815a213': 64,\n",
       "         'linkedin.com/in/kavin-puri-71912117b': 56,\n",
       "         'linkedin.com/in/manishputnala': 12,\n",
       "         'linkedin.com/in/alen-peter-041b1a215': 11,\n",
       "         'linkedin.com/in/gmmanoj': 147,\n",
       "         'linkedin.com/in/saiprasadnidiginti138707250': 22,\n",
       "         'linkedin.com/in/saipraneeth-adigopula-695991157': 12,\n",
       "         'linkedin.com/in/aeluri': 12,\n",
       "         'linkedin.com/in/siva-sankar-kommerla': 13,\n",
       "         'linkedin.com/in/bheesettianand': 13,\n",
       "         'linkedin.com/in/sivasankar2002': 24,\n",
       "         'linkedin.com/in/neeraj-kumar-278156258': 23,\n",
       "         'linkedin.com/in/shekharsalave': 23,\n",
       "         'linkedin.com/in/ravinder-badishagandu-b52783291': 12,\n",
       "         'linkedin.com/in/aftab-baig-81b767281': 12,\n",
       "         'linkedin.com/in/sai-sudhane-728a1a237': 12,\n",
       "         'linkedin.com/in/gundu-umapavani-ba5616245': 12,\n",
       "         'linkedin.com/in/nisha-shah-529b40159': 23,\n",
       "         'linkedin.com/in/mohansuneel': 11,\n",
       "         'linkedin.com/in/are-manohar-821430210': 11,\n",
       "         'linkedin.com/in/pravalika-e-27557a252': 11,\n",
       "         'linkedin.com/in/gudipati-umesh-772226258': 11,\n",
       "         'linkedin.com/in/mohammadwasiq0': 11,\n",
       "         'linkedin.com/in/aleenajoseph2003': 11,\n",
       "         'linkedin.com/in/srinivasarao-kesana-b7104a1b4': 11,\n",
       "         'linkedin.com/in/aashishkasar': 22,\n",
       "         'linkedin.com/in/sai-krishna-dusa': 10,\n",
       "         'linkedin.com/in/arun-kumar-sahu-7381a4138': 10,\n",
       "         'linkedin.com/in/pavankalyan-janga': 21,\n",
       "         'linkedin.com/in/aniket-gupta-044075236': 21,\n",
       "         'linkedin.com/in/meenuga-jyothi-6a9bba23b': 32,\n",
       "         'linkedin.com/in/vineela-mallela-24b435214': 11,\n",
       "         'linkedin.com/in/harshit-punera-248177228': 11,\n",
       "         'linkedin.com/in/shaziya-naaz-neen-3205a5242': 11,\n",
       "         'linkedin.com/in/ashutosh-ramnath-pawar': 11,\n",
       "         'linkedin.com/in/ravi-rathod-b3bb4227b': 23,\n",
       "         'linkedin.com/in/shreya-ranjankar-440850258': 11,\n",
       "         'linkedin.com/in/raju-lakkarsu-7b541b253': 11,\n",
       "         'linkedin.com/in/soumen-2003-mondal': 43,\n",
       "         'linkedin.com/in/kunalkumavat': 45,\n",
       "         'linkedin.com/in/aakankshi-gera': 11,\n",
       "         'linkedin.com/in/sanchit-singla': 11,\n",
       "         'linkedin.com/in/md-juned-alam': 11,\n",
       "         'linkedin.com/in/chandan-lohar': 12,\n",
       "         'linkedin.com/in/priya-kumari-886946206': 12,\n",
       "         'linkedin.com/in/arunrajdaara': 10,\n",
       "         'linkedin.com/in/sambhaji-kundgir-b8aa15208': 23,\n",
       "         'linkedin.com/in/pavanbanavasi': 13,\n",
       "         'linkedin.com/in/guptaaniket': 24,\n",
       "         'linkedin.com/in/deepak-kumar-602352224': 12,\n",
       "         'linkedin.com/in/neeraj-kumar-ai': 24,\n",
       "         'linkedin.com/in/satyaprakash-sahoo-a8914b229': 24,\n",
       "         'linkedin.com/in/sidfarakate': 12,\n",
       "         'linkedin.com/in/neerajkumar04': 12,\n",
       "         'linkedin.com/in/bhanudadi': 12,\n",
       "         'linkedin.com/in/vineethreddymaddula': 12,\n",
       "         'linkedin.com/in/rakeshkandhi': 12,\n",
       "         'linkedin.com/in/sathvika-pulichintha': 12,\n",
       "         'linkedin.com/in/kavinpuri': 24,\n",
       "         'linkedin.com/in/ns-nidhi-singh': 12,\n",
       "         'linkedin.com/in/raj-kumarsaggurthi': 26,\n",
       "         'linkedin.com/in/aminat-owodunni': 13,\n",
       "         'linkedin.com/in/mudassir-ahmed2': 12})"
      ]
     },
     "execution_count": 91,
     "metadata": {},
     "output_type": "execute_result"
    }
   ],
   "source": [
    "from collections import Counter\n",
    "\n",
    "counter = Counter(profile_url)\n",
    "counter\n"
   ]
  },
  {
   "cell_type": "markdown",
   "id": "51056627-2df8-4f8f-9cb5-8a01d52c9a08",
   "metadata": {},
   "source": [
    "## Finding unique linkedin Profile URLs"
   ]
  },
  {
   "cell_type": "code",
   "execution_count": 96,
   "id": "3b62db0d-ffd6-4602-a18e-e9c816723df2",
   "metadata": {},
   "outputs": [
    {
     "name": "stdout",
     "output_type": "stream",
     "text": [
      "124\n"
     ]
    }
   ],
   "source": [
    "print(len(set(profile_url)))\n",
    "unique_profiles = set(profile_url)\n",
    "\n",
    "#unique_profiles"
   ]
  },
  {
   "cell_type": "markdown",
   "id": "56d0de3e-917e-4799-93f8-9d8c7ac0f08d",
   "metadata": {},
   "source": [
    "#### Trying http requests"
   ]
  },
  {
   "cell_type": "code",
   "execution_count": 99,
   "id": "52a833bb-33d2-44fd-b8a5-b9ec873fb1bb",
   "metadata": {},
   "outputs": [
    {
     "name": "stderr",
     "output_type": "stream",
     "text": [
      "C:\\Users\\rajath.k\\AppData\\Local\\Programs\\Python\\Python310\\lib\\site-packages\\urllib3\\connectionpool.py:1013: InsecureRequestWarning: Unverified HTTPS request is being made to host 'www.linkedin.com'. Adding certificate verification is strongly advised. See: https://urllib3.readthedocs.io/en/1.26.x/advanced-usage.html#ssl-warnings\n",
      "  warnings.warn(\n"
     ]
    },
    {
     "name": "stdout",
     "output_type": "stream",
     "text": [
      "{url} 999\n"
     ]
    }
   ],
   "source": [
    "import requests\n",
    "\n",
    "url = \"https://www.\" + \"linkedin.com/in/aardra-reji-a615ba26b\"\n",
    "response = requests.get(url, verify=False)\n",
    "print(\"{url}\", response.status_code)\n",
    "# for url in unique_profiles:\n",
    "#     response = requests.get()\n",
    "#     print(\"{url}\", response.status_code)"
   ]
  },
  {
   "cell_type": "code",
   "execution_count": null,
   "id": "b5db79e3-b118-4a40-baa0-cc4860d52179",
   "metadata": {},
   "outputs": [],
   "source": []
  }
 ],
 "metadata": {
  "kernelspec": {
   "display_name": "Python 3 (ipykernel)",
   "language": "python",
   "name": "python3"
  },
  "language_info": {
   "codemirror_mode": {
    "name": "ipython",
    "version": 3
   },
   "file_extension": ".py",
   "mimetype": "text/x-python",
   "name": "python",
   "nbconvert_exporter": "python",
   "pygments_lexer": "ipython3",
   "version": "3.10.1"
  }
 },
 "nbformat": 4,
 "nbformat_minor": 5
}
