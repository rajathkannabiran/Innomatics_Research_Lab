{
 "cells": [
  {
   "cell_type": "markdown",
   "id": "9b80317a-37f4-47d6-a23e-a651747a6f24",
   "metadata": {},
   "source": [
    "## Question: \n",
    "### Generate a random matrix of shape (1 million, 2) and perofm below operations:\n",
    "#### 1. Find dist b/w each 2-dim data point from centroid of the dataset\n",
    "#### 2. Append newly calculated distances as new column in dataset\n",
    "#### 3. Given centroid, generate 3 closest neighbours from it\n",
    "#### 4. Given any data point, generate 3 c losest neighbours from it"
   ]
  },
  {
   "cell_type": "code",
   "execution_count": 1,
   "id": "34dc08f3-6da8-47e9-aa8b-b4263b70ea27",
   "metadata": {},
   "outputs": [],
   "source": [
    "import numpy as np"
   ]
  },
  {
   "cell_type": "markdown",
   "id": "82d27d6a-7686-4a4f-84b2-632ea0e92312",
   "metadata": {},
   "source": [
    "#### Generating a random matrix with given shape"
   ]
  },
  {
   "cell_type": "code",
   "execution_count": 2,
   "id": "1d89a017-e15d-4330-911d-97c3bf306f33",
   "metadata": {},
   "outputs": [
    {
     "data": {
      "text/plain": [
       "array([[1057,  569],\n",
       "       [ 989,  871],\n",
       "       [ 484,  353],\n",
       "       ...,\n",
       "       [ 181,  656],\n",
       "       [1970,  185],\n",
       "       [ 359,  565]])"
      ]
     },
     "execution_count": 2,
     "metadata": {},
     "output_type": "execute_result"
    }
   ],
   "source": [
    "arr = np.random.randint(100, 2000, size=(1000000,2))\n",
    "arr"
   ]
  },
  {
   "cell_type": "markdown",
   "id": "f6886b74-6213-4ee4-bd28-a4412fb22859",
   "metadata": {},
   "source": [
    "#### Calculate centroid for the data and compute Euclidean dist"
   ]
  },
  {
   "cell_type": "code",
   "execution_count": 3,
   "id": "b168f422-884b-436d-bd39-078f28dce716",
   "metadata": {},
   "outputs": [
    {
     "data": {
      "text/plain": [
       "array([1050.017234, 1049.154379])"
      ]
     },
     "execution_count": 3,
     "metadata": {},
     "output_type": "execute_result"
    }
   ],
   "source": [
    "centroid = np.mean(arr, axis=0)\n",
    "centroid"
   ]
  },
  {
   "cell_type": "code",
   "execution_count": 4,
   "id": "b7fee350-dc56-4bd0-b649-3a8839b2a541",
   "metadata": {},
   "outputs": [
    {
     "data": {
      "text/plain": [
       "array([ 480.20515063,  188.31379557,  897.22150475, ...,  953.81409023,\n",
       "       1262.19296484,  843.74775875])"
      ]
     },
     "execution_count": 4,
     "metadata": {},
     "output_type": "execute_result"
    }
   ],
   "source": [
    "distances = np.sqrt(np.sum((arr-centroid)**2, axis=1))\n",
    "distances"
   ]
  },
  {
   "cell_type": "markdown",
   "id": "95d7d4a2-8e4d-489c-a869-a56f289999b2",
   "metadata": {},
   "source": [
    "#### Add another column in the data"
   ]
  },
  {
   "cell_type": "code",
   "execution_count": 5,
   "id": "f5af7ee1-3f79-489a-b2d1-539ada8b2d67",
   "metadata": {},
   "outputs": [
    {
     "data": {
      "text/plain": [
       "array([[1057.        ,  569.        ,  480.20515063],\n",
       "       [ 989.        ,  871.        ,  188.31379557],\n",
       "       [ 484.        ,  353.        ,  897.22150475],\n",
       "       ...,\n",
       "       [ 181.        ,  656.        ,  953.81409023],\n",
       "       [1970.        ,  185.        , 1262.19296484],\n",
       "       [ 359.        ,  565.        ,  843.74775875]])"
      ]
     },
     "execution_count": 5,
     "metadata": {},
     "output_type": "execute_result"
    }
   ],
   "source": [
    "np.hstack([arr, distances.reshape(-1,1)])"
   ]
  },
  {
   "cell_type": "markdown",
   "id": "63aa0d23-b6a8-447a-adaa-cb7d518c585b",
   "metadata": {},
   "source": [
    "#### Get 3 closest distant points"
   ]
  },
  {
   "cell_type": "code",
   "execution_count": 6,
   "id": "1004551a-3c1d-4539-9276-7e5cbf97afd3",
   "metadata": {},
   "outputs": [
    {
     "data": {
      "text/plain": [
       "array([[1051, 1048],\n",
       "       [1048, 1051],\n",
       "       [1048, 1047]])"
      ]
     },
     "execution_count": 6,
     "metadata": {},
     "output_type": "execute_result"
    }
   ],
   "source": [
    "arr[distances.argsort()][:3]"
   ]
  },
  {
   "cell_type": "code",
   "execution_count": null,
   "id": "3b5d6ae2-066c-413e-82ab-85fe11eb35d1",
   "metadata": {},
   "outputs": [],
   "source": []
  },
  {
   "cell_type": "markdown",
   "id": "295c67c7-b373-4582-ade8-9f4437ba2c8e",
   "metadata": {},
   "source": [
    "## Perform same actions in pandas only"
   ]
  },
  {
   "cell_type": "markdown",
   "id": "224de66b-8fef-4345-9bf8-bbb5cd7041a8",
   "metadata": {},
   "source": [
    "### Method-1"
   ]
  },
  {
   "cell_type": "code",
   "execution_count": 10,
   "id": "fa529818-2dcb-4755-b56b-94cb6af8ca0d",
   "metadata": {},
   "outputs": [],
   "source": [
    "import pandas as pd"
   ]
  },
  {
   "cell_type": "code",
   "execution_count": 12,
   "id": "fb63d2c2-fdf7-4c92-8e57-3ed6dff69f25",
   "metadata": {},
   "outputs": [],
   "source": [
    "df = pd.DataFrame(arr, columns=['x', 'y'])"
   ]
  },
  {
   "cell_type": "code",
   "execution_count": 13,
   "id": "4076a09f-2e7e-4ffc-9088-05c6b064e069",
   "metadata": {},
   "outputs": [],
   "source": [
    "df.to_csv('matrix-data.csv', index=False)"
   ]
  },
  {
   "cell_type": "code",
   "execution_count": 16,
   "id": "48a1f9de-4c1c-4773-8608-8943236ef892",
   "metadata": {},
   "outputs": [
    {
     "data": {
      "text/plain": [
       "(1000000, 2)"
      ]
     },
     "execution_count": 16,
     "metadata": {},
     "output_type": "execute_result"
    }
   ],
   "source": [
    "df = pd.read_csv('matrix-data.csv')\n",
    "df.shape"
   ]
  },
  {
   "cell_type": "code",
   "execution_count": 17,
   "id": "d5a0df16-c5bc-4504-875b-e6492d98c929",
   "metadata": {},
   "outputs": [],
   "source": [
    "mx, my = df['x'].mean(), df['y'].mean()"
   ]
  },
  {
   "cell_type": "code",
   "execution_count": 18,
   "id": "f6aed131-4a07-44c3-a091-9723ba45d68e",
   "metadata": {},
   "outputs": [],
   "source": [
    "df['distance'] = df['x'].apply(lambda x:(x-mx)**2) + df['y'].apply(lambda y:(y-my)**2)"
   ]
  },
  {
   "cell_type": "code",
   "execution_count": 19,
   "id": "d74af73a-a2a3-42e1-a328-9b3e2efe1f25",
   "metadata": {},
   "outputs": [],
   "source": [
    "df['distance'] = df['distance'].apply(np.sqrt)"
   ]
  },
  {
   "cell_type": "code",
   "execution_count": 20,
   "id": "08f8bee1-30b6-4353-8698-5961a1bb8ff8",
   "metadata": {},
   "outputs": [
    {
     "data": {
      "text/html": [
       "<div>\n",
       "<style scoped>\n",
       "    .dataframe tbody tr th:only-of-type {\n",
       "        vertical-align: middle;\n",
       "    }\n",
       "\n",
       "    .dataframe tbody tr th {\n",
       "        vertical-align: top;\n",
       "    }\n",
       "\n",
       "    .dataframe thead th {\n",
       "        text-align: right;\n",
       "    }\n",
       "</style>\n",
       "<table border=\"1\" class=\"dataframe\">\n",
       "  <thead>\n",
       "    <tr style=\"text-align: right;\">\n",
       "      <th></th>\n",
       "      <th>x</th>\n",
       "      <th>y</th>\n",
       "      <th>distance</th>\n",
       "    </tr>\n",
       "  </thead>\n",
       "  <tbody>\n",
       "    <tr>\n",
       "      <th>606219</th>\n",
       "      <td>1051</td>\n",
       "      <td>1048</td>\n",
       "      <td>1.516054</td>\n",
       "    </tr>\n",
       "    <tr>\n",
       "      <th>476031</th>\n",
       "      <td>1048</td>\n",
       "      <td>1051</td>\n",
       "      <td>2.734145</td>\n",
       "    </tr>\n",
       "    <tr>\n",
       "      <th>408810</th>\n",
       "      <td>1048</td>\n",
       "      <td>1047</td>\n",
       "      <td>2.951369</td>\n",
       "    </tr>\n",
       "  </tbody>\n",
       "</table>\n",
       "</div>"
      ],
      "text/plain": [
       "           x     y  distance\n",
       "606219  1051  1048  1.516054\n",
       "476031  1048  1051  2.734145\n",
       "408810  1048  1047  2.951369"
      ]
     },
     "execution_count": 20,
     "metadata": {},
     "output_type": "execute_result"
    }
   ],
   "source": [
    "df.sort_values(by='distance').head(3)"
   ]
  },
  {
   "cell_type": "markdown",
   "id": "c3292e95-2f56-4a13-b3a6-cf8da757d222",
   "metadata": {},
   "source": [
    "### Method-2"
   ]
  },
  {
   "cell_type": "code",
   "execution_count": 21,
   "id": "56e20eb0-9654-4d29-9e68-30ff4d9e3360",
   "metadata": {},
   "outputs": [
    {
     "data": {
      "text/plain": [
       "(1000000, 2)"
      ]
     },
     "execution_count": 21,
     "metadata": {},
     "output_type": "execute_result"
    }
   ],
   "source": [
    "df = pd.read_csv('matrix-data.csv')\n",
    "df.shape"
   ]
  },
  {
   "cell_type": "code",
   "execution_count": 22,
   "id": "114396a4-2e45-4334-b898-34907336b5c5",
   "metadata": {},
   "outputs": [
    {
     "data": {
      "text/plain": [
       "x    1050.017234\n",
       "y    1049.154379\n",
       "dtype: float64"
      ]
     },
     "execution_count": 22,
     "metadata": {},
     "output_type": "execute_result"
    }
   ],
   "source": [
    "centroid = df.mean()\n",
    "centroid"
   ]
  },
  {
   "cell_type": "code",
   "execution_count": 23,
   "id": "3963a824-c940-4ebf-a217-dbd60c5309de",
   "metadata": {},
   "outputs": [],
   "source": [
    "df['distances'] = ((df-centroid)**2).sum(axis=1)**0.5"
   ]
  },
  {
   "cell_type": "code",
   "execution_count": 24,
   "id": "89f8b358-40d8-4f76-8f4f-ea217e449289",
   "metadata": {},
   "outputs": [
    {
     "data": {
      "text/html": [
       "<div>\n",
       "<style scoped>\n",
       "    .dataframe tbody tr th:only-of-type {\n",
       "        vertical-align: middle;\n",
       "    }\n",
       "\n",
       "    .dataframe tbody tr th {\n",
       "        vertical-align: top;\n",
       "    }\n",
       "\n",
       "    .dataframe thead th {\n",
       "        text-align: right;\n",
       "    }\n",
       "</style>\n",
       "<table border=\"1\" class=\"dataframe\">\n",
       "  <thead>\n",
       "    <tr style=\"text-align: right;\">\n",
       "      <th></th>\n",
       "      <th>x</th>\n",
       "      <th>y</th>\n",
       "      <th>distances</th>\n",
       "    </tr>\n",
       "  </thead>\n",
       "  <tbody>\n",
       "    <tr>\n",
       "      <th>606219</th>\n",
       "      <td>1051</td>\n",
       "      <td>1048</td>\n",
       "      <td>1.516054</td>\n",
       "    </tr>\n",
       "    <tr>\n",
       "      <th>476031</th>\n",
       "      <td>1048</td>\n",
       "      <td>1051</td>\n",
       "      <td>2.734145</td>\n",
       "    </tr>\n",
       "    <tr>\n",
       "      <th>408810</th>\n",
       "      <td>1048</td>\n",
       "      <td>1047</td>\n",
       "      <td>2.951369</td>\n",
       "    </tr>\n",
       "  </tbody>\n",
       "</table>\n",
       "</div>"
      ],
      "text/plain": [
       "           x     y  distances\n",
       "606219  1051  1048   1.516054\n",
       "476031  1048  1051   2.734145\n",
       "408810  1048  1047   2.951369"
      ]
     },
     "execution_count": 24,
     "metadata": {},
     "output_type": "execute_result"
    }
   ],
   "source": [
    "df.sort_values(by='distances').head(3)"
   ]
  },
  {
   "cell_type": "code",
   "execution_count": null,
   "id": "93ec527a-1d6c-4f52-a68f-e0620119c3b8",
   "metadata": {},
   "outputs": [],
   "source": []
  }
 ],
 "metadata": {
  "kernelspec": {
   "display_name": "Python 3 (ipykernel)",
   "language": "python",
   "name": "python3"
  },
  "language_info": {
   "codemirror_mode": {
    "name": "ipython",
    "version": 3
   },
   "file_extension": ".py",
   "mimetype": "text/x-python",
   "name": "python",
   "nbconvert_exporter": "python",
   "pygments_lexer": "ipython3",
   "version": "3.10.1"
  }
 },
 "nbformat": 4,
 "nbformat_minor": 5
}
