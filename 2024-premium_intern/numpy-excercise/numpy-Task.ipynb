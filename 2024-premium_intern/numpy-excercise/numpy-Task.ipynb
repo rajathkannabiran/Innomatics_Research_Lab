{
 "cells": [
  {
   "cell_type": "markdown",
   "id": "9b80317a-37f4-47d6-a23e-a651747a6f24",
   "metadata": {},
   "source": [
    "## Question: \n",
    "### Generate a random matrix of shape (1 million, 2) and perofm below operations:\n",
    "#### 1. Find dist b/w each 2-dim data point from centroid of the dataset\n",
    "#### 2. Append newly calculated distances as new column in dataset\n",
    "#### 3. Given centroid, generate 3 closest neighbours from it\n",
    "#### 4. Given any data point, generate 3 c losest neighbours from it"
   ]
  },
  {
   "cell_type": "code",
   "execution_count": 31,
   "id": "34dc08f3-6da8-47e9-aa8b-b4263b70ea27",
   "metadata": {},
   "outputs": [],
   "source": [
    "import numpy as np"
   ]
  },
  {
   "cell_type": "markdown",
   "id": "82d27d6a-7686-4a4f-84b2-632ea0e92312",
   "metadata": {},
   "source": [
    "#### Generating a random matrix with given shape"
   ]
  },
  {
   "cell_type": "code",
   "execution_count": 32,
   "id": "1d89a017-e15d-4330-911d-97c3bf306f33",
   "metadata": {},
   "outputs": [
    {
     "data": {
      "text/plain": [
       "array([[1541, 1108],\n",
       "       [1172,  574],\n",
       "       [ 833,  624],\n",
       "       ...,\n",
       "       [1681,  620],\n",
       "       [1632,  946],\n",
       "       [ 820,  766]])"
      ]
     },
     "execution_count": 32,
     "metadata": {},
     "output_type": "execute_result"
    }
   ],
   "source": [
    "arr = np.random.randint(100, 2000, size=(1000000,2))\n",
    "arr"
   ]
  },
  {
   "cell_type": "markdown",
   "id": "f6886b74-6213-4ee4-bd28-a4412fb22859",
   "metadata": {},
   "source": [
    "#### Calculate centroid for the data and compute Euclidean dist"
   ]
  },
  {
   "cell_type": "code",
   "execution_count": 33,
   "id": "b168f422-884b-436d-bd39-078f28dce716",
   "metadata": {},
   "outputs": [
    {
     "data": {
      "text/plain": [
       "array([1049.188567, 1049.26622 ])"
      ]
     },
     "execution_count": 33,
     "metadata": {},
     "output_type": "execute_result"
    }
   ],
   "source": [
    "centroid = np.mean(arr, axis=0)\n",
    "centroid"
   ]
  },
  {
   "cell_type": "code",
   "execution_count": 34,
   "id": "b7fee350-dc56-4bd0-b649-3a8839b2a541",
   "metadata": {},
   "outputs": [
    {
     "data": {
      "text/plain": [
       "array([495.30610994, 490.87740623, 477.06273631, ..., 763.84237543,\n",
       "       591.88941419, 364.3722693 ])"
      ]
     },
     "execution_count": 34,
     "metadata": {},
     "output_type": "execute_result"
    }
   ],
   "source": [
    "distances = np.sqrt(np.sum((arr-centroid)**2, axis=1))\n",
    "distances"
   ]
  },
  {
   "cell_type": "markdown",
   "id": "95d7d4a2-8e4d-489c-a869-a56f289999b2",
   "metadata": {},
   "source": [
    "#### Add another column in the data"
   ]
  },
  {
   "cell_type": "code",
   "execution_count": 35,
   "id": "f5af7ee1-3f79-489a-b2d1-539ada8b2d67",
   "metadata": {},
   "outputs": [
    {
     "data": {
      "text/plain": [
       "array([[1541.        , 1108.        ,  495.30610994],\n",
       "       [1172.        ,  574.        ,  490.87740623],\n",
       "       [ 833.        ,  624.        ,  477.06273631],\n",
       "       ...,\n",
       "       [1681.        ,  620.        ,  763.84237543],\n",
       "       [1632.        ,  946.        ,  591.88941419],\n",
       "       [ 820.        ,  766.        ,  364.3722693 ]])"
      ]
     },
     "execution_count": 35,
     "metadata": {},
     "output_type": "execute_result"
    }
   ],
   "source": [
    "np.hstack([arr, distances.reshape(-1,1)])"
   ]
  },
  {
   "cell_type": "markdown",
   "id": "63aa0d23-b6a8-447a-adaa-cb7d518c585b",
   "metadata": {},
   "source": [
    "#### Get 3 closest distant points"
   ]
  },
  {
   "cell_type": "code",
   "execution_count": 36,
   "id": "1004551a-3c1d-4539-9276-7e5cbf97afd3",
   "metadata": {},
   "outputs": [
    {
     "data": {
      "text/plain": [
       "array([[1050, 1048],\n",
       "       [1051, 1049],\n",
       "       [1051, 1049]])"
      ]
     },
     "execution_count": 36,
     "metadata": {},
     "output_type": "execute_result"
    }
   ],
   "source": [
    "arr[distances.argsort()][:3]"
   ]
  },
  {
   "cell_type": "code",
   "execution_count": null,
   "id": "3b5d6ae2-066c-413e-82ab-85fe11eb35d1",
   "metadata": {},
   "outputs": [],
   "source": []
  }
 ],
 "metadata": {
  "kernelspec": {
   "display_name": "Python 3 (ipykernel)",
   "language": "python",
   "name": "python3"
  },
  "language_info": {
   "codemirror_mode": {
    "name": "ipython",
    "version": 3
   },
   "file_extension": ".py",
   "mimetype": "text/x-python",
   "name": "python",
   "nbconvert_exporter": "python",
   "pygments_lexer": "ipython3",
   "version": "3.10.1"
  }
 },
 "nbformat": 4,
 "nbformat_minor": 5
}
